{
 "cells": [
  {
   "cell_type": "markdown",
   "metadata": {},
   "source": [
    "# Python training 1 - Simon Dequidt"
   ]
  },
  {
   "cell_type": "markdown",
   "metadata": {},
   "source": [
    "The following exercises are taken from : \n",
    "https://github.com/Python-Crash-Course/Python101"
   ]
  },
  {
   "cell_type": "markdown",
   "metadata": {},
   "source": [
    "## Session 1 - DataTypes"
   ]
  },
  {
   "cell_type": "code",
   "execution_count": 1,
   "metadata": {},
   "outputs": [],
   "source": [
    "#Ex1\n",
    "s = \"Batman's real name is Bruce Wayne\"\n",
    "len(s)"
   ]
  },
  {
   "cell_type": "code",
   "execution_count": 5,
   "metadata": {},
   "outputs": [
    {
     "data": {
      "text/plain": [
       "True"
      ]
     },
     "execution_count": 5,
     "metadata": {},
     "output_type": "execute_result"
    }
   ],
   "source": [
    "#Ex2\n",
    "s[-5:]=='Wayne'"
   ]
  },
  {
   "cell_type": "code",
   "execution_count": 8,
   "metadata": {},
   "outputs": [
    {
     "name": "stdout",
     "output_type": "stream",
     "text": [
      "The string s has a length of Batman's real name is Bruce Wayne items.\n"
     ]
    }
   ],
   "source": [
    "#Ex3\n",
    "print(f'The string s has a length of {s} items.')"
   ]
  },
  {
   "cell_type": "code",
   "execution_count": 14,
   "metadata": {},
   "outputs": [
    {
     "data": {
      "text/plain": [
       "4"
      ]
     },
     "execution_count": 14,
     "metadata": {},
     "output_type": "execute_result"
    }
   ],
   "source": [
    "#Ex4\n",
    "s.count(\"e\")"
   ]
  },
  {
   "cell_type": "code",
   "execution_count": 16,
   "metadata": {},
   "outputs": [
    {
     "data": {
      "text/plain": [
       "'The string 33Ø12 was replaced by 33Y12'"
      ]
     },
     "execution_count": 16,
     "metadata": {},
     "output_type": "execute_result"
    }
   ],
   "source": [
    "#Ex5\n",
    "string1 = '33Ø12'\n",
    "string2 = string1.replace(\"Ø\", \"Y\")\n",
    "f'The string {string1} was replaced by {string2}'"
   ]
  },
  {
   "cell_type": "code",
   "execution_count": 22,
   "metadata": {},
   "outputs": [
    {
     "name": "stdout",
     "output_type": "stream",
     "text": [
      "String has more than 100 characters\n"
     ]
    }
   ],
   "source": [
    "#Ex6\n",
    "dummy_string = 'Lorem ipsum is placeholder text commonly used in the graphic, print, and publishing industries for previewing layouts and visual mockups.'\n",
    "if len(dummy_string)>100: \n",
    "    print(f\"String has more than 100 characters\")\n",
    "else: \n",
    "    print(f\"String has less than or exactly 100 characters\")"
   ]
  },
  {
   "cell_type": "code",
   "execution_count": 23,
   "metadata": {},
   "outputs": [
    {
     "name": "stdout",
     "output_type": "stream",
     "text": [
      "19\n"
     ]
    }
   ],
   "source": [
    "#Ex7\n",
    "print(dummy_string.count(\" \"))"
   ]
  },
  {
   "cell_type": "markdown",
   "metadata": {},
   "source": [
    "## Session 2 - Data Structures"
   ]
  },
  {
   "cell_type": "code",
   "execution_count": 24,
   "metadata": {},
   "outputs": [
    {
     "name": "stdout",
     "output_type": "stream",
     "text": [
      "10,60\n"
     ]
    }
   ],
   "source": [
    "L1 = [10, 20, 30, 40, 50, 60]\n",
    "print(f\"{L1[0]},{L1[-1]}\")"
   ]
  },
  {
   "cell_type": "code",
   "execution_count": 30,
   "metadata": {},
   "outputs": [
    {
     "data": {
      "text/plain": [
       "[20, 30, 40]"
      ]
     },
     "execution_count": 30,
     "metadata": {},
     "output_type": "execute_result"
    }
   ],
   "source": [
    "L1[1:4]"
   ]
  },
  {
   "cell_type": "code",
   "execution_count": 31,
   "metadata": {},
   "outputs": [
    {
     "data": {
      "text/plain": [
       "{'Hello', 'Hey', 'Hi', 'Hi!', 'hey'}"
      ]
     },
     "execution_count": 31,
     "metadata": {},
     "output_type": "execute_result"
    }
   ],
   "source": [
    "L2 = ['Hi', 'Hello', 'Hi!', 'Hey', 'Hi', 'hey', 'Hey']\n",
    "set(L2)"
   ]
  },
  {
   "cell_type": "code",
   "execution_count": 52,
   "metadata": {},
   "outputs": [
    {
     "name": "stdout",
     "output_type": "stream",
     "text": [
      "Key: 2, Value: 122\n",
      "Key: 3, Value: 535\n",
      "Key: t, Value: T\n",
      "Key: rum, Value: cola\n"
     ]
    }
   ],
   "source": [
    "d = {2: 122, 3: 535, 't': 'T', 'rum': 'cola'}\n",
    "for key, value in d.items():\n",
    "    print(f'Key: {key}, Value: {value}')"
   ]
  },
  {
   "cell_type": "code",
   "execution_count": 4,
   "metadata": {},
   "outputs": [],
   "source": [
    "n = [23, 73, 12, 84]\n",
    "\n",
    "class ope_list:\n",
    "    def __init__(self, liste):\n",
    "        liste = self.liste\n",
    "        \n",
    "    def squared(liste):\n",
    "        return [liste[i]**2 for i in range(len(liste))]"
   ]
  },
  {
   "cell_type": "code",
   "execution_count": 12,
   "metadata": {},
   "outputs": [
    {
     "name": "stdout",
     "output_type": "stream",
     "text": [
      "'23 sqaured is 529'\n",
      "'73 sqaured is 5329'\n",
      "'12 sqaured is 144'\n",
      "'84 sqaured is 7056'\n"
     ]
    }
   ],
   "source": [
    "n2 = ope_list.squared(n)\n",
    "for i in range(len(n)):\n",
    "    print(f\"'{n[i]} sqaured is {n2[i]}'\")"
   ]
  },
  {
   "cell_type": "code",
   "execution_count": 13,
   "metadata": {},
   "outputs": [],
   "source": [
    "import numpy as np"
   ]
  },
  {
   "cell_type": "code",
   "execution_count": 22,
   "metadata": {},
   "outputs": [],
   "source": [
    "diameters = [10, 12, 16, 20, 25, 32]\n",
    "\n",
    "\n",
    "class forme:\n",
    "    def __init__(self, liste_diameter):\n",
    "        diameters = self.liste_diameter\n",
    "        \n",
    "    def areas(liste_diameters):\n",
    "        return [np.pi*(liste_diameters[i]/2)**2 for i in range(len(liste_diameters))]"
   ]
  },
  {
   "cell_type": "code",
   "execution_count": 23,
   "metadata": {},
   "outputs": [
    {
     "data": {
      "text/plain": [
       "[78.53981633974483,\n",
       " 113.09733552923255,\n",
       " 201.06192982974676,\n",
       " 314.1592653589793,\n",
       " 490.8738521234052,\n",
       " 804.247719318987]"
      ]
     },
     "execution_count": 23,
     "metadata": {},
     "output_type": "execute_result"
    }
   ],
   "source": [
    "area = forme.areas(diameters)\n",
    "area"
   ]
  },
  {
   "cell_type": "code",
   "execution_count": 25,
   "metadata": {},
   "outputs": [
    {
     "data": {
      "text/plain": [
       "['Alpha', 'Bravo', 'Delta']"
      ]
     },
     "execution_count": 25,
     "metadata": {},
     "output_type": "execute_result"
    }
   ],
   "source": [
    "phonetic_alphabet = ['Alpha', 'Bravo', 'Charlie', 'Delta', 'Echo', 'Foxtrot']\n",
    "\n",
    "selection5 = [i for i in phonetic_alphabet if len(i)==5]\n",
    "selection5"
   ]
  },
  {
   "cell_type": "code",
   "execution_count": 28,
   "metadata": {},
   "outputs": [
    {
     "data": {
      "text/plain": [
       "{'HE200A', 'HE210A', 'HE210B'}"
      ]
     },
     "execution_count": 28,
     "metadata": {},
     "output_type": "execute_result"
    }
   ],
   "source": [
    "s1 = {'HE170B', 'HE210B', 'HE190A', 'HE200A', 'HE210A', 'HE210A'}\n",
    "\n",
    "s2 = {'HE200A', 'HE210A', 'HE240A', 'HE200A', 'HE210B', 'HE340A'}\n",
    "\n",
    "s3 = s1.intersection(s2)\n",
    "s3"
   ]
  },
  {
   "cell_type": "code",
   "execution_count": 31,
   "metadata": {},
   "outputs": [
    {
     "data": {
      "text/plain": [
       "[125, 435, 362, 156, 80, 435, 435]"
      ]
     },
     "execution_count": 31,
     "metadata": {},
     "output_type": "execute_result"
    }
   ],
   "source": [
    "rebar_stresses = (125, 501, 362, 156, 80, 475, 489)\n",
    "fy = 435\n",
    "\n",
    "liste = [min(i, fy) for i in rebar_stresses]\n",
    "liste"
   ]
  },
  {
   "cell_type": "code",
   "execution_count": 33,
   "metadata": {},
   "outputs": [
    {
     "data": {
      "text/plain": [
       "[-18, -25, 0, -21, -15, 0]"
      ]
     },
     "execution_count": 33,
     "metadata": {},
     "output_type": "execute_result"
    }
   ],
   "source": [
    "T1 = (-18, -27, 2, -21, -15, 5)\n",
    "\n",
    "liste1 = [min(max(-25,i),0) for i in T1]\n",
    "liste1"
   ]
  },
  {
   "cell_type": "code",
   "execution_count": 34,
   "metadata": {},
   "outputs": [],
   "source": [
    "from math import pi\n",
    "def circle_area(r):\n",
    "    '''Return circle area'''\n",
    "    return pi*r**2"
   ]
  },
  {
   "cell_type": "code",
   "execution_count": 35,
   "metadata": {},
   "outputs": [
    {
     "data": {
      "text/plain": [
       "28.274333882308138"
      ]
     },
     "execution_count": 35,
     "metadata": {},
     "output_type": "execute_result"
    }
   ],
   "source": [
    "circle_area(3)"
   ]
  },
  {
   "cell_type": "code",
   "execution_count": 38,
   "metadata": {},
   "outputs": [
    {
     "data": {
      "text/plain": [
       "[False, True, False, True, True, False, False]"
      ]
     },
     "execution_count": 38,
     "metadata": {},
     "output_type": "execute_result"
    }
   ],
   "source": [
    "def is_pile_long(pile_lengths):\n",
    "   ''' Return a list with elements `True` for all piles longer than or equal to 5m, `False` otherwise.\n",
    "\n",
    "   Args:\n",
    "       pile_lengths: A list containing pile lengths   \n",
    "\n",
    "   Example: \n",
    "       is_pile_long([4.51, 6.12, 4.15, 7.31, 5.01, 4.99, 5.00])\n",
    "               ---> [False, True, False, True, True, False, True] \n",
    "   '''\n",
    "   return [i>5 for i in pile_lengths]\n",
    "\n",
    "is_pile_long([4.51, 6.12, 4.15, 7.31, 5.01, 4.99, 5.00])"
   ]
  },
  {
   "cell_type": "code",
   "execution_count": 41,
   "metadata": {},
   "outputs": [
    {
     "data": {
      "text/plain": [
       "4.61"
      ]
     },
     "execution_count": 41,
     "metadata": {},
     "output_type": "execute_result"
    }
   ],
   "source": [
    "def dist_point_to_line(x, y, x1, y1, x2, y2):\n",
    "    '''Return distance between a point and a line defined by two points.\n",
    "\n",
    "    Args:\n",
    "        x  : x-coordinate of point \n",
    "        y  : y-coordinate of point\n",
    "        x1 : x-coordinate of point 1 defining the line\n",
    "        y1 : y-coordinate of point 1 defining the line\n",
    "        x2 : x-coordinate of point 2 defining the line\n",
    "        y2 : y-coordinate of point 2 defining the line\n",
    "\n",
    "    Returns:\n",
    "           The distance between the point and the line        \n",
    "    '''\n",
    "    prod_scalaire = abs((y2-y1)*x - (x2-x1)*y + x2*y1 - y2*x1)\n",
    "    den = np.sqrt((x2-x1)**2 + (y2-y1)**2)\n",
    "    distance = prod_scalaire / den\n",
    "    \n",
    "    return round(distance,2)\n",
    "\n",
    "dist_point_to_line(2, 1, 5, 5, 1, 6) "
   ]
  },
  {
   "cell_type": "code",
   "execution_count": 43,
   "metadata": {},
   "outputs": [
    {
     "data": {
      "text/plain": [
       "[3.41, 28.9, 2.75, 25.41, 3.47, 6.16]"
      ]
     },
     "execution_count": 43,
     "metadata": {},
     "output_type": "execute_result"
    }
   ],
   "source": [
    "x_coords = [4.1, 22.2, 7.7, 62.2, 7.8, 1.1]\n",
    "y_coords = [0.3, 51.2, 3.5, 12.6, 2.7, 9.8]\n",
    "\n",
    "distance = [dist_point_to_line(x, y, 2, 3, 8, 7) for x, y in zip(x_coords,y_coords)]\n",
    "distance"
   ]
  },
  {
   "cell_type": "code",
   "execution_count": 60,
   "metadata": {},
   "outputs": [],
   "source": [
    "x = [3, 4, 7, 8, 8.5, 3]\n",
    "y = [5, 3, 0, 1, 3, 5]\n",
    "\n",
    "\n",
    "def area_shoelace (rv, yv, signed=True):\n",
    "    prod = [rv[i]*yv[i+1] - rv[i+1]*yv[i] for i in range(min(len(rv),len(yv))-1)]\n",
    "    aire = sum(prod)/2 \n",
    "    if signed:\n",
    "        return aire\n",
    "    return -aire\n",
    "    "
   ]
  },
  {
   "cell_type": "code",
   "execution_count": 61,
   "metadata": {},
   "outputs": [
    {
     "data": {
      "text/plain": [
       "10.75"
      ]
     },
     "execution_count": 61,
     "metadata": {},
     "output_type": "execute_result"
    }
   ],
   "source": [
    "area_shoelace (x[::-1], y, False)"
   ]
  },
  {
   "cell_type": "code",
   "execution_count": 66,
   "metadata": {},
   "outputs": [],
   "source": [
    "x = [3, 4, 7, 8, 8.5, 3]\n",
    "y = [5, 3, 0, 1, 3, 5]\n",
    "\n",
    "def centroides(rv, yv, signed=True):\n",
    "    area = area_shoelace (rv, yv, signed)\n",
    "    centrex = sum([(rv[i] + rv[i+1]) * (rv[i]*yv[i+1]-rv[i+1]*yv[i]) for i in range(min(len(rv),len(yv))-1)])/(6*area)\n",
    "    centrey = sum([(yv[i] + yv[i+1]) * (rv[i]*yv[i+1]-rv[i+1]*yv[i]) for i in range(min(len(rv),len(yv))-1)])/(6*area)\n",
    "    return round(centrex,3), round(centrey,3)"
   ]
  },
  {
   "cell_type": "code",
   "execution_count": 67,
   "metadata": {},
   "outputs": [
    {
     "data": {
      "text/plain": [
       "(6.083, 2.583)"
      ]
     },
     "execution_count": 67,
     "metadata": {},
     "output_type": "execute_result"
    }
   ],
   "source": [
    "centroides(x, y, signed=True)"
   ]
  },
  {
   "cell_type": "markdown",
   "metadata": {},
   "source": [
    "## Session 4 - Plots"
   ]
  },
  {
   "cell_type": "code",
   "execution_count": 3,
   "metadata": {},
   "outputs": [],
   "source": [
    "import matplotlib.pyplot as plt\n",
    "import matplotlib\n",
    "matplotlib.rcParams[\"figure.figsize\"] = 10,8"
   ]
  },
  {
   "cell_type": "code",
   "execution_count": 100,
   "metadata": {
    "scrolled": false
   },
   "outputs": [
    {
     "data": {
      "image/png": "[encoded data removed]",
      "text/plain": [
       "<Figure size 432x288 with 1 Axes>"
      ]
     },
     "metadata": {
      "needs_background": "light"
     },
     "output_type": "display_data"
    }
   ],
   "source": [
    "x = [1, 3, 6, 9, 16]\n",
    "y = [7, 3, 7, 1, 5]\n",
    "\n",
    "y2 = [9, 5, 5, 2, 6]\n",
    "y3 = [4, 6, 2, 6, 8]\n",
    "y4 = [1, 8, 1, 3, 2]\n",
    "\n",
    "plt.title(\"Plot $ f(x)$\")\n",
    "plt.plot(x, y,  '.-', label = \"y1\",color = 'black', linewidth=1)\n",
    "plt.plot(x, y2,  '.-',color = 'y', linewidth=1, label = \"y2\")\n",
    "plt.plot(x, y3,  '.-',color = 'b', linewidth=1, label  = \"y3\")\n",
    "plt.plot(x, y4,  '.-',color = 'limegreen', linewidth=1, label = \"y4\")\n",
    "\n",
    "plt.grid(linestyle=':')\n",
    "plt.xlabel(\"$x$\")\n",
    "plt.ylabel(\"$f(x)$\")\n",
    "plt.legend()\n",
    "\n",
    "\n",
    "filename = \"exercise3_plot.png\"\n",
    "plt.savefig(filename)\n",
    "plt.show()\n",
    "\n"
   ]
  },
  {
   "cell_type": "code",
   "execution_count": 115,
   "metadata": {},
   "outputs": [
    {
     "data": {
      "text/plain": [
       "<Figure size 432x288 with 0 Axes>"
      ]
     },
     "metadata": {},
     "output_type": "display_data"
    },
    {
     "data": {
      "image/png": "[encoded data removed]",
      "text/plain": [
       "<Figure size 432x288 with 4 Axes>"
      ]
     },
     "metadata": {
      "needs_background": "light"
     },
     "output_type": "display_data"
    }
   ],
   "source": [
    "plt.figure()\n",
    "\n",
    "x = [1, 3, 6, 9, 16]\n",
    "y = [7, 3, 7, 1, 5]\n",
    "\n",
    "y2 = [9, 5, 5, 2, 6]\n",
    "y3 = [4, 6, 2, 6, 8]\n",
    "y4 = [1, 8, 1, 3, 2]\n",
    "\n",
    "fig, ax = plt.subplots(2,2, sharex = \"col\", sharey = \"row\")\n",
    "ax[0,0].plot(x,y, 'k-.', label = \"$y$\")\n",
    "ax[0,1].plot(x,y2, 'y-.', label = \"$y2$\")\n",
    "ax[1,0].plot(x,y3, 'b-.', label = \"$y3$\")\n",
    "ax[1,1].plot(x,y4, 'm-.', label = \"$y4$\")\n",
    "plt.legend()\n",
    "plt.grid()\n",
    "plt.show()"
   ]
  },
  {
   "cell_type": "code",
   "execution_count": 129,
   "metadata": {},
   "outputs": [
    {
     "data": {
      "image/png": "[encoded data removed]",
      "text/plain": [
       "<Figure size 432x288 with 4 Axes>"
      ]
     },
     "metadata": {
      "needs_background": "light"
     },
     "output_type": "display_data"
    }
   ],
   "source": [
    "import matplotlib.pyplot as plt\n",
    "\n",
    "x = [1, 3, 6, 9, 16]\n",
    "y = [7, 3, 7, 1, 5]\n",
    "\n",
    "y2 = [9, 5, 5, 2, 6]\n",
    "y3 = [4, 6, 2, 6, 8]\n",
    "y4 = [1, 8, 1, 3, 2]\n",
    "\n",
    "fig, ax = plt.subplots(2, 2, sharex=\"col\", sharey=\"row\")\n",
    "\n",
    "ax[0, 0].bar(x, y, color='k', linestyle='-.', label=\"$y$\")\n",
    "ax[0, 1].bar(x, y2, color='b', linestyle='--', label=\"$y2$\")\n",
    "ax[1, 0].bar(x, y3, color='r', linestyle=':', label=\"$y3$\")\n",
    "ax[1, 1].bar(x, y4, color='g', linestyle='-', label=\"$y4$\")\n",
    "\n",
    "# You may want to adjust the labels, titles, and legends as needed.\n",
    "\n",
    "plt.show()\n"
   ]
  },
  {
   "cell_type": "code",
   "execution_count": 134,
   "metadata": {},
   "outputs": [
    {
     "data": {
      "image/png": "[encoded data removed]",
      "text/plain": [
       "<Figure size 432x288 with 1 Axes>"
      ]
     },
     "metadata": {
      "needs_background": "light"
     },
     "output_type": "display_data"
    }
   ],
   "source": [
    "xx = np.linspace(-100, 100, 100)\n",
    "yy = xx**2 - 3027\n",
    "\n",
    "plt.figure()\n",
    "plt.plot(xx, yy, \"-.\", color=\"k\", label = '$yy$', linewidth=1 )\n",
    "plt.fill_between(xx, yy, color=\"limegreen\",  alpha=.5)\n",
    "plt.legend()\n",
    "plt.grid()\n",
    "plt.show()"
   ]
  },
  {
   "cell_type": "markdown",
   "metadata": {},
   "source": [
    "## Session 5 - DataFrames"
   ]
  },
  {
   "cell_type": "code",
   "execution_count": 15,
   "metadata": {},
   "outputs": [
    {
     "data": {
      "text/html": [
       "<div>\n",
       "<style scoped>\n",
       "    .dataframe tbody tr th:only-of-type {\n",
       "        vertical-align: middle;\n",
       "    }\n",
       "\n",
       "    .dataframe tbody tr th {\n",
       "        vertical-align: top;\n",
       "    }\n",
       "\n",
       "    .dataframe thead th {\n",
       "        text-align: right;\n",
       "    }\n",
       "</style>\n",
       "<table border=\"1\" class=\"dataframe\">\n",
       "  <thead>\n",
       "    <tr style=\"text-align: right;\">\n",
       "      <th></th>\n",
       "      <th>Integers</th>\n",
       "      <th>Lowercase</th>\n",
       "      <th>Uppercase</th>\n",
       "    </tr>\n",
       "  </thead>\n",
       "  <tbody>\n",
       "    <tr>\n",
       "      <th>0</th>\n",
       "      <td>67</td>\n",
       "      <td>q</td>\n",
       "      <td>Z</td>\n",
       "    </tr>\n",
       "    <tr>\n",
       "      <th>1</th>\n",
       "      <td>14</td>\n",
       "      <td>l</td>\n",
       "      <td>W</td>\n",
       "    </tr>\n",
       "    <tr>\n",
       "      <th>2</th>\n",
       "      <td>47</td>\n",
       "      <td>j</td>\n",
       "      <td>L</td>\n",
       "    </tr>\n",
       "    <tr>\n",
       "      <th>3</th>\n",
       "      <td>31</td>\n",
       "      <td>e</td>\n",
       "      <td>A</td>\n",
       "    </tr>\n",
       "    <tr>\n",
       "      <th>4</th>\n",
       "      <td>62</td>\n",
       "      <td>v</td>\n",
       "      <td>M</td>\n",
       "    </tr>\n",
       "    <tr>\n",
       "      <th>5</th>\n",
       "      <td>30</td>\n",
       "      <td>p</td>\n",
       "      <td>W</td>\n",
       "    </tr>\n",
       "    <tr>\n",
       "      <th>6</th>\n",
       "      <td>13</td>\n",
       "      <td>h</td>\n",
       "      <td>Q</td>\n",
       "    </tr>\n",
       "    <tr>\n",
       "      <th>7</th>\n",
       "      <td>83</td>\n",
       "      <td>y</td>\n",
       "      <td>A</td>\n",
       "    </tr>\n",
       "    <tr>\n",
       "      <th>8</th>\n",
       "      <td>51</td>\n",
       "      <td>y</td>\n",
       "      <td>W</td>\n",
       "    </tr>\n",
       "    <tr>\n",
       "      <th>9</th>\n",
       "      <td>14</td>\n",
       "      <td>b</td>\n",
       "      <td>P</td>\n",
       "    </tr>\n",
       "  </tbody>\n",
       "</table>\n",
       "</div>"
      ],
      "text/plain": [
       "   Integers Lowercase Uppercase\n",
       "0        67         q         Z\n",
       "1        14         l         W\n",
       "2        47         j         L\n",
       "3        31         e         A\n",
       "4        62         v         M\n",
       "5        30         p         W\n",
       "6        13         h         Q\n",
       "7        83         y         A\n",
       "8        51         y         W\n",
       "9        14         b         P"
      ]
     },
     "execution_count": 15,
     "metadata": {},
     "output_type": "execute_result"
    }
   ],
   "source": [
    "import pandas as pd\n",
    "import random\n",
    "import string\n",
    "import matplotlib.pyplot as plt\n",
    "# Get upper- and lowercase letters from the string library\n",
    "lower = string.ascii_lowercase\n",
    "upper = string.ascii_uppercase\n",
    "\n",
    "# Create a dictionary with dummy data of integers and letters\n",
    "d = {'Integers': [random.randint(1, 100) for i in range(1, 100)],\n",
    "     'Lowercase': [random.choice(lower) for i in range(1, 100)],\n",
    "     'Uppercase': [random.choice(upper) for i in range(1, 100)]}\n",
    "\n",
    "df = pd.DataFrame(d)\n",
    "df.tail(10)\n",
    "df.head(10)\n",
    "\n",
    "#selected_columns = df.loc[:, df.columns.isin(liste)]"
   ]
  },
  {
   "cell_type": "code",
   "execution_count": 147,
   "metadata": {},
   "outputs": [
    {
     "data": {
      "text/html": [
       "<div>\n",
       "<style scoped>\n",
       "    .dataframe tbody tr th:only-of-type {\n",
       "        vertical-align: middle;\n",
       "    }\n",
       "\n",
       "    .dataframe tbody tr th {\n",
       "        vertical-align: top;\n",
       "    }\n",
       "\n",
       "    .dataframe thead th {\n",
       "        text-align: right;\n",
       "    }\n",
       "</style>\n",
       "<table border=\"1\" class=\"dataframe\">\n",
       "  <thead>\n",
       "    <tr style=\"text-align: right;\">\n",
       "      <th></th>\n",
       "      <th>Integers</th>\n",
       "      <th>Lowercase</th>\n",
       "      <th>Uppercase</th>\n",
       "    </tr>\n",
       "  </thead>\n",
       "  <tbody>\n",
       "    <tr>\n",
       "      <th>0</th>\n",
       "      <td>95</td>\n",
       "      <td>j</td>\n",
       "      <td>K</td>\n",
       "    </tr>\n",
       "    <tr>\n",
       "      <th>1</th>\n",
       "      <td>57</td>\n",
       "      <td>l</td>\n",
       "      <td>K</td>\n",
       "    </tr>\n",
       "    <tr>\n",
       "      <th>2</th>\n",
       "      <td>77</td>\n",
       "      <td>l</td>\n",
       "      <td>K</td>\n",
       "    </tr>\n",
       "    <tr>\n",
       "      <th>3</th>\n",
       "      <td>24</td>\n",
       "      <td>e</td>\n",
       "      <td>K</td>\n",
       "    </tr>\n",
       "  </tbody>\n",
       "</table>\n",
       "</div>"
      ],
      "text/plain": [
       "   Integers Lowercase Uppercase\n",
       "0        95         j         K\n",
       "1        57         l         K\n",
       "2        77         l         K\n",
       "3        24         e         K"
      ]
     },
     "execution_count": 147,
     "metadata": {},
     "output_type": "execute_result"
    }
   ],
   "source": [
    "dfk = df[df[\"Uppercase\"] == 'K']\n",
    "dfk.reset_index(inplace=True, drop=True)\n",
    "dfk"
   ]
  },
  {
   "cell_type": "code",
   "execution_count": 158,
   "metadata": {},
   "outputs": [
    {
     "name": "stderr",
     "output_type": "stream",
     "text": [
      "/Users/simondequidt/opt/anaconda3/lib/python3.8/site-packages/pandas/core/frame.py:4308: SettingWithCopyWarning: \n",
      "A value is trying to be set on a copy of a slice from a DataFrame\n",
      "\n",
      "See the caveats in the documentation: https://pandas.pydata.org/pandas-docs/stable/user_guide/indexing.html#returning-a-view-versus-a-copy\n",
      "  return super().drop(\n"
     ]
    },
    {
     "data": {
      "text/html": [
       "<div>\n",
       "<style scoped>\n",
       "    .dataframe tbody tr th:only-of-type {\n",
       "        vertical-align: middle;\n",
       "    }\n",
       "\n",
       "    .dataframe tbody tr th {\n",
       "        vertical-align: top;\n",
       "    }\n",
       "\n",
       "    .dataframe thead th {\n",
       "        text-align: right;\n",
       "    }\n",
       "</style>\n",
       "<table border=\"1\" class=\"dataframe\">\n",
       "  <thead>\n",
       "    <tr style=\"text-align: right;\">\n",
       "      <th></th>\n",
       "      <th>LC</th>\n",
       "      <th>LC-title</th>\n",
       "      <th>P[kN]</th>\n",
       "      <th>Shear_key</th>\n",
       "    </tr>\n",
       "  </thead>\n",
       "  <tbody>\n",
       "    <tr>\n",
       "      <th>0</th>\n",
       "      <td>4033</td>\n",
       "      <td>Shear keys - W - 2553/2554</td>\n",
       "      <td>0.1</td>\n",
       "      <td>Shear_key20</td>\n",
       "    </tr>\n",
       "    <tr>\n",
       "      <th>1</th>\n",
       "      <td>4033</td>\n",
       "      <td>Shear keys - W - 2553/2554</td>\n",
       "      <td>0.1</td>\n",
       "      <td>Shear_key20</td>\n",
       "    </tr>\n",
       "    <tr>\n",
       "      <th>2</th>\n",
       "      <td>4033</td>\n",
       "      <td>Shear keys - W - 2553/2554</td>\n",
       "      <td>0.0</td>\n",
       "      <td>Shear_key20</td>\n",
       "    </tr>\n",
       "    <tr>\n",
       "      <th>3</th>\n",
       "      <td>4033</td>\n",
       "      <td>Shear keys - W - 2553/2554</td>\n",
       "      <td>-0.1</td>\n",
       "      <td>Shear_key19</td>\n",
       "    </tr>\n",
       "    <tr>\n",
       "      <th>4</th>\n",
       "      <td>4033</td>\n",
       "      <td>Shear keys - W - 2553/2554</td>\n",
       "      <td>0.0</td>\n",
       "      <td>Shear_key19</td>\n",
       "    </tr>\n",
       "    <tr>\n",
       "      <th>...</th>\n",
       "      <td>...</td>\n",
       "      <td>...</td>\n",
       "      <td>...</td>\n",
       "      <td>...</td>\n",
       "    </tr>\n",
       "    <tr>\n",
       "      <th>2869</th>\n",
       "      <td>5069</td>\n",
       "      <td>Long term settlement case**</td>\n",
       "      <td>0.2</td>\n",
       "      <td>Shear_key5</td>\n",
       "    </tr>\n",
       "    <tr>\n",
       "      <th>2870</th>\n",
       "      <td>5069</td>\n",
       "      <td>Long term settlement case**</td>\n",
       "      <td>0.1</td>\n",
       "      <td>Shear_key5</td>\n",
       "    </tr>\n",
       "    <tr>\n",
       "      <th>2871</th>\n",
       "      <td>5069</td>\n",
       "      <td>Long term settlement case**</td>\n",
       "      <td>-0.1</td>\n",
       "      <td>Shear_key6</td>\n",
       "    </tr>\n",
       "    <tr>\n",
       "      <th>2872</th>\n",
       "      <td>5069</td>\n",
       "      <td>Long term settlement case**</td>\n",
       "      <td>-0.1</td>\n",
       "      <td>Shear_key6</td>\n",
       "    </tr>\n",
       "    <tr>\n",
       "      <th>2873</th>\n",
       "      <td>5069</td>\n",
       "      <td>Long term settlement case**</td>\n",
       "      <td>0.0</td>\n",
       "      <td>Shear_key6</td>\n",
       "    </tr>\n",
       "  </tbody>\n",
       "</table>\n",
       "<p>2874 rows × 4 columns</p>\n",
       "</div>"
      ],
      "text/plain": [
       "        LC                     LC-title  P[kN]    Shear_key\n",
       "0     4033   Shear keys - W - 2553/2554    0.1  Shear_key20\n",
       "1     4033   Shear keys - W - 2553/2554    0.1  Shear_key20\n",
       "2     4033   Shear keys - W - 2553/2554    0.0  Shear_key20\n",
       "3     4033   Shear keys - W - 2553/2554   -0.1  Shear_key19\n",
       "4     4033   Shear keys - W - 2553/2554    0.0  Shear_key19\n",
       "...    ...                          ...    ...          ...\n",
       "2869  5069  Long term settlement case**    0.2   Shear_key5\n",
       "2870  5069  Long term settlement case**    0.1   Shear_key5\n",
       "2871  5069  Long term settlement case**   -0.1   Shear_key6\n",
       "2872  5069  Long term settlement case**   -0.1   Shear_key6\n",
       "2873  5069  Long term settlement case**    0.0   Shear_key6\n",
       "\n",
       "[2874 rows x 4 columns]"
      ]
     },
     "execution_count": 158,
     "metadata": {},
     "output_type": "execute_result"
    }
   ],
   "source": [
    "shear_key_forces = pd.read_csv(\"data_set.csv\")\n",
    "shear_key_forces_clean = shear_key_forces[shear_key_forces[\"Shear_key\"] != \"Not_a_shear_key\"]\n",
    "shear_key_forces_clean.reset_index(inplace = True, drop=True)\n",
    "shear_key_forces_clean.drop(\"Element_no\", axis = 1, inplace=True)\n",
    "shear_key_forces_clean"
   ]
  },
  {
   "cell_type": "code",
   "execution_count": 159,
   "metadata": {},
   "outputs": [
    {
     "data": {
      "text/html": [
       "<div>\n",
       "<style scoped>\n",
       "    .dataframe tbody tr th:only-of-type {\n",
       "        vertical-align: middle;\n",
       "    }\n",
       "\n",
       "    .dataframe tbody tr th {\n",
       "        vertical-align: top;\n",
       "    }\n",
       "\n",
       "    .dataframe thead th {\n",
       "        text-align: right;\n",
       "    }\n",
       "</style>\n",
       "<table border=\"1\" class=\"dataframe\">\n",
       "  <thead>\n",
       "    <tr style=\"text-align: right;\">\n",
       "      <th></th>\n",
       "      <th>Shear_key</th>\n",
       "      <th>LC</th>\n",
       "      <th>LC-title</th>\n",
       "      <th>P[kN]</th>\n",
       "    </tr>\n",
       "  </thead>\n",
       "  <tbody>\n",
       "    <tr>\n",
       "      <th>0</th>\n",
       "      <td>Shear_key1</td>\n",
       "      <td>4043</td>\n",
       "      <td>Shear keys - W - remaining</td>\n",
       "      <td>0.0</td>\n",
       "    </tr>\n",
       "    <tr>\n",
       "      <th>1</th>\n",
       "      <td>Shear_key1</td>\n",
       "      <td>4044</td>\n",
       "      <td>Top slab- beam shear keys activa</td>\n",
       "      <td>-284.1</td>\n",
       "    </tr>\n",
       "    <tr>\n",
       "      <th>2</th>\n",
       "      <td>Shear_key1</td>\n",
       "      <td>4045</td>\n",
       "      <td>Protection concrete</td>\n",
       "      <td>-300.6</td>\n",
       "    </tr>\n",
       "    <tr>\n",
       "      <th>3</th>\n",
       "      <td>Shear_key1</td>\n",
       "      <td>4046</td>\n",
       "      <td>Backfill</td>\n",
       "      <td>-855.8</td>\n",
       "    </tr>\n",
       "    <tr>\n",
       "      <th>4</th>\n",
       "      <td>Shear_key1</td>\n",
       "      <td>4047</td>\n",
       "      <td>Ballast concrete of 16.8</td>\n",
       "      <td>-900.3</td>\n",
       "    </tr>\n",
       "    <tr>\n",
       "      <th>...</th>\n",
       "      <td>...</td>\n",
       "      <td>...</td>\n",
       "      <td>...</td>\n",
       "      <td>...</td>\n",
       "    </tr>\n",
       "    <tr>\n",
       "      <th>953</th>\n",
       "      <td>Shear_key9</td>\n",
       "      <td>5065</td>\n",
       "      <td>120-year creep step</td>\n",
       "      <td>93.1</td>\n",
       "    </tr>\n",
       "    <tr>\n",
       "      <th>954</th>\n",
       "      <td>Shear_key9</td>\n",
       "      <td>5066</td>\n",
       "      <td>120-year creep step</td>\n",
       "      <td>32.4</td>\n",
       "    </tr>\n",
       "    <tr>\n",
       "      <th>955</th>\n",
       "      <td>Shear_key9</td>\n",
       "      <td>5067</td>\n",
       "      <td>120-year creep step</td>\n",
       "      <td>42.0</td>\n",
       "    </tr>\n",
       "    <tr>\n",
       "      <th>956</th>\n",
       "      <td>Shear_key9</td>\n",
       "      <td>5068</td>\n",
       "      <td>120-year creep step</td>\n",
       "      <td>58.9</td>\n",
       "    </tr>\n",
       "    <tr>\n",
       "      <th>957</th>\n",
       "      <td>Shear_key9</td>\n",
       "      <td>5069</td>\n",
       "      <td>Long term settlement case**</td>\n",
       "      <td>-0.5</td>\n",
       "    </tr>\n",
       "  </tbody>\n",
       "</table>\n",
       "<p>958 rows × 4 columns</p>\n",
       "</div>"
      ],
      "text/plain": [
       "      Shear_key    LC                          LC-title  P[kN]\n",
       "0    Shear_key1  4043        Shear keys - W - remaining    0.0\n",
       "1    Shear_key1  4044  Top slab- beam shear keys activa -284.1\n",
       "2    Shear_key1  4045               Protection concrete -300.6\n",
       "3    Shear_key1  4046                          Backfill -855.8\n",
       "4    Shear_key1  4047          Ballast concrete of 16.8 -900.3\n",
       "..          ...   ...                               ...    ...\n",
       "953  Shear_key9  5065               120-year creep step   93.1\n",
       "954  Shear_key9  5066               120-year creep step   32.4\n",
       "955  Shear_key9  5067               120-year creep step   42.0\n",
       "956  Shear_key9  5068               120-year creep step   58.9\n",
       "957  Shear_key9  5069       Long term settlement case**   -0.5\n",
       "\n",
       "[958 rows x 4 columns]"
      ]
     },
     "execution_count": 159,
     "metadata": {},
     "output_type": "execute_result"
    }
   ],
   "source": [
    "group_df = shear_key_forces_clean.groupby([\"Shear_key\", 'LC', 'LC-title'], as_index = False).sum()\n",
    "group_df"
   ]
  },
  {
   "cell_type": "code",
   "execution_count": 167,
   "metadata": {},
   "outputs": [
    {
     "data": {
      "text/plain": [
       "<Figure size 720x576 with 0 Axes>"
      ]
     },
     "metadata": {},
     "output_type": "display_data"
    },
    {
     "data": {
      "image/png": "[encoded data removed]",
      "text/plain": [
       "<Figure size 432x288 with 1 Axes>"
      ]
     },
     "metadata": {
      "needs_background": "light"
     },
     "output_type": "display_data"
    }
   ],
   "source": [
    "plt.figure(figsize=(10,8))\n",
    "group_df.plot(kind='bar', x=\"LC\", y=\"P[kN]\", color = \"limegreen\") #rot=90)\n",
    "plt.show()"
   ]
  },
  {
   "cell_type": "markdown",
   "metadata": {},
   "source": [
    "## Session 6 - Pratical Exercise"
   ]
  },
  {
   "cell_type": "code",
   "execution_count": 1,
   "metadata": {},
   "outputs": [
    {
     "name": "stderr",
     "output_type": "stream",
     "text": [
      "<ipython-input-1-e77c3fd8cdf7>:7: MatplotlibDeprecationWarning: The seaborn styles shipped by Matplotlib are deprecated since 3.6, as they no longer correspond to the styles shipped by seaborn. However, they will remain available as 'seaborn-v0_8-<style>'. Alternatively, directly use the seaborn API instead.\n",
      "  plt.style.use('seaborn-whitegrid')\n"
     ]
    },
    {
     "data": {
      "text/html": [
       "<div>\n",
       "<style scoped>\n",
       "    .dataframe tbody tr th:only-of-type {\n",
       "        vertical-align: middle;\n",
       "    }\n",
       "\n",
       "    .dataframe tbody tr th {\n",
       "        vertical-align: top;\n",
       "    }\n",
       "\n",
       "    .dataframe thead th {\n",
       "        text-align: right;\n",
       "    }\n",
       "</style>\n",
       "<table border=\"1\" class=\"dataframe\">\n",
       "  <thead>\n",
       "    <tr style=\"text-align: right;\">\n",
       "      <th></th>\n",
       "      <th>stage</th>\n",
       "      <th>stage_title</th>\n",
       "      <th>element_no</th>\n",
       "      <th>group</th>\n",
       "      <th>vx[kN/m]</th>\n",
       "    </tr>\n",
       "  </thead>\n",
       "  <tbody>\n",
       "    <tr>\n",
       "      <th>0</th>\n",
       "      <td>4031</td>\n",
       "      <td>Shear keys - BS - 2553/2554</td>\n",
       "      <td>20101</td>\n",
       "      <td>201</td>\n",
       "      <td>2.33</td>\n",
       "    </tr>\n",
       "    <tr>\n",
       "      <th>1</th>\n",
       "      <td>4031</td>\n",
       "      <td>Shear keys - BS - 2553/2554</td>\n",
       "      <td>20102</td>\n",
       "      <td>201</td>\n",
       "      <td>1.29</td>\n",
       "    </tr>\n",
       "    <tr>\n",
       "      <th>2</th>\n",
       "      <td>4031</td>\n",
       "      <td>Shear keys - BS - 2553/2554</td>\n",
       "      <td>20103</td>\n",
       "      <td>201</td>\n",
       "      <td>0.87</td>\n",
       "    </tr>\n",
       "    <tr>\n",
       "      <th>3</th>\n",
       "      <td>4031</td>\n",
       "      <td>Shear keys - BS - 2553/2554</td>\n",
       "      <td>20104</td>\n",
       "      <td>201</td>\n",
       "      <td>0.74</td>\n",
       "    </tr>\n",
       "    <tr>\n",
       "      <th>4</th>\n",
       "      <td>4031</td>\n",
       "      <td>Shear keys - BS - 2553/2554</td>\n",
       "      <td>20105</td>\n",
       "      <td>201</td>\n",
       "      <td>0.64</td>\n",
       "    </tr>\n",
       "  </tbody>\n",
       "</table>\n",
       "</div>"
      ],
      "text/plain": [
       "   stage                  stage_title  element_no  group  vx[kN/m]\n",
       "0   4031  Shear keys - BS - 2553/2554       20101    201      2.33\n",
       "1   4031  Shear keys - BS - 2553/2554       20102    201      1.29\n",
       "2   4031  Shear keys - BS - 2553/2554       20103    201      0.87\n",
       "3   4031  Shear keys - BS - 2553/2554       20104    201      0.74\n",
       "4   4031  Shear keys - BS - 2553/2554       20105    201      0.64"
      ]
     },
     "execution_count": 1,
     "metadata": {},
     "output_type": "execute_result"
    }
   ],
   "source": [
    "# Import libraries \n",
    "import pandas as pd\n",
    "import matplotlib.pyplot as plt\n",
    "import numpy as np\n",
    "\n",
    "# Set style for matplotlib plots\n",
    "plt.style.use('seaborn-whitegrid')    \n",
    "\n",
    "# Dictionary for mapping element numbers to user chosen shear key names\n",
    "shear_keys = {   \n",
    "              # Shear key in Base Slab 101\n",
    "              'BS101': range(10101, 10199),  \n",
    "\n",
    "              # Shear key in Base Slab 201\n",
    "              'BS201': range(20101, 20199),  \n",
    "\n",
    "              # Shear key in Base Slab 301 \n",
    "              'BS301': range(30101, 30214),  \n",
    "}   \n",
    "\n",
    "# Set file name of dataset\n",
    "file_name = 'shear_keys_base_slab_v20.txt'\n",
    "\n",
    "# Read dataset from text file into dataframe, save it as 'df'\n",
    "df = pd.read_csv(file_name)\n",
    "\n",
    "# Extract version number from file name as 'vXX'\n",
    "# (assume the last 6 characters will always be '...vXX.txt')\n",
    "version_number = file_name[-7:-4]\n",
    "\n",
    "# Print the head of the dataframe to check it\n",
    "df.head()"
   ]
  },
  {
   "cell_type": "code",
   "execution_count": 2,
   "metadata": {},
   "outputs": [
    {
     "ename": "FileNotFoundError",
     "evalue": "[Errno 2] No such file or directory: 'Plots/v20/BS101_4031.png'",
     "output_type": "error",
     "traceback": [
      "\u001b[0;31m---------------------------------------------------------------------------\u001b[0m",
      "\u001b[0;31mFileNotFoundError\u001b[0m                         Traceback (most recent call last)",
      "\u001b[0;32m<ipython-input-2-708cb7a4a42b>\u001b[0m in \u001b[0;36m<module>\u001b[0;34m\u001b[0m\n\u001b[1;32m     51\u001b[0m \u001b[0;34m\u001b[0m\u001b[0m\n\u001b[1;32m     52\u001b[0m         \u001b[0;31m# Save figure to png-file with meaningful name that varies in every loop\u001b[0m\u001b[0;34m\u001b[0m\u001b[0;34m\u001b[0m\u001b[0;34m\u001b[0m\u001b[0m\n\u001b[0;32m---> 53\u001b[0;31m         \u001b[0mplt\u001b[0m\u001b[0;34m.\u001b[0m\u001b[0msavefig\u001b[0m\u001b[0;34m(\u001b[0m\u001b[0;34mf'Plots/{version_number}/{shear_key}_{stage}.png'\u001b[0m\u001b[0;34m)\u001b[0m\u001b[0;34m\u001b[0m\u001b[0;34m\u001b[0m\u001b[0m\n\u001b[0m",
      "\u001b[0;32m~/opt/anaconda3/lib/python3.8/site-packages/matplotlib/pyplot.py\u001b[0m in \u001b[0;36msavefig\u001b[0;34m(*args, **kwargs)\u001b[0m\n\u001b[1;32m   1021\u001b[0m \u001b[0;32mdef\u001b[0m \u001b[0msavefig\u001b[0m\u001b[0;34m(\u001b[0m\u001b[0;34m*\u001b[0m\u001b[0margs\u001b[0m\u001b[0;34m,\u001b[0m \u001b[0;34m**\u001b[0m\u001b[0mkwargs\u001b[0m\u001b[0;34m)\u001b[0m\u001b[0;34m:\u001b[0m\u001b[0;34m\u001b[0m\u001b[0;34m\u001b[0m\u001b[0m\n\u001b[1;32m   1022\u001b[0m     \u001b[0mfig\u001b[0m \u001b[0;34m=\u001b[0m \u001b[0mgcf\u001b[0m\u001b[0;34m(\u001b[0m\u001b[0;34m)\u001b[0m\u001b[0;34m\u001b[0m\u001b[0;34m\u001b[0m\u001b[0m\n\u001b[0;32m-> 1023\u001b[0;31m     \u001b[0mres\u001b[0m \u001b[0;34m=\u001b[0m \u001b[0mfig\u001b[0m\u001b[0;34m.\u001b[0m\u001b[0msavefig\u001b[0m\u001b[0;34m(\u001b[0m\u001b[0;34m*\u001b[0m\u001b[0margs\u001b[0m\u001b[0;34m,\u001b[0m \u001b[0;34m**\u001b[0m\u001b[0mkwargs\u001b[0m\u001b[0;34m)\u001b[0m\u001b[0;34m\u001b[0m\u001b[0;34m\u001b[0m\u001b[0m\n\u001b[0m\u001b[1;32m   1024\u001b[0m     \u001b[0mfig\u001b[0m\u001b[0;34m.\u001b[0m\u001b[0mcanvas\u001b[0m\u001b[0;34m.\u001b[0m\u001b[0mdraw_idle\u001b[0m\u001b[0;34m(\u001b[0m\u001b[0;34m)\u001b[0m  \u001b[0;31m# Need this if 'transparent=True', to reset colors.\u001b[0m\u001b[0;34m\u001b[0m\u001b[0;34m\u001b[0m\u001b[0m\n\u001b[1;32m   1025\u001b[0m     \u001b[0;32mreturn\u001b[0m \u001b[0mres\u001b[0m\u001b[0;34m\u001b[0m\u001b[0;34m\u001b[0m\u001b[0m\n",
      "\u001b[0;32m~/opt/anaconda3/lib/python3.8/site-packages/matplotlib/figure.py\u001b[0m in \u001b[0;36msavefig\u001b[0;34m(self, fname, transparent, **kwargs)\u001b[0m\n\u001b[1;32m   3376\u001b[0m                         ax.patch._cm_set(facecolor='none', edgecolor='none'))\n\u001b[1;32m   3377\u001b[0m \u001b[0;34m\u001b[0m\u001b[0m\n\u001b[0;32m-> 3378\u001b[0;31m             \u001b[0mself\u001b[0m\u001b[0;34m.\u001b[0m\u001b[0mcanvas\u001b[0m\u001b[0;34m.\u001b[0m\u001b[0mprint_figure\u001b[0m\u001b[0;34m(\u001b[0m\u001b[0mfname\u001b[0m\u001b[0;34m,\u001b[0m \u001b[0;34m**\u001b[0m\u001b[0mkwargs\u001b[0m\u001b[0;34m)\u001b[0m\u001b[0;34m\u001b[0m\u001b[0;34m\u001b[0m\u001b[0m\n\u001b[0m\u001b[1;32m   3379\u001b[0m \u001b[0;34m\u001b[0m\u001b[0m\n\u001b[1;32m   3380\u001b[0m     def ginput(self, n=1, timeout=30, show_clicks=True,\n",
      "\u001b[0;32m~/opt/anaconda3/lib/python3.8/site-packages/matplotlib/backend_bases.py\u001b[0m in \u001b[0;36mprint_figure\u001b[0;34m(self, filename, dpi, facecolor, edgecolor, orientation, format, bbox_inches, pad_inches, bbox_extra_artists, backend, **kwargs)\u001b[0m\n\u001b[1;32m   2364\u001b[0m                 \u001b[0;31m# force the figure dpi to 72), so we need to set it again here.\u001b[0m\u001b[0;34m\u001b[0m\u001b[0;34m\u001b[0m\u001b[0;34m\u001b[0m\u001b[0m\n\u001b[1;32m   2365\u001b[0m                 \u001b[0;32mwith\u001b[0m \u001b[0mcbook\u001b[0m\u001b[0;34m.\u001b[0m\u001b[0m_setattr_cm\u001b[0m\u001b[0;34m(\u001b[0m\u001b[0mself\u001b[0m\u001b[0;34m.\u001b[0m\u001b[0mfigure\u001b[0m\u001b[0;34m,\u001b[0m \u001b[0mdpi\u001b[0m\u001b[0;34m=\u001b[0m\u001b[0mdpi\u001b[0m\u001b[0;34m)\u001b[0m\u001b[0;34m:\u001b[0m\u001b[0;34m\u001b[0m\u001b[0;34m\u001b[0m\u001b[0m\n\u001b[0;32m-> 2366\u001b[0;31m                     result = print_method(\n\u001b[0m\u001b[1;32m   2367\u001b[0m                         \u001b[0mfilename\u001b[0m\u001b[0;34m,\u001b[0m\u001b[0;34m\u001b[0m\u001b[0;34m\u001b[0m\u001b[0m\n\u001b[1;32m   2368\u001b[0m                         \u001b[0mfacecolor\u001b[0m\u001b[0;34m=\u001b[0m\u001b[0mfacecolor\u001b[0m\u001b[0;34m,\u001b[0m\u001b[0;34m\u001b[0m\u001b[0;34m\u001b[0m\u001b[0m\n",
      "\u001b[0;32m~/opt/anaconda3/lib/python3.8/site-packages/matplotlib/backend_bases.py\u001b[0m in \u001b[0;36m<lambda>\u001b[0;34m(*args, **kwargs)\u001b[0m\n\u001b[1;32m   2230\u001b[0m                 \"bbox_inches_restore\"}\n\u001b[1;32m   2231\u001b[0m             \u001b[0mskip\u001b[0m \u001b[0;34m=\u001b[0m \u001b[0moptional_kws\u001b[0m \u001b[0;34m-\u001b[0m \u001b[0;34m{\u001b[0m\u001b[0;34m*\u001b[0m\u001b[0minspect\u001b[0m\u001b[0;34m.\u001b[0m\u001b[0msignature\u001b[0m\u001b[0;34m(\u001b[0m\u001b[0mmeth\u001b[0m\u001b[0;34m)\u001b[0m\u001b[0;34m.\u001b[0m\u001b[0mparameters\u001b[0m\u001b[0;34m}\u001b[0m\u001b[0;34m\u001b[0m\u001b[0;34m\u001b[0m\u001b[0m\n\u001b[0;32m-> 2232\u001b[0;31m             print_method = functools.wraps(meth)(lambda *args, **kwargs: meth(\n\u001b[0m\u001b[1;32m   2233\u001b[0m                 *args, **{k: v for k, v in kwargs.items() if k not in skip}))\n\u001b[1;32m   2234\u001b[0m         \u001b[0;32melse\u001b[0m\u001b[0;34m:\u001b[0m  \u001b[0;31m# Let third-parties do as they see fit.\u001b[0m\u001b[0;34m\u001b[0m\u001b[0;34m\u001b[0m\u001b[0m\n",
      "\u001b[0;32m~/opt/anaconda3/lib/python3.8/site-packages/matplotlib/backends/backend_agg.py\u001b[0m in \u001b[0;36mprint_png\u001b[0;34m(self, filename_or_obj, metadata, pil_kwargs)\u001b[0m\n\u001b[1;32m    507\u001b[0m             \u001b[0;34m*\u001b[0m\u001b[0mmetadata\u001b[0m\u001b[0;34m*\u001b[0m\u001b[0;34m,\u001b[0m \u001b[0mincluding\u001b[0m \u001b[0mthe\u001b[0m \u001b[0mdefault\u001b[0m \u001b[0;34m'Software'\u001b[0m \u001b[0mkey\u001b[0m\u001b[0;34m.\u001b[0m\u001b[0;34m\u001b[0m\u001b[0;34m\u001b[0m\u001b[0m\n\u001b[1;32m    508\u001b[0m         \"\"\"\n\u001b[0;32m--> 509\u001b[0;31m         \u001b[0mself\u001b[0m\u001b[0;34m.\u001b[0m\u001b[0m_print_pil\u001b[0m\u001b[0;34m(\u001b[0m\u001b[0mfilename_or_obj\u001b[0m\u001b[0;34m,\u001b[0m \u001b[0;34m\"png\"\u001b[0m\u001b[0;34m,\u001b[0m \u001b[0mpil_kwargs\u001b[0m\u001b[0;34m,\u001b[0m \u001b[0mmetadata\u001b[0m\u001b[0;34m)\u001b[0m\u001b[0;34m\u001b[0m\u001b[0;34m\u001b[0m\u001b[0m\n\u001b[0m\u001b[1;32m    510\u001b[0m \u001b[0;34m\u001b[0m\u001b[0m\n\u001b[1;32m    511\u001b[0m     \u001b[0;32mdef\u001b[0m \u001b[0mprint_to_buffer\u001b[0m\u001b[0;34m(\u001b[0m\u001b[0mself\u001b[0m\u001b[0;34m)\u001b[0m\u001b[0;34m:\u001b[0m\u001b[0;34m\u001b[0m\u001b[0;34m\u001b[0m\u001b[0m\n",
      "\u001b[0;32m~/opt/anaconda3/lib/python3.8/site-packages/matplotlib/backends/backend_agg.py\u001b[0m in \u001b[0;36m_print_pil\u001b[0;34m(self, filename_or_obj, fmt, pil_kwargs, metadata)\u001b[0m\n\u001b[1;32m    456\u001b[0m         \"\"\"\n\u001b[1;32m    457\u001b[0m         \u001b[0mFigureCanvasAgg\u001b[0m\u001b[0;34m.\u001b[0m\u001b[0mdraw\u001b[0m\u001b[0;34m(\u001b[0m\u001b[0mself\u001b[0m\u001b[0;34m)\u001b[0m\u001b[0;34m\u001b[0m\u001b[0;34m\u001b[0m\u001b[0m\n\u001b[0;32m--> 458\u001b[0;31m         mpl.image.imsave(\n\u001b[0m\u001b[1;32m    459\u001b[0m             \u001b[0mfilename_or_obj\u001b[0m\u001b[0;34m,\u001b[0m \u001b[0mself\u001b[0m\u001b[0;34m.\u001b[0m\u001b[0mbuffer_rgba\u001b[0m\u001b[0;34m(\u001b[0m\u001b[0;34m)\u001b[0m\u001b[0;34m,\u001b[0m \u001b[0mformat\u001b[0m\u001b[0;34m=\u001b[0m\u001b[0mfmt\u001b[0m\u001b[0;34m,\u001b[0m \u001b[0morigin\u001b[0m\u001b[0;34m=\u001b[0m\u001b[0;34m\"upper\"\u001b[0m\u001b[0;34m,\u001b[0m\u001b[0;34m\u001b[0m\u001b[0;34m\u001b[0m\u001b[0m\n\u001b[1;32m    460\u001b[0m             dpi=self.figure.dpi, metadata=metadata, pil_kwargs=pil_kwargs)\n",
      "\u001b[0;32m~/opt/anaconda3/lib/python3.8/site-packages/matplotlib/image.py\u001b[0m in \u001b[0;36mimsave\u001b[0;34m(fname, arr, vmin, vmax, cmap, format, origin, dpi, metadata, pil_kwargs)\u001b[0m\n\u001b[1;32m   1687\u001b[0m         \u001b[0mpil_kwargs\u001b[0m\u001b[0;34m.\u001b[0m\u001b[0msetdefault\u001b[0m\u001b[0;34m(\u001b[0m\u001b[0;34m\"format\"\u001b[0m\u001b[0;34m,\u001b[0m \u001b[0mformat\u001b[0m\u001b[0;34m)\u001b[0m\u001b[0;34m\u001b[0m\u001b[0;34m\u001b[0m\u001b[0m\n\u001b[1;32m   1688\u001b[0m         \u001b[0mpil_kwargs\u001b[0m\u001b[0;34m.\u001b[0m\u001b[0msetdefault\u001b[0m\u001b[0;34m(\u001b[0m\u001b[0;34m\"dpi\"\u001b[0m\u001b[0;34m,\u001b[0m \u001b[0;34m(\u001b[0m\u001b[0mdpi\u001b[0m\u001b[0;34m,\u001b[0m \u001b[0mdpi\u001b[0m\u001b[0;34m)\u001b[0m\u001b[0;34m)\u001b[0m\u001b[0;34m\u001b[0m\u001b[0;34m\u001b[0m\u001b[0m\n\u001b[0;32m-> 1689\u001b[0;31m         \u001b[0mimage\u001b[0m\u001b[0;34m.\u001b[0m\u001b[0msave\u001b[0m\u001b[0;34m(\u001b[0m\u001b[0mfname\u001b[0m\u001b[0;34m,\u001b[0m \u001b[0;34m**\u001b[0m\u001b[0mpil_kwargs\u001b[0m\u001b[0;34m)\u001b[0m\u001b[0;34m\u001b[0m\u001b[0;34m\u001b[0m\u001b[0m\n\u001b[0m\u001b[1;32m   1690\u001b[0m \u001b[0;34m\u001b[0m\u001b[0m\n\u001b[1;32m   1691\u001b[0m \u001b[0;34m\u001b[0m\u001b[0m\n",
      "\u001b[0;32m~/opt/anaconda3/lib/python3.8/site-packages/PIL/Image.py\u001b[0m in \u001b[0;36msave\u001b[0;34m(self, fp, format, **params)\u001b[0m\n\u001b[1;32m   2207\u001b[0m                 \u001b[0mfp\u001b[0m \u001b[0;34m=\u001b[0m \u001b[0mbuiltins\u001b[0m\u001b[0;34m.\u001b[0m\u001b[0mopen\u001b[0m\u001b[0;34m(\u001b[0m\u001b[0mfilename\u001b[0m\u001b[0;34m,\u001b[0m \u001b[0;34m\"r+b\"\u001b[0m\u001b[0;34m)\u001b[0m\u001b[0;34m\u001b[0m\u001b[0;34m\u001b[0m\u001b[0m\n\u001b[1;32m   2208\u001b[0m             \u001b[0;32melse\u001b[0m\u001b[0;34m:\u001b[0m\u001b[0;34m\u001b[0m\u001b[0;34m\u001b[0m\u001b[0m\n\u001b[0;32m-> 2209\u001b[0;31m                 \u001b[0mfp\u001b[0m \u001b[0;34m=\u001b[0m \u001b[0mbuiltins\u001b[0m\u001b[0;34m.\u001b[0m\u001b[0mopen\u001b[0m\u001b[0;34m(\u001b[0m\u001b[0mfilename\u001b[0m\u001b[0;34m,\u001b[0m \u001b[0;34m\"w+b\"\u001b[0m\u001b[0;34m)\u001b[0m\u001b[0;34m\u001b[0m\u001b[0;34m\u001b[0m\u001b[0m\n\u001b[0m\u001b[1;32m   2210\u001b[0m \u001b[0;34m\u001b[0m\u001b[0m\n\u001b[1;32m   2211\u001b[0m         \u001b[0;32mtry\u001b[0m\u001b[0;34m:\u001b[0m\u001b[0;34m\u001b[0m\u001b[0;34m\u001b[0m\u001b[0m\n",
      "\u001b[0;31mFileNotFoundError\u001b[0m: [Errno 2] No such file or directory: 'Plots/v20/BS101_4031.png'"
     ]
    }
   ],
   "source": [
    "%%capture\n",
    "# %%capture prevent plots from showing as cell output\n",
    "# ------------------------------------------------------\n",
    "\n",
    "# Contruct a dictionary that maps stage numbers to titles (auto removes duplicates)\n",
    "stage_no_to_title_map = dict(zip(df['stage'], df['stage_title']))    \n",
    "\n",
    "# Loop over all shear key names and their corresponding element numbers \n",
    "for shear_key, elem_no in shear_keys.items():\n",
    "\n",
    "    # Loop over all construction stages, create plots and save them to a png-file\n",
    "    for stage in df['stage'].unique():\n",
    "\n",
    "        # Get title of current stage from mapping dictionary\n",
    "        stage_title = stage_no_to_title_map[stage]\n",
    "        \n",
    "        # Filter dataframe based on stage and element numbers in shear key\n",
    "        df_filtered = df[(df['stage'] == stage) & (df['element_no'].isin(elem_no))]\n",
    "        \n",
    "        # Create figure\n",
    "        plt.figure(figsize=(12, 5))\n",
    "        \n",
    "        # Create x-values for plot as numbers running from 1 to length of y-values\n",
    "        x = np.array(range(1, len(df_filtered['vx[kN/m]'])+1))\n",
    "        \n",
    "        # Create y-values for plot as shear forces vx\n",
    "        y = df_filtered['vx[kN/m]'].values\n",
    "        \n",
    "        # Extract indices where y-values are negative and positive, respectively\n",
    "        idx_neg = np.where(y<0)\n",
    "        idx_pos = np.where(y>=0)\n",
    "\n",
    "        # Extract x-values where y-values are negative and positive, respectively\n",
    "        x_neg, x_pos = np.take(x, idx_neg)[0], np.take(x, idx_pos)[0]\n",
    "\n",
    "        # Extract y-values where y-values are negative and positive, respectively\n",
    "        y_neg, y_pos = np.take(y, idx_neg)[0], np.take(y, idx_pos)[0]\n",
    "\n",
    "        # Plot lines for negative and positve values as two separate lines\n",
    "        plt.plot(x_neg, y_neg, '.', color='salmon')\n",
    "        plt.plot(x_pos, y_pos, '.', color='cornflowerblue')    \n",
    "        \n",
    "        # Fill between y=0 and the lines where y-values are negative and positive, respectively \n",
    "        plt.fill_between(x, y, where=y<0, color='salmon', alpha=0.25, interpolate=True)\n",
    "        plt.fill_between(x, y, where=y>=0, color='cornflowerblue', alpha=0.25, interpolate=True)\n",
    "        \n",
    "        # Set titles and x- and y-labels\n",
    "        plt.title(f'Shear force $vx$ [kN/m] for base slab shear key ${shear_key}$' + '\\n' +\n",
    "                     f'{stage_title} $(Stage: {stage}) ({version_number})$', fontsize=16)\n",
    "        plt.xlabel('Points along shear key', fontsize=14)\n",
    "        plt.ylabel('Slab shear force $vx$ [kN/m]', fontsize=14)\n",
    "        \n",
    "        # Save figure to png-file with meaningful name that varies in every loop\n",
    "        plt.savefig(f'Plots/{version_number}/{shear_key}_{stage}.png') "
   ]
  },
  {
   "cell_type": "markdown",
   "metadata": {},
   "source": [
    "## Session 7 - Coordinate transformation"
   ]
  },
  {
   "cell_type": "code",
   "execution_count": 23,
   "metadata": {},
   "outputs": [],
   "source": [
    "x = np.array([-5, 5, 5, 0.5, 0.5, 5, 5, -5, -5, -0.5, -0.5, -5, -5])\n",
    "y = np.array([-8, -8, -6, -6, 6, 6, 8, 8, 6, 6, -6, -6, -8])\n",
    "\n",
    "class move:\n",
    "    def __init__(self, angle, x, y):\n",
    "        angle = self.angle\n",
    "        x = self.x\n",
    "        y = self.y\n",
    "        \n",
    "    def rotation(angle, x, y):\n",
    "        rotation = np.array([[np.cos(angle),np.sin(angle), 0],[-np.sin(angle),np.cos(angle), 0],[0,0,1]] )\n",
    "        coordonates = np.array([x,y,1])\n",
    "        return np.dot(rotation,coordonates.T)[0], np.dot(rotation,coordonates.T)[1]\n",
    "    \n",
    "    def plot_fig(x,y):\n",
    "        plt.figure(figsize = (10,8))\n",
    "        plt.plot(x, y, '-.', label = \"$y$\", color = 'limegreen')\n",
    "        plt.show()"
   ]
  },
  {
   "cell_type": "code",
   "execution_count": 24,
   "metadata": {},
   "outputs": [
    {
     "data": {
      "text/plain": [
       "[(-4.911605228158612, 8.05457224703615),\n",
       " (-9.392341389450314, -0.8853943889694285),\n",
       " (-7.604348062249198, -1.7815416212277686),\n",
       " (-5.588016789667932, 2.241443364974742),\n",
       " (5.139943173538762, -3.1354400285753),\n",
       " (3.123611900957496, -7.15842501477781),\n",
       " (4.911605228158612, -8.05457224703615),\n",
       " (9.392341389450314, 0.8853943889694285),\n",
       " (7.604348062249198, 1.7815416212277686),\n",
       " (5.588016789667932, -2.241443364974742),\n",
       " (-5.139943173538762, 3.1354400285753),\n",
       " (-3.123611900957496, 7.15842501477781),\n",
       " (-4.911605228158612, 8.05457224703615)]"
      ]
     },
     "execution_count": 24,
     "metadata": {},
     "output_type": "execute_result"
    }
   ],
   "source": [
    "rota = [move.rotation(90, i, j) for i, j in zip(x,y)]\n",
    "rota"
   ]
  },
  {
   "cell_type": "code",
   "execution_count": 46,
   "metadata": {},
   "outputs": [],
   "source": [
    "rota_x = [rota[j][0] for j in range(len(rota))]\n",
    "rota_y = [rota[j][1] for j in range(len(rota))]\n",
    "\n",
    "def plot_(x,y,u,v):\n",
    "    plt.figure(figsize = (10,8))\n",
    "    plt.plot(x, y, '-.', label = \"transformed\", color = 'limegreen')\n",
    "    plt.plot(u,v,'--', label = 'original', color = 'b')\n",
    "    plt.xlabel(\"$x$\")\n",
    "    plt.ylabel('$f(x)$')\n",
    "    plt.legend()\n",
    "    plt.grid()\n",
    "    plt.show()"
   ]
  },
  {
   "cell_type": "code",
   "execution_count": 47,
   "metadata": {},
   "outputs": [
    {
     "data": {
      "image/png": "[encoded data removed]",
      "text/plain": [
       "<Figure size 720x576 with 1 Axes>"
      ]
     },
     "metadata": {
      "needs_background": "light"
     },
     "output_type": "display_data"
    }
   ],
   "source": [
    "plot_(rota_x,rota_y,x,y)"
   ]
  },
  {
   "cell_type": "markdown",
   "metadata": {},
   "source": [
    "## Session 8 - Interpolation"
   ]
  },
  {
   "cell_type": "code",
   "execution_count": 4,
   "metadata": {},
   "outputs": [
    {
     "name": "stderr",
     "output_type": "stream",
     "text": [
      "<frozen importlib._bootstrap>:219: RuntimeWarning: scipy._lib.messagestream.MessageStream size changed, may indicate binary incompatibility. Expected 56 from C header, got 64 from PyObject\n"
     ]
    }
   ],
   "source": [
    "import xlrd \n",
    "import scipy\n",
    "import pandas as pd\n",
    "import numpy as np\n",
    "from scipy.interpolate import griddata\n",
    "import matplotlib.pyplot as plt\n",
    "from mpl_toolkits.mplot3d import Axes3D"
   ]
  },
  {
   "cell_type": "code",
   "execution_count": 5,
   "metadata": {},
   "outputs": [],
   "source": [
    "# Set name of Excel file to read containing known points\n",
    "file_known = 'known_points.xlsx'\n",
    "\n",
    "# Set name of sheet to read from Excel file\n",
    "sheet_known = 'Sheet1'\n",
    "\n",
    "# Read data from Excel sheet into a dataframe\n",
    "df = pd.read_excel(file_known, sheet_name = sheet_known,skiprows=7)\n",
    "\n",
    "# Extract column names starting with 'Y' into new dataframe of known Y-coords\n",
    "df_y = df[df.columns[df.columns.str.startswith('Y')]]\n",
    "\n",
    "# Extract column names starting with 'Z' into new dataframe of known Z-coords\n",
    "df_z_known = df[df.columns[df.columns.str.startswith('Z')]]\n",
    "\n",
    "# Flatten dataframe values into 1D array (matri format -> vector format)\n",
    "y_known = df_y.values.flatten()\n",
    "z_known = df_z_known.values.flatten()\n",
    "\n",
    "# Extract known x-values\n",
    "x_known = df['X']\n",
    "\n",
    "# Create X-array by repeating itself as many times as there are Y-columns\n",
    "# This will create matching(x, y)-points between arrays x and y\n",
    "x_known = np.repeat(x_known, len(df_y.columns))\n",
    "\n",
    "# Mirror known y-values and add corresponding x- and y-values\n",
    "x_known = np.append(x_known, x_known)\n",
    "y_known = np.append(y_known, -y_known)\n",
    "z_known = np.append(z_known, z_known)\n",
    "\n",
    "# Arrange known (x, y) points to fit input for interpolation\n",
    "xy_known = np.array(list(zip(x_known, y_known)))\n",
    "\n",
    "# Set names and read Excel file with nodes to be interpolated\n",
    "file_nodes = 'points_to_be_interpolated.xlsx'\n",
    "sheet_nodes = 'XLSX-Export'\n",
    "df_nodes = pd.read_excel(file_nodes, sheet_name=sheet_nodes)\n",
    "\n",
    "# Extract x- and y-coordinates of nodes to be interpolated\n",
    "x_nodes = df_nodes['X [m]']\n",
    "y_nodes = df_nodes['Y [m]']\n",
    "\n",
    "# Extract node numbers for points to be interpolated\n",
    "node_no = df_nodes['NR']\n",
    "\n",
    "# Perform interpolation calculation\n",
    "points_interpolated = griddata(xy_known, z_known, (x_nodes, y_nodes), method='cubic')"
   ]
  },
  {
   "cell_type": "code",
   "execution_count": 6,
   "metadata": {},
   "outputs": [
    {
     "data": {
      "text/plain": [
       "array([16.79554925,  1.22847168, 16.5134683 , ..., -1.78521434,\n",
       "       -1.69822879, -1.73751205])"
      ]
     },
     "execution_count": 6,
     "metadata": {},
     "output_type": "execute_result"
    }
   ],
   "source": [
    "points_interpolated"
   ]
  },
  {
   "cell_type": "code",
   "execution_count": 9,
   "metadata": {},
   "outputs": [
    {
     "data": {
      "image/png": "[encoded data removed]",
      "text/plain": [
       "<Figure size 720x576 with 1 Axes>"
      ]
     },
     "metadata": {
      "needs_background": "light"
     },
     "output_type": "display_data"
    }
   ],
   "source": [
    "# Create figure object\n",
    "fig = plt.figure()\n",
    "\n",
    "# Create axis object for 3D plot\n",
    "ax = fig.add_subplot(111, projection='3d')\n",
    "\n",
    "# Plot known points as 3D scatter plot (ax.scatter(...))\n",
    "ax.scatter(x_known, y_known, z_known, '-.', color='limegreen', label = 'Know points')\n",
    "# Plot interpolated points as 3D scatter plot\n",
    "ax.scatter(x_nodes, y_nodes, points_interpolated, '*', color='cornflowerblue', s=0.5, label = 'Interpolated points')\n",
    "\n",
    "plt.title(\"FE-software (Sofistik)\")\n",
    "plt.legend()\n",
    "# Show figure\n",
    "plt.show()"
   ]
  },
  {
   "cell_type": "markdown",
   "metadata": {},
   "source": [
    "## Session 9 - Heatmaps and merging"
   ]
  },
  {
   "cell_type": "code",
   "execution_count": 124,
   "metadata": {},
   "outputs": [],
   "source": [
    "import seaborn as sns"
   ]
  },
  {
   "cell_type": "code",
   "execution_count": 107,
   "metadata": {},
   "outputs": [],
   "source": [
    "pile = pd.read_csv(\"piles.csv\")\n",
    "steel = pd.read_csv(\"steel_profiles.csv\")"
   ]
  },
  {
   "cell_type": "code",
   "execution_count": 118,
   "metadata": {},
   "outputs": [
    {
     "data": {
      "text/html": [
       "<div>\n",
       "<style scoped>\n",
       "    .dataframe tbody tr th:only-of-type {\n",
       "        vertical-align: middle;\n",
       "    }\n",
       "\n",
       "    .dataframe tbody tr th {\n",
       "        vertical-align: top;\n",
       "    }\n",
       "\n",
       "    .dataframe thead th {\n",
       "        text-align: right;\n",
       "    }\n",
       "</style>\n",
       "<table border=\"1\" class=\"dataframe\">\n",
       "  <thead>\n",
       "    <tr style=\"text-align: right;\">\n",
       "      <th></th>\n",
       "      <th>h[mm]</th>\n",
       "      <th>b[mm]</th>\n",
       "      <th>Iy[mm4]</th>\n",
       "      <th>Wel_y[mm3]</th>\n",
       "      <th>g[kg/m]</th>\n",
       "    </tr>\n",
       "    <tr>\n",
       "      <th>Profile</th>\n",
       "      <th></th>\n",
       "      <th></th>\n",
       "      <th></th>\n",
       "      <th></th>\n",
       "      <th></th>\n",
       "    </tr>\n",
       "  </thead>\n",
       "  <tbody>\n",
       "    <tr>\n",
       "      <th>HE100A</th>\n",
       "      <td>96</td>\n",
       "      <td>100</td>\n",
       "      <td>3490000</td>\n",
       "      <td>72.8</td>\n",
       "      <td>16.7</td>\n",
       "    </tr>\n",
       "    <tr>\n",
       "      <th>HE100B</th>\n",
       "      <td>100</td>\n",
       "      <td>100</td>\n",
       "      <td>4500000</td>\n",
       "      <td>89.9</td>\n",
       "      <td>20.4</td>\n",
       "    </tr>\n",
       "    <tr>\n",
       "      <th>HE120A</th>\n",
       "      <td>114</td>\n",
       "      <td>120</td>\n",
       "      <td>6060000</td>\n",
       "      <td>106.0</td>\n",
       "      <td>19.9</td>\n",
       "    </tr>\n",
       "    <tr>\n",
       "      <th>HE120B</th>\n",
       "      <td>120</td>\n",
       "      <td>120</td>\n",
       "      <td>8640000</td>\n",
       "      <td>144.0</td>\n",
       "      <td>26.7</td>\n",
       "    </tr>\n",
       "    <tr>\n",
       "      <th>HE140A</th>\n",
       "      <td>133</td>\n",
       "      <td>140</td>\n",
       "      <td>10300000</td>\n",
       "      <td>155.0</td>\n",
       "      <td>24.7</td>\n",
       "    </tr>\n",
       "    <tr>\n",
       "      <th>HE140B</th>\n",
       "      <td>140</td>\n",
       "      <td>140</td>\n",
       "      <td>15100000</td>\n",
       "      <td>216.0</td>\n",
       "      <td>33.7</td>\n",
       "    </tr>\n",
       "    <tr>\n",
       "      <th>HE160A</th>\n",
       "      <td>152</td>\n",
       "      <td>160</td>\n",
       "      <td>16700000</td>\n",
       "      <td>220.0</td>\n",
       "      <td>30.4</td>\n",
       "    </tr>\n",
       "    <tr>\n",
       "      <th>HE160B</th>\n",
       "      <td>160</td>\n",
       "      <td>160</td>\n",
       "      <td>24900000</td>\n",
       "      <td>311.0</td>\n",
       "      <td>42.6</td>\n",
       "    </tr>\n",
       "    <tr>\n",
       "      <th>HE180A</th>\n",
       "      <td>171</td>\n",
       "      <td>180</td>\n",
       "      <td>25100000</td>\n",
       "      <td>294.0</td>\n",
       "      <td>35.5</td>\n",
       "    </tr>\n",
       "    <tr>\n",
       "      <th>HE180B</th>\n",
       "      <td>180</td>\n",
       "      <td>180</td>\n",
       "      <td>38300000</td>\n",
       "      <td>426.0</td>\n",
       "      <td>51.2</td>\n",
       "    </tr>\n",
       "    <tr>\n",
       "      <th>HE200A</th>\n",
       "      <td>380</td>\n",
       "      <td>400</td>\n",
       "      <td>73800000</td>\n",
       "      <td>778.0</td>\n",
       "      <td>84.6</td>\n",
       "    </tr>\n",
       "    <tr>\n",
       "      <th>HE200B</th>\n",
       "      <td>200</td>\n",
       "      <td>200</td>\n",
       "      <td>57000000</td>\n",
       "      <td>570.0</td>\n",
       "      <td>61.3</td>\n",
       "    </tr>\n",
       "    <tr>\n",
       "      <th>HE220A</th>\n",
       "      <td>210</td>\n",
       "      <td>220</td>\n",
       "      <td>54100000</td>\n",
       "      <td>515.0</td>\n",
       "      <td>50.5</td>\n",
       "    </tr>\n",
       "    <tr>\n",
       "      <th>HE220B</th>\n",
       "      <td>220</td>\n",
       "      <td>220</td>\n",
       "      <td>80900000</td>\n",
       "      <td>736.0</td>\n",
       "      <td>71.5</td>\n",
       "    </tr>\n",
       "    <tr>\n",
       "      <th>HE240A</th>\n",
       "      <td>230</td>\n",
       "      <td>240</td>\n",
       "      <td>77600000</td>\n",
       "      <td>675.0</td>\n",
       "      <td>60.3</td>\n",
       "    </tr>\n",
       "    <tr>\n",
       "      <th>HE240B</th>\n",
       "      <td>240</td>\n",
       "      <td>240</td>\n",
       "      <td>112600000</td>\n",
       "      <td>938.0</td>\n",
       "      <td>83.2</td>\n",
       "    </tr>\n",
       "    <tr>\n",
       "      <th>HE260A</th>\n",
       "      <td>250</td>\n",
       "      <td>260</td>\n",
       "      <td>104500000</td>\n",
       "      <td>836.0</td>\n",
       "      <td>68.2</td>\n",
       "    </tr>\n",
       "    <tr>\n",
       "      <th>HE260B</th>\n",
       "      <td>260</td>\n",
       "      <td>260</td>\n",
       "      <td>149200000</td>\n",
       "      <td>1150.0</td>\n",
       "      <td>93.0</td>\n",
       "    </tr>\n",
       "    <tr>\n",
       "      <th>HE280A</th>\n",
       "      <td>270</td>\n",
       "      <td>280</td>\n",
       "      <td>136700000</td>\n",
       "      <td>1010.0</td>\n",
       "      <td>76.4</td>\n",
       "    </tr>\n",
       "    <tr>\n",
       "      <th>HE280B</th>\n",
       "      <td>280</td>\n",
       "      <td>280</td>\n",
       "      <td>192700000</td>\n",
       "      <td>1380.0</td>\n",
       "      <td>103.0</td>\n",
       "    </tr>\n",
       "    <tr>\n",
       "      <th>HE300A</th>\n",
       "      <td>290</td>\n",
       "      <td>300</td>\n",
       "      <td>182600000</td>\n",
       "      <td>1260.0</td>\n",
       "      <td>88.3</td>\n",
       "    </tr>\n",
       "    <tr>\n",
       "      <th>HE300B</th>\n",
       "      <td>300</td>\n",
       "      <td>300</td>\n",
       "      <td>251700000</td>\n",
       "      <td>1680.0</td>\n",
       "      <td>117.0</td>\n",
       "    </tr>\n",
       "  </tbody>\n",
       "</table>\n",
       "</div>"
      ],
      "text/plain": [
       "         h[mm]  b[mm]    Iy[mm4]  Wel_y[mm3]  g[kg/m]\n",
       "Profile                                              \n",
       "HE100A      96    100    3490000        72.8     16.7\n",
       "HE100B     100    100    4500000        89.9     20.4\n",
       "HE120A     114    120    6060000       106.0     19.9\n",
       "HE120B     120    120    8640000       144.0     26.7\n",
       "HE140A     133    140   10300000       155.0     24.7\n",
       "HE140B     140    140   15100000       216.0     33.7\n",
       "HE160A     152    160   16700000       220.0     30.4\n",
       "HE160B     160    160   24900000       311.0     42.6\n",
       "HE180A     171    180   25100000       294.0     35.5\n",
       "HE180B     180    180   38300000       426.0     51.2\n",
       "HE200A     380    400   73800000       778.0     84.6\n",
       "HE200B     200    200   57000000       570.0     61.3\n",
       "HE220A     210    220   54100000       515.0     50.5\n",
       "HE220B     220    220   80900000       736.0     71.5\n",
       "HE240A     230    240   77600000       675.0     60.3\n",
       "HE240B     240    240  112600000       938.0     83.2\n",
       "HE260A     250    260  104500000       836.0     68.2\n",
       "HE260B     260    260  149200000      1150.0     93.0\n",
       "HE280A     270    280  136700000      1010.0     76.4\n",
       "HE280B     280    280  192700000      1380.0    103.0\n",
       "HE300A     290    300  182600000      1260.0     88.3\n",
       "HE300B     300    300  251700000      1680.0    117.0"
      ]
     },
     "execution_count": 118,
     "metadata": {},
     "output_type": "execute_result"
    }
   ],
   "source": [
    "pile_df = pd.DataFrame(pile)\n",
    "steel_df = pd.DataFrame(steel)\n",
    "\n",
    "pile_steel_df = pile_df.merge(steel_df, on='Profile', how='right')\n",
    "pile_steel_df.groupby([\"Profile\"]).sum()"
   ]
  },
  {
   "cell_type": "code",
   "execution_count": 122,
   "metadata": {},
   "outputs": [
    {
     "data": {
      "text/html": [
       "<div>\n",
       "<style scoped>\n",
       "    .dataframe tbody tr th:only-of-type {\n",
       "        vertical-align: middle;\n",
       "    }\n",
       "\n",
       "    .dataframe tbody tr th {\n",
       "        vertical-align: top;\n",
       "    }\n",
       "\n",
       "    .dataframe thead th {\n",
       "        text-align: right;\n",
       "    }\n",
       "</style>\n",
       "<table border=\"1\" class=\"dataframe\">\n",
       "  <thead>\n",
       "    <tr style=\"text-align: right;\">\n",
       "      <th></th>\n",
       "      <th>Criterion</th>\n",
       "      <th>x[m]</th>\n",
       "      <th>y[m]</th>\n",
       "      <th>N[kN/m]</th>\n",
       "      <th>M[kNm/m]</th>\n",
       "      <th>w_k[mm]</th>\n",
       "    </tr>\n",
       "  </thead>\n",
       "  <tbody>\n",
       "    <tr>\n",
       "      <th>0</th>\n",
       "      <td>max Ny</td>\n",
       "      <td>22.115</td>\n",
       "      <td>7.603</td>\n",
       "      <td>711.1</td>\n",
       "      <td>-197.8</td>\n",
       "      <td>0.380248</td>\n",
       "    </tr>\n",
       "    <tr>\n",
       "      <th>3</th>\n",
       "      <td>max Ny</td>\n",
       "      <td>22.250</td>\n",
       "      <td>7.603</td>\n",
       "      <td>413.4</td>\n",
       "      <td>-299.1</td>\n",
       "      <td>0.429457</td>\n",
       "    </tr>\n",
       "    <tr>\n",
       "      <th>6</th>\n",
       "      <td>max Ny</td>\n",
       "      <td>22.250</td>\n",
       "      <td>7.747</td>\n",
       "      <td>401.3</td>\n",
       "      <td>-261.2</td>\n",
       "      <td>0.373612</td>\n",
       "    </tr>\n",
       "    <tr>\n",
       "      <th>9</th>\n",
       "      <td>max Ny</td>\n",
       "      <td>22.115</td>\n",
       "      <td>7.747</td>\n",
       "      <td>692.6</td>\n",
       "      <td>-190.9</td>\n",
       "      <td>0.364906</td>\n",
       "    </tr>\n",
       "    <tr>\n",
       "      <th>12</th>\n",
       "      <td>max Ny</td>\n",
       "      <td>22.115</td>\n",
       "      <td>8.159</td>\n",
       "      <td>533.3</td>\n",
       "      <td>-86.5</td>\n",
       "      <td>0.177916</td>\n",
       "    </tr>\n",
       "    <tr>\n",
       "      <th>...</th>\n",
       "      <td>...</td>\n",
       "      <td>...</td>\n",
       "      <td>...</td>\n",
       "      <td>...</td>\n",
       "      <td>...</td>\n",
       "      <td>...</td>\n",
       "    </tr>\n",
       "    <tr>\n",
       "      <th>1185</th>\n",
       "      <td>max Ny</td>\n",
       "      <td>42.127</td>\n",
       "      <td>10.415</td>\n",
       "      <td>37.3</td>\n",
       "      <td>-9.5</td>\n",
       "      <td>0.014959</td>\n",
       "    </tr>\n",
       "    <tr>\n",
       "      <th>1188</th>\n",
       "      <td>max Ny</td>\n",
       "      <td>42.127</td>\n",
       "      <td>10.585</td>\n",
       "      <td>15.4</td>\n",
       "      <td>0.0</td>\n",
       "      <td>0.000000</td>\n",
       "    </tr>\n",
       "    <tr>\n",
       "      <th>1191</th>\n",
       "      <td>max Ny</td>\n",
       "      <td>42.473</td>\n",
       "      <td>10.585</td>\n",
       "      <td>9.4</td>\n",
       "      <td>-1.0</td>\n",
       "      <td>0.000000</td>\n",
       "    </tr>\n",
       "    <tr>\n",
       "      <th>1194</th>\n",
       "      <td>max Ny</td>\n",
       "      <td>42.473</td>\n",
       "      <td>10.815</td>\n",
       "      <td>2.8</td>\n",
       "      <td>0.1</td>\n",
       "      <td>0.000000</td>\n",
       "    </tr>\n",
       "    <tr>\n",
       "      <th>1197</th>\n",
       "      <td>max Ny</td>\n",
       "      <td>42.127</td>\n",
       "      <td>10.815</td>\n",
       "      <td>11.8</td>\n",
       "      <td>0.8</td>\n",
       "      <td>0.000000</td>\n",
       "    </tr>\n",
       "  </tbody>\n",
       "</table>\n",
       "<p>400 rows × 6 columns</p>\n",
       "</div>"
      ],
      "text/plain": [
       "     Criterion    x[m]    y[m]  N[kN/m]  M[kNm/m]   w_k[mm]\n",
       "0       max Ny  22.115   7.603    711.1    -197.8  0.380248\n",
       "3       max Ny  22.250   7.603    413.4    -299.1  0.429457\n",
       "6       max Ny  22.250   7.747    401.3    -261.2  0.373612\n",
       "9       max Ny  22.115   7.747    692.6    -190.9  0.364906\n",
       "12      max Ny  22.115   8.159    533.3     -86.5  0.177916\n",
       "...        ...     ...     ...      ...       ...       ...\n",
       "1185    max Ny  42.127  10.415     37.3      -9.5  0.014959\n",
       "1188    max Ny  42.127  10.585     15.4       0.0  0.000000\n",
       "1191    max Ny  42.473  10.585      9.4      -1.0  0.000000\n",
       "1194    max Ny  42.473  10.815      2.8       0.1  0.000000\n",
       "1197    max Ny  42.127  10.815     11.8       0.8  0.000000\n",
       "\n",
       "[400 rows x 6 columns]"
      ]
     },
     "execution_count": 122,
     "metadata": {},
     "output_type": "execute_result"
    }
   ],
   "source": [
    "crack_data = pd.read_csv(\"crack_width_Seg7_y_direction.csv\")\n",
    "df_crack = pd.DataFrame(crack_data)\n",
    "df_crack_filtered_Crit = df_crack[df_crack[\"Criterion\"] == 'max Ny']\n",
    "df_crack_filtered_Crit"
   ]
  },
  {
   "cell_type": "code",
   "execution_count": 123,
   "metadata": {},
   "outputs": [
    {
     "data": {
      "text/html": [
       "<div>\n",
       "<style scoped>\n",
       "    .dataframe tbody tr th:only-of-type {\n",
       "        vertical-align: middle;\n",
       "    }\n",
       "\n",
       "    .dataframe tbody tr th {\n",
       "        vertical-align: top;\n",
       "    }\n",
       "\n",
       "    .dataframe thead th {\n",
       "        text-align: right;\n",
       "    }\n",
       "</style>\n",
       "<table border=\"1\" class=\"dataframe\">\n",
       "  <thead>\n",
       "    <tr style=\"text-align: right;\">\n",
       "      <th>x[m]</th>\n",
       "      <th>22.115</th>\n",
       "      <th>22.250</th>\n",
       "      <th>22.554</th>\n",
       "      <th>23.246</th>\n",
       "      <th>23.606</th>\n",
       "      <th>23.894</th>\n",
       "      <th>24.127</th>\n",
       "      <th>24.473</th>\n",
       "      <th>24.854</th>\n",
       "      <th>25.546</th>\n",
       "      <th>...</th>\n",
       "      <th>37.423</th>\n",
       "      <th>38.577</th>\n",
       "      <th>39.275</th>\n",
       "      <th>40.025</th>\n",
       "      <th>40.575</th>\n",
       "      <th>41.325</th>\n",
       "      <th>41.685</th>\n",
       "      <th>41.915</th>\n",
       "      <th>42.127</th>\n",
       "      <th>42.473</th>\n",
       "    </tr>\n",
       "    <tr>\n",
       "      <th>y[m]</th>\n",
       "      <th></th>\n",
       "      <th></th>\n",
       "      <th></th>\n",
       "      <th></th>\n",
       "      <th></th>\n",
       "      <th></th>\n",
       "      <th></th>\n",
       "      <th></th>\n",
       "      <th></th>\n",
       "      <th></th>\n",
       "      <th></th>\n",
       "      <th></th>\n",
       "      <th></th>\n",
       "      <th></th>\n",
       "      <th></th>\n",
       "      <th></th>\n",
       "      <th></th>\n",
       "      <th></th>\n",
       "      <th></th>\n",
       "      <th></th>\n",
       "      <th></th>\n",
       "    </tr>\n",
       "  </thead>\n",
       "  <tbody>\n",
       "    <tr>\n",
       "      <th>7.603</th>\n",
       "      <td>0.380248</td>\n",
       "      <td>0.429457</td>\n",
       "      <td>0.334428</td>\n",
       "      <td>0.204371</td>\n",
       "      <td>0.200716</td>\n",
       "      <td>0.192653</td>\n",
       "      <td>0.190722</td>\n",
       "      <td>0.139691</td>\n",
       "      <td>0.106745</td>\n",
       "      <td>0.087958</td>\n",
       "      <td>...</td>\n",
       "      <td>0.016350</td>\n",
       "      <td>0.053255</td>\n",
       "      <td>0.013586</td>\n",
       "      <td>0.071122</td>\n",
       "      <td>0.067000</td>\n",
       "      <td>0.097701</td>\n",
       "      <td>0.114828</td>\n",
       "      <td>0.104456</td>\n",
       "      <td>0.118810</td>\n",
       "      <td>0.000000</td>\n",
       "    </tr>\n",
       "    <tr>\n",
       "      <th>7.747</th>\n",
       "      <td>0.364906</td>\n",
       "      <td>0.373612</td>\n",
       "      <td>0.270233</td>\n",
       "      <td>0.177739</td>\n",
       "      <td>0.168237</td>\n",
       "      <td>0.157235</td>\n",
       "      <td>0.146349</td>\n",
       "      <td>0.116291</td>\n",
       "      <td>0.090942</td>\n",
       "      <td>0.078175</td>\n",
       "      <td>...</td>\n",
       "      <td>0.014252</td>\n",
       "      <td>0.044279</td>\n",
       "      <td>0.005658</td>\n",
       "      <td>0.062683</td>\n",
       "      <td>0.061760</td>\n",
       "      <td>0.088488</td>\n",
       "      <td>0.105269</td>\n",
       "      <td>0.097697</td>\n",
       "      <td>0.106924</td>\n",
       "      <td>0.000000</td>\n",
       "    </tr>\n",
       "    <tr>\n",
       "      <th>8.159</th>\n",
       "      <td>0.177916</td>\n",
       "      <td>0.159638</td>\n",
       "      <td>0.148029</td>\n",
       "      <td>0.134249</td>\n",
       "      <td>0.118133</td>\n",
       "      <td>0.096061</td>\n",
       "      <td>0.078298</td>\n",
       "      <td>0.036945</td>\n",
       "      <td>0.064526</td>\n",
       "      <td>0.000000</td>\n",
       "      <td>...</td>\n",
       "      <td>0.018406</td>\n",
       "      <td>0.012274</td>\n",
       "      <td>0.020111</td>\n",
       "      <td>0.034258</td>\n",
       "      <td>0.048501</td>\n",
       "      <td>0.063206</td>\n",
       "      <td>0.075253</td>\n",
       "      <td>0.000000</td>\n",
       "      <td>0.000000</td>\n",
       "      <td>0.000000</td>\n",
       "    </tr>\n",
       "    <tr>\n",
       "      <th>9.141</th>\n",
       "      <td>0.008476</td>\n",
       "      <td>0.000000</td>\n",
       "      <td>0.000000</td>\n",
       "      <td>0.096740</td>\n",
       "      <td>0.077178</td>\n",
       "      <td>0.000000</td>\n",
       "      <td>0.000000</td>\n",
       "      <td>0.000000</td>\n",
       "      <td>0.000000</td>\n",
       "      <td>0.000000</td>\n",
       "      <td>...</td>\n",
       "      <td>0.037733</td>\n",
       "      <td>0.009918</td>\n",
       "      <td>0.010641</td>\n",
       "      <td>0.009416</td>\n",
       "      <td>0.013797</td>\n",
       "      <td>0.000000</td>\n",
       "      <td>0.000000</td>\n",
       "      <td>0.000000</td>\n",
       "      <td>0.000000</td>\n",
       "      <td>0.000000</td>\n",
       "    </tr>\n",
       "    <tr>\n",
       "      <th>9.627</th>\n",
       "      <td>0.000000</td>\n",
       "      <td>0.000000</td>\n",
       "      <td>0.014052</td>\n",
       "      <td>0.023458</td>\n",
       "      <td>0.000000</td>\n",
       "      <td>0.002262</td>\n",
       "      <td>0.012865</td>\n",
       "      <td>0.005956</td>\n",
       "      <td>0.009143</td>\n",
       "      <td>0.013003</td>\n",
       "      <td>...</td>\n",
       "      <td>0.002497</td>\n",
       "      <td>0.018570</td>\n",
       "      <td>0.011514</td>\n",
       "      <td>0.002945</td>\n",
       "      <td>0.007783</td>\n",
       "      <td>0.016335</td>\n",
       "      <td>0.023174</td>\n",
       "      <td>0.000000</td>\n",
       "      <td>0.028417</td>\n",
       "      <td>0.029422</td>\n",
       "    </tr>\n",
       "    <tr>\n",
       "      <th>9.973</th>\n",
       "      <td>0.000310</td>\n",
       "      <td>0.002772</td>\n",
       "      <td>0.013514</td>\n",
       "      <td>0.000000</td>\n",
       "      <td>0.013054</td>\n",
       "      <td>0.007378</td>\n",
       "      <td>0.013333</td>\n",
       "      <td>0.000256</td>\n",
       "      <td>0.000845</td>\n",
       "      <td>0.000000</td>\n",
       "      <td>...</td>\n",
       "      <td>0.007392</td>\n",
       "      <td>0.013321</td>\n",
       "      <td>0.011094</td>\n",
       "      <td>0.007292</td>\n",
       "      <td>0.000000</td>\n",
       "      <td>0.000000</td>\n",
       "      <td>0.017310</td>\n",
       "      <td>0.026013</td>\n",
       "      <td>0.022692</td>\n",
       "      <td>0.037946</td>\n",
       "    </tr>\n",
       "    <tr>\n",
       "      <th>10.185</th>\n",
       "      <td>0.000372</td>\n",
       "      <td>0.004311</td>\n",
       "      <td>0.006618</td>\n",
       "      <td>0.005287</td>\n",
       "      <td>0.011001</td>\n",
       "      <td>0.039698</td>\n",
       "      <td>0.011248</td>\n",
       "      <td>0.013112</td>\n",
       "      <td>0.012340</td>\n",
       "      <td>0.000000</td>\n",
       "      <td>...</td>\n",
       "      <td>0.001022</td>\n",
       "      <td>0.015376</td>\n",
       "      <td>0.003825</td>\n",
       "      <td>0.004700</td>\n",
       "      <td>0.000000</td>\n",
       "      <td>0.007030</td>\n",
       "      <td>0.000000</td>\n",
       "      <td>0.015487</td>\n",
       "      <td>0.022896</td>\n",
       "      <td>0.000000</td>\n",
       "    </tr>\n",
       "    <tr>\n",
       "      <th>10.415</th>\n",
       "      <td>0.000000</td>\n",
       "      <td>0.000000</td>\n",
       "      <td>0.006820</td>\n",
       "      <td>0.005768</td>\n",
       "      <td>0.017438</td>\n",
       "      <td>0.010752</td>\n",
       "      <td>0.151642</td>\n",
       "      <td>0.075401</td>\n",
       "      <td>0.009760</td>\n",
       "      <td>0.003712</td>\n",
       "      <td>...</td>\n",
       "      <td>0.000000</td>\n",
       "      <td>0.012890</td>\n",
       "      <td>0.001512</td>\n",
       "      <td>0.003985</td>\n",
       "      <td>0.004539</td>\n",
       "      <td>0.000000</td>\n",
       "      <td>0.012209</td>\n",
       "      <td>0.004788</td>\n",
       "      <td>0.014959</td>\n",
       "      <td>0.000000</td>\n",
       "    </tr>\n",
       "    <tr>\n",
       "      <th>10.585</th>\n",
       "      <td>0.003747</td>\n",
       "      <td>0.000785</td>\n",
       "      <td>0.022184</td>\n",
       "      <td>0.000065</td>\n",
       "      <td>0.000165</td>\n",
       "      <td>0.192504</td>\n",
       "      <td>0.128567</td>\n",
       "      <td>0.081443</td>\n",
       "      <td>0.000463</td>\n",
       "      <td>0.000000</td>\n",
       "      <td>...</td>\n",
       "      <td>0.000000</td>\n",
       "      <td>0.000000</td>\n",
       "      <td>0.000000</td>\n",
       "      <td>0.000000</td>\n",
       "      <td>0.000272</td>\n",
       "      <td>0.000000</td>\n",
       "      <td>0.000714</td>\n",
       "      <td>0.000000</td>\n",
       "      <td>0.000000</td>\n",
       "      <td>0.000000</td>\n",
       "    </tr>\n",
       "    <tr>\n",
       "      <th>10.815</th>\n",
       "      <td>0.014863</td>\n",
       "      <td>0.013564</td>\n",
       "      <td>0.033742</td>\n",
       "      <td>0.005054</td>\n",
       "      <td>0.008932</td>\n",
       "      <td>0.000000</td>\n",
       "      <td>0.008235</td>\n",
       "      <td>0.054422</td>\n",
       "      <td>0.000721</td>\n",
       "      <td>0.000000</td>\n",
       "      <td>...</td>\n",
       "      <td>0.000000</td>\n",
       "      <td>0.000000</td>\n",
       "      <td>0.000000</td>\n",
       "      <td>0.000000</td>\n",
       "      <td>0.000000</td>\n",
       "      <td>0.000000</td>\n",
       "      <td>0.000031</td>\n",
       "      <td>0.004202</td>\n",
       "      <td>0.000000</td>\n",
       "      <td>0.000000</td>\n",
       "    </tr>\n",
       "  </tbody>\n",
       "</table>\n",
       "<p>10 rows × 40 columns</p>\n",
       "</div>"
      ],
      "text/plain": [
       "x[m]      22.115    22.250    22.554    23.246    23.606    23.894    24.127  \\\n",
       "y[m]                                                                           \n",
       "7.603   0.380248  0.429457  0.334428  0.204371  0.200716  0.192653  0.190722   \n",
       "7.747   0.364906  0.373612  0.270233  0.177739  0.168237  0.157235  0.146349   \n",
       "8.159   0.177916  0.159638  0.148029  0.134249  0.118133  0.096061  0.078298   \n",
       "9.141   0.008476  0.000000  0.000000  0.096740  0.077178  0.000000  0.000000   \n",
       "9.627   0.000000  0.000000  0.014052  0.023458  0.000000  0.002262  0.012865   \n",
       "9.973   0.000310  0.002772  0.013514  0.000000  0.013054  0.007378  0.013333   \n",
       "10.185  0.000372  0.004311  0.006618  0.005287  0.011001  0.039698  0.011248   \n",
       "10.415  0.000000  0.000000  0.006820  0.005768  0.017438  0.010752  0.151642   \n",
       "10.585  0.003747  0.000785  0.022184  0.000065  0.000165  0.192504  0.128567   \n",
       "10.815  0.014863  0.013564  0.033742  0.005054  0.008932  0.000000  0.008235   \n",
       "\n",
       "x[m]      24.473    24.854    25.546  ...    37.423    38.577    39.275  \\\n",
       "y[m]                                  ...                                 \n",
       "7.603   0.139691  0.106745  0.087958  ...  0.016350  0.053255  0.013586   \n",
       "7.747   0.116291  0.090942  0.078175  ...  0.014252  0.044279  0.005658   \n",
       "8.159   0.036945  0.064526  0.000000  ...  0.018406  0.012274  0.020111   \n",
       "9.141   0.000000  0.000000  0.000000  ...  0.037733  0.009918  0.010641   \n",
       "9.627   0.005956  0.009143  0.013003  ...  0.002497  0.018570  0.011514   \n",
       "9.973   0.000256  0.000845  0.000000  ...  0.007392  0.013321  0.011094   \n",
       "10.185  0.013112  0.012340  0.000000  ...  0.001022  0.015376  0.003825   \n",
       "10.415  0.075401  0.009760  0.003712  ...  0.000000  0.012890  0.001512   \n",
       "10.585  0.081443  0.000463  0.000000  ...  0.000000  0.000000  0.000000   \n",
       "10.815  0.054422  0.000721  0.000000  ...  0.000000  0.000000  0.000000   \n",
       "\n",
       "x[m]      40.025    40.575    41.325    41.685    41.915    42.127    42.473  \n",
       "y[m]                                                                          \n",
       "7.603   0.071122  0.067000  0.097701  0.114828  0.104456  0.118810  0.000000  \n",
       "7.747   0.062683  0.061760  0.088488  0.105269  0.097697  0.106924  0.000000  \n",
       "8.159   0.034258  0.048501  0.063206  0.075253  0.000000  0.000000  0.000000  \n",
       "9.141   0.009416  0.013797  0.000000  0.000000  0.000000  0.000000  0.000000  \n",
       "9.627   0.002945  0.007783  0.016335  0.023174  0.000000  0.028417  0.029422  \n",
       "9.973   0.007292  0.000000  0.000000  0.017310  0.026013  0.022692  0.037946  \n",
       "10.185  0.004700  0.000000  0.007030  0.000000  0.015487  0.022896  0.000000  \n",
       "10.415  0.003985  0.004539  0.000000  0.012209  0.004788  0.014959  0.000000  \n",
       "10.585  0.000000  0.000272  0.000000  0.000714  0.000000  0.000000  0.000000  \n",
       "10.815  0.000000  0.000000  0.000000  0.000031  0.004202  0.000000  0.000000  \n",
       "\n",
       "[10 rows x 40 columns]"
      ]
     },
     "execution_count": 123,
     "metadata": {},
     "output_type": "execute_result"
    }
   ],
   "source": [
    "#pivot\n",
    "df_pivot = df_crack_filtered_Crit.pivot(index='y[m]', columns='x[m]', values='w_k[mm]')\n",
    "df_pivot"
   ]
  },
  {
   "cell_type": "code",
   "execution_count": 139,
   "metadata": {},
   "outputs": [
    {
     "data": {
      "image/png": "[encoded data removed]",
      "text/plain": [
       "<Figure size 1440x576 with 2 Axes>"
      ]
     },
     "metadata": {
      "needs_background": "light"
     },
     "output_type": "display_data"
    }
   ],
   "source": [
    "plt.figure(figsize = (20,8))\n",
    "ax = sns.heatmap(df_pivot, annot=True, annot_kws={'size': 10}, vmax=0.3,\n",
    "                  fmt=\".2f\", square=True, cbar_kws={\"orientation\": \"horizontal\"}, cmap='Blues')"
   ]
  }
 ],
 "metadata": {
  "kernelspec": {
   "display_name": "Python 3",
   "language": "python",
   "name": "python3"
  },
  "language_info": {
   "codemirror_mode": {
    "name": "ipython",
    "version": 3
   },
   "file_extension": ".py",
   "mimetype": "text/x-python",
   "name": "python",
   "nbconvert_exporter": "python",
   "pygments_lexer": "ipython3",
   "version": "3.8.3"
  }
 },
 "nbformat": 4,
 "nbformat_minor": 4
}
