{
 "cells": [
  {
   "cell_type": "markdown",
   "metadata": {},
   "source": [
    "# Python training 2 - Simon Dequidt"
   ]
  },
  {
   "cell_type": "markdown",
   "metadata": {},
   "source": [
    "The following exercises are taken from : \n",
    "https://github.com/codebasics"
   ]
  },
  {
   "cell_type": "markdown",
   "metadata": {},
   "source": [
    "# **30-Day challenge**"
   ]
  },
  {
   "cell_type": "markdown",
   "metadata": {},
   "source": [
    "## Days 1 to 4 "
   ]
  },
  {
   "cell_type": "markdown",
   "metadata": {},
   "source": [
    "*Similar to what has been done in notebook 1*"
   ]
  },
  {
   "cell_type": "markdown",
   "metadata": {},
   "source": [
    "## Day 5 - List"
   ]
  },
  {
   "cell_type": "code",
   "execution_count": null,
   "metadata": {},
   "outputs": [],
   "source": [
    "ages = [19, 22, 19, 24, 20, 25, 26, 24, 25, 24]\n",
    "ages.sort()\n",
    "print(f'age min : {ages[0]} \\nage max : {ages[-1]}')"
   ]
  },
  {
   "cell_type": "code",
   "execution_count": 13,
   "metadata": {},
   "outputs": [
    {
     "name": "stdout",
     "output_type": "stream",
     "text": [
      "19 26\n"
     ]
    }
   ],
   "source": [
    "minimum, maximum = min(ages), max(ages)\n",
    "print(minimum, maximum)"
   ]
  },
  {
   "cell_type": "code",
   "execution_count": 21,
   "metadata": {},
   "outputs": [
    {
     "data": {
      "text/plain": [
       "[19, 19, 19, 19, 19, 19, 19, 20, 22, 24, 24, 24, 25, 25, 26, 26, 26, 26, 26]"
      ]
     },
     "execution_count": 21,
     "metadata": {},
     "output_type": "execute_result"
    }
   ],
   "source": [
    "ages.append(minimum)\n",
    "ages.append(maximum)\n",
    "ages.sort()\n",
    "ages"
   ]
  },
  {
   "cell_type": "code",
   "execution_count": 33,
   "metadata": {},
   "outputs": [],
   "source": [
    "def medium_age(liste):\n",
    "    liste = liste.sort()\n",
    "    if len(liste)%2 == 0:\n",
    "        return (liste[len(liste)//2] + liste[len(liste)//2 +1] )*.5\n",
    "    else : \n",
    "        return liste[len(liste)//2 + 1]\n",
    "    \n",
    "def averageage(liste):\n",
    "    return int(sum(liste)/len(liste))\n",
    "\n",
    "def range_age(liste):\n",
    "    return max(liste) - min(liste)"
   ]
  },
  {
   "cell_type": "code",
   "execution_count": 31,
   "metadata": {},
   "outputs": [
    {
     "name": "stdout",
     "output_type": "stream",
     "text": [
      "-1\n"
     ]
    }
   ],
   "source": [
    "medium_age(ages)\n",
    "averageage(ages)\n",
    "range_age(ages)\n",
    "\n",
    "print(abs(minimum - averageage(ages)) - abs(maximum - averageage(ages)))"
   ]
  },
  {
   "cell_type": "code",
   "execution_count": 37,
   "metadata": {},
   "outputs": [],
   "source": [
    "countries = [\n",
    "  'Afghanistan',\n",
    "  'Albania',\n",
    "  'Algeria',\n",
    "  'Andorra',\n",
    "  'Angola',\n",
    "  'Antigua and Barbuda',\n",
    "  'Argentina',\n",
    "  'Armenia',\n",
    "  'Australia',\n",
    "  'Austria',\n",
    "  'Azerbaijan',\n",
    "  'Bahamas',\n",
    "  'Bahrain',\n",
    "  'Bangladesh',\n",
    "  'Barbados',\n",
    "  'Belarus',\n",
    "  'Belgium',\n",
    "  'Belize',\n",
    "  'Benin',\n",
    "  'Bhutan',\n",
    "  'Bolivia',\n",
    "  'Bosnia and Herzegovina',\n",
    "  'Botswana',\n",
    "  'Brazil',\n",
    "  'Brunei',\n",
    "  'Bulgaria',\n",
    "  'Burkina Faso',\n",
    "  'Burundi',\n",
    "  'Cambodia',\n",
    "  'Cameroon',\n",
    "  'Canada',\n",
    "  'Cape Verde',\n",
    "  'Central African Republic',\n",
    "  'Chad',\n",
    "  'Chile',\n",
    "  'China',\n",
    "  'Colombi',\n",
    "  'Comoros',\n",
    "  'Congo (Brazzaville)',\n",
    "  'Congo',\n",
    "  'Costa Rica',\n",
    "  \"Cote d'Ivoire\",\n",
    "  'Croatia',\n",
    "  'Cuba',\n",
    "  'Cyprus',\n",
    "  'Czech Republic',\n",
    "  'Denmark',\n",
    "  'Djibouti',\n",
    "  'Dominica',\n",
    "  'Dominican Republic',\n",
    "  'East Timor (Timor Timur)',\n",
    "  'Ecuador',\n",
    "  'Egypt',\n",
    "  'El Salvador',\n",
    "  'Equatorial Guinea',\n",
    "  'Eritrea',\n",
    "  'Estonia',\n",
    "  'Ethiopia',\n",
    "  'Fiji',\n",
    "  'Finland',\n",
    "  'France',\n",
    "  'Gabon',\n",
    "  'Gambia, The',\n",
    "  'Georgia',\n",
    "  'Germany',\n",
    "  'Ghana',\n",
    "  'Greece',\n",
    "  'Grenada',\n",
    "  'Guatemala',\n",
    "  'Guinea',\n",
    "  'Guinea-Bissau',\n",
    "  'Guyana',\n",
    "  'Haiti',\n",
    "  'Honduras',\n",
    "  'Hungary',\n",
    "  'Iceland',\n",
    "  'India',\n",
    "  'Indonesia',\n",
    "  'Iran',\n",
    "  'Iraq',\n",
    "  'Ireland',\n",
    "  'Israel',\n",
    "  'Italy',\n",
    "  'Jamaica',\n",
    "  'Japan',\n",
    "  'Jordan',\n",
    "  'Kazakhstan',\n",
    "  'Kenya',\n",
    "  'Kiribati',\n",
    "  'Korea, North',\n",
    "  'Korea, South',\n",
    "  'Kuwait',\n",
    "  'Kyrgyzstan',\n",
    "  'Laos',\n",
    "  'Latvia',\n",
    "  'Lebanon',\n",
    "  'Lesotho',\n",
    "  'Liberia',\n",
    "  'Libya',\n",
    "  'Liechtenstein',\n",
    "  'Lithuania',\n",
    "  'Luxembourg',\n",
    "  'Macedonia',\n",
    "  'Madagascar',\n",
    "  'Malawi',\n",
    "  'Malaysia',\n",
    "  'Maldives',\n",
    "  'Mali',\n",
    "  'Malta',\n",
    "  'Marshall Islands',\n",
    "  'Mauritania',\n",
    "  'Mauritius',\n",
    "  'Mexico',\n",
    "  'Micronesia',\n",
    "  'Moldova',\n",
    "  'Monaco',\n",
    "  'Mongolia',\n",
    "  'Morocco',\n",
    "  'Mozambique',\n",
    "  'Myanmar',\n",
    "  'Namibia',\n",
    "  'Nauru',\n",
    "  'Nepal',\n",
    "  'Netherlands',\n",
    "  'New Zealand',\n",
    "  'Nicaragua',\n",
    "  'Niger',\n",
    "  'Nigeria',\n",
    "  'Norway',\n",
    "  'Oman',\n",
    "  'Pakistan',\n",
    "  'Palau',\n",
    "  'Panama',\n",
    "  'Papua New Guinea',\n",
    "  'Paraguay',\n",
    "  'Peru',\n",
    "  'Philippines',\n",
    "  'Poland',\n",
    "  'Portugal',\n",
    "  'Qatar',\n",
    "  'Romania',\n",
    "  'Russia',\n",
    "  'Rwanda',\n",
    "  'Saint Kitts and Nevis',\n",
    "  'Saint Lucia',\n",
    "  'Saint Vincent',\n",
    "  'Samoa',\n",
    "  'San Marino',\n",
    "  'Sao Tome and Principe',\n",
    "  'Saudi Arabia',\n",
    "  'Senegal',\n",
    "  'Serbia and Montenegro',\n",
    "  'Seychelles',\n",
    "  'Sierra Leone',\n",
    "  'Singapore',\n",
    "  'Slovakia',\n",
    "  'Slovenia',\n",
    "  'Solomon Islands',\n",
    "  'Somalia',\n",
    "  'South Africa',\n",
    "  'Spain',\n",
    "  'Sri Lanka',\n",
    "  'Sudan',\n",
    "  'Suriname',\n",
    "  'Swaziland',\n",
    "  'Sweden',\n",
    "  'Switzerland',\n",
    "  'Syria',\n",
    "  'Taiwan',\n",
    "  'Tajikistan',\n",
    "  'Tanzania',\n",
    "  'Thailand',\n",
    "  'Togo',\n",
    "  'Tonga',\n",
    "  'Trinidad and Tobago',\n",
    "  'Tunisia',\n",
    "  'Turkey',\n",
    "  'Turkmenistan',\n",
    "  'Tuvalu',\n",
    "  'Uganda',\n",
    "  'Ukraine',\n",
    "  'United Arab Emirates',\n",
    "  'United Kingdom',\n",
    "  'United States',\n",
    "  'Uruguay',\n",
    "  'Uzbekistan',\n",
    "  'Vanuatu',\n",
    "  'Vatican City',\n",
    "  'Venezuela',\n",
    "  'Vietnam',\n",
    "  'Yemen',\n",
    "  'Zambia',\n",
    "  'Zimbabwe']"
   ]
  },
  {
   "cell_type": "code",
   "execution_count": 39,
   "metadata": {},
   "outputs": [
    {
     "name": "stdout",
     "output_type": "stream",
     "text": [
      "Liberia\n"
     ]
    }
   ],
   "source": [
    "print(countries[len(countries)//2 +1])"
   ]
  },
  {
   "cell_type": "markdown",
   "metadata": {},
   "source": [
    "## Day 6 - Tuples"
   ]
  },
  {
   "cell_type": "markdown",
   "metadata": {},
   "source": [
    "Exercises: Level 1\n",
    "\n",
    "- Create an empty tuple\n",
    "- Create a tuple containing names of your sisters and your brothers (imaginary siblings are fine)\n",
    "- Join brothers and sisters tuples and assign it to siblings\n",
    "- How many siblings do you have?\n",
    "- Modify the siblings tuple and add the name of your father and mother and assign it to family_members"
   ]
  },
  {
   "cell_type": "code",
   "execution_count": 5,
   "metadata": {},
   "outputs": [
    {
     "name": "stdout",
     "output_type": "stream",
     "text": [
      "I have 4 siblings\n"
     ]
    }
   ],
   "source": [
    "mytuple = ()\n",
    "brotuple = ('Terence', 'David')\n",
    "systuple = ('Louise', 'Orange')\n",
    "\n",
    "sibtuple = brotuple + systuple\n",
    "\n",
    "print (f'I have {len(sibtuple)} siblings')\n"
   ]
  },
  {
   "cell_type": "code",
   "execution_count": 6,
   "metadata": {},
   "outputs": [
    {
     "data": {
      "text/plain": [
       "('Terence', 'David', 'Louise', 'Orange')"
      ]
     },
     "execution_count": 6,
     "metadata": {},
     "output_type": "execute_result"
    }
   ],
   "source": [
    "sibtuple"
   ]
  },
  {
   "cell_type": "code",
   "execution_count": 7,
   "metadata": {},
   "outputs": [
    {
     "name": "stdout",
     "output_type": "stream",
     "text": [
      "('Terence', 'David', 'Louise', 'Orange', 'Veronique', 'Frank')\n"
     ]
    }
   ],
   "source": [
    "parentstuple = ('Veronique', 'Frank')\n",
    "familytuple = sibtuple + parentstuple\n",
    "print(familytuple)"
   ]
  },
  {
   "cell_type": "markdown",
   "metadata": {},
   "source": [
    "Exercises: Level 2\n",
    "\n",
    "- Unpack siblings and parents from family_members\n",
    "- Create fruits, vegetables and animal products tuples. Join the three tuples and assign it to a variable called food_stuff_tp.\n",
    "- Change the about food_stuff_tp tuple to a food_stuff_lt list\n",
    "- Slice out the middle item or items from the food_stuff_tp tuple or food_stuff_lt list.\n",
    "- Slice out the first three items and the last three items from food_staff_lt list\n",
    "- Delete the food_staff_tp tuple completely\n",
    "- Check if an item exists in tuple:\n",
    "- Check if 'Estonia' is a nordic country\n",
    "\n",
    "- Check if 'Iceland' is a nordic country\n",
    "\n",
    "nordic_countries = ('Denmark', 'Finland','Iceland', 'Norway', 'Sweden')"
   ]
  },
  {
   "cell_type": "code",
   "execution_count": 12,
   "metadata": {},
   "outputs": [
    {
     "data": {
      "text/plain": [
       "['Veronique', 'Frank']"
      ]
     },
     "execution_count": 12,
     "metadata": {},
     "output_type": "execute_result"
    }
   ],
   "source": [
    "siblings = [i for i in familytuple if i in sibtuple]\n",
    "siblings\n",
    "\n",
    "parents = [i for i in familytuple if i in parentstuple]\n",
    "parents"
   ]
  },
  {
   "cell_type": "code",
   "execution_count": 1,
   "metadata": {},
   "outputs": [],
   "source": [
    "fruits = ()\n",
    "vegetables = ()\n",
    "animal_products = ()"
   ]
  },
  {
   "cell_type": "code",
   "execution_count": 7,
   "metadata": {},
   "outputs": [],
   "source": [
    "food_stuff_lt = fruits + vegetables + animal_products\n",
    "food_stuff_lt = list(food_stuff_lt)"
   ]
  },
  {
   "cell_type": "code",
   "execution_count": 20,
   "metadata": {},
   "outputs": [],
   "source": [
    "from random import random\n",
    "food_stuff_lt.append(random())\n",
    "tuple(food_stuff_lt)\n",
    "del (food_stuff_lt)"
   ]
  },
  {
   "cell_type": "code",
   "execution_count": 23,
   "metadata": {},
   "outputs": [],
   "source": [
    "nordic_countries = ('Denmark', 'Finland','Iceland', 'Norway', 'Sweden')"
   ]
  },
  {
   "cell_type": "code",
   "execution_count": 32,
   "metadata": {},
   "outputs": [
    {
     "data": {
      "text/plain": [
       "True"
      ]
     },
     "execution_count": 32,
     "metadata": {},
     "output_type": "execute_result"
    }
   ],
   "source": [
    "\"Estonia\" in nordic_countries\n",
    "\"Iceland\" in nordic_countries"
   ]
  },
  {
   "cell_type": "markdown",
   "metadata": {},
   "source": [
    "## Day 7 - Sets"
   ]
  },
  {
   "cell_type": "markdown",
   "metadata": {},
   "source": [
    "Exercises: Level 1\n",
    "\n",
    "- Find the length of the set it_companies\n",
    "- Add 'Twitter' to it_companies\n",
    "- Insert multiple IT companies at once to the set it_companies\n",
    "- Remove one of the companies from the set it_companies\n",
    "- What is the difference between remove and discard"
   ]
  },
  {
   "cell_type": "code",
   "execution_count": 33,
   "metadata": {},
   "outputs": [],
   "source": [
    "# sets\n",
    "it_companies = {'Facebook', 'Google', 'Microsoft', 'Apple', 'IBM', 'Oracle', 'Amazon'}\n",
    "A = {19, 22, 24, 20, 25, 26}\n",
    "B = {19, 22, 20, 25, 26, 24, 28, 27}\n",
    "age = [22, 19, 24, 25, 26, 24, 25, 24]"
   ]
  },
  {
   "cell_type": "code",
   "execution_count": 34,
   "metadata": {},
   "outputs": [
    {
     "data": {
      "text/plain": [
       "7"
      ]
     },
     "execution_count": 34,
     "metadata": {},
     "output_type": "execute_result"
    }
   ],
   "source": [
    "len(it_companies)"
   ]
  },
  {
   "cell_type": "code",
   "execution_count": 36,
   "metadata": {},
   "outputs": [
    {
     "data": {
      "text/plain": [
       "{'Amazon',\n",
       " 'Apple',\n",
       " 'Facebook',\n",
       " 'Google',\n",
       " 'IBM',\n",
       " 'Microsoft',\n",
       " 'Oracle',\n",
       " 'Twitter'}"
      ]
     },
     "execution_count": 36,
     "metadata": {},
     "output_type": "execute_result"
    }
   ],
   "source": [
    "twitter = {'Twitter'}\n",
    "it_companies.update(twitter)\n",
    "it_companies\n",
    "\n",
    "# can also use union() : set1.union(set2)"
   ]
  },
  {
   "cell_type": "code",
   "execution_count": 38,
   "metadata": {},
   "outputs": [
    {
     "data": {
      "text/plain": [
       "{'Amazon', 'Apple', 'Facebook', 'Google', 'Microsoft', 'Oracle', 'Twitter'}"
      ]
     },
     "execution_count": 38,
     "metadata": {},
     "output_type": "execute_result"
    }
   ],
   "source": [
    "twitter = {'IBM'}\n",
    "it_companies = it_companies.difference(twitter)\n",
    "it_companies"
   ]
  },
  {
   "cell_type": "markdown",
   "metadata": {},
   "source": [
    "Exercises: Level 2\n",
    "\n",
    "- Join A and B\n",
    "- Find A intersection B\n",
    "- Is A subset of B\n",
    "- Are A and B disjoint sets\n",
    "- Join A with B and B with A\n",
    "- What is the symmetric difference between A and B\n",
    "- Delete the sets completely"
   ]
  },
  {
   "cell_type": "code",
   "execution_count": 47,
   "metadata": {},
   "outputs": [],
   "source": [
    "A.union(B)\n",
    "A.intersection(B)\n",
    "A.issubset(B)\n",
    "C = A.union(B)\n",
    "D = B.union(A)\n",
    "C == D\n",
    "A.symmetric_difference(B)\n",
    "del C"
   ]
  },
  {
   "cell_type": "markdown",
   "metadata": {},
   "source": [
    "Exercises: Level 3\n",
    "\n",
    "- Convert the ages to a set and compare the length of the list and the set, which one is bigger?\n",
    "- Explain the difference between the following data types: string, list, tuple and set\n",
    "- I am a teacher and I love to inspire and teach people. How many unique words have been used in the sentence? Use the split methods and set to get the unique words."
   ]
  },
  {
   "cell_type": "code",
   "execution_count": 48,
   "metadata": {},
   "outputs": [],
   "source": [
    "age = [22, 19, 24, 25, 26, 24, 25, 24]"
   ]
  },
  {
   "cell_type": "code",
   "execution_count": 50,
   "metadata": {},
   "outputs": [
    {
     "data": {
      "text/plain": [
       "{19, 22, 24, 25, 26}"
      ]
     },
     "execution_count": 50,
     "metadata": {},
     "output_type": "execute_result"
    }
   ],
   "source": [
    "age_set = set(age)\n",
    "age_set"
   ]
  },
  {
   "cell_type": "code",
   "execution_count": 53,
   "metadata": {},
   "outputs": [
    {
     "name": "stdout",
     "output_type": "stream",
     "text": [
      "10\n"
     ]
    }
   ],
   "source": [
    "sentance = \"I am a teacher and I love to inspire and teach people\"\n",
    "words = sentance.split()\n",
    "words_set = set(words)\n",
    "print(len(words_set))"
   ]
  },
  {
   "cell_type": "markdown",
   "metadata": {},
   "source": [
    "- Create an empty dictionary called dog\n",
    "- Add name, color, breed, legs, age to the dog dictionary\n",
    "- Create a student dictionary and add first_name, last_name, gender, age, marital status, skills, country, city and address as keys for the dictionary\n",
    "- Get the length of the student dictionary\n",
    "- Get the value of skills and check the data type, it should be a list\n",
    "- Modify the skills values by adding one or two skills\n",
    "- Get the dictionary keys as a list\n",
    "- Get the dictionary values as a list\n",
    "- Change the dictionary to a list of tuples using items() method\n",
    "- Delete one of the items in the dictionary\n",
    "- Delete one of the dictionaries"
   ]
  },
  {
   "cell_type": "code",
   "execution_count": 63,
   "metadata": {},
   "outputs": [],
   "source": [
    "dog = dict()\n",
    "attributs_keys = [\"name\", \"color\", \"breed\", \"legs\", \"age\"]\n",
    "attributs_values = [\"Bernard\", \"blue\", \"True\", 4, 12]\n",
    "\n",
    "for i,j in zip(attributs_keys,attributs_values):\n",
    "    dog[i] = j\n"
   ]
  },
  {
   "cell_type": "code",
   "execution_count": 64,
   "metadata": {},
   "outputs": [],
   "source": [
    "dog[\"name\"] = [\"Bernard\", 'Jean']"
   ]
  },
  {
   "cell_type": "code",
   "execution_count": 72,
   "metadata": {},
   "outputs": [],
   "source": [
    "students = [\"first_name\", \"last_name\", \"gender\", \"age\", \"marital status\", \"skills\", \"country\", \"city\", \"address\"]\n",
    "students_val = [\"Dom\",'Toc','F', 38, \"S\", \"goddesk\", \"France\", \"Cambrai\", \"rue de la poule\"]\n",
    "students_dict = dict()\n",
    "for i,j in zip(students,students_val):\n",
    "    students_dict[i] = j\n"
   ]
  },
  {
   "cell_type": "code",
   "execution_count": 74,
   "metadata": {},
   "outputs": [
    {
     "data": {
      "text/plain": [
       "9"
      ]
     },
     "execution_count": 74,
     "metadata": {},
     "output_type": "execute_result"
    }
   ],
   "source": [
    "len(students_dict)"
   ]
  },
  {
   "cell_type": "code",
   "execution_count": 1,
   "metadata": {},
   "outputs": [],
   "source": [
    "import numpy as np"
   ]
  },
  {
   "cell_type": "code",
   "execution_count": 51,
   "metadata": {
    "scrolled": true
   },
   "outputs": [
    {
     "name": "stdout",
     "output_type": "stream",
     "text": [
      "pi simulation 1.57824, error : 1.563352653589793 with 100000 iterations\n"
     ]
    }
   ],
   "source": [
    "area=list()\n",
    "iterations = 100000\n",
    "for i in range(iterations):\n",
    "    x = np.random.normal(0,1)\n",
    "    y = np.random.normal(0,1)\n",
    "    z = np.sqrt(x**2 + y**2)\n",
    "    area.append(z) \n",
    "\n",
    "pi_area = [i for i in area if i <=1]\n",
    "pi_simulation = 4*len([i!=False for i in pi_area])/len(area)\n",
    "print(f\"pi simulation {pi_simulation}, error : {abs(np.pi - pi_simulation)} with {iterations} iterations\") "
   ]
  },
  {
   "cell_type": "code",
   "execution_count": 46,
   "metadata": {},
   "outputs": [],
   "source": [
    "import matplotlib.pyplot as plt"
   ]
  },
  {
   "cell_type": "code",
   "execution_count": 53,
   "metadata": {},
   "outputs": [
    {
     "name": "stdout",
     "output_type": "stream",
     "text": [
      "Pi estimation: 3.1488, error: 0.007207346410206927 with 100000 iterations\n"
     ]
    }
   ],
   "source": [
    "import numpy as np\n",
    "\n",
    "iterations = 100000\n",
    "count_inside_circle = 0\n",
    "\n",
    "for _ in range(iterations):\n",
    "    x = np.random.normal(0,1)\n",
    "    y = np.random.normal(0,1)\n",
    "    distance = np.sqrt(x**2 + y**2)\n",
    "    if distance <= 1:\n",
    "        count_inside_circle += 1\n",
    "\n",
    "pi_estimate = 8 * count_inside_circle / iterations\n",
    "error = abs(np.pi - pi_estimate)\n",
    "\n",
    "print(f\"Pi estimation: {pi_estimate}, error: {error} with {iterations} iterations\")\n"
   ]
  },
  {
   "cell_type": "markdown",
   "metadata": {},
   "source": [
    "## Day 8 - Dictionaries"
   ]
  },
  {
   "cell_type": "markdown",
   "metadata": {},
   "source": [
    "- Create an empty dictionary called dog\n",
    "- Add name, color, breed, legs, age to the dog dictionary\n",
    "- Create a student dictionary and add first_name, last_name, gender, age, marital status, skills, country, city and address as keys for the dictionary\n",
    "- Get the length of the student dictionary\n",
    "- Get the value of skills and check the data type, it should be a list\n",
    "- Modify the skills values by adding one or two skills\n",
    "- Get the dictionary keys as a list\n",
    "- Get the dictionary values as a list\n",
    "- Change the dictionary to a list of tuples using items() method\n",
    "- Delete one of the items in the dictionary\n",
    "- Delete one of the dictionaries"
   ]
  },
  {
   "cell_type": "code",
   "execution_count": 16,
   "metadata": {},
   "outputs": [
    {
     "data": {
      "text/plain": [
       "{'name': 'Dogdog', 'color': 'brown', 'breed': 'True', 'legs': '3', 'age': '5'}"
      ]
     },
     "execution_count": 16,
     "metadata": {},
     "output_type": "execute_result"
    }
   ],
   "source": [
    "dog = dict()\n",
    "list_keys = [\"name\", \"color\", \"breed\", \"legs\", \"age\"]\n",
    "list_values = [\"Dogdog\", \"brown\", \"True\", \"3\", \"5\"]\n",
    "dog = {i : j for i,j in zip(list_keys,list_values)}\n",
    "dog"
   ]
  },
  {
   "cell_type": "code",
   "execution_count": 17,
   "metadata": {},
   "outputs": [
    {
     "data": {
      "text/plain": [
       "{'first_name': 'Simon',\n",
       " 'last_name': 'Dequidt',\n",
       " 'gender': 'M',\n",
       " 'age': '25',\n",
       " 'marital status': 'S',\n",
       " 'skills': 'Python',\n",
       " 'country': 'FR',\n",
       " 'city': 'Paris',\n",
       " 'address': 'Eiffel Tower'}"
      ]
     },
     "execution_count": 17,
     "metadata": {},
     "output_type": "execute_result"
    }
   ],
   "source": [
    "student = dict()\n",
    "list_keys_st = [\"first_name\", \"last_name\", \"gender\", \"age\", \"marital status\", \"skills\", \"country\", \"city\" , \"address\"]\n",
    "list_values_st = [\"Simon\", \"Dequidt\", \"M\", \"25\", \"S\", \"Python\", \"FR\", \"Paris\" , \"Eiffel Tower\"]\n",
    "\n",
    "student = {i : j for i,j in zip(list_keys_st,list_values_st)}\n",
    "student"
   ]
  },
  {
   "cell_type": "code",
   "execution_count": 18,
   "metadata": {},
   "outputs": [
    {
     "name": "stdout",
     "output_type": "stream",
     "text": [
      "9\n"
     ]
    }
   ],
   "source": [
    "print(len(student))"
   ]
  },
  {
   "cell_type": "code",
   "execution_count": 27,
   "metadata": {},
   "outputs": [
    {
     "name": "stdout",
     "output_type": "stream",
     "text": [
      "type <class 'list'>, skills : ['Python']\n"
     ]
    }
   ],
   "source": [
    "skills = [student[\"skills\"]]\n",
    "print(f\"type {type(skills)}, skills : {skills}\")"
   ]
  },
  {
   "cell_type": "code",
   "execution_count": 28,
   "metadata": {},
   "outputs": [],
   "source": [
    "student[\"skills\"] =  [\"Python\", \"SQL\"]"
   ]
  },
  {
   "cell_type": "code",
   "execution_count": 36,
   "metadata": {},
   "outputs": [
    {
     "data": {
      "text/plain": [
       "['Simon', 'Dequidt', 'M', '25', 'S', 'Python', 'FR', 'Paris', 'Eiffel Tower']"
      ]
     },
     "execution_count": 36,
     "metadata": {},
     "output_type": "execute_result"
    }
   ],
   "source": [
    "keys = [i for i, j in zip(list_keys_st,list_values_st)]\n",
    "keys\n",
    "\n",
    "values = [j for i, j in zip(list_keys_st,list_values_st)]\n",
    "values"
   ]
  },
  {
   "cell_type": "code",
   "execution_count": 53,
   "metadata": {},
   "outputs": [
    {
     "data": {
      "text/plain": [
       "dict_items([('first_name', 'Simon'), ('last_name', 'Dequidt'), ('gender', 'M'), ('age', '25'), ('marital status', 'S'), ('skills', ['Python', 'SQL']), ('country', 'FR'), ('city', 'Paris'), ('address', 'Eiffel Tower')])"
      ]
     },
     "execution_count": 53,
     "metadata": {},
     "output_type": "execute_result"
    }
   ],
   "source": [
    "tuples = student.items()\n",
    "tuples"
   ]
  },
  {
   "cell_type": "code",
   "execution_count": 59,
   "metadata": {},
   "outputs": [],
   "source": [
    "student.popitem()\n",
    "#student.pop()\n",
    "del(dog)"
   ]
  },
  {
   "cell_type": "markdown",
   "metadata": {},
   "source": [
    "## Day 9 - Conditional md"
   ]
  },
  {
   "cell_type": "markdown",
   "metadata": {},
   "source": [
    "Enter your age: 30\n",
    "You are old enough to learn to drive.\n",
    "Output:\n",
    "Enter your age: 15\n",
    "You need 3 more years to learn to drive."
   ]
  },
  {
   "cell_type": "code",
   "execution_count": 63,
   "metadata": {},
   "outputs": [
    {
     "name": "stdout",
     "output_type": "stream",
     "text": [
      "How old are you?\n",
      "None10\n",
      "You need 8.0 more years to learn to drive\n"
     ]
    }
   ],
   "source": [
    "age = float(input(print(f\"How old are you?\")))\n",
    "if age < 18 : \n",
    "    year_to_adl = 18-age\n",
    "    print(f\"You need {year_to_adl} more years to learn to drive\")\n",
    "else : \n",
    "    print(\"You are old enough to learn to drive\")"
   ]
  },
  {
   "cell_type": "markdown",
   "metadata": {},
   "source": [
    "Enter your age: 30\n",
    "You are 5 years older than me."
   ]
  },
  {
   "cell_type": "code",
   "execution_count": 69,
   "metadata": {},
   "outputs": [
    {
     "name": "stdout",
     "output_type": "stream",
     "text": [
      "How old are you?\n",
      "None34\n",
      "How old are you?\n",
      "None2\n",
      "You are 32.0 years older than me\n"
     ]
    }
   ],
   "source": [
    "age_ = float(input(print(f\"How old are you?\")))\n",
    "my_age = float(input(print(f\"How old are you?\")))\n",
    "\n",
    "print( (age_ < my_age) * f\"You are {abs(my_age - age_)} years younger than me\" + (age_ >= my_age) * f\"You are {abs(my_age - age_)} years older than me\")"
   ]
  },
  {
   "cell_type": "markdown",
   "metadata": {},
   "source": [
    "Write a code which gives grade to students according to theirs scores:\n",
    "\n",
    "- 80-100, A\n",
    "- 70-89, B\n",
    "- 60-69, C\n",
    "- 50-59, D\n",
    "- 0-49, E"
   ]
  },
  {
   "cell_type": "code",
   "execution_count": 90,
   "metadata": {},
   "outputs": [
    {
     "name": "stdout",
     "output_type": "stream",
     "text": [
      "What's your score? 99\n",
      "Your grade is A\n"
     ]
    }
   ],
   "source": [
    "score_students = {\"A\": [i for i in range(80,100)],\n",
    "        \"B\":[i for i in range(70,89)],\n",
    "        \"C\":[i for i in range(60,69)],\n",
    "        \"D\":[i for i in range(50,59)],\n",
    "        \"E\":[i for i in range(0,49)]}\n",
    "\n",
    "score = int(input(\"What's your score? \"))  # Convert input to integer\n",
    "for grade, score_range in score_students.items():\n",
    "    if score in score_range:\n",
    "        print(f\"Your grade is {grade}\")\n",
    "        break\n",
    "else:\n",
    "    print(\"Invalid score entered\")"
   ]
  },
  {
   "cell_type": "markdown",
   "metadata": {},
   "source": [
    "Check if the season is Autumn, Winter, Spring or Summer. \n",
    "- If the user input is: September, October or November, the season is Autumn. \n",
    "- December, January or February, the season is Winter. \n",
    "- March, April or May, the season is Spring \n",
    "- June, July or August, the season is Summer"
   ]
  },
  {
   "cell_type": "code",
   "execution_count": 97,
   "metadata": {},
   "outputs": [
    {
     "name": "stdout",
     "output_type": "stream",
     "text": [
      "What's your month? October\n",
      "{'Autumn'}\n"
     ]
    }
   ],
   "source": [
    "seasons = [\"Autumn\", \"Winter\", \"Spring\", \"Summer\"]\n",
    "months = [\"September\", \"October\", \"November\", \"December\", \"January\", \"February\", \"March\", \"April\", \"May\", \"June\", \"July\", \"August\"]\n",
    "\n",
    "dict_seasons = {season: months[i*3:i*3+3] for i, season in enumerate(seasons)}\n",
    "\n",
    "month = str(input(\"What's your month? \"))\n",
    "\n",
    "for season, months in dict_seasons.items():\n",
    "    if month in months : \n",
    "        print({season})"
   ]
  },
  {
   "cell_type": "markdown",
   "metadata": {},
   "source": [
    " * Check if the person dictionary has skills key, if so print out the middle skill in the skills list.\n",
    " * Check if the person dictionary has skills key, if so check if the person has 'Python' skill and print out the result.\n",
    " * If a person skills has only JavaScript and React, print('He is a front end developer'), if the person skills has Node, Python, MongoDB, print('He is a backend developer'), if the person skills has React, Node and MongoDB, Print('He is a fullstack developer'), else print('unknown title') - for more accurate results more conditions can be nested!\n",
    " * If the person is married and if he lives in Finland, print the information in the following format:     \n",
    " Asabeneh Yetayeh lives in Finland. He is married."
   ]
  },
  {
   "cell_type": "code",
   "execution_count": 98,
   "metadata": {},
   "outputs": [],
   "source": [
    "person={\n",
    "    'first_name': 'Asabeneh',\n",
    "    'last_name': 'Yetayeh',\n",
    "    'age': 250,\n",
    "    'country': 'Finland',\n",
    "    'is_marred': True,\n",
    "    'skills': ['JavaScript', 'React', 'Node', 'MongoDB', 'Python'],\n",
    "    'address': {\n",
    "        'street': 'Space street',\n",
    "        'zipcode': '02210'\n",
    "    }\n",
    "    }"
   ]
  },
  {
   "cell_type": "code",
   "execution_count": 110,
   "metadata": {},
   "outputs": [
    {
     "name": "stdout",
     "output_type": "stream",
     "text": [
      "MongoDB\n"
     ]
    }
   ],
   "source": [
    "print(person[\"skills\"][len(person[\"skills\"])//2 + 1])"
   ]
  },
  {
   "cell_type": "code",
   "execution_count": 120,
   "metadata": {},
   "outputs": [
    {
     "name": "stdout",
     "output_type": "stream",
     "text": [
      "Python skills\n",
      "\n"
     ]
    }
   ],
   "source": [
    "for keys, values in zip(person.keys(), person.values()):\n",
    "    if \"skills\" in keys :\n",
    "        if \"Python\" in values : \n",
    "            e = 1\n",
    "            print(\"Python skills\")\n",
    "            break\n",
    "        print(\"No python but other skills\")\n",
    "print ((e == 0) * (\"No skill\"))"
   ]
  },
  {
   "cell_type": "code",
   "execution_count": 122,
   "metadata": {},
   "outputs": [
    {
     "name": "stdout",
     "output_type": "stream",
     "text": [
      "unknown title\n"
     ]
    }
   ],
   "source": [
    "front_end_developer = set(['JavaScript', 'React'])\n",
    "backend_end_developer = set([\"Node\", \"Python\", \"MongoDB\"])\n",
    "fullstack_developer = set([\"React\", \"Node\" , \"MongoDB\"])\n",
    "\n",
    "for keys, values in zip(person.keys(), person.values()):\n",
    "    if \"skills\" in keys :\n",
    "        if front_end_developer.intersection(set(values)) == ['JavaScript', 'React']:\n",
    "            print(\"He is a front end developer\")\n",
    "        if backend_end_developer.intersection(set(values)) == [\"Node\", \"Python\", \"MongoDB\"]: \n",
    "            print('He is a backend developer')\n",
    "        elif backend_end_developer.intersection(set(values)) == [\"React\", \"Node\" , \"MongoDB\"]: \n",
    "            print('He is a fullstack developer')\n",
    "        else : print('unknown title')"
   ]
  },
  {
   "cell_type": "code",
   "execution_count": 144,
   "metadata": {},
   "outputs": [
    {
     "name": "stdout",
     "output_type": "stream",
     "text": [
      "\n"
     ]
    }
   ],
   "source": [
    "print(f\"{person['first_name']} {person['last_name']} lives in {person['country']}. He is married\" *\n",
    "      (person['country'] == 1 and person['is_married'] == 1))"
   ]
  },
  {
   "cell_type": "markdown",
   "metadata": {},
   "source": [
    "## Day 10 - Loops"
   ]
  },
  {
   "cell_type": "markdown",
   "metadata": {},
   "source": [
    "Iterate 0 to 10 using for loop, do the same using while loop.\n",
    "\n",
    "Iterate 10 to 0 using for loop, do the same using while loop.\n",
    "\n",
    "Write a loop that makes seven calls to print(), so we get on the output the following triangle:\n",
    "\n",
    "  #\n",
    "  ##\n",
    "  ###\n",
    "  ####\n",
    "  #####\n",
    "  ######\n",
    "  #######\n",
    "Use nested loops to create the following:\n",
    "\n",
    "# # # # # # # #\n",
    "# # # # # # # #\n",
    "# # # # # # # #\n",
    "# # # # # # # #\n",
    "# # # # # # # #\n",
    "# # # # # # # #\n",
    "# # # # # # # #\n",
    "# # # # # # # #\n",
    "Print the following pattern:\n",
    "\n",
    "0 x 0 = 0\n",
    "1 x 1 = 1\n",
    "2 x 2 = 4\n",
    "3 x 3 = 9\n",
    "4 x 4 = 16\n",
    "5 x 5 = 25\n",
    "6 x 6 = 36\n",
    "7 x 7 = 49\n",
    "8 x 8 = 64\n",
    "9 x 9 = 81\n",
    "10 x 10 = 100\n",
    "Iterate through the list, ['Python', 'Numpy','Pandas','Django', 'Flask'] using a for loop and print out the items.\n",
    "\n",
    "Use for loop to iterate from 0 to 100 and print only even numbers\n",
    "\n",
    "Use for loop to iterate from 0 to 100 and print only odd numbers\n",
    "\n",
    "Exercises: Level 2\n",
    "\n",
    "Use for loop to iterate from 0 to 100 and print the sum of all numbers.\n",
    "The sum of all numbers is 5050.\n",
    "Use for loop to iterate from 0 to 100 and print the sum of all evens and the sum of all odds.\n",
    "\n",
    "The sum of all evens is 2550. And the sum of all odds is 2500.\n",
    "Exercises: Level 3\n",
    "\n",
    "Go to the data folder and use the countries.py file. Loop through the countries and extract all the countries containing the word land.\n",
    "This is a fruit list, ['banana', 'orange', 'mango', 'lemon'] reverse the order using loop.\n",
    "Go to the data folder and use the countries_data.py file.\n",
    "What are the total number of languages in the data\n",
    "Find the ten most spoken languages from the data\n",
    "Find the 10 most populated countries in the world"
   ]
  },
  {
   "cell_type": "code",
   "execution_count": 150,
   "metadata": {},
   "outputs": [
    {
     "name": "stdout",
     "output_type": "stream",
     "text": [
      "[0, 1, 2, 3, 4, 5, 6, 7, 8, 9, 10] [0, 1, 2, 3, 4, 5, 6, 7, 8, 9, 10]\n"
     ]
    }
   ],
   "source": [
    "for_to_ten = [i for i in range(11)]\n",
    "\n",
    "i=0\n",
    "while_to_ten = []\n",
    "while i < 11 :\n",
    "    while_to_ten.append(i)\n",
    "    i+=1\n",
    "print(for_to_ten, while_to_ten)"
   ]
  },
  {
   "cell_type": "code",
   "execution_count": 153,
   "metadata": {},
   "outputs": [
    {
     "name": "stdout",
     "output_type": "stream",
     "text": [
      "[10, 9, 8, 7, 6, 5, 4, 3, 2, 1, 0] [10, 9, 8, 7, 6, 5, 4, 3, 2, 1, 0]\n"
     ]
    }
   ],
   "source": [
    "for_to_ten = [10 - i for i in range(11)]\n",
    "\n",
    "i=0\n",
    "while_to_ten = []\n",
    "while 10 - i > -1 :\n",
    "    while_to_ten.append(10 - i)\n",
    "    i+=1\n",
    "print(for_to_ten, while_to_ten)"
   ]
  },
  {
   "cell_type": "code",
   "execution_count": 155,
   "metadata": {},
   "outputs": [
    {
     "name": "stdout",
     "output_type": "stream",
     "text": [
      "#\n",
      "##\n",
      "###\n",
      "####\n",
      "#####\n",
      "######\n",
      "#######\n"
     ]
    }
   ],
   "source": [
    "for i in range (1, 8):\n",
    "    print(i*'#')"
   ]
  },
  {
   "cell_type": "code",
   "execution_count": 158,
   "metadata": {},
   "outputs": [
    {
     "name": "stdout",
     "output_type": "stream",
     "text": [
      "########\n",
      "########\n",
      "########\n",
      "########\n",
      "########\n",
      "########\n",
      "########\n"
     ]
    }
   ],
   "source": [
    "for i in range(7):\n",
    "    print(8*'#')"
   ]
  },
  {
   "cell_type": "code",
   "execution_count": 159,
   "metadata": {},
   "outputs": [
    {
     "name": "stdout",
     "output_type": "stream",
     "text": [
      "0 * 0 = 0\n",
      "1 * 1 = 1\n",
      "2 * 2 = 4\n",
      "3 * 3 = 9\n",
      "4 * 4 = 16\n",
      "5 * 5 = 25\n",
      "6 * 6 = 36\n",
      "7 * 7 = 49\n",
      "8 * 8 = 64\n",
      "9 * 9 = 81\n",
      "10 * 10 = 100\n"
     ]
    }
   ],
   "source": [
    "for i in range (11):\n",
    "    print(f\"{i} * {i} = {i**2}\")\n",
    "    "
   ]
  },
  {
   "cell_type": "code",
   "execution_count": 162,
   "metadata": {},
   "outputs": [
    {
     "name": "stdout",
     "output_type": "stream",
     "text": [
      "['Python', 'Numpy', 'Pandas', 'Django', 'Flask']\n"
     ]
    }
   ],
   "source": [
    "liste = ['Python', 'Numpy','Pandas','Django', 'Flask']\n",
    "print([i for i in liste])"
   ]
  },
  {
   "cell_type": "code",
   "execution_count": 163,
   "metadata": {},
   "outputs": [
    {
     "name": "stdout",
     "output_type": "stream",
     "text": [
      "5050\n"
     ]
    }
   ],
   "source": [
    "print(sum([i for i in range(101)]))"
   ]
  },
  {
   "cell_type": "code",
   "execution_count": 166,
   "metadata": {},
   "outputs": [
    {
     "name": "stdout",
     "output_type": "stream",
     "text": [
      "2450\n",
      "2500\n"
     ]
    }
   ],
   "source": [
    "print((sum([i for i in range(100) if i%2==0])))\n",
    "print(sum([i for i in range(100) if i%2!=0]))"
   ]
  },
  {
   "cell_type": "code",
   "execution_count": 227,
   "metadata": {},
   "outputs": [],
   "source": [
    "countries = [\n",
    "  'Afghanistan',\n",
    "  'Albania',\n",
    "  'Algeria',\n",
    "  'Andorra',\n",
    "  'Angola',\n",
    "  'Antigua and Barbuda',\n",
    "  'Argentina',\n",
    "  'Armenia',\n",
    "  'Australia',\n",
    "  'Austria',\n",
    "  'Azerbaijan',\n",
    "  'Bahamas',\n",
    "  'Bahrain',\n",
    "  'Bangladesh',\n",
    "  'Barbados',\n",
    "  'Belarus',\n",
    "  'Belgium',\n",
    "  'Belize',\n",
    "  'Benin',\n",
    "  'Bhutan',\n",
    "  'Bolivia',\n",
    "  'Bosnia and Herzegovina',\n",
    "  'Botswana',\n",
    "  'Brazil',\n",
    "  'Brunei',\n",
    "  'Bulgaria',\n",
    "  'Burkina Faso',\n",
    "  'Burundi',\n",
    "  'Cambodia',\n",
    "  'Cameroon',\n",
    "  'Canada',\n",
    "  'Cape Verde',\n",
    "  'Central African Republic',\n",
    "  'Chad',\n",
    "  'Chile',\n",
    "  'China',\n",
    "  'Colombi',\n",
    "  'Comoros',\n",
    "  'Congo (Brazzaville)',\n",
    "  'Congo',\n",
    "  'Costa Rica',\n",
    "  \"Cote d'Ivoire\",\n",
    "  'Croatia',\n",
    "  'Cuba',\n",
    "  'Cyprus',\n",
    "  'Czech Republic',\n",
    "  'Denmark',\n",
    "  'Djibouti',\n",
    "  'Dominica',\n",
    "  'Dominican Republic',\n",
    "  'East Timor (Timor Timur)',\n",
    "  'Ecuador',\n",
    "  'Egypt',\n",
    "  'El Salvador',\n",
    "  'Equatorial Guinea',\n",
    "  'Eritrea',\n",
    "  'Estonia',\n",
    "  'Ethiopia',\n",
    "  'Fiji',\n",
    "  'Finland',\n",
    "  'France',\n",
    "  'Gabon',\n",
    "  'Gambia, The',\n",
    "  'Georgia',\n",
    "  'Germany',\n",
    "  'Ghana',\n",
    "  'Greece',\n",
    "  'Grenada',\n",
    "  'Guatemala',\n",
    "  'Guinea',\n",
    "  'Guinea-Bissau',\n",
    "  'Guyana',\n",
    "  'Haiti',\n",
    "  'Honduras',\n",
    "  'Hungary',\n",
    "  'Iceland',\n",
    "  'India',\n",
    "  'Indonesia',\n",
    "  'Iran',\n",
    "  'Iraq',\n",
    "  'Ireland',\n",
    "  'Israel',\n",
    "  'Italy',\n",
    "  'Jamaica',\n",
    "  'Japan',\n",
    "  'Jordan',\n",
    "  'Kazakhstan',\n",
    "  'Kenya',\n",
    "  'Kiribati',\n",
    "  'Korea, North',\n",
    "  'Korea, South',\n",
    "  'Kuwait',\n",
    "  'Kyrgyzstan',\n",
    "  'Laos',\n",
    "  'Latvia',\n",
    "  'Lebanon',\n",
    "  'Lesotho',\n",
    "  'Liberia',\n",
    "  'Libya',\n",
    "  'Liechtenstein',\n",
    "  'Lithuania',\n",
    "  'Luxembourg',\n",
    "  'Macedonia',\n",
    "  'Madagascar',\n",
    "  'Malawi',\n",
    "  'Malaysia',\n",
    "  'Maldives',\n",
    "  'Mali',\n",
    "  'Malta',\n",
    "  'Marshall Islands',\n",
    "  'Mauritania',\n",
    "  'Mauritius',\n",
    "  'Mexico',\n",
    "  'Micronesia',\n",
    "  'Moldova',\n",
    "  'Monaco',\n",
    "  'Mongolia',\n",
    "  'Morocco',\n",
    "  'Mozambique',\n",
    "  'Myanmar',\n",
    "  'Namibia',\n",
    "  'Nauru',\n",
    "  'Nepal',\n",
    "  'Netherlands',\n",
    "  'New Zealand',\n",
    "  'Nicaragua',\n",
    "  'Niger',\n",
    "  'Nigeria',\n",
    "  'Norway',\n",
    "  'Oman',\n",
    "  'Pakistan',\n",
    "  'Palau',\n",
    "  'Panama',\n",
    "  'Papua New Guinea',\n",
    "  'Paraguay',\n",
    "  'Peru',\n",
    "  'Philippines',\n",
    "  'Poland',\n",
    "  'Portugal',\n",
    "  'Qatar',\n",
    "  'Romania',\n",
    "  'Russia',\n",
    "  'Rwanda',\n",
    "  'Saint Kitts and Nevis',\n",
    "  'Saint Lucia',\n",
    "  'Saint Vincent',\n",
    "  'Samoa',\n",
    "  'San Marino',\n",
    "  'Sao Tome and Principe',\n",
    "  'Saudi Arabia',\n",
    "  'Senegal',\n",
    "  'Serbia and Montenegro',\n",
    "  'Seychelles',\n",
    "  'Sierra Leone',\n",
    "  'Singapore',\n",
    "  'Slovakia',\n",
    "  'Slovenia',\n",
    "  'Solomon Islands',\n",
    "  'Somalia',\n",
    "  'South Africa',\n",
    "  'Spain',\n",
    "  'Sri Lanka',\n",
    "  'Sudan',\n",
    "  'Suriname',\n",
    "  'Swaziland',\n",
    "  'Sweden',\n",
    "  'Switzerland',\n",
    "  'Syria',\n",
    "  'Taiwan',\n",
    "  'Tajikistan',\n",
    "  'Tanzania',\n",
    "  'Thailand',\n",
    "  'Togo',\n",
    "  'Tonga',\n",
    "  'Trinidad and Tobago',\n",
    "  'Tunisia',\n",
    "  'Turkey',\n",
    "  'Turkmenistan',\n",
    "  'Tuvalu',\n",
    "  'Uganda',\n",
    "  'Ukraine',\n",
    "  'United Arab Emirates',\n",
    "  'United Kingdom',\n",
    "  'United States',\n",
    "  'Uruguay',\n",
    "  'Uzbekistan',\n",
    "  'Vanuatu',\n",
    "  'Vatican City',\n",
    "  'Venezuela',\n",
    "  'Vietnam',\n",
    "  'Yemen',\n",
    "  'Zambia',\n",
    "  'Zimbabwe'\n",
    "]"
   ]
  },
  {
   "cell_type": "code",
   "execution_count": 172,
   "metadata": {},
   "outputs": [
    {
     "data": {
      "text/plain": [
       "['Finland',\n",
       " 'Iceland',\n",
       " 'Ireland',\n",
       " 'Marshall Islands',\n",
       " 'Netherlands',\n",
       " 'New Zealand',\n",
       " 'Poland',\n",
       " 'Solomon Islands',\n",
       " 'Swaziland',\n",
       " 'Switzerland',\n",
       " 'Thailand']"
      ]
     },
     "execution_count": 172,
     "metadata": {},
     "output_type": "execute_result"
    }
   ],
   "source": [
    "land = list()\n",
    "for i in countries :\n",
    "    if \"land\" in i:\n",
    "        land.append(i)\n",
    "land"
   ]
  },
  {
   "cell_type": "code",
   "execution_count": 174,
   "metadata": {},
   "outputs": [
    {
     "data": {
      "text/plain": [
       "['lemon', 'mango', 'orange', 'banana']"
      ]
     },
     "execution_count": 174,
     "metadata": {},
     "output_type": "execute_result"
    }
   ],
   "source": [
    "fruits = ['banana', 'orange', 'mango', 'lemon']\n",
    "reverse_fruits = fruits[::-1]\n",
    "reverse_fruits"
   ]
  },
  {
   "cell_type": "markdown",
   "metadata": {},
   "source": [
    "## Day 11 - Functions"
   ]
  },
  {
   "cell_type": "markdown",
   "metadata": {},
   "source": [
    "- Declare a function named evens_and_odds . It takes a positive integer as parameter and it counts number of evens and odds in the number.\n",
    "     - print(evens_and_odds(100))\n",
    "     - The number of odds are 50.\n",
    "     - The number of evens are 51.\n",
    "     \n",
    "- Call your function factorial, it takes a whole number as a parameter and it return a factorial of the number\n",
    "- Call your function is_empty, it takes a parameter and it checks if it is empty or not\n",
    "- Write different functions which take lists. They should calculate_mean, calculate_median, calculate_mode, calculate_range, calculate_variance, calculate_std (standard deviation)."
   ]
  },
  {
   "cell_type": "code",
   "execution_count": 374,
   "metadata": {},
   "outputs": [],
   "source": [
    "import numpy as np"
   ]
  },
  {
   "cell_type": "code",
   "execution_count": 181,
   "metadata": {},
   "outputs": [],
   "source": [
    "def evens_and_odds (number : int)->int:\n",
    "    return(f\"even :  {len([i for i in range(number) if i%2 == 0])} odd : {len([i for i in range(number) if i%2 != 0])}\")\n",
    "    \n",
    "evens_and_odds(13)"
   ]
  },
  {
   "cell_type": "code",
   "execution_count": 187,
   "metadata": {},
   "outputs": [],
   "source": [
    "def factorial (number : int)->int : \n",
    "    if number == 1:\n",
    "        return 1\n",
    "    return factorial (number - 1) * number\n",
    "\n",
    "factorial(4)"
   ]
  },
  {
   "cell_type": "code",
   "execution_count": 189,
   "metadata": {},
   "outputs": [
    {
     "data": {
      "text/plain": [
       "24"
      ]
     },
     "execution_count": 189,
     "metadata": {},
     "output_type": "execute_result"
    }
   ],
   "source": [
    "def calculs(liste: list):\n",
    "    calculate_mean = np.mean(liste)\n",
    "    calculate_median = np.median(liste)\n",
    "    calculate_mode = np.argmax(np.bincount(liste))\n",
    "    calculate_range = np.max(liste) - np.min(liste)\n",
    "    calculate_variance = np.var(liste)\n",
    "    calculate_std = np.std(liste)\n",
    "    \n",
    "    return calculate_mean, calculate_median, calculate_mode, calculate_range, calculate_variance, calculate_std"
   ]
  },
  {
   "cell_type": "code",
   "execution_count": 193,
   "metadata": {},
   "outputs": [],
   "source": [
    "import math\n",
    "\n",
    "def is_prime(n):\n",
    "    if n <= 1:\n",
    "        return False\n",
    "    if n == 2:\n",
    "        return True\n",
    "    if n % 2 == 0:\n",
    "        return False\n",
    "    for i in range(3, int(math.sqrt(n)) + 1, 2):\n",
    "        if n % i == 0:\n",
    "            return False\n",
    "    return True"
   ]
  },
  {
   "cell_type": "code",
   "execution_count": 194,
   "metadata": {},
   "outputs": [],
   "source": [
    "def are_all_unique(lst):\n",
    "    return len(lst) == len(set(lst))"
   ]
  },
  {
   "cell_type": "code",
   "execution_count": 195,
   "metadata": {},
   "outputs": [],
   "source": [
    "def same_data_type(lst):\n",
    "    return all(type(item) == type(lst[0]) for item in lst)"
   ]
  },
  {
   "cell_type": "code",
   "execution_count": 196,
   "metadata": {},
   "outputs": [],
   "source": [
    "def is_valid_variable(variable):\n",
    "    return variable.isidentifier()"
   ]
  },
  {
   "cell_type": "code",
   "execution_count": 197,
   "metadata": {},
   "outputs": [],
   "source": [
    "def most_spoken_languages():\n",
    "    from data.countries_data import countries\n",
    "    languages = {}\n",
    "    for country in countries:\n",
    "        for language in country['languages']:\n",
    "            languages[language] = languages.get(language, 0) + 1\n",
    "    sorted_languages = sorted(languages.items(), key=lambda x: x[1], reverse=True)\n",
    "    return [language for language, _ in sorted_languages[:10]]\n"
   ]
  },
  {
   "cell_type": "code",
   "execution_count": 198,
   "metadata": {},
   "outputs": [],
   "source": [
    "def most_populated_countries():\n",
    "    from data.countries_data import countries\n",
    "    sorted_countries = sorted(countries, key=lambda x: x['population'], reverse=True)\n",
    "    return [country['name'] for country in sorted_countries[:10]]"
   ]
  },
  {
   "cell_type": "markdown",
   "metadata": {},
   "source": [
    "## Day 12 - modules"
   ]
  },
  {
   "cell_type": "markdown",
   "metadata": {},
   "source": [
    "- Already done in other modules"
   ]
  },
  {
   "cell_type": "markdown",
   "metadata": {},
   "source": [
    "## Day 13 - List comprehension"
   ]
  },
  {
   "cell_type": "markdown",
   "metadata": {},
   "source": [
    "- Already done in other modules"
   ]
  },
  {
   "cell_type": "markdown",
   "metadata": {},
   "source": [
    "## Day 14 - Higher order functions"
   ]
  },
  {
   "cell_type": "markdown",
   "metadata": {},
   "source": [
    "Exercises: Level 1\n",
    "\n",
    "- Explain the difference between map, filter, and reduce.\n",
    "- Explain the difference between higher order function, closure and decorator\n",
    "- Define a call function before map, filter or reduce, see examples.\n",
    "- Use for loop to print each country in the countries list.\n",
    "- Use for to print each name in the names list.\n",
    "- Use for to print each number in the numbers list."
   ]
  },
  {
   "cell_type": "code",
   "execution_count": 199,
   "metadata": {},
   "outputs": [
    {
     "name": "stdout",
     "output_type": "stream",
     "text": [
      "['Afghanistan', 'Albania', 'Algeria', 'Andorra', 'Angola', 'Antigua and Barbuda', 'Argentina', 'Armenia', 'Australia', 'Austria', 'Azerbaijan', 'Bahamas', 'Bahrain', 'Bangladesh', 'Barbados', 'Belarus', 'Belgium', 'Belize', 'Benin', 'Bhutan', 'Bolivia', 'Bosnia and Herzegovina', 'Botswana', 'Brazil', 'Brunei', 'Bulgaria', 'Burkina Faso', 'Burundi', 'Cambodia', 'Cameroon', 'Canada', 'Cape Verde', 'Central African Republic', 'Chad', 'Chile', 'China', 'Colombi', 'Comoros', 'Congo (Brazzaville)', 'Congo', 'Costa Rica', \"Cote d'Ivoire\", 'Croatia', 'Cuba', 'Cyprus', 'Czech Republic', 'Denmark', 'Djibouti', 'Dominica', 'Dominican Republic', 'East Timor (Timor Timur)', 'Ecuador', 'Egypt', 'El Salvador', 'Equatorial Guinea', 'Eritrea', 'Estonia', 'Ethiopia', 'Fiji', 'Finland', 'France', 'Gabon', 'Gambia, The', 'Georgia', 'Germany', 'Ghana', 'Greece', 'Grenada', 'Guatemala', 'Guinea', 'Guinea-Bissau', 'Guyana', 'Haiti', 'Honduras', 'Hungary', 'Iceland', 'India', 'Indonesia', 'Iran', 'Iraq', 'Ireland', 'Israel', 'Italy', 'Jamaica', 'Japan', 'Jordan', 'Kazakhstan', 'Kenya', 'Kiribati', 'Korea, North', 'Korea, South', 'Kuwait', 'Kyrgyzstan', 'Laos', 'Latvia', 'Lebanon', 'Lesotho', 'Liberia', 'Libya', 'Liechtenstein', 'Lithuania', 'Luxembourg', 'Macedonia', 'Madagascar', 'Malawi', 'Malaysia', 'Maldives', 'Mali', 'Malta', 'Marshall Islands', 'Mauritania', 'Mauritius', 'Mexico', 'Micronesia', 'Moldova', 'Monaco', 'Mongolia', 'Morocco', 'Mozambique', 'Myanmar', 'Namibia', 'Nauru', 'Nepal', 'Netherlands', 'New Zealand', 'Nicaragua', 'Niger', 'Nigeria', 'Norway', 'Oman', 'Pakistan', 'Palau', 'Panama', 'Papua New Guinea', 'Paraguay', 'Peru', 'Philippines', 'Poland', 'Portugal', 'Qatar', 'Romania', 'Russia', 'Rwanda', 'Saint Kitts and Nevis', 'Saint Lucia', 'Saint Vincent', 'Samoa', 'San Marino', 'Sao Tome and Principe', 'Saudi Arabia', 'Senegal', 'Serbia and Montenegro', 'Seychelles', 'Sierra Leone', 'Singapore', 'Slovakia', 'Slovenia', 'Solomon Islands', 'Somalia', 'South Africa', 'Spain', 'Sri Lanka', 'Sudan', 'Suriname', 'Swaziland', 'Sweden', 'Switzerland', 'Syria', 'Taiwan', 'Tajikistan', 'Tanzania', 'Thailand', 'Togo', 'Tonga', 'Trinidad and Tobago', 'Tunisia', 'Turkey', 'Turkmenistan', 'Tuvalu', 'Uganda', 'Ukraine', 'United Arab Emirates', 'United Kingdom', 'United States', 'Uruguay', 'Uzbekistan', 'Vanuatu', 'Vatican City', 'Venezuela', 'Vietnam', 'Yemen', 'Zambia', 'Zimbabwe']\n"
     ]
    }
   ],
   "source": [
    "print([i for i in countries])\n",
    "# same methodo for the other 2"
   ]
  },
  {
   "cell_type": "code",
   "execution_count": null,
   "metadata": {},
   "outputs": [],
   "source": [
    "Exercises: Level 2\n",
    "\n",
    "Use map to create a new list by changing each country to uppercase in the countries list\n",
    "Use map to create a new list by changing each number to its square in the numbers list\n",
    "Use map to change each name to uppercase in the names list\n",
    "Use filter to filter out countries containing 'land'.\n",
    "Use filter to filter out countries having exactly six characters.\n",
    "Use filter to filter out countries containing six letters and more in the country list.\n",
    "Use filter to filter out countries starting with an 'E'\n",
    "Chain two or more list iterators (eg. arr.map(callback).filter(callback).reduce(callback))\n",
    "Declare a function called get_string_lists which takes a list as a parameter and then returns a list containing only string items.\n",
    "Use reduce to sum all the numbers in the numbers list.\n",
    "Use reduce to concatenate all the countries and to produce this sentence: Estonia, Finland, Sweden, Denmark, Norway, and Iceland are north European countries\n",
    "Declare a function called categorize_countries that returns a list of countries with some common pattern (you can find the countries list in this repository as countries.js(eg 'land', 'ia', 'island', 'stan')).\n",
    "Create a function returning a dictionary, where keys stand for starting letters of countries and values are the number of country names starting with that letter.\n",
    "Declare a get_first_ten_countries function - it returns a list of first ten countries from the countries.js list in the data folder.\n",
    "Declare a get_last_ten_countries function that returns the last ten countries in the countries list."
   ]
  },
  {
   "cell_type": "code",
   "execution_count": 206,
   "metadata": {
    "scrolled": false
   },
   "outputs": [
    {
     "name": "stdout",
     "output_type": "stream",
     "text": [
      "['AFGHANISTAN', 'ALBANIA', 'ALGERIA', 'ANDORRA', 'ANGOLA', 'ANTIGUA AND BARBUDA', 'ARGENTINA', 'ARMENIA', 'AUSTRALIA', 'AUSTRIA', 'AZERBAIJAN', 'BAHAMAS', 'BAHRAIN', 'BANGLADESH', 'BARBADOS', 'BELARUS', 'BELGIUM', 'BELIZE', 'BENIN', 'BHUTAN', 'BOLIVIA', 'BOSNIA AND HERZEGOVINA', 'BOTSWANA', 'BRAZIL', 'BRUNEI', 'BULGARIA', 'BURKINA FASO', 'BURUNDI', 'CAMBODIA', 'CAMEROON', 'CANADA', 'CAPE VERDE', 'CENTRAL AFRICAN REPUBLIC', 'CHAD', 'CHILE', 'CHINA', 'COLOMBI', 'COMOROS', 'CONGO (BRAZZAVILLE)', 'CONGO', 'COSTA RICA', \"COTE D'IVOIRE\", 'CROATIA', 'CUBA', 'CYPRUS', 'CZECH REPUBLIC', 'DENMARK', 'DJIBOUTI', 'DOMINICA', 'DOMINICAN REPUBLIC', 'EAST TIMOR (TIMOR TIMUR)', 'ECUADOR', 'EGYPT', 'EL SALVADOR', 'EQUATORIAL GUINEA', 'ERITREA', 'ESTONIA', 'ETHIOPIA', 'FIJI', 'FINLAND', 'FRANCE', 'GABON', 'GAMBIA, THE', 'GEORGIA', 'GERMANY', 'GHANA', 'GREECE', 'GRENADA', 'GUATEMALA', 'GUINEA', 'GUINEA-BISSAU', 'GUYANA', 'HAITI', 'HONDURAS', 'HUNGARY', 'ICELAND', 'INDIA', 'INDONESIA', 'IRAN', 'IRAQ', 'IRELAND', 'ISRAEL', 'ITALY', 'JAMAICA', 'JAPAN', 'JORDAN', 'KAZAKHSTAN', 'KENYA', 'KIRIBATI', 'KOREA, NORTH', 'KOREA, SOUTH', 'KUWAIT', 'KYRGYZSTAN', 'LAOS', 'LATVIA', 'LEBANON', 'LESOTHO', 'LIBERIA', 'LIBYA', 'LIECHTENSTEIN', 'LITHUANIA', 'LUXEMBOURG', 'MACEDONIA', 'MADAGASCAR', 'MALAWI', 'MALAYSIA', 'MALDIVES', 'MALI', 'MALTA', 'MARSHALL ISLANDS', 'MAURITANIA', 'MAURITIUS', 'MEXICO', 'MICRONESIA', 'MOLDOVA', 'MONACO', 'MONGOLIA', 'MOROCCO', 'MOZAMBIQUE', 'MYANMAR', 'NAMIBIA', 'NAURU', 'NEPAL', 'NETHERLANDS', 'NEW ZEALAND', 'NICARAGUA', 'NIGER', 'NIGERIA', 'NORWAY', 'OMAN', 'PAKISTAN', 'PALAU', 'PANAMA', 'PAPUA NEW GUINEA', 'PARAGUAY', 'PERU', 'PHILIPPINES', 'POLAND', 'PORTUGAL', 'QATAR', 'ROMANIA', 'RUSSIA', 'RWANDA', 'SAINT KITTS AND NEVIS', 'SAINT LUCIA', 'SAINT VINCENT', 'SAMOA', 'SAN MARINO', 'SAO TOME AND PRINCIPE', 'SAUDI ARABIA', 'SENEGAL', 'SERBIA AND MONTENEGRO', 'SEYCHELLES', 'SIERRA LEONE', 'SINGAPORE', 'SLOVAKIA', 'SLOVENIA', 'SOLOMON ISLANDS', 'SOMALIA', 'SOUTH AFRICA', 'SPAIN', 'SRI LANKA', 'SUDAN', 'SURINAME', 'SWAZILAND', 'SWEDEN', 'SWITZERLAND', 'SYRIA', 'TAIWAN', 'TAJIKISTAN', 'TANZANIA', 'THAILAND', 'TOGO', 'TONGA', 'TRINIDAD AND TOBAGO', 'TUNISIA', 'TURKEY', 'TURKMENISTAN', 'TUVALU', 'UGANDA', 'UKRAINE', 'UNITED ARAB EMIRATES', 'UNITED KINGDOM', 'UNITED STATES', 'URUGUAY', 'UZBEKISTAN', 'VANUATU', 'VATICAN CITY', 'VENEZUELA', 'VIETNAM', 'YEMEN', 'ZAMBIA', 'ZIMBABWE']\n"
     ]
    }
   ],
   "source": [
    "upper_case = list(map(lambda x : x.upper(), countries))\n",
    "print(upper_case)"
   ]
  },
  {
   "cell_type": "code",
   "execution_count": 209,
   "metadata": {},
   "outputs": [
    {
     "name": "stdout",
     "output_type": "stream",
     "text": [
      "[0, 1, 4, 9, 16, 25, 36, 49, 64, 81, 100, 121, 144, 169, 196, 225, 256, 289, 324, 361, 400, 441, 484, 529, 576, 625, 676, 729, 784, 841, 900, 961, 1024, 1089, 1156, 1225, 1296, 1369, 1444, 1521, 1600, 1681, 1764, 1849, 1936, 2025, 2116, 2209, 2304, 2401, 2500, 2601, 2704, 2809, 2916, 3025, 3136, 3249, 3364, 3481, 3600, 3721, 3844, 3969, 4096, 4225, 4356, 4489, 4624, 4761, 4900, 5041, 5184, 5329, 5476, 5625, 5776, 5929, 6084, 6241, 6400, 6561, 6724, 6889, 7056, 7225, 7396, 7569, 7744, 7921, 8100, 8281, 8464, 8649, 8836, 9025, 9216, 9409, 9604, 9801]\n"
     ]
    }
   ],
   "source": [
    "number = [i for i in range(100)]\n",
    "number = list(map(lambda x : x**2, number))\n",
    "print(number)"
   ]
  },
  {
   "cell_type": "code",
   "execution_count": 215,
   "metadata": {},
   "outputs": [
    {
     "data": {
      "text/plain": [
       "['Finland',\n",
       " 'Iceland',\n",
       " 'Ireland',\n",
       " 'Marshall Islands',\n",
       " 'Netherlands',\n",
       " 'New Zealand',\n",
       " 'Poland',\n",
       " 'Solomon Islands',\n",
       " 'Swaziland',\n",
       " 'Switzerland',\n",
       " 'Thailand']"
      ]
     },
     "execution_count": 215,
     "metadata": {},
     "output_type": "execute_result"
    }
   ],
   "source": [
    "land_countries = list(filter(lambda x : 'land' in x, countries))\n",
    "land_countries"
   ]
  },
  {
   "cell_type": "code",
   "execution_count": 217,
   "metadata": {},
   "outputs": [
    {
     "data": {
      "text/plain": [
       "['bonjour']"
      ]
     },
     "execution_count": 217,
     "metadata": {},
     "output_type": "execute_result"
    }
   ],
   "source": [
    "def get_string_lists(liste:list)->list:\n",
    "    return list(filter(lambda x : type(x) == str, liste))\n",
    "\n",
    "test = [2, \"bonjour\", (3,\"tuple\")]\n",
    "get_string_lists(test)"
   ]
  },
  {
   "cell_type": "code",
   "execution_count": null,
   "metadata": {},
   "outputs": [],
   "source": [
    "from functools import reduce"
   ]
  },
  {
   "cell_type": "code",
   "execution_count": 223,
   "metadata": {},
   "outputs": [
    {
     "name": "stdout",
     "output_type": "stream",
     "text": [
      "328350\n"
     ]
    }
   ],
   "source": [
    "numbers_str = [str(i) for i in number]\n",
    "def add_two_nums(x, y):\n",
    "    return int(x) + int(y)\n",
    "\n",
    "total = reduce(add_two_nums, numbers_str)\n",
    "print(total)"
   ]
  },
  {
   "cell_type": "code",
   "execution_count": 225,
   "metadata": {},
   "outputs": [
    {
     "name": "stdout",
     "output_type": "stream",
     "text": [
      "Estonia, Finland, Sweden, Denmark, Norway, and Iceland are north European countries.\n"
     ]
    }
   ],
   "source": [
    "countries = [\"Estonia\", \"Finland\", \"Sweden\", \"Denmark\", \"Norway\", \"Iceland\"]\n",
    "sentence = reduce(lambda x, y: x + \", \" + y, countries[:-1]) + \", and \" + countries[-1] + \" are north European countries.\"\n",
    "print(sentence)"
   ]
  },
  {
   "cell_type": "code",
   "execution_count": 230,
   "metadata": {},
   "outputs": [],
   "source": [
    "def categorize_countries(pattern, countries):\n",
    "    return [country for country in countries if pattern in country]"
   ]
  },
  {
   "cell_type": "code",
   "execution_count": 231,
   "metadata": {},
   "outputs": [],
   "source": [
    "def count_countries_by_starting_letter(countries):\n",
    "    country_counts = {}\n",
    "    for country in countries:\n",
    "        starting_letter = country.strip()[0].upper()\n",
    "        if starting_letter in country_counts:\n",
    "            country_counts[starting_letter] += 1\n",
    "        else:\n",
    "            country_counts[starting_letter] = 1\n",
    "    return country_counts"
   ]
  },
  {
   "cell_type": "code",
   "execution_count": 232,
   "metadata": {},
   "outputs": [],
   "source": [
    "def get_first_ten_countries(countries):\n",
    "    return countries[:10]"
   ]
  },
  {
   "cell_type": "code",
   "execution_count": 233,
   "metadata": {},
   "outputs": [],
   "source": [
    "def get_last_ten_countries(countries):\n",
    "    return countries[-10:]"
   ]
  },
  {
   "cell_type": "code",
   "execution_count": 235,
   "metadata": {},
   "outputs": [
    {
     "name": "stdout",
     "output_type": "stream",
     "text": [
      "['Finland', 'Iceland', 'Ireland', 'Marshall Islands', 'Netherlands', 'New Zealand', 'Poland', 'Solomon Islands', 'Swaziland', 'Switzerland', 'Thailand'] {'A': 11, 'B': 17, 'C': 18, 'D': 4, 'E': 8, 'F': 3, 'G': 11, 'H': 3, 'I': 8, 'J': 3, 'K': 7, 'L': 9, 'M': 18, 'N': 9, 'O': 1, 'P': 9, 'Q': 1, 'R': 3, 'S': 25, 'T': 11, 'U': 7, 'V': 4, 'Y': 1, 'Z': 2} ['Afghanistan', 'Albania', 'Algeria', 'Andorra', 'Angola', 'Antigua and Barbuda', 'Argentina', 'Armenia', 'Australia', 'Austria'] ['United States', 'Uruguay', 'Uzbekistan', 'Vanuatu', 'Vatican City', 'Venezuela', 'Vietnam', 'Yemen', 'Zambia', 'Zimbabwe']\n"
     ]
    }
   ],
   "source": [
    "print(categorize_countries(\"land\", countries), count_countries_by_starting_letter(countries), \n",
    "      get_first_ten_countries(countries), get_last_ten_countries(countries))"
   ]
  },
  {
   "cell_type": "markdown",
   "metadata": {},
   "source": [
    "## Day 15 - Error"
   ]
  },
  {
   "cell_type": "markdown",
   "metadata": {},
   "source": [
    "*No exercise*"
   ]
  },
  {
   "cell_type": "markdown",
   "metadata": {},
   "source": [
    "## Day 16 - Date Time"
   ]
  },
  {
   "cell_type": "markdown",
   "metadata": {},
   "source": [
    "- Get the current day, month, year, hour, minute and timestamp from datetime module\n",
    "- Format the current date using this format: \"%m/%d/%Y, %H:%M:%S\")\n",
    "- Today is 5 December, 2019. Change this time string to time.\n",
    "- Calculate the time difference between now and new year.\n",
    "- Calculate the time difference between 1 January 1970 and now.\n",
    "- Think, what can you use the datetime module for? Examples:\n",
    "- Time series analysis\n",
    "- To get a timestamp of any activities in an application\n",
    "- Adding posts on a blog"
   ]
  },
  {
   "cell_type": "code",
   "execution_count": 236,
   "metadata": {},
   "outputs": [],
   "source": [
    "from datetime import datetime"
   ]
  },
  {
   "cell_type": "code",
   "execution_count": 241,
   "metadata": {},
   "outputs": [
    {
     "name": "stdout",
     "output_type": "stream",
     "text": [
      "19 2 2024 19 45 50\n",
      "timestamp 1708368350.922724\n",
      "19/2/2024, 19:45\n"
     ]
    }
   ],
   "source": [
    "now = datetime.now()\n",
    "day = now.day                   \n",
    "month = now.month               \n",
    "year = now.year                 \n",
    "hour = now.hour                 \n",
    "minute = now.minute             \n",
    "second = now.second\n",
    "timestamp = now.timestamp()\n",
    "print(day, month, year, hour, minute, second)\n",
    "print('timestamp', timestamp)\n",
    "print(f'{day}/{month}/{year}, {hour}:{minute}')"
   ]
  },
  {
   "cell_type": "code",
   "execution_count": 243,
   "metadata": {},
   "outputs": [
    {
     "data": {
      "text/plain": [
       "'02/19/2024, 19:45:50'"
      ]
     },
     "execution_count": 243,
     "metadata": {},
     "output_type": "execute_result"
    }
   ],
   "source": [
    "formatted_date = now.strftime(\"%m/%d/%Y, %H:%M:%S\")\n",
    "formatted_date"
   ]
  },
  {
   "cell_type": "code",
   "execution_count": 244,
   "metadata": {},
   "outputs": [
    {
     "data": {
      "text/plain": [
       "datetime.datetime(2019, 12, 5, 0, 0)"
      ]
     },
     "execution_count": 244,
     "metadata": {},
     "output_type": "execute_result"
    }
   ],
   "source": [
    "time_string = \"5 December, 2019\"\n",
    "time_obj = datetime.strptime(time_string, \"%d %B, %Y\")\n",
    "time_obj"
   ]
  },
  {
   "cell_type": "code",
   "execution_count": 245,
   "metadata": {},
   "outputs": [
    {
     "data": {
      "text/plain": [
       "datetime.timedelta(days=316, seconds=15249, microseconds=77276)"
      ]
     },
     "execution_count": 245,
     "metadata": {},
     "output_type": "execute_result"
    }
   ],
   "source": [
    "new_year = datetime(year + 1, 1, 1)\n",
    "time_until_new_year = new_year - now\n",
    "time_until_new_year"
   ]
  },
  {
   "cell_type": "code",
   "execution_count": 247,
   "metadata": {},
   "outputs": [
    {
     "data": {
      "text/plain": [
       "datetime.timedelta(days=19772, seconds=71150, microseconds=922724)"
      ]
     },
     "execution_count": 247,
     "metadata": {},
     "output_type": "execute_result"
    }
   ],
   "source": [
    "epoch = datetime(1970, 1, 1)\n",
    "time_since_epoch = now - epoch\n",
    "time_since_epoch"
   ]
  },
  {
   "cell_type": "markdown",
   "metadata": {},
   "source": [
    "## Day 17 - Exception Handling"
   ]
  },
  {
   "cell_type": "markdown",
   "metadata": {},
   "source": [
    "Unpack the first five countries and store them in a variable nordic_countries, store Estonia and Russia in es, and ru respectively."
   ]
  },
  {
   "cell_type": "code",
   "execution_count": 249,
   "metadata": {},
   "outputs": [],
   "source": [
    "names = ['Finland', 'Sweden', 'Norway','Denmark','Iceland', 'Estonia','Russia']"
   ]
  },
  {
   "cell_type": "code",
   "execution_count": 257,
   "metadata": {},
   "outputs": [
    {
     "name": "stdout",
     "output_type": "stream",
     "text": [
      "['Finland', 'Sweden', 'Norway', 'Denmark', 'Iceland'] ['Estonia'] ['Russia']\n"
     ]
    }
   ],
   "source": [
    "nordic_countries = list()\n",
    "es = list()\n",
    "ru = list()\n",
    "\n",
    "for index, pays in enumerate(names):\n",
    "    if index < 5:\n",
    "        nordic_countries.append(pays)\n",
    "    elif index == 5 : \n",
    "        es.append(pays)\n",
    "    elif index==6:\n",
    "        ru.append(pays)\n",
    "print(nordic_countries, es, ru)"
   ]
  },
  {
   "cell_type": "markdown",
   "metadata": {},
   "source": [
    "## Day 18 - Regular expressions"
   ]
  },
  {
   "cell_type": "code",
   "execution_count": 266,
   "metadata": {},
   "outputs": [],
   "source": [
    "import re"
   ]
  },
  {
   "cell_type": "code",
   "execution_count": 259,
   "metadata": {},
   "outputs": [],
   "source": [
    "paragraph = 'I love teaching. If you do not love teaching what else can you love. I love Python if you do not love something which can give you all the capabilities to develop an application what else can you love.'"
   ]
  },
  {
   "cell_type": "code",
   "execution_count": 263,
   "metadata": {},
   "outputs": [
    {
     "name": "stdout",
     "output_type": "stream",
     "text": [
      "Most frequent word : love\n",
      "Frequency : 6\n"
     ]
    }
   ],
   "source": [
    "words = paragraph.split()\n",
    "word_freq = {}\n",
    "\n",
    "for word in words:\n",
    "    word = word.strip(\".,?!\")\n",
    "    word = word.lower()\n",
    "    if word not in word_freq:\n",
    "        word_freq[word] = 1\n",
    "    else:\n",
    "        word_freq[word] += 1\n",
    "\n",
    "most_freq_word = None\n",
    "max_freq= 0\n",
    "\n",
    "for word, frequency in word_freq.items():\n",
    "    if frequency > max_freq:\n",
    "        most_freq_word = word\n",
    "        max_freq = frequency\n",
    "\n",
    "print(\"Most frequent word :\", most_freq_word)\n",
    "print(\"Frequency :\", max_freq)"
   ]
  },
  {
   "cell_type": "code",
   "execution_count": 267,
   "metadata": {},
   "outputs": [
    {
     "name": "stdout",
     "output_type": "stream",
     "text": [
      "20\n"
     ]
    }
   ],
   "source": [
    "as_txt = \"-12 -4 -3 -1 0 4 8\"\n",
    "numbers = [int(num) for num in re.findall(r'-?\\d+', as_txt)]\n",
    "numbers_sorted = sorted(numbers)\n",
    "distance = numbers_sorted[-1] - numbers_sorted[0]\n",
    "\n",
    "print( distance)"
   ]
  },
  {
   "cell_type": "code",
   "execution_count": 269,
   "metadata": {},
   "outputs": [
    {
     "data": {
      "text/plain": [
       "True"
      ]
     },
     "execution_count": 269,
     "metadata": {},
     "output_type": "execute_result"
    }
   ],
   "source": [
    "def is_valid_variable(variable_name):\n",
    "    pattern = r'^[a-zA-Z_][a-zA-Z0-9_]*$'\n",
    "    return bool(re.match(pattern, variable_name))\n",
    "\n",
    "is_valid_variable('first_name') # True\n",
    "is_valid_variable('first-name') # False\n",
    "is_valid_variable('1first_name') # False\n",
    "is_valid_variable('firstname') # True"
   ]
  },
  {
   "cell_type": "code",
   "execution_count": 287,
   "metadata": {},
   "outputs": [],
   "source": [
    "sentence = '%I $am@% a %tea@cher%, &and& I lo%#ve %tea@ching%;. There $is nothing; &as& mo@re rewarding as educa@ting &and& @emp%o@wering peo@ple. ;I found tea@ching m%o@re interesting tha@n any other %jo@bs. %Do@es thi%s mo@tivate yo@u to be a tea@cher!?'"
   ]
  },
  {
   "cell_type": "code",
   "execution_count": 288,
   "metadata": {},
   "outputs": [],
   "source": [
    "def clean_text(sentence: str)->str:\n",
    "    cleaned_text = re.sub(r'[^a-zA-Z\\s]', '', text)\n",
    "    cleaned_text = re.sub(r'\\s+', ' ', cleaned_text)\n",
    "    return cleaned_text.lower().strip()    "
   ]
  },
  {
   "cell_type": "markdown",
   "metadata": {},
   "source": [
    "## Day 19 - File handling"
   ]
  },
  {
   "cell_type": "code",
   "execution_count": 312,
   "metadata": {},
   "outputs": [
    {
     "name": "stdout",
     "output_type": "stream",
     "text": [
      "File: obama_speech.txt, Lines: 66, Words: 2400\n"
     ]
    }
   ],
   "source": [
    "def count_lines_and_words(filename):\n",
    "    lines = 0\n",
    "    words = 0\n",
    "    with open(filename, 'r') as file:\n",
    "        for line in file:\n",
    "            lines += 1\n",
    "            words += len(line.split())\n",
    "    return lines, words\n",
    "\n",
    "filename = 'obama_speech.txt'\n",
    "lines, words = count_lines_and_words(filename)\n",
    "print(f\"File: {filename}, Lines: {lines}, Words: {words}\")"
   ]
  },
  {
   "cell_type": "code",
   "execution_count": 318,
   "metadata": {},
   "outputs": [],
   "source": [
    "import json\n",
    "from collections import Counter"
   ]
  },
  {
   "cell_type": "code",
   "execution_count": 321,
   "metadata": {},
   "outputs": [
    {
     "data": {
      "text/plain": [
       "[('English', 91),\n",
       " ('French', 45),\n",
       " ('Arabic', 25),\n",
       " ('Spanish', 24),\n",
       " ('Portuguese', 9),\n",
       " ('Russian', 9),\n",
       " ('Dutch', 8),\n",
       " ('German', 7),\n",
       " ('Chinese', 5),\n",
       " ('Serbian', 4)]"
      ]
     },
     "execution_count": 321,
     "metadata": {},
     "output_type": "execute_result"
    }
   ],
   "source": [
    "filename2 = \"countries_data.json\"\n",
    "\n",
    "def most_spoken_languages(file_json):\n",
    "    with open(file_json, 'r', encoding='utf-8') as file:\n",
    "        data = json.load(file)\n",
    "    languages = []\n",
    "    for country in data:\n",
    "        languages.extend(country['languages'])\n",
    "    language_counter = Counter(languages)\n",
    "    most_common_languages = language_counter.most_common(10)\n",
    "    \n",
    "    return most_common_languages\n",
    "\n",
    "most_spoken_languages = most_spoken_languages(filename2)\n",
    "most_spoken_languages"
   ]
  },
  {
   "cell_type": "code",
   "execution_count": 333,
   "metadata": {},
   "outputs": [
    {
     "data": {
      "text/plain": [
       "[('China', 1377422166),\n",
       " ('India', 1295210000),\n",
       " ('United States of America', 323947000),\n",
       " ('Indonesia', 258705000),\n",
       " ('Brazil', 206135893),\n",
       " ('Pakistan', 194125062),\n",
       " ('Nigeria', 186988000),\n",
       " ('Bangladesh', 161006790),\n",
       " ('Russian Federation', 146599183),\n",
       " ('Japan', 126960000)]"
      ]
     },
     "execution_count": 333,
     "metadata": {},
     "output_type": "execute_result"
    }
   ],
   "source": [
    "def most_spoken_languages(file_json):\n",
    "    with open(file_json, 'r', encoding='utf-8') as file:\n",
    "        data = json.load(file)\n",
    "    countries = []\n",
    "    for country in data:\n",
    "        countries.append((country['name'], country['population']))\n",
    "    countries.sort(key = lambda x : x[1], reverse = True)\n",
    "    most_populated_countries = countries[:10]\n",
    "    \n",
    "    return most_populated_countries\n",
    "\n",
    "most_spoken_languages(filename2)"
   ]
  },
  {
   "cell_type": "markdown",
   "metadata": {},
   "source": [
    "## Day 20 - Package manager"
   ]
  },
  {
   "cell_type": "code",
   "execution_count": 334,
   "metadata": {},
   "outputs": [],
   "source": [
    "import requests"
   ]
  },
  {
   "cell_type": "code",
   "execution_count": 364,
   "metadata": {},
   "outputs": [
    {
     "name": "stdout",
     "output_type": "stream",
     "text": [
      "<Response [200]>\n",
      "200\n",
      "[{'weight': {'imperial': '7  -  10', 'metric': '3 - 5'}, 'id': 'abys', 'name': 'Abyssinian', 'cfa_url': 'http://cfa.org/Breeds/BreedsAB/Abyssinian.aspx', 'vetstreet_url': 'http://www.vetstreet.com/cats/abyssinian', 'vcahospitals_url': 'https://vcahospitals.com/know-your-pet/cat-breeds/abyssinian', 'temperament': 'Active, Energetic, Independent, Intelligent, Gentle', 'origin': 'Egypt', 'country_codes': 'EG', 'country_code': 'EG', 'description': 'The Abyssinian is easy to care for, and a joy to have in your home. They’re affectionate cats and love both people and other animals.', 'life_span': '14 - 15', 'indoor': 0, 'lap': 1, 'alt_names': '', 'adaptability': 5, 'affection_level': 5, 'child_friendly': 3, 'dog_friendly': 4, 'energy_level': 5, 'grooming': 1, 'health_issues': 2, 'intelligence': 5, 'shedding_level': 2, 'social_needs': 5, 'stranger_friendly': 5, 'vocalisation': 1, 'experimental': 0, 'hairless': 0, 'natural': 1, 'rare': 0, 'rex': 0, 'suppressed_tail': 0, 'short_legs': 0, 'wikipedia_url': 'https://en.wikipedia.org/wiki/Abyssinian_(cat)', 'hypoallergenic': 0, 'reference_image_id': '0XYvRd7oD'}, {'weight': {'imperial': '7 - 10', 'metric': '3 - 5'}, 'id': 'aege', 'name': 'Aegean', 'vetstreet_url': 'http://www.vetstreet.com/cats/aegean-cat', 'temperament': 'Affectionate, Social, Intelligent, Playful, Active', 'origin': 'Greece', 'country_codes': 'GR', 'country_code': 'GR', 'description': 'Native to the Greek islands known as the Cyclades in the Aegean Sea, these are natural cats, meaning they developed without humans getting involved in their breeding. As a breed, Aegean Cats are rare, although they are numerous on their home islands. They are generally friendly toward people and can be excellent cats for families with children.', 'life_span': '9 - 12', 'indoor': 0, 'alt_names': '', 'adaptability': 5, 'affection_level': 4, 'child_friendly': 4, 'dog_friendly': 4, 'energy_level': 3, 'grooming': 3, 'health_issues': 1, 'intelligence': 3, 'shedding_level': 3, 'social_needs': 4, 'stranger_friendly': 4, 'vocalisation': 3, 'experimental': 0, 'hairless': 0, 'natural': 0, 'rare': 0, 'rex': 0, 'suppressed_tail': 0, 'short_legs': 0, 'wikipedia_url': 'https://en.wikipedia.org/wiki/Aegean_cat', 'hypoallergenic': 0, 'reference_image_id': 'ozEvzdVM-'}, {'weight': {'imperial': '7 - 16', 'metric': '3 - 7'}, 'id': 'abob', 'name': 'American Bobtail', 'cfa_url': 'http://cfa.org/Breeds/BreedsAB/AmericanBobtail.aspx', 'vetstreet_url': 'http://www.vetstreet.com/cats/american-bobtail', 'vcahospitals_url': 'https://vcahospitals.com/know-your-pet/cat-breeds/american-bobtail', 'temperament': 'Intelligent, Interactive, Lively, Playful, Sensitive', 'origin': 'United States', 'country_codes': 'US', 'country_code': 'US', 'description': 'American Bobtails are loving and incredibly intelligent cats possessing a distinctive wild appearance. They are extremely interactive cats that bond with their human family with great devotion.', 'life_span': '11 - 15', 'indoor': 0, 'lap': 1, 'alt_names': '', 'adaptability': 5, 'affection_level': 5, 'child_friendly': 4, 'dog_friendly': 5, 'energy_level': 3, 'grooming': 1, 'health_issues': 1, 'intelligence': 5, 'shedding_level': 3, 'social_needs': 3, 'stranger_friendly': 3, 'vocalisation': 3, 'experimental': 0, 'hairless': 0, 'natural': 0, 'rare': 0, 'rex': 0, 'suppressed_tail': 1, 'short_legs': 0, 'wikipedia_url': 'https://en.wikipedia.org/wiki/American_Bobtail', 'hypoallergenic': 0, 'reference_image_id': 'hBXicehMA'}, {'weight': {'imperial': '5 - 10', 'metric': '2 - 5'}, 'id': 'acur', 'name': 'American Curl', 'cfa_url': 'http://cfa.org/Breeds/BreedsAB/AmericanCurl.aspx', 'vetstreet_url': 'http://www.vetstreet.com/cats/american-curl', 'vcahospitals_url': 'https://vcahospitals.com/know-your-pet/cat-breeds/american-curl', 'temperament': 'Affectionate, Curious, Intelligent, Interactive, Lively, Playful, Social', 'origin': 'United States', 'country_codes': 'US', 'country_code': 'US', 'description': 'Distinguished by truly unique ears that curl back in a graceful arc, offering an alert, perky, happily surprised expression, they cause people to break out into a big smile when viewing their first Curl. Curls are very people-oriented, faithful, affectionate soulmates, adjusting remarkably fast to other pets, children, and new situations.', 'life_span': '12 - 16', 'indoor': 0, 'lap': 1, 'alt_names': '', 'adaptability': 5, 'affection_level': 5, 'child_friendly': 4, 'dog_friendly': 5, 'energy_level': 3, 'grooming': 2, 'health_issues': 1, 'intelligence': 3, 'shedding_level': 3, 'social_needs': 3, 'stranger_friendly': 3, 'vocalisation': 3, 'experimental': 0, 'hairless': 0, 'natural': 0, 'rare': 0, 'rex': 0, 'suppressed_tail': 0, 'short_legs': 0, 'wikipedia_url': 'https://en.wikipedia.org/wiki/American_Curl', 'hypoallergenic': 0, 'reference_image_id': 'xnsqonbjW'}, {'weight': {'imperial': '8 - 15', 'metric': '4 - 7'}, 'id': 'asho', 'name': 'American Shorthair', 'cfa_url': 'http://cfa.org/Breeds/BreedsAB/AmericanShorthair.aspx', 'vetstreet_url': 'http://www.vetstreet.com/cats/american-shorthair', 'vcahospitals_url': 'https://vcahospitals.com/know-your-pet/cat-breeds/american-shorthair', 'temperament': 'Active, Curious, Easy Going, Playful, Calm', 'origin': 'United States', 'country_codes': 'US', 'country_code': 'US', 'description': 'The American Shorthair is known for its longevity, robust health, good looks, sweet personality, and amiability with children, dogs, and other pets.', 'life_span': '15 - 17', 'indoor': 0, 'lap': 1, 'alt_names': 'Domestic Shorthair', 'adaptability': 5, 'affection_level': 5, 'child_friendly': 4, 'dog_friendly': 5, 'energy_level': 3, 'grooming': 1, 'health_issues': 3, 'intelligence': 3, 'shedding_level': 3, 'social_needs': 4, 'stranger_friendly': 3, 'vocalisation': 3, 'experimental': 0, 'hairless': 0, 'natural': 1, 'rare': 0, 'rex': 0, 'suppressed_tail': 0, 'short_legs': 0, 'wikipedia_url': 'https://en.wikipedia.org/wiki/American_Shorthair', 'hypoallergenic': 0, 'reference_image_id': 'JFPROfGtQ'}, {'weight': {'imperial': '8 - 15', 'metric': '4 - 7'}, 'id': 'awir', 'name': 'American Wirehair', 'cfa_url': 'http://cfa.org/Breeds/BreedsAB/AmericanWirehair.aspx', 'vetstreet_url': 'http://www.vetstreet.com/cats/american-wirehair', 'temperament': 'Affectionate, Curious, Gentle, Intelligent, Interactive, Lively, Loyal, Playful, Sensible, Social', 'origin': 'United States', 'country_codes': 'US', 'country_code': 'US', 'description': 'The American Wirehair tends to be a calm and tolerant cat who takes life as it comes. His favorite hobby is bird-watching from a sunny windowsill, and his hunting ability will stand you in good stead if insects enter the house.', 'life_span': '14 - 18', 'indoor': 0, 'lap': 1, 'alt_names': '', 'adaptability': 5, 'affection_level': 5, 'child_friendly': 4, 'dog_friendly': 5, 'energy_level': 3, 'grooming': 1, 'health_issues': 3, 'intelligence': 3, 'shedding_level': 1, 'social_needs': 3, 'stranger_friendly': 3, 'vocalisation': 3, 'experimental': 0, 'hairless': 0, 'natural': 0, 'rare': 0, 'rex': 0, 'suppressed_tail': 0, 'short_legs': 0, 'wikipedia_url': 'https://en.wikipedia.org/wiki/American_Wirehair', 'hypoallergenic': 0, 'reference_image_id': '8D--jCd21'}, {'weight': {'imperial': '8 - 16', 'metric': '4 - 7'}, 'id': 'amau', 'name': 'Arabian Mau', 'vcahospitals_url': '', 'temperament': 'Affectionate, Agile, Curious, Independent, Playful, Loyal', 'origin': 'United Arab Emirates', 'country_codes': 'AE', 'country_code': 'AE', 'description': 'Arabian Mau cats are social and energetic. Due to their energy levels, these cats do best in homes where their owners will be able to provide them with plenty of playtime, attention and interaction from their owners. These kitties are friendly, intelligent, and adaptable, and will even get along well with other pets and children.', 'life_span': '12 - 14', 'indoor': 0, 'alt_names': 'Alley cat', 'adaptability': 5, 'affection_level': 5, 'child_friendly': 4, 'dog_friendly': 5, 'energy_level': 4, 'grooming': 1, 'health_issues': 1, 'intelligence': 3, 'shedding_level': 1, 'social_needs': 3, 'stranger_friendly': 3, 'vocalisation': 1, 'experimental': 0, 'hairless': 0, 'natural': 1, 'rare': 0, 'rex': 0, 'suppressed_tail': 0, 'short_legs': 0, 'wikipedia_url': 'https://en.wikipedia.org/wiki/Arabian_Mau', 'hypoallergenic': 0, 'reference_image_id': 'k71ULYfRr'}, {'weight': {'imperial': '7 - 15', 'metric': '3 - 7'}, 'id': 'amis', 'name': 'Australian Mist', 'temperament': 'Lively, Social, Fun-loving, Relaxed, Affectionate', 'origin': 'Australia', 'country_codes': 'AU', 'country_code': 'AU', 'description': 'The Australian Mist thrives on human companionship. Tolerant of even the youngest of children, these friendly felines enjoy playing games and being part of the hustle and bustle of a busy household. They make entertaining companions for people of all ages, and are happy to remain indoors between dusk and dawn or to be wholly indoor pets.', 'life_span': '12 - 16', 'indoor': 0, 'lap': 1, 'alt_names': 'Spotted Mist', 'adaptability': 5, 'affection_level': 5, 'child_friendly': 4, 'dog_friendly': 5, 'energy_level': 4, 'grooming': 3, 'health_issues': 1, 'intelligence': 4, 'shedding_level': 3, 'social_needs': 4, 'stranger_friendly': 4, 'vocalisation': 3, 'experimental': 0, 'hairless': 0, 'natural': 0, 'rare': 0, 'rex': 0, 'suppressed_tail': 0, 'short_legs': 0, 'wikipedia_url': 'https://en.wikipedia.org/wiki/Australian_Mist', 'hypoallergenic': 0, 'reference_image_id': '_6x-3TiCA'}, {'weight': {'imperial': '4 - 10', 'metric': '2 - 5'}, 'id': 'bali', 'name': 'Balinese', 'cfa_url': 'http://cfa.org/Breeds/BreedsAB/Balinese.aspx', 'vetstreet_url': 'http://www.vetstreet.com/cats/balinese', 'vcahospitals_url': 'https://vcahospitals.com/know-your-pet/cat-breeds/balinese', 'temperament': 'Affectionate, Intelligent, Playful', 'origin': 'United States', 'country_codes': 'US', 'country_code': 'US', 'description': 'Balinese are curious, outgoing, intelligent cats with excellent communication skills. They are known for their chatty personalities and are always eager to tell you their views on life, love, and what you’ve served them for dinner. ', 'life_span': '10 - 15', 'indoor': 0, 'alt_names': 'Long-haired Siamese', 'adaptability': 5, 'affection_level': 5, 'child_friendly': 4, 'dog_friendly': 5, 'energy_level': 5, 'grooming': 3, 'health_issues': 3, 'intelligence': 5, 'shedding_level': 3, 'social_needs': 5, 'stranger_friendly': 5, 'vocalisation': 5, 'experimental': 0, 'hairless': 0, 'natural': 0, 'rare': 0, 'rex': 0, 'suppressed_tail': 0, 'short_legs': 0, 'wikipedia_url': 'https://en.wikipedia.org/wiki/Balinese_(cat)', 'hypoallergenic': 1, 'reference_image_id': '13MkvUreZ'}, {'weight': {'imperial': '4 - 9', 'metric': '2 - 4'}, 'id': 'bamb', 'name': 'Bambino', 'temperament': 'Affectionate, Lively, Friendly, Intelligent', 'origin': 'United States', 'country_codes': 'US', 'country_code': 'US', 'description': 'The Bambino is a breed of cat that was created as a cross between the Sphynx and the Munchkin breeds. The Bambino cat has short legs, large upright ears, and is usually hairless. They love to be handled and cuddled up on the laps of their family members.', 'life_span': '12 - 14', 'indoor': 0, 'lap': 1, 'alt_names': '', 'adaptability': 5, 'affection_level': 5, 'child_friendly': 4, 'dog_friendly': 5, 'energy_level': 5, 'grooming': 1, 'health_issues': 1, 'intelligence': 5, 'shedding_level': 1, 'social_needs': 3, 'stranger_friendly': 3, 'vocalisation': 3, 'experimental': 1, 'hairless': 1, 'natural': 0, 'rare': 0, 'rex': 0, 'suppressed_tail': 0, 'short_legs': 1, 'wikipedia_url': 'https://en.wikipedia.org/wiki/Bambino_cat', 'hypoallergenic': 0, 'reference_image_id': '5AdhMjeEu'}, {'weight': {'imperial': '6 - 12', 'metric': '3 - 7'}, 'id': 'beng', 'name': 'Bengal', 'cfa_url': 'http://cfa.org/Breeds/BreedsAB/Bengal.aspx', 'vetstreet_url': 'http://www.vetstreet.com/cats/bengal', 'vcahospitals_url': 'https://vcahospitals.com/know-your-pet/cat-breeds/bengal', 'temperament': 'Alert, Agile, Energetic, Demanding, Intelligent', 'origin': 'United States', 'country_codes': 'US', 'country_code': 'US', 'description': \"Bengals are a lot of fun to live with, but they're definitely not the cat for everyone, or for first-time cat owners. Extremely intelligent, curious and active, they demand a lot of interaction and woe betide the owner who doesn't provide it.\", 'life_span': '12 - 15', 'indoor': 0, 'lap': 0, 'adaptability': 5, 'affection_level': 5, 'child_friendly': 4, 'cat_friendly': 4, 'dog_friendly': 5, 'energy_level': 5, 'grooming': 1, 'health_issues': 3, 'intelligence': 5, 'shedding_level': 3, 'social_needs': 5, 'stranger_friendly': 3, 'vocalisation': 5, 'bidability': 3, 'experimental': 0, 'hairless': 0, 'natural': 0, 'rare': 0, 'rex': 0, 'suppressed_tail': 0, 'short_legs': 0, 'wikipedia_url': 'https://en.wikipedia.org/wiki/Bengal_(cat)', 'hypoallergenic': 1, 'reference_image_id': 'O3btzLlsO'}, {'weight': {'imperial': '6 - 15', 'metric': '3 - 7'}, 'id': 'birm', 'name': 'Birman', 'cfa_url': 'http://cfa.org/Breeds/BreedsAB/Birman.aspx', 'vetstreet_url': 'http://www.vetstreet.com/cats/birman', 'vcahospitals_url': 'https://vcahospitals.com/know-your-pet/cat-breeds/birman', 'temperament': 'Affectionate, Active, Gentle, Social', 'origin': 'France', 'country_codes': 'FR', 'country_code': 'FR', 'description': 'The Birman is a docile, quiet cat who loves people and will follow them from room to room. Expect the Birman to want to be involved in what you’re doing. He communicates in a soft voice, mainly to remind you that perhaps it’s time for dinner or maybe for a nice cuddle on the sofa. He enjoys being held and will relax in your arms like a furry baby.', 'life_span': '14 - 15', 'indoor': 0, 'lap': 1, 'alt_names': 'Sacred Birman, Sacred Cat Of Burma', 'adaptability': 5, 'affection_level': 5, 'child_friendly': 4, 'dog_friendly': 5, 'energy_level': 3, 'grooming': 2, 'health_issues': 1, 'intelligence': 3, 'shedding_level': 3, 'social_needs': 4, 'stranger_friendly': 3, 'vocalisation': 1, 'experimental': 0, 'hairless': 0, 'natural': 0, 'rare': 0, 'rex': 0, 'suppressed_tail': 0, 'short_legs': 0, 'wikipedia_url': 'https://en.wikipedia.org/wiki/Birman', 'hypoallergenic': 0, 'reference_image_id': 'HOrX5gwLS'}, {'weight': {'imperial': '6 - 11', 'metric': '3 - 5'}, 'id': 'bomb', 'name': 'Bombay', 'cfa_url': 'http://cfa.org/Breeds/BreedsAB/Bombay.aspx', 'vetstreet_url': 'http://www.vetstreet.com/cats/bombay', 'vcahospitals_url': 'https://vcahospitals.com/know-your-pet/cat-breeds/bombay', 'temperament': 'Affectionate, Dependent, Gentle, Intelligent, Playful', 'origin': 'United States', 'country_codes': 'US', 'country_code': 'US', 'description': \"The the golden eyes and the shiny black coa of the Bopmbay is absolutely striking. Likely to bond most with one family member, the Bombay will follow you from room to room and will almost always have something to say about what you are doing, loving attention and to be carried around, often on his caregiver's shoulder.\", 'life_span': '12 - 16', 'indoor': 0, 'lap': 1, 'alt_names': 'Small black Panther', 'adaptability': 5, 'affection_level': 5, 'child_friendly': 4, 'dog_friendly': 5, 'energy_level': 3, 'grooming': 1, 'health_issues': 3, 'intelligence': 5, 'shedding_level': 3, 'social_needs': 4, 'stranger_friendly': 4, 'vocalisation': 5, 'experimental': 0, 'hairless': 0, 'natural': 0, 'rare': 0, 'rex': 0, 'suppressed_tail': 0, 'short_legs': 0, 'wikipedia_url': 'https://en.wikipedia.org/wiki/Bombay_(cat)', 'hypoallergenic': 0, 'reference_image_id': '5iYq9NmT1'}, {'weight': {'imperial': '8 - 18', 'metric': '4 - 8'}, 'id': 'bslo', 'name': 'British Longhair', 'temperament': 'Affectionate, Easy Going, Independent, Intelligent, Loyal, Social', 'origin': 'United Kingdom', 'country_codes': 'GB', 'country_code': 'GB', 'description': 'The British Longhair is a very laid-back relaxed cat, often perceived to be very independent although they will enjoy the company of an equally relaxed and likeminded cat. They are an affectionate breed, but very much on their own terms and tend to prefer to choose to come and sit with their owners rather than being picked up.', 'life_span': '12 - 14', 'indoor': 0, 'alt_names': '', 'adaptability': 5, 'affection_level': 5, 'child_friendly': 4, 'dog_friendly': 5, 'energy_level': 4, 'grooming': 5, 'health_issues': 1, 'intelligence': 5, 'shedding_level': 1, 'social_needs': 3, 'stranger_friendly': 4, 'vocalisation': 1, 'experimental': 0, 'hairless': 0, 'natural': 0, 'rare': 0, 'rex': 0, 'suppressed_tail': 0, 'short_legs': 0, 'wikipedia_url': 'https://en.wikipedia.org/wiki/British_Longhair', 'hypoallergenic': 0, 'reference_image_id': '7isAO4Cav'}, {'weight': {'imperial': '12 - 20', 'metric': '5 - 9'}, 'id': 'bsho', 'name': 'British Shorthair', 'cfa_url': 'http://cfa.org/Breeds/BreedsAB/BritishShorthair.aspx', 'vetstreet_url': 'http://www.vetstreet.com/cats/british-shorthair', 'vcahospitals_url': 'https://vcahospitals.com/know-your-pet/cat-breeds/british-shorthair', 'temperament': 'Affectionate, Easy Going, Gentle, Loyal, Patient, calm', 'origin': 'United Kingdom', 'country_codes': 'GB', 'country_code': 'GB', 'description': \"The British Shorthair is a very pleasant cat to have as a companion, ans is easy going and placid. The British is a fiercely loyal, loving cat and will attach herself to every one of her family members. While loving to play, she doesn't need hourly attention. If she is in the mood to play, she will find someone and bring a toy to that person. The British also plays well by herself, and thus is a good companion for single people.\", 'life_span': '12 - 17', 'indoor': 0, 'lap': 1, 'alt_names': 'Highlander, Highland Straight, Britannica', 'adaptability': 5, 'affection_level': 4, 'child_friendly': 4, 'dog_friendly': 5, 'energy_level': 2, 'grooming': 2, 'health_issues': 2, 'intelligence': 3, 'shedding_level': 4, 'social_needs': 3, 'stranger_friendly': 2, 'vocalisation': 1, 'experimental': 0, 'hairless': 0, 'natural': 1, 'rare': 0, 'rex': 0, 'suppressed_tail': 0, 'short_legs': 0, 'wikipedia_url': 'https://en.wikipedia.org/wiki/British_Shorthair', 'hypoallergenic': 0, 'reference_image_id': 's4wQfYoEk'}, {'weight': {'imperial': '6 - 12', 'metric': '3 - 5'}, 'id': 'bure', 'name': 'Burmese', 'cfa_url': 'http://cfa.org/Breeds/BreedsAB/Burmese.aspx', 'vetstreet_url': 'http://www.vetstreet.com/cats/burmese', 'vcahospitals_url': 'https://vcahospitals.com/know-your-pet/cat-breeds/burmese', 'temperament': 'Curious, Intelligent, Gentle, Social, Interactive, Playful, Lively', 'origin': 'Burma', 'country_codes': 'MM', 'country_code': 'MM', 'description': 'Burmese love being with people, playing with them, and keeping them entertained. They crave close physical contact and abhor an empty lap. They will follow their humans from room to room, and sleep in bed with them, preferably under the covers, cuddled as close as possible. At play, they will turn around to see if their human is watching and being entertained by their crazy antics.', 'life_span': '15 - 16', 'indoor': 0, 'lap': 1, 'alt_names': '', 'adaptability': 5, 'affection_level': 5, 'child_friendly': 4, 'dog_friendly': 5, 'energy_level': 4, 'grooming': 1, 'health_issues': 3, 'intelligence': 5, 'shedding_level': 3, 'social_needs': 5, 'stranger_friendly': 5, 'vocalisation': 5, 'experimental': 0, 'hairless': 0, 'natural': 0, 'rare': 0, 'rex': 0, 'suppressed_tail': 0, 'short_legs': 0, 'wikipedia_url': 'https://en.wikipedia.org/wiki/Burmese_(cat)', 'hypoallergenic': 1, 'reference_image_id': '4lXnnfxac'}, {'weight': {'imperial': '6 - 13', 'metric': '3 - 6'}, 'id': 'buri', 'name': 'Burmilla', 'cfa_url': 'http://cfa.org/Breeds/BreedsAB/Burmilla.aspx', 'vetstreet_url': 'http://www.vetstreet.com/cats/burmilla', 'temperament': 'Easy Going, Friendly, Intelligent, Lively, Playful, Social', 'origin': 'United Kingdom', 'country_codes': 'GB', 'country_code': 'GB', 'description': 'The Burmilla is a fairly placid cat. She tends to be an easy cat to get along with, requiring minimal care. The Burmilla is affectionate and sweet and makes a good companion, the Burmilla is an ideal companion to while away a lonely evening. Loyal, devoted, and affectionate, this cat will stay by its owner, always keeping them company.', 'life_span': '10 - 15', 'indoor': 0, 'lap': 1, 'alt_names': '', 'adaptability': 5, 'affection_level': 5, 'child_friendly': 4, 'dog_friendly': 4, 'energy_level': 3, 'grooming': 3, 'health_issues': 3, 'intelligence': 3, 'shedding_level': 3, 'social_needs': 4, 'stranger_friendly': 3, 'vocalisation': 5, 'experimental': 0, 'hairless': 0, 'natural': 0, 'rare': 0, 'rex': 0, 'suppressed_tail': 0, 'short_legs': 0, 'wikipedia_url': 'https://en.wikipedia.org/wiki/Burmilla', 'hypoallergenic': 0, 'reference_image_id': 'jvg3XfEdC'}, {'weight': {'imperial': '10 - 15', 'metric': '5 - 7'}, 'id': 'cspa', 'name': 'California Spangled', 'temperament': 'Affectionate, Curious, Intelligent, Loyal, Social', 'origin': 'United States', 'country_codes': 'US', 'country_code': 'US', 'description': 'Perhaps the only thing about the California spangled cat that isn’t wild-like is its personality. Known to be affectionate, gentle and sociable, this breed enjoys spending a great deal of time with its owners. They are very playful, often choosing to perch in high locations and show off their acrobatic skills.', 'life_span': '10 - 14', 'indoor': 0, 'alt_names': 'Spangle', 'adaptability': 5, 'affection_level': 5, 'child_friendly': 4, 'dog_friendly': 5, 'energy_level': 5, 'grooming': 1, 'health_issues': 1, 'intelligence': 5, 'shedding_level': 1, 'social_needs': 3, 'stranger_friendly': 4, 'vocalisation': 1, 'experimental': 0, 'hairless': 0, 'natural': 0, 'rare': 0, 'rex': 0, 'suppressed_tail': 0, 'short_legs': 0, 'wikipedia_url': 'https://en.wikipedia.org/wiki/California_Spangled', 'hypoallergenic': 0, 'reference_image_id': 'B1ERTmgph'}, {'weight': {'imperial': '7 - 12', 'metric': '3 - 5'}, 'id': 'ctif', 'name': 'Chantilly-Tiffany', 'temperament': 'Affectionate, Demanding, Interactive, Loyal', 'origin': 'United States', 'country_codes': 'US', 'country_code': 'US', 'description': 'The Chantilly is a devoted companion and prefers company to being left alone. While the Chantilly is not demanding, she will \"chirp\" and \"talk\" as if having a conversation. This breed is affectionate, with a sweet temperament. It can stay still for extended periods, happily lounging in the lap of its loved one. This quality makes the Tiffany an ideal traveling companion, and an ideal house companion for senior citizens and the physically handicapped.', 'life_span': '14 - 16', 'indoor': 0, 'lap': 1, 'alt_names': 'Chantilly, Foreign Longhair', 'adaptability': 5, 'affection_level': 5, 'child_friendly': 4, 'dog_friendly': 5, 'energy_level': 4, 'grooming': 5, 'health_issues': 1, 'intelligence': 5, 'shedding_level': 5, 'social_needs': 3, 'stranger_friendly': 4, 'vocalisation': 5, 'experimental': 0, 'hairless': 0, 'natural': 0, 'rare': 0, 'rex': 0, 'suppressed_tail': 0, 'short_legs': 0, 'wikipedia_url': 'https://en.wikipedia.org/wiki/Chantilly-Tiffany', 'hypoallergenic': 0, 'reference_image_id': 'TR-5nAd_S'}, {'weight': {'imperial': '6 - 15', 'metric': '3 - 7'}, 'id': 'char', 'name': 'Chartreux', 'cfa_url': 'http://cfa.org/Breeds/BreedsCJ/Chartreux.aspx', 'vetstreet_url': 'http://www.vetstreet.com/cats/chartreux', 'vcahospitals_url': 'https://vcahospitals.com/know-your-pet/cat-breeds/chartreux', 'temperament': 'Affectionate, Loyal, Intelligent, Social, Lively, Playful', 'origin': 'France', 'country_codes': 'FR', 'country_code': 'FR', 'description': 'The Chartreux is generally silent but communicative. Short play sessions, mixed with naps and meals are their perfect day. Whilst appreciating any attention you give them, they are not demanding, content instead to follow you around devotedly, sleep on your bed and snuggle with you if you’re not feeling well.', 'life_span': '12 - 15', 'indoor': 0, 'lap': 1, 'alt_names': '', 'adaptability': 5, 'affection_level': 5, 'child_friendly': 4, 'dog_friendly': 5, 'energy_level': 2, 'grooming': 1, 'health_issues': 2, 'intelligence': 4, 'shedding_level': 3, 'social_needs': 5, 'stranger_friendly': 5, 'vocalisation': 1, 'experimental': 0, 'hairless': 0, 'natural': 0, 'rare': 0, 'rex': 1, 'suppressed_tail': 0, 'short_legs': 0, 'wikipedia_url': 'https://en.wikipedia.org/wiki/Chartreux', 'hypoallergenic': 1, 'reference_image_id': 'j6oFGLpRG'}, {'weight': {'imperial': '7 - 15', 'metric': '3 - 7'}, 'id': 'chau', 'name': 'Chausie', 'temperament': 'Affectionate, Intelligent, Playful, Social', 'origin': 'Egypt', 'country_codes': 'EG', 'country_code': 'EG', 'description': 'For those owners who desire a feline capable of evoking the great outdoors, the strikingly beautiful Chausie retains a bit of the wild in its appearance but has the house manners of our friendly, familiar moggies. Very playful, this cat needs a large amount of space to be able to fully embrace its hunting instincts.', 'life_span': '12 - 14', 'indoor': 0, 'alt_names': 'Nile Cat', 'adaptability': 5, 'affection_level': 5, 'child_friendly': 4, 'dog_friendly': 5, 'energy_level': 4, 'grooming': 3, 'health_issues': 1, 'intelligence': 5, 'shedding_level': 3, 'social_needs': 3, 'stranger_friendly': 4, 'vocalisation': 1, 'experimental': 1, 'hairless': 0, 'natural': 0, 'rare': 0, 'rex': 0, 'suppressed_tail': 0, 'short_legs': 0, 'wikipedia_url': 'https://en.wikipedia.org/wiki/Chausie', 'hypoallergenic': 0, 'reference_image_id': 'vJ3lEYgXr'}, {'weight': {'imperial': '8 - 15', 'metric': '4 - 7'}, 'id': 'chee', 'name': 'Cheetoh', 'temperament': 'Affectionate, Gentle, Intelligent, Social', 'origin': 'United States', 'country_codes': 'US', 'country_code': 'US', 'description': 'The Cheetoh has a super affectionate nature and real love for their human companions; they are intelligent with the ability to learn quickly. You can expect that a Cheetoh will be a fun-loving kitty who enjoys playing, running, and jumping through every room in your house.', 'life_span': '12 - 14', 'indoor': 0, 'alt_names': '\\xa0', 'adaptability': 5, 'affection_level': 5, 'child_friendly': 4, 'dog_friendly': 5, 'energy_level': 4, 'grooming': 1, 'health_issues': 1, 'intelligence': 5, 'shedding_level': 1, 'social_needs': 3, 'stranger_friendly': 4, 'vocalisation': 5, 'experimental': 0, 'hairless': 0, 'natural': 0, 'rare': 0, 'rex': 0, 'suppressed_tail': 0, 'short_legs': 0, 'wikipedia_url': 'https://en.wikipedia.org/wiki/Bengal_cat#Cheetoh', 'hypoallergenic': 0, 'reference_image_id': 'IFXsxmXLm'}, {'weight': {'imperial': '4 - 10', 'metric': '2 - 5'}, 'id': 'csho', 'name': 'Colorpoint Shorthair', 'cfa_url': 'http://cfa.org/Breeds/BreedsCJ/ColorpointShorthair.aspx', 'vcahospitals_url': 'https://vcahospitals.com/know-your-pet/cat-breeds/colorpoint-shorthair', 'temperament': 'Affectionate, Intelligent, Playful, Social', 'origin': 'United States', 'country_codes': 'US', 'country_code': 'US', 'description': 'Colorpoint Shorthairs are an affectionate breed, devoted and loyal to their people. Sensitive to their owner’s moods, Colorpoints are more than happy to sit at your side or on your lap and purr words of encouragement on a bad day. They will constantly seek out your lap whenever it is open and in the moments when your lap is preoccupied they will stretch out in sunny spots on the ground.', 'life_span': '12 - 16', 'indoor': 0, 'lap': 1, 'alt_names': '', 'adaptability': 3, 'affection_level': 4, 'child_friendly': 4, 'cat_friendly': 3, 'dog_friendly': 4, 'energy_level': 4, 'grooming': 2, 'health_issues': 2, 'intelligence': 5, 'shedding_level': 3, 'social_needs': 4, 'stranger_friendly': 2, 'vocalisation': 5, 'bidability': 4, 'experimental': 0, 'hairless': 0, 'natural': 0, 'rare': 0, 'rex': 0, 'suppressed_tail': 0, 'short_legs': 0, 'wikipedia_url': 'https://en.wikipedia.org/wiki/Colorpoint_Shorthair', 'hypoallergenic': 0, 'reference_image_id': 'oSpqGyUDS'}, {'weight': {'imperial': '5 - 9', 'metric': '2 - 4'}, 'id': 'crex', 'name': 'Cornish Rex', 'cfa_url': 'http://cfa.org/Breeds/BreedsCJ/CornishRex.aspx', 'vetstreet_url': 'http://www.vetstreet.com/cats/cornish-rex', 'vcahospitals_url': 'https://vcahospitals.com/know-your-pet/cat-breeds/cornish-rex', 'temperament': 'Affectionate, Intelligent, Active, Curious, Playful', 'origin': 'United Kingdom', 'country_codes': 'GB', 'country_code': 'GB', 'description': 'This is a confident cat who loves people and will follow them around, waiting for any opportunity to sit in a lap or give a kiss. He enjoys being handled, making it easy to take him to the veterinarian or train him for therapy work. The Cornish Rex stay in kitten mode most of their lives and well into their senior years. ', 'life_span': '11 - 14', 'indoor': 0, 'lap': 1, 'alt_names': '', 'adaptability': 5, 'affection_level': 5, 'child_friendly': 4, 'cat_friendly': 2, 'dog_friendly': 5, 'energy_level': 5, 'grooming': 1, 'health_issues': 2, 'intelligence': 5, 'shedding_level': 1, 'social_needs': 5, 'stranger_friendly': 3, 'vocalisation': 1, 'experimental': 0, 'hairless': 0, 'natural': 0, 'rare': 0, 'rex': 1, 'suppressed_tail': 0, 'short_legs': 0, 'wikipedia_url': 'https://en.wikipedia.org/wiki/Cornish_Rex', 'hypoallergenic': 1, 'reference_image_id': 'unX21IBVB'}, {'weight': {'imperial': '8 - 13', 'metric': '4 - 6'}, 'id': 'cymr', 'name': 'Cymric', 'vetstreet_url': 'http://www.vetstreet.com/cats/cymric', 'temperament': 'Gentle, Loyal, Intelligent, Playful', 'origin': 'Canada', 'country_codes': 'CA', 'country_code': 'CA', 'description': 'The Cymric is a placid, sweet cat. They do not get too upset about anything that happens in their world. They are loving companions and adore people. They are smart and dexterous, capable of using his paws to get into cabinets or to open doors.', 'life_span': '8 - 14', 'indoor': 0, 'lap': 1, 'alt_names': 'Spangle', 'adaptability': 5, 'affection_level': 5, 'child_friendly': 4, 'dog_friendly': 5, 'energy_level': 5, 'grooming': 3, 'health_issues': 3, 'intelligence': 5, 'shedding_level': 5, 'social_needs': 5, 'stranger_friendly': 3, 'vocalisation': 3, 'experimental': 0, 'hairless': 0, 'natural': 0, 'rare': 0, 'rex': 0, 'suppressed_tail': 1, 'short_legs': 0, 'wikipedia_url': 'https://en.wikipedia.org/wiki/Cymric_(cat)', 'hypoallergenic': 0, 'reference_image_id': '3dbtapCWM'}, {'weight': {'imperial': '8 - 16', 'metric': '4 - 7'}, 'id': 'cypr', 'name': 'Cyprus', 'temperament': 'Affectionate, Social', 'origin': 'Cyprus', 'country_codes': 'CY', 'country_code': 'CY', 'description': 'Loving, loyal, social and inquisitive, the Cyprus cat forms strong ties with their families and love nothing more than to be involved in everything that goes on in their surroundings. They are not overly active by nature which makes them the perfect companion for people who would like to share their homes with a laid-back relaxed feline companion. ', 'life_span': '12 - 15', 'indoor': 0, 'lap': 1, 'alt_names': 'Cypriot cat', 'adaptability': 5, 'affection_level': 5, 'child_friendly': 4, 'dog_friendly': 5, 'energy_level': 4, 'grooming': 3, 'health_issues': 1, 'intelligence': 3, 'shedding_level': 3, 'social_needs': 3, 'stranger_friendly': 4, 'vocalisation': 3, 'experimental': 0, 'hairless': 0, 'natural': 1, 'rare': 0, 'rex': 0, 'suppressed_tail': 0, 'short_legs': 0, 'wikipedia_url': 'https://en.wikipedia.org/wiki/Cyprus_cat', 'hypoallergenic': 0, 'reference_image_id': 'tJbzb7FKo'}, {'weight': {'imperial': '5 - 10', 'metric': '2 - 5'}, 'id': 'drex', 'name': 'Devon Rex', 'cfa_url': 'http://cfa.org/Breeds/BreedsCJ/DevonRex.aspx', 'vetstreet_url': 'http://www.vetstreet.com/cats/devon-rex', 'vcahospitals_url': 'https://vcahospitals.com/know-your-pet/cat-breeds/devon-rex', 'temperament': 'Highly interactive, Mischievous, Loyal, Social, Playful', 'origin': 'United Kingdom', 'country_codes': 'GB', 'country_code': 'GB', 'description': 'The favourite perch of the Devon Rex is right at head level, on the shoulder of her favorite person. She takes a lively interest in everything that is going on and refuses to be left out of any activity. Count on her to stay as close to you as possible, occasionally communicating his opinions in a quiet voice. She loves people and welcomes the attentions of friends and family alike.', 'life_span': '10 - 15', 'indoor': 0, 'lap': 1, 'alt_names': 'Pixie cat, Alien cat, Poodle cat', 'adaptability': 5, 'affection_level': 5, 'child_friendly': 4, 'dog_friendly': 5, 'energy_level': 5, 'grooming': 1, 'health_issues': 3, 'intelligence': 5, 'shedding_level': 1, 'social_needs': 5, 'stranger_friendly': 5, 'vocalisation': 1, 'experimental': 0, 'hairless': 0, 'natural': 0, 'rare': 0, 'rex': 1, 'suppressed_tail': 0, 'short_legs': 0, 'wikipedia_url': 'https://en.wikipedia.org/wiki/Devon_Rex', 'hypoallergenic': 1, 'reference_image_id': '4RzEwvyzz'}, {'weight': {'imperial': '10 - 12', 'metric': '5 - 6'}, 'id': 'dons', 'name': 'Donskoy', 'temperament': 'Playful, affectionate, loyal, social', 'origin': 'Russia', 'country_codes': 'RU', 'country_code': 'RU', 'description': 'Donskoy are affectionate, intelligent, and easy-going. They demand lots of attention and interaction. The Donskoy also gets along well with other pets. It is now thought the same gene that causes degrees of hairlessness in the Donskoy also causes alterations in cat personality, making them calmer the less hair they have.', 'life_span': '12 - 15', 'indoor': 0, 'adaptability': 4, 'affection_level': 4, 'child_friendly': 3, 'cat_friendly': 3, 'dog_friendly': 3, 'energy_level': 4, 'grooming': 2, 'health_issues': 3, 'intelligence': 3, 'shedding_level': 1, 'social_needs': 5, 'stranger_friendly': 5, 'vocalisation': 2, 'experimental': 0, 'hairless': 1, 'natural': 0, 'rare': 1, 'rex': 0, 'suppressed_tail': 0, 'short_legs': 0, 'wikipedia_url': 'https://en.wikipedia.org/wiki/Donskoy_(cat)', 'hypoallergenic': 0, 'reference_image_id': '3KG57GfMW'}, {'weight': {'imperial': '9 - 12', 'metric': '4 - 6'}, 'id': 'lihu', 'name': 'Dragon Li', 'vetstreet_url': 'http://www.vetstreet.com/cats/li-hua', 'temperament': 'Intelligent, Friendly, Gentle, Loving, Loyal', 'origin': 'China', 'country_codes': 'CN', 'country_code': 'CN', 'description': \"The Dragon Li is loyal, but not particularly affectionate. They are known to be very intelligent, and their natural breed status means that they're very active. She is is gentle with people, and has a reputation as a talented hunter of rats and other vermin.\", 'life_span': '12 - 15', 'indoor': 1, 'alt_names': 'Chinese Lia Hua, Lí hua māo (貍花貓), Li Hua', 'adaptability': 3, 'affection_level': 3, 'child_friendly': 3, 'cat_friendly': 3, 'dog_friendly': 3, 'energy_level': 3, 'grooming': 1, 'health_issues': 1, 'intelligence': 3, 'shedding_level': 3, 'social_needs': 4, 'stranger_friendly': 3, 'vocalisation': 3, 'experimental': 0, 'hairless': 0, 'natural': 1, 'rare': 0, 'rex': 0, 'suppressed_tail': 0, 'short_legs': 0, 'wikipedia_url': 'https://en.wikipedia.org/wiki/Dragon_Li', 'hypoallergenic': 0, 'reference_image_id': 'BQMSld0A0'}, {'weight': {'imperial': '6 - 14', 'metric': '3 - 6'}, 'id': 'emau', 'name': 'Egyptian Mau', 'cfa_url': 'http://cfa.org/Breeds/BreedsCJ/EgyptianMau.aspx', 'vetstreet_url': 'http://www.vetstreet.com/cats/egyptian-mau', 'vcahospitals_url': 'https://vcahospitals.com/know-your-pet/cat-breeds/egyptian-mau', 'temperament': 'Agile, Dependent, Gentle, Intelligent, Lively, Loyal, Playful', 'origin': 'Egypt', 'country_codes': 'EG', 'country_code': 'EG', 'description': 'The Egyptian Mau is gentle and reserved. She loves her people and desires attention and affection from them but is wary of others. Early, continuing socialization is essential with this sensitive and sometimes shy cat, especially if you plan to show or travel with her. Otherwise, she can be easily startled by unexpected noises or events.', 'life_span': '18 - 20', 'indoor': 0, 'lap': 1, 'alt_names': 'Pharaoh Cat', 'adaptability': 2, 'affection_level': 5, 'child_friendly': 3, 'dog_friendly': 3, 'energy_level': 5, 'grooming': 1, 'health_issues': 3, 'intelligence': 4, 'shedding_level': 3, 'social_needs': 4, 'stranger_friendly': 2, 'vocalisation': 3, 'experimental': 0, 'hairless': 0, 'natural': 1, 'rare': 0, 'rex': 0, 'suppressed_tail': 0, 'short_legs': 0, 'wikipedia_url': 'https://en.wikipedia.org/wiki/Egyptian_Mau', 'hypoallergenic': 0, 'reference_image_id': 'TuSyTkt2n'}, {'weight': {'imperial': '7 - 14', 'metric': '3 - 6'}, 'id': 'ebur', 'name': 'European Burmese', 'cfa_url': 'http://cfa.org/Breeds/BreedsCJ/EuropeanBurmese.aspx', 'temperament': 'Sweet, Affectionate, Loyal', 'origin': 'Burma', 'country_codes': 'MM', 'country_code': 'MM', 'description': 'The European Burmese is a very affectionate, intelligent, and loyal cat. They thrive on companionship and will want to be with you, participating in everything you do. While they might pick a favorite family member, chances are that they will interact with everyone in the home, as well as any visitors that come to call. They are inquisitive and playful, even as adults. ', 'life_span': '10 - 15', 'indoor': 0, 'lap': 1, 'alt_names': '', 'adaptability': 5, 'affection_level': 5, 'child_friendly': 4, 'cat_friendly': 4, 'dog_friendly': 4, 'energy_level': 4, 'grooming': 1, 'health_issues': 4, 'intelligence': 5, 'shedding_level': 3, 'social_needs': 5, 'stranger_friendly': 5, 'vocalisation': 4, 'experimental': 0, 'hairless': 0, 'natural': 0, 'rare': 0, 'rex': 0, 'suppressed_tail': 0, 'short_legs': 0, 'hypoallergenic': 0}, {'weight': {'imperial': '7 - 14', 'metric': '3 - 6'}, 'id': 'esho', 'name': 'Exotic Shorthair', 'cfa_url': 'http://cfa.org/Breeds/BreedsCJ/Exotic.aspx', 'vetstreet_url': 'http://www.vetstreet.com/cats/exotic-shorthair', 'vcahospitals_url': 'https://vcahospitals.com/know-your-pet/cat-breeds/exotic-shorthair', 'temperament': 'Affectionate, Sweet, Loyal, Quiet, Peaceful', 'origin': 'United States', 'country_codes': 'US', 'country_code': 'US', 'description': 'The Exotic Shorthair is a gentle friendly cat that has the same personality as the Persian. They love having fun, don’t mind the company of other cats and dogs, also love to curl up for a sleep in a safe place. Exotics love their own people, but around strangers they are cautious at first. Given time, they usually warm up to visitors.', 'life_span': '12 - 15', 'indoor': 0, 'lap': 1, 'alt_names': 'Exotic', 'adaptability': 5, 'affection_level': 5, 'child_friendly': 3, 'dog_friendly': 3, 'energy_level': 3, 'grooming': 2, 'health_issues': 3, 'intelligence': 3, 'shedding_level': 2, 'social_needs': 4, 'stranger_friendly': 2, 'vocalisation': 1, 'experimental': 0, 'hairless': 0, 'natural': 0, 'rare': 0, 'rex': 0, 'suppressed_tail': 0, 'short_legs': 0, 'wikipedia_url': 'https://en.wikipedia.org/wiki/Exotic_Shorthair', 'hypoallergenic': 0, 'reference_image_id': 'YnPrYEmfe'}, {'weight': {'imperial': '6 - 10', 'metric': '3 - 5'}, 'id': 'hbro', 'name': 'Havana Brown', 'cfa_url': 'http://cfa.org/Breeds/BreedsCJ/HavanaBrown.aspx', 'vetstreet_url': 'http://www.vetstreet.com/cats/havana-brown', 'vcahospitals_url': 'https://vcahospitals.com/know-your-pet/cat-breeds/havana-brown', 'temperament': 'Affectionate, Curious, Demanding, Friendly, Intelligent, Playful', 'origin': 'United Kingdom', 'country_codes': 'GB', 'country_code': 'GB', 'description': 'The Havana Brown is human oriented, playful, and curious. She has a strong desire to spend time with her people and involve herself in everything they do. Being naturally inquisitive, the Havana Brown reaches out with a paw to touch and feel when investigating curiosities in its environment. They are truly sensitive by nature and frequently gently touch their human companions as if they are extending a paw of friendship.', 'life_span': '10 - 15', 'indoor': 0, 'lap': 1, 'alt_names': 'Havana, HB', 'adaptability': 5, 'affection_level': 5, 'child_friendly': 4, 'dog_friendly': 5, 'energy_level': 3, 'grooming': 1, 'health_issues': 1, 'intelligence': 5, 'shedding_level': 3, 'social_needs': 5, 'stranger_friendly': 3, 'vocalisation': 1, 'experimental': 0, 'hairless': 0, 'natural': 0, 'rare': 0, 'rex': 0, 'suppressed_tail': 0, 'short_legs': 0, 'wikipedia_url': 'https://en.wikipedia.org/wiki/Havana_Brown', 'hypoallergenic': 0, 'reference_image_id': 'njK25knLH'}, {'weight': {'imperial': '7 - 14', 'metric': '3 - 6'}, 'id': 'hima', 'name': 'Himalayan', 'vetstreet_url': 'http://www.vetstreet.com/cats/himalayan', 'vcahospitals_url': 'https://vcahospitals.com/know-your-pet/cat-breeds/himalayan', 'temperament': 'Dependent, Gentle, Intelligent, Quiet, Social', 'origin': 'United States', 'country_codes': 'US', 'country_code': 'US', 'description': 'Calm and devoted, Himalayans make excellent companions, though they prefer a quieter home. They are playful in a sedate kind of way and enjoy having an assortment of toys. The Himalayan will stretch out next to you, sleep in your bed and even sit on your lap when she is in the mood.', 'life_span': '9 - 15', 'indoor': 0, 'lap': 1, 'alt_names': 'Himalayan Persian, Colourpoint Persian, Longhaired Colourpoint, Himmy', 'adaptability': 5, 'affection_level': 5, 'child_friendly': 2, 'dog_friendly': 2, 'energy_level': 1, 'grooming': 5, 'health_issues': 3, 'intelligence': 3, 'shedding_level': 4, 'social_needs': 4, 'stranger_friendly': 2, 'vocalisation': 1, 'experimental': 0, 'hairless': 0, 'natural': 0, 'rare': 0, 'rex': 0, 'suppressed_tail': 0, 'short_legs': 0, 'wikipedia_url': 'https://en.wikipedia.org/wiki/Himalayan_(cat)', 'hypoallergenic': 0, 'reference_image_id': 'CDhOtM-Ig'}, {'weight': {'imperial': '5 - 10', 'metric': '2 - 5'}, 'id': 'jbob', 'name': 'Japanese Bobtail', 'cfa_url': 'http://cfa.org/Breeds/BreedsCJ/JapaneseBobtail.aspx', 'vetstreet_url': 'http://www.vetstreet.com/cats/japanese-bobtail', 'vcahospitals_url': 'https://vcahospitals.com/know-your-pet/cat-breeds/japanese-bobtail', 'temperament': 'Active, Agile, Clever, Easy Going, Intelligent, Lively, Loyal, Playful, Social', 'origin': 'Japan', 'country_codes': 'JP', 'country_code': 'JP', 'description': 'The Japanese Bobtail is an active, sweet, loving and highly intelligent breed. They love to be with people and play seemingly endlessly. They learn their name and respond to it. They bring toys to people and play fetch with a favorite toy for hours. Bobtails are social and are at their best when in the company of people. They take over the house and are not intimidated. If a dog is in the house, Bobtails assume Bobtails are in charge.', 'life_span': '14 - 16', 'indoor': 0, 'lap': 1, 'alt_names': 'Japanese Truncated Cat', 'adaptability': 5, 'affection_level': 5, 'child_friendly': 4, 'dog_friendly': 5, 'energy_level': 5, 'grooming': 1, 'health_issues': 1, 'intelligence': 5, 'shedding_level': 3, 'social_needs': 5, 'stranger_friendly': 5, 'vocalisation': 5, 'experimental': 0, 'hairless': 0, 'natural': 1, 'rare': 0, 'rex': 0, 'suppressed_tail': 1, 'short_legs': 0, 'wikipedia_url': 'https://en.wikipedia.org/wiki/Japanese_Bobtail', 'hypoallergenic': 0, 'reference_image_id': '-tm9-znzl'}, {'weight': {'imperial': '5 - 10', 'metric': '2 - 5'}, 'id': 'java', 'name': 'Javanese', 'vetstreet_url': 'http://www.vetstreet.com/cats/javanese', 'vcahospitals_url': 'https://vcahospitals.com/know-your-pet/cat-breeds/javanese', 'temperament': 'Active, Devoted, Intelligent, Playful', 'origin': 'United States', 'country_codes': 'US', 'country_code': 'US', 'description': 'Javanese are endlessly interested, intelligent and active. They tend to enjoy jumping to great heights, playing with fishing pole-type or other interactive toys and just generally investigating their surroundings. He will attempt to copy things you do, such as opening doors or drawers.', 'life_span': '10 - 12', 'indoor': 0, 'alt_names': '\\xa0', 'adaptability': 4, 'affection_level': 5, 'child_friendly': 4, 'dog_friendly': 4, 'energy_level': 5, 'grooming': 1, 'health_issues': 3, 'intelligence': 5, 'shedding_level': 2, 'social_needs': 5, 'stranger_friendly': 3, 'vocalisation': 5, 'experimental': 0, 'hairless': 0, 'natural': 0, 'rare': 0, 'rex': 0, 'suppressed_tail': 0, 'short_legs': 0, 'wikipedia_url': 'https://en.wikipedia.org/wiki/Javanese_cat', 'hypoallergenic': 1, 'reference_image_id': 'xoI_EpOKe'}, {'weight': {'imperial': '8 - 12', 'metric': '4 - 6'}, 'id': 'khao', 'name': 'Khao Manee', 'cfa_url': 'http://cfa.org/Breeds/BreedsKthruR/KhaoManee.aspx', 'temperament': 'Calm, Relaxed, Talkative, Playful, Warm', 'origin': 'Thailand', 'country_codes': 'TH', 'country_code': 'TH', 'description': 'The Khao Manee is highly intelligent, with an extrovert and inquisitive nature, however they are also very calm and relaxed, making them an idea lap cat.', 'life_span': '10 - 12', 'indoor': 0, 'lap': 1, 'alt_names': 'Diamond Eye cat', 'adaptability': 4, 'affection_level': 4, 'child_friendly': 3, 'cat_friendly': 3, 'dog_friendly': 3, 'energy_level': 3, 'grooming': 3, 'health_issues': 1, 'intelligence': 4, 'shedding_level': 3, 'social_needs': 3, 'stranger_friendly': 3, 'vocalisation': 5, 'experimental': 0, 'hairless': 0, 'natural': 0, 'rare': 0, 'rex': 0, 'suppressed_tail': 0, 'short_legs': 0, 'wikipedia_url': 'https://en.wikipedia.org/wiki/Khao_Manee', 'hypoallergenic': 0, 'reference_image_id': '165ok6ESN'}, {'weight': {'imperial': '7 - 11', 'metric': '3 - 5'}, 'id': 'kora', 'name': 'Korat', 'cfa_url': 'http://cfa.org/Breeds/BreedsKthruR/Korat.aspx', 'vetstreet_url': 'http://www.vetstreet.com/cats/korat', 'vcahospitals_url': 'https://vcahospitals.com/know-your-pet/cat-breeds/korat', 'temperament': 'Active, Loyal, highly intelligent, Expressive, Trainable', 'origin': 'Thailand', 'country_codes': 'TH', 'country_code': 'TH', 'description': 'The Korat is a natural breed, and one of the oldest stable cat breeds. They are highly intelligent and confident cats that can be fearless, although they are startled by loud sounds and sudden movements. Korats form strong bonds with their people and like to cuddle and stay nearby.', 'life_span': '10 - 15', 'indoor': 0, 'adaptability': 5, 'affection_level': 5, 'child_friendly': 4, 'dog_friendly': 5, 'energy_level': 3, 'grooming': 1, 'health_issues': 1, 'intelligence': 5, 'shedding_level': 3, 'social_needs': 5, 'stranger_friendly': 2, 'vocalisation': 3, 'experimental': 0, 'hairless': 0, 'natural': 0, 'rare': 1, 'rex': 0, 'suppressed_tail': 0, 'short_legs': 0, 'wikipedia_url': 'https://en.wikipedia.org/wiki/Korat', 'hypoallergenic': 0, 'reference_image_id': 'DbwiefiaY'}, {'weight': {'imperial': '8 - 15', 'metric': '4 - 7'}, 'id': 'kuri', 'name': 'Kurilian', 'vetstreet_url': 'http://www.vetstreet.com/cats/kurilian-bobtail', 'temperament': 'Independent, highly intelligent, clever, inquisitive, sociable, playful, trainable', 'origin': 'Russia', 'country_codes': 'RU', 'country_code': 'RU', 'description': 'The character of the Kurilian Bobtail is independent, highly intelligent, clever, inquisitive, sociable, playful, trainable, absent of aggression and very gentle. They are devoted to their humans and when allowed are either on the lap of or sleeping in bed with their owners.', 'life_span': '15 - 20', 'indoor': 0, 'adaptability': 5, 'affection_level': 5, 'child_friendly': 5, 'dog_friendly': 5, 'energy_level': 5, 'grooming': 1, 'health_issues': 1, 'intelligence': 5, 'shedding_level': 2, 'social_needs': 5, 'stranger_friendly': 5, 'vocalisation': 3, 'experimental': 0, 'hairless': 0, 'natural': 1, 'rare': 0, 'rex': 0, 'suppressed_tail': 1, 'short_legs': 0, 'wikipedia_url': 'https://en.wikipedia.org/wiki/Kurilian_Bobtail', 'hypoallergenic': 0, 'reference_image_id': 'NZpO4pU56M'}, {'weight': {'imperial': '6 - 10', 'metric': '3 - 5'}, 'id': 'lape', 'name': 'LaPerm', 'cfa_url': 'http://cfa.org/Breeds/BreedsKthruR/LaPerm.aspx', 'vetstreet_url': 'http://www.vetstreet.com/cats/laperm', 'vcahospitals_url': 'https://vcahospitals.com/know-your-pet/cat-breeds/laperm', 'temperament': 'Affectionate, Friendly, Gentle, Intelligent, Playful, Quiet', 'origin': 'Thailand', 'country_codes': 'TH', 'country_code': 'TH', 'description': 'LaPerms are gentle and affectionate but also very active. Unlike many active breeds, the LaPerm is also quite content to be a lap cat. The LaPerm will often follow your lead; that is, if they are busy playing and you decide to sit and relax, simply pick up your LaPerm and sit down with it, and it will stay in your lap, devouring the attention you give it.', 'life_span': '10 - 15', 'indoor': 0, 'lap': 1, 'alt_names': 'Si-Sawat', 'adaptability': 5, 'affection_level': 5, 'child_friendly': 4, 'dog_friendly': 5, 'energy_level': 4, 'grooming': 1, 'health_issues': 1, 'intelligence': 5, 'shedding_level': 3, 'social_needs': 4, 'stranger_friendly': 4, 'vocalisation': 3, 'experimental': 0, 'hairless': 0, 'natural': 0, 'rare': 0, 'rex': 1, 'suppressed_tail': 0, 'short_legs': 0, 'wikipedia_url': 'https://en.wikipedia.org/wiki/LaPerm', 'hypoallergenic': 1, 'reference_image_id': 'aKbsEYjSl'}, {'weight': {'imperial': '12 - 18', 'metric': '5 - 8'}, 'id': 'mcoo', 'name': 'Maine Coon', 'cfa_url': 'http://cfa.org/Breeds/BreedsKthruR/MaineCoon.aspx', 'vetstreet_url': 'http://www.vetstreet.com/cats/maine-coon', 'vcahospitals_url': 'https://vcahospitals.com/know-your-pet/cat-breeds/maine-coon', 'temperament': 'Adaptable, Intelligent, Loving, Gentle, Independent', 'origin': 'United States', 'country_codes': 'US', 'country_code': 'US', 'description': 'They are known for their size and luxurious long coat Maine Coons are considered a gentle giant. The good-natured and affable Maine Coon adapts well to many lifestyles and personalities. She likes being with people and has the habit of following them around, but isn’t needy. Most Maine Coons love water and they can be quite good swimmers.', 'life_span': '12 - 15', 'indoor': 0, 'lap': 1, 'alt_names': 'Coon Cat, Maine Cat, Maine Shag, Snowshoe Cat, American Longhair, The Gentle Giants', 'adaptability': 5, 'affection_level': 5, 'child_friendly': 4, 'dog_friendly': 5, 'energy_level': 3, 'grooming': 3, 'health_issues': 3, 'intelligence': 5, 'shedding_level': 3, 'social_needs': 3, 'stranger_friendly': 5, 'vocalisation': 1, 'experimental': 0, 'hairless': 0, 'natural': 1, 'rare': 0, 'rex': 0, 'suppressed_tail': 0, 'short_legs': 0, 'wikipedia_url': 'https://en.wikipedia.org/wiki/Maine_Coon', 'hypoallergenic': 0, 'reference_image_id': 'OOD3VXAQn'}, {'weight': {'imperial': '6 - 13', 'metric': '3 - 6'}, 'id': 'mala', 'name': 'Malayan', 'temperament': 'Affectionate, Interactive, Playful, Social', 'origin': 'United Kingdom', 'country_codes': 'GB', 'country_code': 'GB', 'description': 'Malayans love to explore and even enjoy traveling by way of a cat carrier. They are quite a talkative and rather loud cat with an apparent strong will. These cats will make sure that you give it the attention it seeks and always seem to want to be held and hugged. They will constantly interact with people, even strangers. They love to play and cuddle.', 'life_span': '12 - 18', 'indoor': 0, 'alt_names': 'Asian', 'adaptability': 5, 'affection_level': 5, 'child_friendly': 4, 'dog_friendly': 5, 'energy_level': 5, 'grooming': 1, 'health_issues': 1, 'intelligence': 3, 'shedding_level': 1, 'social_needs': 3, 'stranger_friendly': 3, 'vocalisation': 5, 'experimental': 0, 'hairless': 0, 'natural': 0, 'rare': 0, 'rex': 0, 'suppressed_tail': 0, 'short_legs': 0, 'wikipedia_url': 'https://en.wikipedia.org/wiki/Asian_cat', 'hypoallergenic': 0}, {'weight': {'imperial': '7 - 13', 'metric': '3 - 6'}, 'id': 'manx', 'name': 'Manx', 'cfa_url': 'http://cfa.org/Breeds/BreedsKthruR/Manx.aspx', 'vetstreet_url': 'http://www.vetstreet.com/cats/manx', 'vcahospitals_url': 'https://vcahospitals.com/know-your-pet/cat-breeds/manx', 'temperament': 'Easy Going, Intelligent, Loyal, Playful, Social', 'origin': 'Isle of Man', 'country_codes': 'IM', 'country_code': 'IM', 'description': 'The Manx is a placid, sweet cat that is gentle and playful. She never seems to get too upset about anything. She is a loving companion and adores being with people.', 'life_span': '12 - 14', 'indoor': 0, 'lap': 1, 'alt_names': 'Manks, Stubbin, Rumpy', 'adaptability': 5, 'affection_level': 5, 'child_friendly': 4, 'dog_friendly': 5, 'energy_level': 5, 'grooming': 1, 'health_issues': 3, 'intelligence': 5, 'shedding_level': 5, 'social_needs': 5, 'stranger_friendly': 3, 'vocalisation': 3, 'experimental': 0, 'hairless': 0, 'natural': 1, 'rare': 0, 'rex': 0, 'suppressed_tail': 1, 'short_legs': 0, 'wikipedia_url': 'https://en.wikipedia.org/wiki/Manx_(cat)', 'hypoallergenic': 0, 'reference_image_id': 'fhYh2PDcC'}, {'weight': {'imperial': '5 - 9', 'metric': '2 - 4'}, 'id': 'munc', 'name': 'Munchkin', 'vetstreet_url': 'http://www.vetstreet.com/cats/munchkin', 'temperament': 'Agile, Easy Going, Intelligent, Playful', 'origin': 'United States', 'country_codes': 'US', 'country_code': 'US', 'description': 'The Munchkin is an outgoing cat who enjoys being handled. She has lots of energy and is faster and more agile than she looks. The shortness of their legs does not seem to interfere with their running and leaping abilities.', 'life_span': '10 - 15', 'indoor': 0, 'lap': 1, 'alt_names': '', 'adaptability': 5, 'affection_level': 5, 'child_friendly': 4, 'dog_friendly': 5, 'energy_level': 4, 'grooming': 2, 'health_issues': 3, 'intelligence': 5, 'shedding_level': 3, 'social_needs': 5, 'stranger_friendly': 5, 'vocalisation': 3, 'experimental': 0, 'hairless': 0, 'natural': 0, 'rare': 0, 'rex': 0, 'suppressed_tail': 0, 'short_legs': 1, 'wikipedia_url': 'https://en.wikipedia.org/wiki/Munchkin_(cat)', 'hypoallergenic': 0, 'reference_image_id': 'j5cVSqLer'}, {'weight': {'imperial': '7 - 11', 'metric': '3 - 5'}, 'id': 'nebe', 'name': 'Nebelung', 'temperament': 'Gentle, Quiet, Shy, Playful', 'origin': 'United States', 'country_codes': 'US', 'country_code': 'US', 'description': 'The Nebelung may have a reserved nature, but she loves to play (being especially fond of retrieving) and enjoys jumping or climbing to high places where she can study people and situations at her leisure before making up her mind about whether she wants to get involved.', 'life_span': '11 - 16', 'indoor': 0, 'lap': 1, 'alt_names': 'Longhaired Russian Blue', 'adaptability': 5, 'affection_level': 5, 'child_friendly': 4, 'dog_friendly': 4, 'energy_level': 3, 'grooming': 3, 'health_issues': 2, 'intelligence': 5, 'shedding_level': 3, 'social_needs': 3, 'stranger_friendly': 3, 'vocalisation': 1, 'experimental': 0, 'hairless': 0, 'natural': 0, 'rare': 1, 'rex': 0, 'suppressed_tail': 0, 'short_legs': 0, 'wikipedia_url': 'https://en.wikipedia.org/wiki/Nebelung', 'hypoallergenic': 0, 'reference_image_id': 'OGTWqNNOt'}, {'weight': {'imperial': '8 - 16', 'metric': '4 - 7'}, 'id': 'norw', 'name': 'Norwegian Forest Cat', 'cfa_url': 'http://cfa.org/Breeds/BreedsKthruR/NorwegianForestCat.aspx', 'vetstreet_url': 'http://www.vetstreet.com/cats/norwegian-forest-cat', 'vcahospitals_url': 'https://vcahospitals.com/know-your-pet/cat-breeds/norwegian-forest-cat', 'temperament': 'Sweet, Active, Intelligent, Social, Playful, Lively, Curious', 'origin': 'Norway', 'country_codes': 'NO', 'country_code': 'NO', 'description': 'The Norwegian Forest Cat is a sweet, loving cat. She appreciates praise and loves to interact with her parent. She makes a loving companion and bonds with her parents once she accepts them for her own. She is still a hunter at heart. She loves to chase toys as if they are real. She is territorial and patrols several times each day to make certain that all is fine.', 'life_span': '12 - 16', 'indoor': 0, 'alt_names': 'Skogkatt / Skaukatt, Norsk Skogkatt / Norsk Skaukatt, Weegie', 'adaptability': 5, 'affection_level': 5, 'child_friendly': 4, 'dog_friendly': 5, 'energy_level': 3, 'grooming': 2, 'health_issues': 3, 'intelligence': 4, 'shedding_level': 3, 'social_needs': 5, 'stranger_friendly': 5, 'vocalisation': 1, 'experimental': 0, 'hairless': 0, 'natural': 1, 'rare': 0, 'rex': 0, 'suppressed_tail': 0, 'short_legs': 0, 'wikipedia_url': 'https://en.wikipedia.org/wiki/Norwegian_Forest_Cat', 'hypoallergenic': 0, 'reference_image_id': '06dgGmEOV'}, {'weight': {'imperial': '7 - 15', 'metric': '3 - 7'}, 'id': 'ocic', 'name': 'Ocicat', 'cfa_url': 'http://cfa.org/Breeds/BreedsKthruR/Ocicat.aspx', 'vetstreet_url': 'http://www.vetstreet.com/cats/ocicat', 'vcahospitals_url': 'https://vcahospitals.com/know-your-pet/cat-breeds/ocicat', 'temperament': 'Active, Agile, Curious, Demanding, Friendly, Gentle, Lively, Playful, Social', 'origin': 'United States', 'country_codes': 'US', 'country_code': 'US', 'description': \"Loyal and devoted to their owners, the Ocicat is intelligent, confident, outgoing, and seems to have many dog traits. They can be trained to fetch toys, walk on a lead, taught to 'speak', come when called, and follow other commands. \", 'life_span': '12 - 14', 'indoor': 0, 'alt_names': '', 'adaptability': 5, 'affection_level': 5, 'child_friendly': 4, 'dog_friendly': 5, 'energy_level': 5, 'grooming': 1, 'health_issues': 3, 'intelligence': 5, 'shedding_level': 3, 'social_needs': 5, 'stranger_friendly': 5, 'vocalisation': 3, 'experimental': 0, 'hairless': 0, 'natural': 0, 'rare': 0, 'rex': 0, 'suppressed_tail': 0, 'short_legs': 0, 'wikipedia_url': 'https://en.wikipedia.org/wiki/Ocicat', 'hypoallergenic': 1, 'reference_image_id': 'JAx-08Y0n'}, {'weight': {'imperial': '5 - 10', 'metric': '2 - 5'}, 'id': 'orie', 'name': 'Oriental', 'cfa_url': 'http://cfa.org/Breeds/BreedsKthruR/Oriental.aspx', 'vetstreet_url': 'http://www.vetstreet.com/cats/oriental', 'vcahospitals_url': 'https://vcahospitals.com/know-your-pet/cat-breeds/oriental', 'temperament': 'Energetic, Affectionate, Intelligent, Social, Playful, Curious', 'origin': 'United States', 'country_codes': 'US', 'country_code': 'US', 'description': 'Orientals are passionate about the people in their lives. They become extremely attached to their humans, so be prepared for a lifetime commitment. When you are not available to entertain her, an Oriental will divert herself by jumping on top of the refrigerator, opening drawers, seeking out new hideaways.', 'life_span': '12 - 14', 'indoor': 0, 'lap': 1, 'alt_names': 'Foreign Type', 'adaptability': 5, 'affection_level': 5, 'child_friendly': 4, 'dog_friendly': 5, 'energy_level': 5, 'grooming': 1, 'health_issues': 3, 'intelligence': 5, 'shedding_level': 3, 'social_needs': 5, 'stranger_friendly': 3, 'vocalisation': 5, 'experimental': 0, 'hairless': 0, 'natural': 0, 'rare': 0, 'rex': 0, 'suppressed_tail': 0, 'short_legs': 0, 'wikipedia_url': 'https://en.wikipedia.org/wiki/Oriental_Shorthair', 'hypoallergenic': 1, 'reference_image_id': 'LutjkZJpH'}, {'weight': {'imperial': '9 - 14', 'metric': '4 - 6'}, 'id': 'pers', 'name': 'Persian', 'cfa_url': 'http://cfa.org/Breeds/BreedsKthruR/Persian.aspx', 'vetstreet_url': 'http://www.vetstreet.com/cats/persian', 'vcahospitals_url': 'https://vcahospitals.com/know-your-pet/cat-breeds/persian', 'temperament': 'Affectionate, loyal, Sedate, Quiet', 'origin': 'Iran (Persia)', 'country_codes': 'IR', 'country_code': 'IR', 'description': 'Persians are sweet, gentle cats that can be playful or quiet and laid-back. Great with families and children, they absolutely love to lounge around the house. While they don’t mind a full house or active kids, they’ll usually hide when they need some alone time.', 'life_span': '14 - 15', 'indoor': 0, 'lap': 1, 'alt_names': 'Longhair, Persian Longhair, Shiraz, Shirazi', 'adaptability': 5, 'affection_level': 5, 'child_friendly': 2, 'dog_friendly': 2, 'energy_level': 1, 'grooming': 5, 'health_issues': 3, 'intelligence': 3, 'shedding_level': 4, 'social_needs': 4, 'stranger_friendly': 2, 'vocalisation': 1, 'experimental': 0, 'hairless': 0, 'natural': 1, 'rare': 0, 'rex': 0, 'suppressed_tail': 0, 'short_legs': 0, 'wikipedia_url': 'https://en.wikipedia.org/wiki/Persian_(cat)', 'hypoallergenic': 0, 'reference_image_id': '-Zfz5z2jK'}, {'weight': {'imperial': '8 - 17', 'metric': '4 - 8'}, 'id': 'pixi', 'name': 'Pixie-bob', 'vetstreet_url': 'http://www.vetstreet.com/cats/pixiebob', 'temperament': 'Affectionate, Social, Intelligent, Loyal', 'origin': 'United States', 'country_codes': 'US', 'country_code': 'US', 'description': 'Companionable and affectionate, the Pixie-bob wants to be an integral part of the family. The Pixie-Bob’s ability to bond with their humans along with their patient personas make them excellent companions for children.', 'life_span': '13 - 16', 'indoor': 0, 'lap': 1, 'alt_names': '', 'adaptability': 5, 'affection_level': 5, 'child_friendly': 4, 'dog_friendly': 5, 'energy_level': 4, 'grooming': 1, 'health_issues': 2, 'intelligence': 5, 'shedding_level': 3, 'social_needs': 4, 'stranger_friendly': 4, 'vocalisation': 1, 'experimental': 0, 'hairless': 0, 'natural': 0, 'rare': 0, 'rex': 0, 'suppressed_tail': 1, 'short_legs': 0, 'wikipedia_url': 'https://en.wikipedia.org/wiki/Pixiebob', 'hypoallergenic': 0, 'reference_image_id': 'z7fJRNeN6'}, {'weight': {'imperial': '8 - 20', 'metric': '4 - 9'}, 'id': 'raga', 'name': 'Ragamuffin', 'cfa_url': 'http://cfa.org/Breeds/BreedsKthruR/Ragamuffin.aspx', 'vetstreet_url': 'http://www.vetstreet.com/cats/ragamuffin', 'vcahospitals_url': 'https://vcahospitals.com/know-your-pet/cat-breeds/ragamuffin', 'temperament': 'Affectionate, Friendly, Gentle, Calm', 'origin': 'United States', 'country_codes': 'US', 'country_code': 'US', 'description': 'The Ragamuffin is calm, even tempered and gets along well with all family members. Changes in routine generally do not upset her. She is an ideal companion for those in apartments, and with children due to her patient nature.', 'life_span': '12 - 16', 'indoor': 0, 'lap': 1, 'alt_names': '', 'adaptability': 5, 'affection_level': 5, 'child_friendly': 4, 'dog_friendly': 5, 'energy_level': 3, 'grooming': 3, 'health_issues': 3, 'intelligence': 5, 'shedding_level': 3, 'social_needs': 3, 'stranger_friendly': 5, 'vocalisation': 1, 'experimental': 0, 'hairless': 0, 'natural': 0, 'rare': 0, 'rex': 0, 'suppressed_tail': 0, 'short_legs': 0, 'wikipedia_url': 'https://en.wikipedia.org/wiki/Ragamuffin_cat', 'hypoallergenic': 0, 'reference_image_id': 'SMuZx-bFM'}, {'weight': {'imperial': '12 - 20', 'metric': '5 - 9'}, 'id': 'ragd', 'name': 'Ragdoll', 'cfa_url': 'http://cfa.org/Breeds/BreedsKthruR/Ragdoll.aspx', 'vetstreet_url': 'http://www.vetstreet.com/cats/ragdoll', 'vcahospitals_url': 'https://vcahospitals.com/know-your-pet/cat-breeds/ragdoll', 'temperament': 'Affectionate, Friendly, Gentle, Quiet, Easygoing', 'origin': 'United States', 'country_codes': 'US', 'country_code': 'US', 'description': 'Ragdolls love their people, greeting them at the door, following them around the house, and leaping into a lap or snuggling in bed whenever given the chance. They are the epitome of a lap cat, enjoy being carried and collapsing into the arms of anyone who holds them.', 'life_span': '12 - 17', 'indoor': 0, 'lap': 1, 'alt_names': 'Rag doll', 'adaptability': 5, 'affection_level': 5, 'child_friendly': 4, 'dog_friendly': 5, 'energy_level': 3, 'grooming': 2, 'health_issues': 3, 'intelligence': 3, 'shedding_level': 3, 'social_needs': 5, 'stranger_friendly': 3, 'vocalisation': 1, 'experimental': 0, 'hairless': 0, 'natural': 0, 'rare': 0, 'rex': 0, 'suppressed_tail': 0, 'short_legs': 0, 'wikipedia_url': 'https://en.wikipedia.org/wiki/Ragdoll', 'hypoallergenic': 0, 'reference_image_id': 'oGefY4YoG'}, {'weight': {'imperial': '5 - 11', 'metric': '2 - 5'}, 'id': 'rblu', 'name': 'Russian Blue', 'cfa_url': 'http://cfa.org/Breeds/BreedsKthruR/RussianBlue.aspx', 'vetstreet_url': 'http://www.vetstreet.com/cats/russian-blue-nebelung', 'vcahospitals_url': 'https://vcahospitals.com/know-your-pet/cat-breeds/russian-blue', 'temperament': 'Active, Dependent, Easy Going, Gentle, Intelligent, Loyal, Playful, Quiet', 'origin': 'Russia', 'country_codes': 'RU', 'country_code': 'RU', 'description': 'Russian Blues are very loving and reserved. They do not like noisy households but they do like to play and can be quite active when outdoors. They bond very closely with their owner and are known to be compatible with other pets.', 'life_span': '10 - 16', 'indoor': 0, 'lap': 1, 'alt_names': 'Archangel Blue, Archangel Cat', 'adaptability': 3, 'affection_level': 3, 'child_friendly': 3, 'dog_friendly': 3, 'energy_level': 3, 'grooming': 3, 'health_issues': 1, 'intelligence': 3, 'shedding_level': 3, 'social_needs': 3, 'stranger_friendly': 1, 'vocalisation': 1, 'experimental': 0, 'hairless': 0, 'natural': 1, 'rare': 0, 'rex': 0, 'suppressed_tail': 0, 'short_legs': 0, 'wikipedia_url': 'https://en.wikipedia.org/wiki/Russian_Blue', 'hypoallergenic': 1, 'reference_image_id': 'Rhj-JsTLP'}, {'weight': {'imperial': '8 - 25', 'metric': '4 - 11'}, 'id': 'sava', 'name': 'Savannah', 'vetstreet_url': 'http://www.vetstreet.com/cats/savannah', 'temperament': 'Curious, Social, Intelligent, Loyal, Outgoing, Adventurous, Affectionate', 'origin': 'United States', 'country_codes': 'US', 'country_code': 'US', 'description': 'Savannah is the feline version of a dog. Actively seeking social interaction, they are given to pouting if left out. Remaining kitten-like through life. Profoundly loyal to immediate family members whilst questioning the presence of strangers. Making excellent companions that are loyal, intelligent and eager to be involved.', 'life_span': '17 - 20', 'indoor': 0, 'alt_names': '', 'adaptability': 5, 'affection_level': 5, 'child_friendly': 4, 'dog_friendly': 5, 'energy_level': 5, 'grooming': 1, 'health_issues': 1, 'intelligence': 5, 'shedding_level': 3, 'social_needs': 5, 'stranger_friendly': 5, 'vocalisation': 1, 'experimental': 1, 'hairless': 0, 'natural': 0, 'rare': 0, 'rex': 0, 'suppressed_tail': 0, 'short_legs': 0, 'wikipedia_url': 'https://en.wikipedia.org/wiki/Savannah_cat', 'hypoallergenic': 0, 'reference_image_id': 'a8nIYvs6S'}, {'weight': {'imperial': '5 - 11', 'metric': '2 - 5'}, 'id': 'sfol', 'name': 'Scottish Fold', 'cfa_url': 'http://cfa.org/Breeds/BreedsSthruT/ScottishFold.aspx', 'vetstreet_url': 'http://www.vetstreet.com/cats/scottish-fold-highland-fold', 'vcahospitals_url': 'https://vcahospitals.com/know-your-pet/cat-breeds/scottish-fold', 'temperament': 'Affectionate, Intelligent, Loyal, Playful, Social, Sweet, Loving', 'origin': 'United Kingdom', 'country_codes': 'GB', 'country_code': 'GB', 'description': 'The Scottish Fold is a sweet, charming breed. She is an easy cat to live with and to care for. She is affectionate and is comfortable with all members of her family. Her tail should be handled gently. Folds are known for sleeping on their backs, and for sitting with their legs stretched out and their paws on their belly. This is called the \"Buddha Position\".', 'life_span': '11 - 14', 'indoor': 0, 'alt_names': 'Scot Fold', 'adaptability': 5, 'affection_level': 5, 'child_friendly': 4, 'dog_friendly': 5, 'energy_level': 3, 'grooming': 1, 'health_issues': 4, 'intelligence': 3, 'shedding_level': 3, 'social_needs': 3, 'stranger_friendly': 3, 'vocalisation': 1, 'experimental': 0, 'hairless': 0, 'natural': 0, 'rare': 0, 'rex': 0, 'suppressed_tail': 0, 'short_legs': 0, 'wikipedia_url': 'https://en.wikipedia.org/wiki/Scottish_Fold', 'hypoallergenic': 0, 'reference_image_id': 'o9t0LDcsa'}, {'weight': {'imperial': '6 - 16', 'metric': '3 - 7'}, 'id': 'srex', 'name': 'Selkirk Rex', 'cfa_url': 'http://cfa.org/Breeds/BreedsSthruT/SelkirkRex.aspx', 'vetstreet_url': 'http://www.vetstreet.com/cats/selkirk-rex', 'vcahospitals_url': 'https://vcahospitals.com/know-your-pet/cat-breeds/selkirk-rex', 'temperament': 'Active, Affectionate, Dependent, Gentle, Patient, Playful, Quiet, Social', 'origin': 'United States', 'country_codes': 'US', 'country_code': 'US', 'description': 'The Selkirk Rex is an incredibly patient, loving, and tolerant breed. The Selkirk also has a silly side and is sometimes described as clownish. She loves being a lap cat and will be happy to chat with you in a quiet voice if you talk to her. ', 'life_span': '14 - 15', 'indoor': 0, 'lap': 1, 'alt_names': 'Shepherd Cat', 'adaptability': 5, 'affection_level': 5, 'child_friendly': 4, 'dog_friendly': 5, 'energy_level': 3, 'grooming': 2, 'health_issues': 4, 'intelligence': 3, 'shedding_level': 1, 'social_needs': 3, 'stranger_friendly': 3, 'vocalisation': 3, 'experimental': 0, 'hairless': 0, 'natural': 0, 'rare': 0, 'rex': 1, 'suppressed_tail': 0, 'short_legs': 0, 'wikipedia_url': 'https://en.wikipedia.org/wiki/Selkirk_Rex', 'hypoallergenic': 1, 'reference_image_id': 'II9dOZmrw'}, {'weight': {'imperial': '8 - 15', 'metric': '4 - 7'}, 'id': 'siam', 'name': 'Siamese', 'cfa_url': 'http://cfa.org/Breeds/BreedsSthruT/Siamese.aspx', 'vetstreet_url': 'http://www.vetstreet.com/cats/siamese', 'vcahospitals_url': 'https://vcahospitals.com/know-your-pet/cat-breeds/siamese', 'temperament': 'Active, Agile, Clever, Sociable, Loving, Energetic', 'origin': 'Thailand', 'country_codes': 'TH', 'country_code': 'TH', 'description': 'While Siamese cats are extremely fond of their people, they will follow you around and supervise your every move, being talkative and opinionated. They are a demanding and social cat, that do not like being left alone for long periods.', 'life_span': '12 - 15', 'indoor': 0, 'lap': 1, 'alt_names': 'Siam, Thai Cat', 'adaptability': 5, 'affection_level': 5, 'child_friendly': 4, 'dog_friendly': 5, 'energy_level': 5, 'grooming': 1, 'health_issues': 1, 'intelligence': 5, 'shedding_level': 2, 'social_needs': 5, 'stranger_friendly': 5, 'vocalisation': 5, 'experimental': 0, 'hairless': 0, 'natural': 0, 'rare': 0, 'rex': 0, 'suppressed_tail': 0, 'short_legs': 0, 'wikipedia_url': 'https://en.wikipedia.org/wiki/Siamese_(cat)', 'hypoallergenic': 1, 'reference_image_id': 'ai6Jps4sx'}, {'weight': {'imperial': '8 - 16', 'metric': '4 - 7'}, 'id': 'sibe', 'name': 'Siberian', 'cfa_url': 'http://cfa.org/Breeds/BreedsSthruT/Siberian.aspx', 'vetstreet_url': 'http://www.vetstreet.com/cats/siberian', 'vcahospitals_url': 'https://vcahospitals.com/know-your-pet/cat-breeds/siberian', 'temperament': 'Curious, Intelligent, Loyal, Sweet, Agile, Playful, Affectionate', 'origin': 'Russia', 'country_codes': 'RU', 'country_code': 'RU', 'description': 'The Siberians dog like temperament and affection makes the ideal lap cat and will live quite happily indoors. Very agile and powerful, the Siberian cat can easily leap and reach high places, including the tops of refrigerators and even doors. ', 'life_span': '12 - 15', 'indoor': 0, 'lap': 1, 'alt_names': 'Moscow Semi-longhair, HairSiberian Forest Cat', 'adaptability': 5, 'affection_level': 5, 'child_friendly': 4, 'dog_friendly': 5, 'energy_level': 5, 'grooming': 2, 'health_issues': 2, 'intelligence': 5, 'shedding_level': 3, 'social_needs': 4, 'stranger_friendly': 3, 'vocalisation': 1, 'experimental': 0, 'hairless': 0, 'natural': 1, 'rare': 0, 'rex': 0, 'suppressed_tail': 0, 'short_legs': 0, 'wikipedia_url': 'https://en.wikipedia.org/wiki/Siberian_(cat)', 'hypoallergenic': 1, 'reference_image_id': '3bkZAjRh1'}, {'weight': {'imperial': '5 - 8', 'metric': '2 - 4'}, 'id': 'sing', 'name': 'Singapura', 'cfa_url': 'http://cfa.org/Breeds/BreedsSthruT/Singapura.aspx', 'vetstreet_url': 'http://www.vetstreet.com/cats/singapura', 'vcahospitals_url': 'https://vcahospitals.com/know-your-pet/cat-breeds/singapura', 'temperament': 'Affectionate, Curious, Easy Going, Intelligent, Interactive, Lively, Loyal', 'origin': 'Singapore', 'country_codes': 'SP', 'country_code': 'SP', 'description': 'The Singapura is usually cautious when it comes to meeting new people, but loves attention from his family so much that she sometimes has the reputation of being a pest. This is a highly active, curious and affectionate cat. She may be small, but she knows she’s in charge', 'life_span': '12 - 15', 'indoor': 0, 'lap': 1, 'alt_names': 'Drain Cat, Kucinta, Pura', 'adaptability': 5, 'affection_level': 5, 'child_friendly': 4, 'dog_friendly': 5, 'energy_level': 5, 'grooming': 1, 'health_issues': 1, 'intelligence': 5, 'shedding_level': 3, 'social_needs': 5, 'stranger_friendly': 5, 'vocalisation': 1, 'experimental': 0, 'hairless': 0, 'natural': 0, 'rare': 0, 'rex': 0, 'suppressed_tail': 0, 'short_legs': 0, 'wikipedia_url': 'https://en.wikipedia.org/wiki/Singapura_(cat)', 'hypoallergenic': 0, 'reference_image_id': 'Qtncp2nRe'}, {'weight': {'imperial': '7 - 12', 'metric': '3 - 5'}, 'id': 'snow', 'name': 'Snowshoe', 'temperament': 'Affectionate, Social, Intelligent, Sweet-tempered', 'origin': 'United States', 'country_codes': 'US', 'country_code': 'US', 'description': 'The Snowshoe is a vibrant, energetic, affectionate and intelligent cat. They love being around people which makes them ideal for families, and becomes unhappy when left alone for long periods of time. Usually attaching themselves to one person, they do whatever they can to get your attention.', 'life_span': '14 - 19', 'indoor': 0, 'lap': 1, 'alt_names': '', 'adaptability': 5, 'affection_level': 5, 'child_friendly': 4, 'dog_friendly': 5, 'energy_level': 4, 'grooming': 3, 'health_issues': 1, 'intelligence': 5, 'shedding_level': 3, 'social_needs': 4, 'stranger_friendly': 4, 'vocalisation': 5, 'experimental': 0, 'hairless': 0, 'natural': 0, 'rare': 0, 'rex': 0, 'suppressed_tail': 0, 'short_legs': 0, 'wikipedia_url': 'https://en.wikipedia.org/wiki/Snowshoe_(cat)', 'hypoallergenic': 0, 'reference_image_id': 'MK-sYESvO'}, {'weight': {'imperial': '6 - 12', 'metric': '3 - 5'}, 'id': 'soma', 'name': 'Somali', 'cfa_url': 'http://cfa.org/Breeds/BreedsSthruT/Somali.aspx', 'vetstreet_url': 'http://www.vetstreet.com/cats/somali', 'vcahospitals_url': 'https://vcahospitals.com/know-your-pet/cat-breeds/somali', 'temperament': 'Mischievous, Tenacious, Intelligent, Affectionate, Gentle, Interactive, Loyal', 'origin': 'Somalia', 'country_codes': 'SO', 'country_code': 'SO', 'description': 'The Somali lives life to the fullest. He climbs higher, jumps farther, plays harder. Nothing escapes the notice of this highly intelligent and inquisitive cat. Somalis love the company of humans and other animals.', 'life_span': '12 - 16', 'indoor': 0, 'alt_names': 'Fox Cat, Long-Haired Abyssinian', 'adaptability': 5, 'affection_level': 5, 'child_friendly': 3, 'dog_friendly': 4, 'energy_level': 5, 'grooming': 3, 'health_issues': 2, 'intelligence': 5, 'shedding_level': 4, 'social_needs': 5, 'stranger_friendly': 5, 'vocalisation': 1, 'experimental': 0, 'hairless': 0, 'natural': 0, 'rare': 0, 'rex': 0, 'suppressed_tail': 0, 'short_legs': 0, 'wikipedia_url': 'https://en.wikipedia.org/wiki/Somali_(cat)', 'hypoallergenic': 0, 'reference_image_id': 'EPF2ejNS0'}, {'weight': {'imperial': '6 - 12', 'metric': '3 - 5'}, 'id': 'sphy', 'name': 'Sphynx', 'cfa_url': 'http://cfa.org/Breeds/BreedsSthruT/Sphynx.aspx', 'vetstreet_url': 'http://www.vetstreet.com/cats/sphynx', 'vcahospitals_url': 'https://vcahospitals.com/know-your-pet/cat-breeds/sphynx', 'temperament': 'Loyal, Inquisitive, Friendly, Quiet, Gentle', 'origin': 'Canada', 'country_codes': 'CA', 'country_code': 'CA', 'description': 'The Sphynx is an intelligent, inquisitive, extremely friendly people-oriented breed. Sphynx commonly greet their owners  at the front door, with obvious excitement and happiness. She has an unexpected sense of humor that is often at odds with her dour expression.', 'life_span': '12 - 14', 'indoor': 0, 'lap': 1, 'alt_names': 'Canadian Hairless, Canadian Sphynx', 'adaptability': 5, 'affection_level': 5, 'child_friendly': 4, 'dog_friendly': 5, 'energy_level': 3, 'grooming': 2, 'health_issues': 4, 'intelligence': 5, 'shedding_level': 1, 'social_needs': 5, 'stranger_friendly': 5, 'vocalisation': 5, 'experimental': 0, 'hairless': 1, 'natural': 0, 'rare': 1, 'rex': 0, 'suppressed_tail': 0, 'short_legs': 0, 'wikipedia_url': 'https://en.wikipedia.org/wiki/Sphynx_(cat)', 'hypoallergenic': 1, 'reference_image_id': 'BDb8ZXb1v'}, {'weight': {'imperial': '6 - 12', 'metric': '3 - 5'}, 'id': 'tonk', 'name': 'Tonkinese', 'cfa_url': 'http://cfa.org/Breeds/BreedsSthruT/Tonkinese.aspx', 'vetstreet_url': 'http://www.vetstreet.com/cats/tonkinese', 'vcahospitals_url': 'https://vcahospitals.com/know-your-pet/cat-breeds/tonkinese', 'temperament': 'Curious, Intelligent, Social, Lively, Outgoing, Playful, Affectionate', 'origin': 'Canada', 'country_codes': 'CA', 'country_code': 'CA', 'description': 'Intelligent and generous with their affection, a Tonkinese will supervise all activities with curiosity. Loving, social, active, playful, yet content to be a lap cat', 'life_span': '14 - 16', 'indoor': 0, 'lap': 1, 'alt_names': 'Tonk', 'adaptability': 5, 'affection_level': 5, 'child_friendly': 4, 'dog_friendly': 5, 'energy_level': 5, 'grooming': 1, 'health_issues': 1, 'intelligence': 5, 'shedding_level': 3, 'social_needs': 5, 'stranger_friendly': 5, 'vocalisation': 5, 'experimental': 0, 'hairless': 0, 'natural': 0, 'rare': 0, 'rex': 0, 'suppressed_tail': 0, 'short_legs': 0, 'wikipedia_url': 'https://en.wikipedia.org/wiki/Tonkinese_(cat)', 'hypoallergenic': 0, 'reference_image_id': 'KBroiVNCM'}, {'weight': {'imperial': '7 - 15', 'metric': '3 - 7'}, 'id': 'toyg', 'name': 'Toyger', 'vetstreet_url': 'http://www.vetstreet.com/cats/toyger', 'temperament': 'Playful, Social, Intelligent', 'origin': 'United States', 'country_codes': 'US', 'country_code': 'US', 'description': \"The Toyger has a sweet, calm personality and is generally friendly. He's outgoing enough to walk on a leash, energetic enough to play fetch and other interactive games, and confident enough to get along with other cats and friendly dogs.\", 'life_span': '12 - 15', 'indoor': 0, 'lap': 1, 'alt_names': '', 'adaptability': 5, 'affection_level': 5, 'child_friendly': 4, 'dog_friendly': 5, 'energy_level': 5, 'grooming': 1, 'health_issues': 2, 'intelligence': 5, 'shedding_level': 3, 'social_needs': 3, 'stranger_friendly': 5, 'vocalisation': 5, 'experimental': 0, 'hairless': 0, 'natural': 0, 'rare': 0, 'rex': 0, 'suppressed_tail': 0, 'short_legs': 0, 'wikipedia_url': 'https://en.wikipedia.org/wiki/Toyger', 'hypoallergenic': 0, 'reference_image_id': 'O3F3_S1XN'}, {'weight': {'imperial': '5 - 10', 'metric': '2 - 5'}, 'id': 'tang', 'name': 'Turkish Angora', 'cfa_url': 'http://cfa.org/Breeds/BreedsSthruT/TurkishAngora.aspx', 'vetstreet_url': 'http://www.vetstreet.com/cats/turkish-angora', 'vcahospitals_url': 'https://vcahospitals.com/know-your-pet/cat-breeds/turkish-angora', 'temperament': 'Affectionate, Agile, Clever, Gentle, Intelligent, Playful, Social', 'origin': 'Turkey', 'country_codes': 'TR', 'country_code': 'TR', 'description': 'This is a smart and intelligent cat which bonds well with humans. With its affectionate and playful personality the Angora is a top choice for families. The Angora gets along great with other pets in the home, but it will make clear who is in charge, and who the house belongs to', 'life_span': '15 - 18', 'indoor': 0, 'alt_names': 'Ankara', 'adaptability': 5, 'affection_level': 5, 'child_friendly': 4, 'dog_friendly': 5, 'energy_level': 5, 'grooming': 2, 'health_issues': 2, 'intelligence': 5, 'shedding_level': 2, 'social_needs': 5, 'stranger_friendly': 5, 'vocalisation': 3, 'experimental': 0, 'hairless': 0, 'natural': 1, 'rare': 0, 'rex': 0, 'suppressed_tail': 0, 'short_legs': 0, 'wikipedia_url': 'https://en.wikipedia.org/wiki/Turkish_Angora', 'hypoallergenic': 0, 'reference_image_id': '7CGV6WVXq'}, {'weight': {'imperial': '7 - 20', 'metric': '3 - 9'}, 'id': 'tvan', 'name': 'Turkish Van', 'cfa_url': 'http://cfa.org/Breeds/BreedsSthruT/TurkishVan.aspx', 'vetstreet_url': 'http://www.vetstreet.com/cats/turkish-van', 'vcahospitals_url': 'https://vcahospitals.com/know-your-pet/cat-breeds/turkish-van', 'temperament': 'Agile, Intelligent, Loyal, Playful, Energetic', 'origin': 'Turkey', 'country_codes': 'TR', 'country_code': 'TR', 'description': 'While the Turkish Van loves to jump and climb, play with toys, retrieve and play chase, she is is big and ungainly; this is one cat who doesn’t always land on his feet. While not much of a lap cat, the Van will be happy to cuddle next to you and sleep in your bed. ', 'life_span': '12 - 17', 'indoor': 0, 'alt_names': 'Turkish Cat, Swimming cat', 'adaptability': 5, 'affection_level': 5, 'child_friendly': 4, 'dog_friendly': 5, 'energy_level': 5, 'grooming': 2, 'health_issues': 1, 'intelligence': 5, 'shedding_level': 3, 'social_needs': 4, 'stranger_friendly': 4, 'vocalisation': 5, 'experimental': 0, 'hairless': 0, 'natural': 1, 'rare': 0, 'rex': 0, 'suppressed_tail': 0, 'short_legs': 0, 'wikipedia_url': 'https://en.wikipedia.org/wiki/Turkish_Van', 'hypoallergenic': 0, 'reference_image_id': 'sxIXJax6h'}, {'weight': {'imperial': '12 - 18', 'metric': '5 - 8'}, 'id': 'ycho', 'name': 'York Chocolate', 'temperament': 'Playful, Social, Intelligent, Curious, Friendly', 'origin': 'United States', 'country_codes': 'US', 'country_code': 'US', 'description': \"York Chocolate cats are known to be true lap cats with a sweet temperament. They love to be cuddled and petted. Their curious nature makes them follow you all the time and participate in almost everything you do, even if it's related to water: unlike many other cats, York Chocolates love it.\", 'life_span': '13 - 15', 'indoor': 0, 'lap': 1, 'alt_names': 'York', 'adaptability': 5, 'affection_level': 5, 'child_friendly': 4, 'dog_friendly': 5, 'energy_level': 5, 'grooming': 3, 'health_issues': 1, 'intelligence': 5, 'shedding_level': 3, 'social_needs': 4, 'stranger_friendly': 4, 'vocalisation': 5, 'experimental': 0, 'hairless': 0, 'natural': 0, 'rare': 0, 'rex': 0, 'suppressed_tail': 0, 'short_legs': 0, 'wikipedia_url': 'https://en.wikipedia.org/wiki/York_Chocolate', 'hypoallergenic': 0, 'reference_image_id': '0SxW2SQ_S'}]\n"
     ]
    }
   ],
   "source": [
    "url = 'https://api.thecatapi.com/v1/breeds'\n",
    "response = requests.get(url)  # opening a network and fetching a data\n",
    "print(response) # response object\n",
    "print(response.status_code)  # status code, success:200\n",
    "cats = response.json()\n",
    "print(cats)"
   ]
  },
  {
   "cell_type": "code",
   "execution_count": 372,
   "metadata": {},
   "outputs": [
    {
     "name": "stdout",
     "output_type": "stream",
     "text": [
      "(4, 25, 10.246268656716419, 10.0, 4.206314668685959)\n"
     ]
    }
   ],
   "source": [
    "weights_metric = []\n",
    "for cat in cats:\n",
    "    weight_str = cat['weight']['imperial']\n",
    "    imperial_weights = weight_str.split(' - ')\n",
    "    min_weight, max_weight = int(imperial_weights[0]) , int(imperial_weights[1]) \n",
    "    weights_metric.append((min_weight, max_weight))\n",
    "\n",
    "min_weights, max_weights = zip(*weights_metric)\n",
    "min_weight = np.min(min_weights)\n",
    "max_weight = np.max(max_weights)\n",
    "mean_weight = np.mean([min_weights, max_weights])\n",
    "median_weight = np.median([min_weights, max_weights])\n",
    "std_dev_weight = np.std([min_weights, max_weights])\n",
    "\n",
    "print((min_weight, max_weight, mean_weight, median_weight, std_dev_weight))"
   ]
  },
  {
   "cell_type": "code",
   "execution_count": 373,
   "metadata": {},
   "outputs": [
    {
     "name": "stdout",
     "output_type": "stream",
     "text": [
      "Frequency Table:\n",
      "Egypt\n",
      "  Abyssinian: 1\n",
      "  Chausie: 1\n",
      "  Egyptian Mau: 1\n",
      "Greece\n",
      "  Aegean: 1\n",
      "United States\n",
      "  American Bobtail: 1\n",
      "  American Curl: 1\n",
      "  American Shorthair: 1\n",
      "  American Wirehair: 1\n",
      "  Balinese: 1\n",
      "  Bambino: 1\n",
      "  Bengal: 1\n",
      "  Bombay: 1\n",
      "  California Spangled: 1\n",
      "  Chantilly-Tiffany: 1\n",
      "  Cheetoh: 1\n",
      "  Colorpoint Shorthair: 1\n",
      "  Exotic Shorthair: 1\n",
      "  Himalayan: 1\n",
      "  Javanese: 1\n",
      "  Maine Coon: 1\n",
      "  Munchkin: 1\n",
      "  Nebelung: 1\n",
      "  Ocicat: 1\n",
      "  Oriental: 1\n",
      "  Pixie-bob: 1\n",
      "  Ragamuffin: 1\n",
      "  Ragdoll: 1\n",
      "  Savannah: 1\n",
      "  Selkirk Rex: 1\n",
      "  Snowshoe: 1\n",
      "  Toyger: 1\n",
      "  York Chocolate: 1\n",
      "United Arab Emirates\n",
      "  Arabian Mau: 1\n",
      "Australia\n",
      "  Australian Mist: 1\n",
      "France\n",
      "  Birman: 1\n",
      "  Chartreux: 1\n",
      "United Kingdom\n",
      "  British Longhair: 1\n",
      "  British Shorthair: 1\n",
      "  Burmilla: 1\n",
      "  Cornish Rex: 1\n",
      "  Devon Rex: 1\n",
      "  Havana Brown: 1\n",
      "  Malayan: 1\n",
      "  Scottish Fold: 1\n",
      "Burma\n",
      "  Burmese: 1\n",
      "  European Burmese: 1\n",
      "Canada\n",
      "  Cymric: 1\n",
      "  Sphynx: 1\n",
      "  Tonkinese: 1\n",
      "Cyprus\n",
      "  Cyprus: 1\n",
      "Russia\n",
      "  Donskoy: 1\n",
      "  Kurilian: 1\n",
      "  Russian Blue: 1\n",
      "  Siberian: 1\n",
      "China\n",
      "  Dragon Li: 1\n",
      "Japan\n",
      "  Japanese Bobtail: 1\n",
      "Thailand\n",
      "  Khao Manee: 1\n",
      "  Korat: 1\n",
      "  LaPerm: 1\n",
      "  Siamese: 1\n",
      "Isle of Man\n",
      "  Manx: 1\n",
      "Norway\n",
      "  Norwegian Forest Cat: 1\n",
      "Iran (Persia)\n",
      "  Persian: 1\n",
      "Singapore\n",
      "  Singapura: 1\n",
      "Somalia\n",
      "  Somali: 1\n",
      "Turkey\n",
      "  Turkish Angora: 1\n",
      "  Turkish Van: 1\n"
     ]
    }
   ],
   "source": [
    "frequency_table = {}\n",
    "country_breed =[]\n",
    "\n",
    "for cat in cats:\n",
    "    country = cat['origin']\n",
    "    breed = cat['name']\n",
    "    country_breed.append((country,breed))\n",
    "\n",
    "for country, name in country_breed:\n",
    "    if country not in frequency_table:\n",
    "        frequency_table[country] = {}    \n",
    "    if name not in frequency_table[country]:\n",
    "        frequency_table[country][name] = 1\n",
    "    else:\n",
    "        frequency_table[country][name] += 1\n",
    "\n",
    "print(\"Frequency Table:\")\n",
    "for country, names in frequency_table.items():\n",
    "    print(country)\n",
    "    for name, count in names.items():\n",
    "        print(f\"  {name}: {count}\")"
   ]
  },
  {
   "cell_type": "markdown",
   "metadata": {},
   "source": [
    "## Day 21 - Classes and objects"
   ]
  },
  {
   "cell_type": "markdown",
   "metadata": {},
   "source": [
    "Python has the module called statistics and we can use this module to do all the statistical calculations. However, to learn how to make function and reuse function let us try to develop a program, which calculates the measure of central tendency of a sample (mean, median, mode) and measure of variability (range, variance, standard deviation). In addition to those measures, find the min, max, count, percentile, and frequency distribution of the sample. You can create a class called Statistics and create all the functions that do statistical calculations as methods for the Statistics class. Check the output below."
   ]
  },
  {
   "cell_type": "code",
   "execution_count": 376,
   "metadata": {},
   "outputs": [],
   "source": [
    "from collections import Counter"
   ]
  },
  {
   "cell_type": "code",
   "execution_count": 382,
   "metadata": {},
   "outputs": [],
   "source": [
    "class statistics:\n",
    "    def __init__(self, data):\n",
    "        self.data = data\n",
    "    \n",
    "    class central_tendancy:\n",
    "        def __init__(self, data):\n",
    "            self.data = data\n",
    "        def mean(self):\n",
    "            return np.mean(self.data)\n",
    "        def median(self):\n",
    "            return np.median(self.data)\n",
    "        def mode(self):\n",
    "            return Counter(self.data).most_common(1)[0][0]\n",
    "        \n",
    "    class variability:\n",
    "        def __init__(self, data):\n",
    "            self.data = data\n",
    "        def range_(self):\n",
    "            return np.max(self.data) - np.min(self.data)\n",
    "        def variance(self):\n",
    "            return np.var(self.data)\n",
    "        def standard_deviation(self):\n",
    "            return np.std(self.data) \n",
    "    \n",
    "    class additional_measures:\n",
    "        def __init__(self, data):\n",
    "            self.data = data\n",
    "        def minimum(self):\n",
    "            return np.min(self.data)\n",
    "        def maximum(self):\n",
    "            return np.max(self.data)\n",
    "        def count(self):\n",
    "            return len(self.data)\n",
    "        def percentile(self, percentile):\n",
    "            return np.percentile(self.data, percentile)\n",
    "        def frequency_distribution(self):\n",
    "            freq_dist = Counter(self.data)\n",
    "            total_count = len(self.data)\n",
    "            return {value: count / total_count for value, count in freq_dist.items()}\n",
    "        "
   ]
  },
  {
   "cell_type": "code",
   "execution_count": 394,
   "metadata": {},
   "outputs": [
    {
     "name": "stdout",
     "output_type": "stream",
     "text": [
      "Mean: 29.76\n",
      "Median: 29.0\n",
      "Mode: 26\n"
     ]
    }
   ],
   "source": [
    "ages = [31, 26, 34, 37, 27, 26, 32, 32, 26, 27, 27, 24, 32, 33, 27, 25, 26, 38, 37, 31, 34, 24, 33, 29, 26]\n",
    "\n",
    "central = stats.central_tendancy(ages)\n",
    "print(\"Mean:\", central.mean())\n",
    "print(\"Median:\", central.median())\n",
    "print(\"Mode:\", central.mode())"
   ]
  },
  {
   "cell_type": "markdown",
   "metadata": {},
   "source": [
    "Create a class called PersonAccount. It has firstname, lastname, incomes, expenses properties and it has total_income, total_expense, account_info, add_income, add_expense and account_balance methods. Incomes is a set of incomes and its description. The same goes for expenses."
   ]
  },
  {
   "cell_type": "markdown",
   "metadata": {},
   "source": [
    "## Day 22 - Web Scraping"
   ]
  },
  {
   "cell_type": "code",
   "execution_count": 401,
   "metadata": {},
   "outputs": [],
   "source": [
    "import requests\n",
    "from bs4 import BeautifulSoup\n",
    "import json"
   ]
  },
  {
   "cell_type": "code",
   "execution_count": 402,
   "metadata": {},
   "outputs": [
    {
     "name": "stdout",
     "output_type": "stream",
     "text": [
      "[]\n"
     ]
    }
   ],
   "source": [
    "url = 'http://www.bu.edu/president/boston-university-facts-stats/'\n",
    "response = requests.get(url)\n",
    "soup = BeautifulSoup(response.content, 'html.parser')\n",
    "table = soup.find('table', class_='tablepress')\n",
    "data = []\n",
    "if table:\n",
    "    rows = table.find_all('tr')\n",
    "    for row in rows:\n",
    "        cols = row.find_all(['td', 'th'])\n",
    "        cols = [col.text.strip() for col in cols]\n",
    "        data.append(cols)\n",
    "print(data) "
   ]
  },
  {
   "cell_type": "markdown",
   "metadata": {},
   "source": [
    "*For more about web scraping, please have a look at : https://github.com/SimonDequidt*"
   ]
  },
  {
   "cell_type": "markdown",
   "metadata": {},
   "source": [
    "## Day 23 - Virtual Environment"
   ]
  },
  {
   "cell_type": "code",
   "execution_count": 406,
   "metadata": {},
   "outputs": [
    {
     "name": "stdout",
     "output_type": "stream",
     "text": [
      "Collecting virtualenv\n",
      "  Downloading virtualenv-20.25.0-py3-none-any.whl.metadata (4.5 kB)\n",
      "Collecting distlib<1,>=0.3.7 (from virtualenv)\n",
      "  Downloading distlib-0.3.8-py2.py3-none-any.whl.metadata (5.1 kB)\n",
      "Collecting filelock<4,>=3.12.2 (from virtualenv)\n",
      "  Downloading filelock-3.13.1-py3-none-any.whl.metadata (2.8 kB)\n",
      "Collecting platformdirs<5,>=3.9.1 (from virtualenv)\n",
      "  Downloading platformdirs-4.2.0-py3-none-any.whl.metadata (11 kB)\n",
      "Downloading virtualenv-20.25.0-py3-none-any.whl (3.8 MB)\n",
      "\u001b[2K   \u001b[90m━━━━━━━━━━━━━━━━━━━━━━━━━━━━━━━━━━━━━━━━\u001b[0m \u001b[32m3.8/3.8 MB\u001b[0m \u001b[31m2.3 MB/s\u001b[0m eta \u001b[36m0:00:00\u001b[0m00:01\u001b[0m00:01\u001b[0m\n",
      "\u001b[?25hDownloading distlib-0.3.8-py2.py3-none-any.whl (468 kB)\n",
      "\u001b[2K   \u001b[90m━━━━━━━━━━━━━━━━━━━━━━━━━━━━━━━━━━━━━━━━\u001b[0m \u001b[32m468.9/468.9 kB\u001b[0m \u001b[31m3.3 MB/s\u001b[0m eta \u001b[36m0:00:00\u001b[0m00:01\u001b[0m00:01\u001b[0m\n",
      "\u001b[?25hDownloading filelock-3.13.1-py3-none-any.whl (11 kB)\n",
      "Downloading platformdirs-4.2.0-py3-none-any.whl (17 kB)\n",
      "\u001b[33mDEPRECATION: pyodbc 4.0.0-unsupported has a non-standard version number. pip 24.0 will enforce this behaviour change. A possible replacement is to upgrade to a newer version of pyodbc or contact the author to suggest that they release a version with a conforming version number. Discussion can be found at https://github.com/pypa/pip/issues/12063\u001b[0m\u001b[33m\n",
      "\u001b[0mInstalling collected packages: distlib, platformdirs, filelock, virtualenv\n",
      "  Attempting uninstall: filelock\n",
      "    Found existing installation: filelock 3.0.12\n",
      "    Uninstalling filelock-3.0.12:\n",
      "      Successfully uninstalled filelock-3.0.12\n",
      "Successfully installed distlib-0.3.8 filelock-3.13.1 platformdirs-4.2.0 virtualenv-20.25.0\n",
      "\u001b[33mWARNING: There was an error checking the latest version of pip.\u001b[0m\u001b[33m\n",
      "\u001b[0mNote: you may need to restart the kernel to use updated packages.\n"
     ]
    }
   ],
   "source": [
    "pip install virtualenv"
   ]
  },
  {
   "cell_type": "code",
   "execution_count": 408,
   "metadata": {},
   "outputs": [],
   "source": [
    "mkdir my_project"
   ]
  },
  {
   "cell_type": "code",
   "execution_count": 409,
   "metadata": {},
   "outputs": [
    {
     "name": "stdout",
     "output_type": "stream",
     "text": [
      "/Users/simondequidt/Desktop/Simon_DEQUIDT_Profil_Pro/EDHEC/BofA_Trading/3-30DaysChallenge/D5/my_project\n"
     ]
    }
   ],
   "source": [
    "cd my_project"
   ]
  },
  {
   "cell_type": "code",
   "execution_count": 414,
   "metadata": {},
   "outputs": [
    {
     "name": "stdout",
     "output_type": "stream",
     "text": [
      "created virtual environment CPython3.8.3.final.0-64 in 1519ms\r\n",
      "  creator CPython3Posix(dest=/Users/simondequidt/Desktop/Simon_DEQUIDT_Profil_Pro/EDHEC/BofA_Trading/3-30DaysChallenge/D5/my_project/venv, clear=False, no_vcs_ignore=False, global=False)\r\n",
      "  seeder FromAppData(download=False, pip=bundle, setuptools=bundle, wheel=bundle, via=copy, app_data_dir=/private/var/folders/d6/g1fxwks12lqdyg4_76nm0mlr0000gn/T/tmp6j9po17l)\r\n",
      "    added seed packages: pip==23.3.1, setuptools==69.0.2, wheel==0.42.0\r\n",
      "  activators BashActivator,CShellActivator,FishActivator,NushellActivator,PowerShellActivator,PythonActivator\r\n"
     ]
    }
   ],
   "source": [
    "!virtualenv venv"
   ]
  },
  {
   "cell_type": "code",
   "execution_count": 417,
   "metadata": {},
   "outputs": [],
   "source": [
    "!source venv/bin/activate"
   ]
  },
  {
   "cell_type": "markdown",
   "metadata": {},
   "source": [
    "## Day 24 - Day Statistics"
   ]
  },
  {
   "cell_type": "markdown",
   "metadata": {},
   "source": [
    "- Addition (+)\n",
    "- Subtraction (-)\n",
    "- Multiplication (*)\n",
    "- Division (/)\n",
    "- Modules (%)\n",
    "- Floor Division(//)\n",
    "- Exponential(**)"
   ]
  },
  {
   "cell_type": "code",
   "execution_count": 418,
   "metadata": {},
   "outputs": [
    {
     "name": "stdout",
     "output_type": "stream",
     "text": [
      "original array:  [1 2 3 4 5]\n",
      "[11 12 13 14 15]\n"
     ]
    }
   ],
   "source": [
    "# Addition\n",
    "numpy_array_from_list = np.array([1, 2, 3, 4, 5])\n",
    "print('original array: ', numpy_array_from_list)\n",
    "ten_plus_original = numpy_array_from_list  + 10\n",
    "print(ten_plus_original)"
   ]
  },
  {
   "cell_type": "code",
   "execution_count": 419,
   "metadata": {},
   "outputs": [
    {
     "name": "stdout",
     "output_type": "stream",
     "text": [
      "original array:  [1 2 3 4 5]\n",
      "[-9 -8 -7 -6 -5]\n"
     ]
    }
   ],
   "source": [
    "# Subtraction\n",
    "numpy_array_from_list = np.array([1, 2, 3, 4, 5])\n",
    "print('original array: ', numpy_array_from_list)\n",
    "ten_minus_original = numpy_array_from_list  - 10\n",
    "print(ten_minus_original)"
   ]
  },
  {
   "cell_type": "code",
   "execution_count": 420,
   "metadata": {},
   "outputs": [
    {
     "name": "stdout",
     "output_type": "stream",
     "text": [
      "original array:  [1 2 3 4 5]\n",
      "[10 20 30 40 50]\n"
     ]
    }
   ],
   "source": [
    "# Multiplication\n",
    "numpy_array_from_list = np.array([1, 2, 3, 4, 5])\n",
    "print('original array: ', numpy_array_from_list)\n",
    "ten_times_original = numpy_array_from_list * 10\n",
    "print(ten_times_original)"
   ]
  },
  {
   "cell_type": "code",
   "execution_count": 421,
   "metadata": {},
   "outputs": [
    {
     "name": "stdout",
     "output_type": "stream",
     "text": [
      "original array:  [1 2 3 4 5]\n",
      "[0.1 0.2 0.3 0.4 0.5]\n"
     ]
    }
   ],
   "source": [
    "# Division\n",
    "numpy_array_from_list = np.array([1, 2, 3, 4, 5])\n",
    "print('original array: ', numpy_array_from_list)\n",
    "ten_times_original = numpy_array_from_list / 10\n",
    "print(ten_times_original)"
   ]
  },
  {
   "cell_type": "code",
   "execution_count": 422,
   "metadata": {},
   "outputs": [
    {
     "name": "stdout",
     "output_type": "stream",
     "text": [
      "original array:  [1 2 3 4 5]\n",
      "[1 2 0 1 2]\n"
     ]
    }
   ],
   "source": [
    "# Modulus; Finding the remainder\n",
    "numpy_array_from_list = np.array([1, 2, 3, 4, 5])\n",
    "print('original array: ', numpy_array_from_list)\n",
    "ten_times_original = numpy_array_from_list % 3\n",
    "print(ten_times_original)"
   ]
  },
  {
   "cell_type": "code",
   "execution_count": 423,
   "metadata": {},
   "outputs": [
    {
     "name": "stdout",
     "output_type": "stream",
     "text": [
      "original array:  [1 2 3 4 5]\n",
      "[0 0 0 0 0]\n"
     ]
    }
   ],
   "source": [
    "# Floor division: the division result without the remainder\n",
    "numpy_array_from_list = np.array([1, 2, 3, 4, 5])\n",
    "print('original array: ', numpy_array_from_list)\n",
    "ten_times_original = numpy_array_from_list // 10\n",
    "print(ten_times_original)"
   ]
  },
  {
   "cell_type": "code",
   "execution_count": 424,
   "metadata": {},
   "outputs": [
    {
     "name": "stdout",
     "output_type": "stream",
     "text": [
      "original array:  [1 2 3 4 5]\n",
      "[ 1  4  9 16 25]\n"
     ]
    }
   ],
   "source": [
    "# Exponential is finding some number the power of another:\n",
    "numpy_array_from_list = np.array([1, 2, 3, 4, 5])\n",
    "print('original array: ', numpy_array_from_list)\n",
    "ten_times_original = numpy_array_from_list  ** 2\n",
    "print(ten_times_original)"
   ]
  },
  {
   "cell_type": "code",
   "execution_count": 425,
   "metadata": {},
   "outputs": [
    {
     "name": "stdout",
     "output_type": "stream",
     "text": [
      "<class 'numpy.ndarray'>\n",
      "[[1 2 3]\n",
      " [4 5 6]\n",
      " [7 8 9]]\n",
      "Shape:  (3, 3)\n",
      "Size: 9\n",
      "Data type: int64\n"
     ]
    }
   ],
   "source": [
    "# Multi dimensional array\n",
    "# 2 Dimension Array\n",
    "two_dimension_array = np.array([(1,2,3),(4,5,6), (7,8,9)])\n",
    "print(type (two_dimension_array))\n",
    "print(two_dimension_array)\n",
    "print('Shape: ', two_dimension_array.shape)\n",
    "print('Size:', two_dimension_array.size)\n",
    "print('Data type:', two_dimension_array.dtype)"
   ]
  },
  {
   "cell_type": "markdown",
   "metadata": {},
   "source": [
    "**Generating numbers** "
   ]
  },
  {
   "cell_type": "code",
   "execution_count": 426,
   "metadata": {},
   "outputs": [
    {
     "data": {
      "text/plain": [
       "0.033640705439926366"
      ]
     },
     "execution_count": 426,
     "metadata": {},
     "output_type": "execute_result"
    }
   ],
   "source": [
    "#Generating Random Numbers\n",
    "random_float = np.random.random()\n",
    "random_float"
   ]
  },
  {
   "cell_type": "code",
   "execution_count": 428,
   "metadata": {},
   "outputs": [
    {
     "data": {
      "text/plain": [
       "array([0.28620675, 0.47950764, 0.64355592, 0.68048164, 0.53091369])"
      ]
     },
     "execution_count": 428,
     "metadata": {},
     "output_type": "execute_result"
    }
   ],
   "source": [
    "#array of 5 random numbers\n",
    "random_floats = np.random.random(5)\n",
    "random_floats"
   ]
  },
  {
   "cell_type": "code",
   "execution_count": 429,
   "metadata": {},
   "outputs": [
    {
     "data": {
      "text/plain": [
       "10"
      ]
     },
     "execution_count": 429,
     "metadata": {},
     "output_type": "execute_result"
    }
   ],
   "source": [
    "# Generating a random integers between 0 and 10\n",
    "random_int = np.random.randint(0, 11)\n",
    "random_int"
   ]
  },
  {
   "cell_type": "code",
   "execution_count": 430,
   "metadata": {},
   "outputs": [
    {
     "data": {
      "text/plain": [
       "array([9, 8, 6, 3])"
      ]
     },
     "execution_count": 430,
     "metadata": {},
     "output_type": "execute_result"
    }
   ],
   "source": [
    "# Generating a random integers between 2 and 11, and creating a one row array\n",
    "random_int = np.random.randint(2,10, size=4)\n",
    "random_int"
   ]
  },
  {
   "cell_type": "code",
   "execution_count": 433,
   "metadata": {},
   "outputs": [
    {
     "data": {
      "text/plain": [
       "array([ 77.14525068,  71.80460894,  54.37114004,  92.26982915,\n",
       "        92.66725426, 100.27765473,  98.77984827,  44.35822206,\n",
       "        71.78218899,  73.78812041,  58.57815616, 106.00618353,\n",
       "        81.99120337,  66.24526903,  65.97744151,  65.20447128,\n",
       "        77.22511851,  58.51318361,  77.87822615,  87.26660231,\n",
       "        60.97400995,  78.33470748,  96.04259367,  89.82237129,\n",
       "        68.7891738 , 103.15834118,  50.48297674,  40.44873738,\n",
       "        59.95936995,  57.04971736,  72.96336465,  64.55946953,\n",
       "        58.80122102,  93.49713747,  74.10001508,  80.59304736,\n",
       "        88.33884695,  84.16245776,  81.58258   ,  68.25523155,\n",
       "        69.12544895,  83.74124246,  68.96720443,  87.33094032,\n",
       "        84.19113715,  99.7141301 ,  81.97483767,  77.15357134,\n",
       "        53.60214973, 107.42681195,  78.11382615,  81.07431242,\n",
       "        99.19081282,  79.71592507,  98.34092231,  90.11267842,\n",
       "        70.34170398,  84.88883249,  95.0238716 ,  72.5241432 ,\n",
       "        83.28057545,  76.87653381,  60.21873412,  73.37789064,\n",
       "        47.9976832 ,  83.44228749,  58.4427906 ,  68.72154215,\n",
       "        60.88695633,  70.37644649,  59.18462321,  81.87574858,\n",
       "        87.13362454,  64.41739497,  85.12816527,  42.69244401,\n",
       "        85.51193736,  88.67751806,  56.43469306,  78.90010232])"
      ]
     },
     "execution_count": 433,
     "metadata": {},
     "output_type": "execute_result"
    }
   ],
   "source": [
    "# Generating numbers from distributions\n",
    "# np.random.normal(mu, sigma, size)\n",
    "normal_array = np.random.normal(79, 15, 80)\n",
    "normal_array"
   ]
  },
  {
   "cell_type": "markdown",
   "metadata": {},
   "source": [
    "**numpy and stat**"
   ]
  },
  {
   "cell_type": "code",
   "execution_count": 436,
   "metadata": {},
   "outputs": [],
   "source": [
    "import matplotlib.pyplot as plt\n",
    "import seaborn as sns"
   ]
  },
  {
   "cell_type": "code",
   "execution_count": 437,
   "metadata": {},
   "outputs": [
    {
     "data": {
      "image/png": "[encoded data removed]",
      "text/plain": [
       "<Figure size 432x288 with 1 Axes>"
      ]
     },
     "metadata": {},
     "output_type": "display_data"
    }
   ],
   "source": [
    "sns.set()\n",
    "plt.hist(normal_array, color=\"grey\", bins=50)\n",
    "plt.show()"
   ]
  },
  {
   "cell_type": "code",
   "execution_count": 439,
   "metadata": {},
   "outputs": [
    {
     "data": {
      "text/plain": [
       "matrix([[1., 1., 1., 1.],\n",
       "        [1., 1., 1., 1.],\n",
       "        [1., 1., 1., 1.],\n",
       "        [1., 1., 1., 1.]])"
      ]
     },
     "execution_count": 439,
     "metadata": {},
     "output_type": "execute_result"
    }
   ],
   "source": [
    "four_by_four_matrix = np.matrix(np.ones((4,4), dtype=float))\n",
    "four_by_four_matrix"
   ]
  },
  {
   "cell_type": "code",
   "execution_count": 440,
   "metadata": {},
   "outputs": [
    {
     "data": {
      "text/plain": [
       "matrix([[1., 1., 1., 1.],\n",
       "        [1., 1., 1., 1.],\n",
       "        [2., 2., 2., 2.],\n",
       "        [1., 1., 1., 1.]])"
      ]
     },
     "execution_count": 440,
     "metadata": {},
     "output_type": "execute_result"
    }
   ],
   "source": [
    "np.asarray(four_by_four_matrix)[2] = 2\n",
    "four_by_four_matrix"
   ]
  },
  {
   "cell_type": "code",
   "execution_count": 442,
   "metadata": {},
   "outputs": [
    {
     "data": {
      "text/plain": [
       "array([4.45826971, 5.42620126, 4.92909364, 4.64902725, 5.10953607,\n",
       "       5.24559894, 4.80867073, 4.07652091, 5.42860711, 5.97111785,\n",
       "       5.47786463, 5.45695255, 5.4380674 , 4.5978465 , 4.56329855,\n",
       "       4.62149861, 5.43770888, 5.80938142, 4.88135277, 6.17233725,\n",
       "       5.1608282 , 5.58230102, 4.56160899, 5.36310541, 5.52224958,\n",
       "       4.98681143, 4.64177889, 4.67315702, 5.45169229, 4.5681299 ,\n",
       "       4.73375741, 4.34459945, 5.39028614, 5.27099649, 4.93589139,\n",
       "       5.23785514, 4.40135371, 4.47566272, 5.70804552, 4.34983213,\n",
       "       5.23258198, 5.8763203 , 5.37585493, 4.64556666, 4.97685196,\n",
       "       4.3594609 , 5.1073404 , 5.98926129, 5.51231656, 4.84743333,\n",
       "       6.01999912, 4.17905542, 4.87721568, 4.85442127, 4.87318229,\n",
       "       5.94205051, 5.6253922 , 5.5986902 , 4.24838309, 5.13759055,\n",
       "       4.09353626, 5.38861605, 4.82021884, 5.18639582, 5.40529609,\n",
       "       4.78417402, 5.23711863, 4.86246059, 5.26060847, 4.70750422,\n",
       "       4.73991079, 4.20304156, 5.91006308, 4.89913625, 5.67130204,\n",
       "       4.75455903, 5.38769451, 5.15134567, 5.13258117, 5.87803863,\n",
       "       4.69789047, 4.95496819, 4.16723494, 5.52714613, 5.17803316,\n",
       "       4.69552027, 5.64535124, 5.69677675, 4.59842158, 5.36851004,\n",
       "       4.9646677 , 4.82524738, 4.71019145, 3.9880697 , 5.46777081,\n",
       "       5.25897453, 6.1529709 , 4.91465293, 5.45896928, 5.48571918])"
      ]
     },
     "execution_count": 442,
     "metadata": {},
     "output_type": "execute_result"
    }
   ],
   "source": [
    "np_normal_dis = np.random.normal(5, 0.5, 100)\n",
    "np_normal_dis"
   ]
  },
  {
   "cell_type": "code",
   "execution_count": 443,
   "metadata": {},
   "outputs": [
    {
     "name": "stdout",
     "output_type": "stream",
     "text": [
      "min:  1\n",
      "max:  9\n",
      "mean:  5.0\n",
      "sd:  2.581988897471611\n"
     ]
    }
   ],
   "source": [
    "## min, max, mean, median, sd\n",
    "print('min: ', two_dimension_array.min())\n",
    "print('max: ', two_dimension_array.max())\n",
    "print('mean: ',two_dimension_array.mean())\n",
    "# print('median: ', two_dimension_array.median())\n",
    "print('sd: ', two_dimension_array.std())"
   ]
  },
  {
   "cell_type": "code",
   "execution_count": 445,
   "metadata": {},
   "outputs": [
    {
     "name": "stdout",
     "output_type": "stream",
     "text": [
      "Tile:    [1 2 3 1 2 3]\n",
      "Repeat:  [1 1 2 2 3 3]\n"
     ]
    }
   ],
   "source": [
    "# repeating sequence\n",
    "a = [1,2,3]\n",
    "\n",
    "# Repeat whole of 'a' two times\n",
    "print('Tile:   ', np.tile(a, 2))\n",
    "\n",
    "# Repeat each element of 'a' two times\n",
    "print('Repeat: ', np.repeat(a, 2))"
   ]
  },
  {
   "cell_type": "code",
   "execution_count": 452,
   "metadata": {},
   "outputs": [
    {
     "name": "stdout",
     "output_type": "stream",
     "text": [
      "Scheme :  ['#' '#' '#' '#' '#' '#']\n"
     ]
    }
   ],
   "source": [
    "b =['#']*2\n",
    "\n",
    "print('Scheme : ', np.repeat(b, 3))"
   ]
  },
  {
   "cell_type": "code",
   "execution_count": 453,
   "metadata": {},
   "outputs": [
    {
     "name": "stdout",
     "output_type": "stream",
     "text": [
      "[[0.79030416 0.95077894 0.0934106 ]\n",
      " [0.05159112 0.24780788 0.2519286 ]]\n"
     ]
    }
   ],
   "source": [
    "# Random numbers between [0,1) of shape 2,3\n",
    "r = np.random.random(size=[2,3])\n",
    "print(r)"
   ]
  },
  {
   "cell_type": "code",
   "execution_count": 454,
   "metadata": {},
   "outputs": [
    {
     "name": "stdout",
     "output_type": "stream",
     "text": [
      "['i' 'i' 'i' 'a' 'e' 'e' 'o' 'a' 'u' 'o']\n"
     ]
    }
   ],
   "source": [
    "print(np.random.choice(['a', 'e', 'i', 'o', 'u'], size=10))"
   ]
  },
  {
   "cell_type": "code",
   "execution_count": 455,
   "metadata": {},
   "outputs": [
    {
     "data": {
      "text/plain": [
       "array([[0.31965614, 0.28823401],\n",
       "       [0.92676424, 0.23643229]])"
      ]
     },
     "execution_count": 455,
     "metadata": {},
     "output_type": "execute_result"
    }
   ],
   "source": [
    "## Random numbers between [0, 1] of shape 2, 2\n",
    "rand = np.random.rand(2,2)\n",
    "rand"
   ]
  },
  {
   "cell_type": "code",
   "execution_count": 460,
   "metadata": {},
   "outputs": [
    {
     "data": {
      "text/plain": [
       "array([5.31112223, 5.10020559, 4.70794294, 3.37183126, 5.60276905,\n",
       "       4.38801454, 4.55664626, 6.07109976, 4.34930056, 4.80528211,\n",
       "       4.54291563, 4.332711  , 4.06079468, 4.31177623, 4.55655205,\n",
       "       5.18461169, 4.73480744, 4.84784848, 5.3581674 , 4.30821954,\n",
       "       4.55525724, 5.28030204, 5.55447127, 5.1419531 , 4.9516975 ,\n",
       "       4.68040369, 5.1644728 , 5.43482976, 5.09263403, 4.36287932,\n",
       "       4.16473726, 5.20398101, 4.51771484, 5.45098554, 5.64248198,\n",
       "       4.89263888, 4.42971854, 5.05631519, 5.36403241, 5.36810686,\n",
       "       4.72135459, 3.88347807, 4.36187459, 4.99919128, 4.96932011,\n",
       "       4.48062588, 5.57681843, 4.48642004, 5.33466679, 3.82235899,\n",
       "       5.59476622, 4.69300623, 4.43174381, 5.16303119, 4.48343194,\n",
       "       5.30943426, 4.75187354, 4.50308857, 5.08730582, 4.5813319 ,\n",
       "       4.99125511, 5.14351358, 4.4517456 , 4.7821663 , 5.2842434 ,\n",
       "       4.94839929, 4.68023566, 5.01953051, 4.47381017, 5.34277238,\n",
       "       5.36021475, 4.21933895, 5.15450638, 4.95442537, 6.19628681,\n",
       "       4.45009294, 4.89630906, 4.90110409, 5.15511209, 4.71400183,\n",
       "       4.95045466, 5.09191741, 4.69851614, 4.95428999, 4.69053099,\n",
       "       5.46365272, 5.08323716, 4.83931748, 4.29349447, 5.11623642,\n",
       "       5.29896347, 4.99294342, 5.3062211 , 5.22744107, 4.95092933,\n",
       "       5.69418855, 5.26265595, 4.48797473, 5.19411497, 5.29368664,\n",
       "       4.08651201, 4.78307586, 5.42412092, 4.51967416, 4.67421384,\n",
       "       4.78577238, 6.20194923, 5.66043627, 5.39636674, 4.513545  ,\n",
       "       5.04134057, 4.82589408, 4.79510868, 5.74734808, 5.02365622,\n",
       "       4.6091485 , 5.09388772, 5.6824729 , 5.32721204, 6.00062204,\n",
       "       5.91832703, 5.83095798, 5.40088278, 4.49272313, 4.42047234,\n",
       "       5.30148956, 4.62047635, 5.22090548, 4.65843191, 4.69532107,\n",
       "       5.71149937, 4.27382742, 5.88146637, 5.03431585, 3.33589853,\n",
       "       5.69092109, 5.29177524, 4.12609653, 5.15443647, 5.27821733,\n",
       "       5.36658046, 4.57111891, 5.27421691, 5.4218275 , 6.19821049,\n",
       "       5.2005806 , 5.21025563, 5.36431393, 6.05940129, 4.50299334,\n",
       "       5.06474505, 5.60493375, 6.28522659, 5.42454206, 5.1673355 ,\n",
       "       5.35566303, 5.3418987 , 5.50462066, 4.81688462, 5.37185479,\n",
       "       4.36956582, 5.32129263, 6.06771564, 5.15193596, 5.2031553 ,\n",
       "       4.6320913 , 4.16101311, 4.02288163, 4.1196806 , 5.18187611,\n",
       "       5.37841207, 4.07348206, 5.73023366, 5.286941  , 4.68680322,\n",
       "       5.03877059, 4.57542904, 4.97618997, 4.53268337, 4.67131566,\n",
       "       5.05453528, 5.55392012, 4.89768645, 4.53084105, 4.88406205,\n",
       "       5.54485734, 4.11970783, 5.40953212, 5.90383759, 5.09361923,\n",
       "       4.77960825, 4.94490219, 5.45458492, 4.17923495, 4.37100018,\n",
       "       4.80878189, 5.00616021, 4.70805232, 4.5558505 , 4.20505718,\n",
       "       5.40712683, 4.88811853, 5.13873067, 4.06156604, 4.7547575 ,\n",
       "       5.05088105, 4.9140262 , 5.48883721, 4.43439358, 5.24632695,\n",
       "       4.40130977, 5.10662783, 4.15870841, 4.83408492, 5.69630054,\n",
       "       5.23294994, 4.61517537, 5.4214734 , 5.19691105, 4.37083423,\n",
       "       4.90221531, 4.7059192 , 4.9629369 , 4.82689316, 5.4772759 ,\n",
       "       4.7656788 , 6.00272343, 5.0782227 , 5.11969242, 4.31688401,\n",
       "       4.43369644, 6.17399993, 4.82717427, 5.90481068, 5.07815181,\n",
       "       4.5730152 , 4.73890497, 4.83701063, 4.4116665 , 5.20179976,\n",
       "       4.63042882, 5.35567431, 4.79021012, 4.87140957, 5.34956304,\n",
       "       5.27330749, 5.37022601, 4.98725469, 4.68565588, 4.35285302,\n",
       "       5.31117289, 5.07885121, 4.7467768 , 5.53699047, 5.1621816 ,\n",
       "       4.65158314, 4.59621455, 4.83856599, 4.96264083, 4.66137966,\n",
       "       5.8831333 , 5.94594128, 6.01909337, 4.80005644, 5.83775086,\n",
       "       5.08759449, 5.55166518, 5.31447688, 4.35584985, 5.58118144,\n",
       "       4.59858226, 4.83916486, 4.37027135, 5.1908778 , 5.33544277,\n",
       "       4.50915666, 4.56020243, 5.82290259, 5.95357445, 4.69851834,\n",
       "       4.88380514, 4.11548925, 5.3951075 , 4.91481104, 5.27009074,\n",
       "       4.4934627 , 4.26661544, 4.90993665, 4.63244585, 4.71350254,\n",
       "       5.14260642, 4.33248513, 6.06339393, 5.16864227, 4.16692241,\n",
       "       5.09172355, 5.17423849, 4.15031201, 4.56558367, 5.18045411,\n",
       "       5.28352893, 5.57680893, 6.267638  , 6.14747525, 4.45476195,\n",
       "       4.8142172 , 6.01558856, 4.93158402, 4.67470014, 6.33414691,\n",
       "       5.02648579, 5.47441928, 5.21699529, 5.11521102, 5.05423857,\n",
       "       4.85219131, 4.67111678, 4.47251338, 5.21074392, 6.01735924,\n",
       "       5.00005848, 5.4841067 , 4.98434057, 5.40701342, 5.53011162,\n",
       "       5.56820554, 5.03813568, 5.23205409, 5.12856614, 4.78250837,\n",
       "       5.06524753, 5.82384123, 4.40880409, 4.9090182 , 4.90050639,\n",
       "       4.82667986, 5.33009686, 4.72433173, 4.91059862, 5.25206688,\n",
       "       5.39002324, 4.66775917, 4.31266127, 5.89404081, 4.96109483,\n",
       "       5.59556036, 4.62386519, 4.39590364, 5.17824259, 4.8543572 ,\n",
       "       4.80195212, 4.70582712, 4.97314941, 4.25000882, 5.77937981,\n",
       "       5.43487322, 4.977821  , 4.47350224, 4.76834575, 4.54967761,\n",
       "       5.21538267, 5.51893359, 4.65818714, 5.18048891, 5.014598  ,\n",
       "       4.37061099, 4.48008505, 5.83710889, 5.64999564, 5.31011732,\n",
       "       4.17408353, 4.37826818, 4.88206068, 4.57066387, 5.59006881,\n",
       "       5.17912037, 5.20205867, 4.68296079, 4.81582662, 5.09118514,\n",
       "       6.04322805, 4.36808135, 5.28443773, 4.24231581, 4.76514237,\n",
       "       5.85075436, 4.38532596, 5.18499943, 5.20452481, 4.61817278,\n",
       "       3.75314755, 4.41607817, 5.14688696, 3.82289187, 4.82162628,\n",
       "       5.91507455, 5.24647243, 4.2856389 , 4.84631343, 5.77412495,\n",
       "       4.21798898, 4.20039103, 4.4828361 , 5.15613637, 4.84817787,\n",
       "       5.28684869, 6.02152185, 6.14300059, 5.07721489, 4.87235262,\n",
       "       4.62987624, 4.64951931, 5.75358864, 6.02217278, 5.13493759,\n",
       "       5.53153816, 5.69463487, 4.62453421, 5.94785875, 4.32509475,\n",
       "       4.68071988, 5.15612627, 6.0887588 , 5.64748262, 5.84640479,\n",
       "       4.56243248, 4.21310789, 4.89192371, 4.89158178, 4.15818716,\n",
       "       4.96831303, 3.36749084, 5.17820554, 5.16353247, 4.22332311,\n",
       "       4.88459694, 5.18945876, 4.90370174, 5.39416219, 5.0010857 ,\n",
       "       4.83178334, 4.63572675, 4.95066387, 5.18449857, 5.64051307,\n",
       "       4.59519934, 4.84954656, 4.55110105, 5.12520648, 4.20642885,\n",
       "       4.699437  , 5.07520251, 4.40601666, 4.94370914, 5.01530492,\n",
       "       5.0957263 , 5.20980839, 4.95039018, 5.45969964, 4.93977972,\n",
       "       4.047335  , 4.80179975, 4.7041345 , 4.25668443, 5.33974017,\n",
       "       4.9632712 , 5.21340681, 5.57240831, 5.43311353, 4.93980961,\n",
       "       4.54662078, 5.44159474, 4.8002806 , 4.55698712, 5.66507789,\n",
       "       4.18743173, 4.80323637, 4.69016594, 5.44847066, 5.45230984,\n",
       "       4.33694708, 4.70643001, 5.70702716, 5.27071872, 5.08448329,\n",
       "       4.45380735, 4.46822002, 5.80287664, 4.63077226, 4.89918524,\n",
       "       5.53036902, 5.54794821, 4.3700194 , 4.80175614, 4.87947425,\n",
       "       4.64643198, 4.7067399 , 5.11878266, 4.92942051, 5.04685819,\n",
       "       4.89009007, 4.52315752, 4.5976255 , 5.14478288, 4.85280715,\n",
       "       4.45564427, 5.41736747, 4.95390363, 4.69093789, 5.49422192,\n",
       "       4.95696695, 4.99087134, 5.20059978, 5.11143474, 5.18816996,\n",
       "       5.19121153, 4.81592518, 5.74391525, 5.51655456, 5.46823228,\n",
       "       4.85720455, 5.34685085, 5.8065802 , 4.03234998, 4.13166774,\n",
       "       4.58965382, 5.21904316, 5.77031439, 4.53659739, 4.35028056,\n",
       "       4.35708531, 4.73297326, 4.99606317, 4.05654051, 5.79571711,\n",
       "       4.64534626, 5.41945353, 5.41627989, 5.31132289, 5.08480728,\n",
       "       5.07386917, 5.34199245, 4.82104183, 4.87477173, 4.87037864,\n",
       "       4.95288855, 5.3027821 , 4.5368198 , 5.09034616, 4.44816594,\n",
       "       4.6992651 , 4.63458946, 4.73391689, 5.18602799, 5.23328941,\n",
       "       5.46436698, 5.33167769, 5.09086779, 4.97401922, 4.41884408,\n",
       "       4.45433642, 4.53700791, 4.69836817, 4.59023742, 5.21645437,\n",
       "       4.31255226, 5.12040046, 5.15956801, 4.8729262 , 5.67833465,\n",
       "       5.59127463, 5.2694502 , 4.37042274, 4.96580289, 4.93908247,\n",
       "       5.74172984, 5.58166075, 6.13087103, 5.26734265, 5.21508618,\n",
       "       4.73427546, 5.40469728, 4.83060722, 5.14928554, 5.03145378,\n",
       "       4.23283198, 5.37221521, 5.32027848, 5.24249332, 4.72017971,\n",
       "       3.85179082, 5.38687951, 4.50160022, 5.68904827, 5.18299767,\n",
       "       5.02407683, 4.83312032, 4.89527453, 4.31797604, 4.66251714,\n",
       "       5.11292476, 5.42980592, 5.07362371, 5.18016987, 5.69049169,\n",
       "       4.93423666, 5.1605309 , 3.71335139, 5.41235325, 5.86997564,\n",
       "       5.90273267, 5.73451419, 4.84220835, 4.96261713, 4.93403339,\n",
       "       4.96469992, 4.82853932, 4.83051145, 4.85894694, 5.27235581,\n",
       "       5.3059238 , 3.61010266, 5.63674824, 4.86635318, 4.36392532,\n",
       "       5.44791682, 4.96295169, 5.05650245, 4.54607975, 5.22453877,\n",
       "       5.12702685, 5.22398821, 5.29571989, 4.56165723, 5.25834363,\n",
       "       4.98008427, 5.07253459, 4.71747233, 5.70738609, 4.88070617,\n",
       "       4.64171167, 4.13755519, 5.82654906, 5.35329172, 5.03059057,\n",
       "       5.12790442, 4.63065984, 4.22575324, 4.79579624, 5.03684061,\n",
       "       5.06898252, 5.26572207, 4.83233855, 5.20541995, 5.00538374,\n",
       "       5.73560464, 4.46222939, 4.9173498 , 5.54713122, 5.24316464,\n",
       "       4.31159048, 5.96125346, 4.60941317, 5.43023867, 4.98804874,\n",
       "       5.00453192, 4.9607427 , 4.06794922, 5.53074253, 5.43925066,\n",
       "       4.65466153, 5.13556024, 5.48193023, 5.30320531, 4.65079796,\n",
       "       4.00541686, 4.63964298, 5.52716918, 4.62290112, 5.14619473,\n",
       "       5.31780188, 5.69669496, 4.83621202, 4.38024   , 5.6972723 ,\n",
       "       4.4361374 , 4.51709138, 5.07298359, 5.38552187, 5.38912437,\n",
       "       4.7389019 , 6.2096391 , 5.30404797, 5.68168206, 5.28179743,\n",
       "       5.16966795, 5.03486124, 5.05626331, 4.78679377, 4.4392154 ,\n",
       "       4.60691347, 5.1756658 , 6.16645603, 4.52663779, 3.96815969,\n",
       "       5.6862043 , 4.46941516, 5.297449  , 5.67718864, 4.42790647,\n",
       "       5.62259822, 4.4276019 , 5.48927442, 5.4909034 , 5.11443638,\n",
       "       5.16478431, 5.02032303, 4.57783758, 4.75976478, 5.5771044 ,\n",
       "       4.52708891, 4.80943689, 4.41924289, 5.19868391, 4.72993243,\n",
       "       3.98337684, 4.4527845 , 4.77461612, 4.89086658, 5.24049092,\n",
       "       4.81433847, 5.2984606 , 5.15910402, 4.23863395, 4.50076419,\n",
       "       5.11577297, 4.82428096, 4.56800272, 5.91015418, 4.53108154,\n",
       "       4.95932437, 4.27110686, 5.37595915, 5.31333914, 4.78891495,\n",
       "       4.70756944, 4.39216658, 6.1664236 , 4.835334  , 5.1305596 ,\n",
       "       5.54153037, 4.58146398, 4.91793156, 4.88887214, 4.36648797,\n",
       "       4.84273286, 5.00152615, 5.1928766 , 5.27011888, 4.12555743,\n",
       "       6.05303923, 5.19508195, 5.10496414, 5.6272061 , 6.62758671,\n",
       "       4.25978592, 4.7730547 , 4.31754396, 5.47287504, 4.68700168,\n",
       "       5.10513845, 5.24678663, 5.26337803, 4.8629555 , 5.08671369,\n",
       "       6.08170319, 5.38919382, 5.8801982 , 5.46991555, 4.76707985,\n",
       "       5.68593707, 4.43570809, 5.35382244, 5.19565574, 5.47324971,\n",
       "       4.83722504, 5.14126159, 5.19307169, 5.13112044, 3.93424982,\n",
       "       5.28508051, 5.33112153, 4.16573128, 4.98690115, 4.643164  ,\n",
       "       5.35815443, 5.8843078 , 6.14676952, 4.85579836, 5.75926332,\n",
       "       4.6536648 , 6.13581842, 4.88122126, 4.8685119 , 5.19791784,\n",
       "       4.67294178, 6.05387407, 5.29945497, 4.411795  , 5.09901845,\n",
       "       4.7871929 , 5.32223019, 3.6819318 , 5.61030693, 4.26549772,\n",
       "       6.18734108, 4.47509354, 4.79173089, 6.16857609, 5.06369667,\n",
       "       4.56016803, 5.05456733, 5.34029643, 4.91038257, 5.69051425,\n",
       "       4.80258648, 5.58015766, 4.53205444, 4.88916929, 4.67029527,\n",
       "       4.68578268, 4.61616972, 4.92153104, 4.8217728 , 5.49646654,\n",
       "       5.23600976, 4.02585426, 4.61600972, 5.27909801, 4.41083956,\n",
       "       5.66301749, 4.60440533, 4.9810799 , 5.1938197 , 4.45809891,\n",
       "       4.25950897, 4.67211376, 5.19618853, 3.9544949 , 4.98912397,\n",
       "       4.15317547, 4.77853039, 4.78098861, 5.18564291, 5.03890195,\n",
       "       5.34912148, 5.43658432, 4.72310551, 5.2405296 , 4.80508035,\n",
       "       3.94165045, 5.1692175 , 4.96896913, 4.38668908, 4.3984613 ,\n",
       "       4.84816263, 4.27727469, 5.23696534, 5.00119775, 4.94894033,\n",
       "       5.59517301, 4.56468684, 5.44268285, 5.28660311, 4.4870758 ,\n",
       "       5.2735392 , 4.26831358, 5.19475214, 6.64072999, 4.98714737,\n",
       "       5.13794038, 4.54174553, 4.2371466 , 5.56682666, 4.87922208,\n",
       "       5.08368247, 4.78565132, 4.52155698, 4.89664696, 6.52761143,\n",
       "       4.36172386, 4.5787103 , 5.09620273, 4.75220024, 4.97523675,\n",
       "       5.49728362, 4.90773249, 4.69519142, 4.82607989, 5.14054632,\n",
       "       4.99181583, 5.67825675, 5.01527268, 4.64670398, 4.30566967,\n",
       "       5.65329468, 4.50789246, 5.98539029, 4.3468888 , 4.65603952,\n",
       "       5.0714019 , 4.53476594, 4.90914434, 4.48941453, 4.10642629,\n",
       "       4.69045495, 5.15568977, 4.62154289, 4.34457681, 4.6499907 ,\n",
       "       4.80725625, 5.14311907, 5.66829684, 4.7091752 , 5.41818089,\n",
       "       4.66059611, 4.70013055, 5.23155053, 5.03234801, 5.09416577,\n",
       "       4.60347696, 4.79195936, 4.99764004, 5.24725975, 4.98918464,\n",
       "       4.81046337, 4.76975316, 5.12818827, 5.66429468, 4.59598118,\n",
       "       4.24929027, 3.82009708, 5.12977069, 4.16656924, 5.55939174,\n",
       "       4.75366055, 4.49089596, 4.57738504, 5.41608004, 4.70763621,\n",
       "       4.7495643 , 5.74207839, 5.15584919, 5.08259012, 5.55545631,\n",
       "       4.88742053, 4.53405686, 4.82302477, 5.16517735, 4.97716013,\n",
       "       5.72124883, 4.99390447, 5.39294619, 4.45724555, 5.06041498,\n",
       "       5.05292648, 4.26050439, 4.74465938, 5.4976639 , 5.45459799,\n",
       "       5.36564353, 4.90428302, 4.70341306, 4.9722798 , 5.10815027,\n",
       "       5.85995434, 6.0242734 , 5.14929848, 4.38414489, 4.41417147,\n",
       "       5.05071123, 4.98459056, 3.41742872, 5.25096893, 4.98104057,\n",
       "       5.71074455, 5.05261202, 4.97261001, 4.37579441, 4.47351017,\n",
       "       5.46248437, 4.52155159, 5.88283996, 5.22077143, 3.77641767,\n",
       "       5.11431046, 4.30595131, 5.43755224, 3.8862771 , 5.15482638])"
      ]
     },
     "execution_count": 460,
     "metadata": {},
     "output_type": "execute_result"
    }
   ],
   "source": [
    "from scipy import stats\n",
    "np_normal_dis = np.random.normal(5, 0.5, 1000) # mean, standard deviation, number of samples\n",
    "np_normal_dis"
   ]
  },
  {
   "cell_type": "code",
   "execution_count": 461,
   "metadata": {},
   "outputs": [
    {
     "name": "stdout",
     "output_type": "stream",
     "text": [
      "min:  3.335898527857451\n",
      "max:  6.640729987959602\n",
      "mean:  4.990258936817199\n",
      "median:  4.984465563637768\n",
      "mode:  ModeResult(mode=array([3.33589853]), count=array([1]))\n",
      "sd:  0.5113992419661317\n"
     ]
    },
    {
     "name": "stderr",
     "output_type": "stream",
     "text": [
      "<ipython-input-461-b7542d3a4bcd>:6: FutureWarning: Unlike other reduction functions (e.g. `skew`, `kurtosis`), the default behavior of `mode` typically preserves the axis it acts along. In SciPy 1.11.0, this behavior will change: the default value of `keepdims` will become False, the `axis` over which the statistic is taken will be eliminated, and the value None will no longer be accepted. Set `keepdims` to True or False to avoid this warning.\n",
      "  print('mode: ', stats.mode(np_normal_dis))\n"
     ]
    }
   ],
   "source": [
    "## min, max, mean, median, sd\n",
    "print('min: ', np.min(np_normal_dis))\n",
    "print('max: ', np.max(np_normal_dis))\n",
    "print('mean: ', np.mean(np_normal_dis))\n",
    "print('median: ', np.median(np_normal_dis))\n",
    "print('mode: ', stats.mode(np_normal_dis))\n",
    "print('sd: ', np.std(np_normal_dis))"
   ]
  },
  {
   "cell_type": "code",
   "execution_count": 459,
   "metadata": {},
   "outputs": [
    {
     "data": {
      "image/png": "[encoded data removed]",
      "text/plain": [
       "<Figure size 432x288 with 1 Axes>"
      ]
     },
     "metadata": {},
     "output_type": "display_data"
    }
   ],
   "source": [
    "plt.hist(np_normal_dis, color=\"limegreen\", bins=18)\n",
    "plt.show()"
   ]
  },
  {
   "cell_type": "code",
   "execution_count": 462,
   "metadata": {},
   "outputs": [
    {
     "data": {
      "text/plain": [
       "array([[19, 22],\n",
       "       [43, 50]])"
      ]
     },
     "execution_count": 462,
     "metadata": {},
     "output_type": "execute_result"
    }
   ],
   "source": [
    "### Matmul: matruc product of two arrays\n",
    "h = [[1,2],[3,4]]\n",
    "i = [[5,6],[7,8]]\n",
    "### 1*5+2*7 = 19\n",
    "np.matmul(h, i)"
   ]
  },
  {
   "cell_type": "code",
   "execution_count": 466,
   "metadata": {},
   "outputs": [
    {
     "data": {
      "text/plain": [
       "-2.000000000000005"
      ]
     },
     "execution_count": 466,
     "metadata": {},
     "output_type": "execute_result"
    }
   ],
   "source": [
    "# find the determinant\n",
    "np.linalg.det(i)"
   ]
  },
  {
   "cell_type": "code",
   "execution_count": 467,
   "metadata": {},
   "outputs": [
    {
     "name": "stderr",
     "output_type": "stream",
     "text": [
      "<ipython-input-467-45c11b55de1e>:6: UserWarning: \n",
      "\n",
      "`distplot` is a deprecated function and will be removed in seaborn v0.14.0.\n",
      "\n",
      "Please adapt your code to use either `displot` (a figure-level function with\n",
      "similar flexibility) or `histplot` (an axes-level function for histograms).\n",
      "\n",
      "For a guide to updating your code to use the new functions, please see\n",
      "https://gist.github.com/mwaskom/de44147ed2974457ad6372750bbe5751\n",
      "\n",
      "  ax = sns.distplot(x);\n"
     ]
    },
    {
     "data": {
      "image/png": "[encoded data removed]",
      "text/plain": [
       "<Figure size 432x288 with 1 Axes>"
      ]
     },
     "metadata": {},
     "output_type": "display_data"
    }
   ],
   "source": [
    "mu = 28\n",
    "sigma = 15\n",
    "samples = 100000\n",
    "\n",
    "x = np.random.normal(mu, sigma, samples)\n",
    "ax = sns.distplot(x);\n",
    "ax.set(xlabel=\"x\", ylabel='y')\n",
    "plt.show()"
   ]
  },
  {
   "cell_type": "code",
   "execution_count": 468,
   "metadata": {},
   "outputs": [],
   "source": [
    "# note : seaborn provides a higher-level interface for creating attractive and informative statistical graphics "
   ]
  },
  {
   "cell_type": "markdown",
   "metadata": {},
   "source": [
    "## Day 25 - Pandas"
   ]
  },
  {
   "cell_type": "markdown",
   "metadata": {},
   "source": [
    "- Read the hacker_news.csv file from data directory\n",
    "- Get the first five rows\n",
    "- Get the last five rows\n",
    "- Get the title column as pandas series\n",
    "- Count the number of rows and columns\n",
    "    - Filter the titles which contain python\n",
    "    - Filter the titles which contain JavaScript\n",
    "    - Explore the data and make sense of it"
   ]
  },
  {
   "cell_type": "code",
   "execution_count": 469,
   "metadata": {},
   "outputs": [],
   "source": [
    "import pandas as pd"
   ]
  },
  {
   "cell_type": "code",
   "execution_count": 473,
   "metadata": {},
   "outputs": [
    {
     "data": {
      "text/html": [
       "<div>\n",
       "<style scoped>\n",
       "    .dataframe tbody tr th:only-of-type {\n",
       "        vertical-align: middle;\n",
       "    }\n",
       "\n",
       "    .dataframe tbody tr th {\n",
       "        vertical-align: top;\n",
       "    }\n",
       "\n",
       "    .dataframe thead th {\n",
       "        text-align: right;\n",
       "    }\n",
       "</style>\n",
       "<table border=\"1\" class=\"dataframe\">\n",
       "  <thead>\n",
       "    <tr style=\"text-align: right;\">\n",
       "      <th></th>\n",
       "      <th>id</th>\n",
       "      <th>title</th>\n",
       "      <th>url</th>\n",
       "      <th>num_points</th>\n",
       "      <th>num_comments</th>\n",
       "      <th>author</th>\n",
       "      <th>created_at</th>\n",
       "    </tr>\n",
       "  </thead>\n",
       "  <tbody>\n",
       "    <tr>\n",
       "      <th>0</th>\n",
       "      <td>12224879</td>\n",
       "      <td>Interactive Dynamic Video</td>\n",
       "      <td>http://www.interactivedynamicvideo.com/</td>\n",
       "      <td>386</td>\n",
       "      <td>52</td>\n",
       "      <td>ne0phyte</td>\n",
       "      <td>8/4/2016 11:52</td>\n",
       "    </tr>\n",
       "    <tr>\n",
       "      <th>1</th>\n",
       "      <td>11964716</td>\n",
       "      <td>Florida DJs May Face Felony for April Fools' W...</td>\n",
       "      <td>http://www.thewire.com/entertainment/2013/04/f...</td>\n",
       "      <td>2</td>\n",
       "      <td>1</td>\n",
       "      <td>vezycash</td>\n",
       "      <td>6/23/2016 22:20</td>\n",
       "    </tr>\n",
       "    <tr>\n",
       "      <th>2</th>\n",
       "      <td>11919867</td>\n",
       "      <td>Technology ventures: From Idea to Enterprise</td>\n",
       "      <td>https://www.amazon.com/Technology-Ventures-Ent...</td>\n",
       "      <td>3</td>\n",
       "      <td>1</td>\n",
       "      <td>hswarna</td>\n",
       "      <td>6/17/2016 0:01</td>\n",
       "    </tr>\n",
       "    <tr>\n",
       "      <th>3</th>\n",
       "      <td>10301696</td>\n",
       "      <td>Note by Note: The Making of Steinway L1037 (2007)</td>\n",
       "      <td>http://www.nytimes.com/2007/11/07/movies/07ste...</td>\n",
       "      <td>8</td>\n",
       "      <td>2</td>\n",
       "      <td>walterbell</td>\n",
       "      <td>9/30/2015 4:12</td>\n",
       "    </tr>\n",
       "    <tr>\n",
       "      <th>4</th>\n",
       "      <td>10482257</td>\n",
       "      <td>Title II kills investment? Comcast and other I...</td>\n",
       "      <td>http://arstechnica.com/business/2015/10/comcas...</td>\n",
       "      <td>53</td>\n",
       "      <td>22</td>\n",
       "      <td>Deinos</td>\n",
       "      <td>10/31/2015 9:48</td>\n",
       "    </tr>\n",
       "    <tr>\n",
       "      <th>...</th>\n",
       "      <td>...</td>\n",
       "      <td>...</td>\n",
       "      <td>...</td>\n",
       "      <td>...</td>\n",
       "      <td>...</td>\n",
       "      <td>...</td>\n",
       "      <td>...</td>\n",
       "    </tr>\n",
       "    <tr>\n",
       "      <th>20094</th>\n",
       "      <td>12379592</td>\n",
       "      <td>How Purism Avoids Intels Active Management Tec...</td>\n",
       "      <td>https://puri.sm/philosophy/how-purism-avoids-i...</td>\n",
       "      <td>10</td>\n",
       "      <td>6</td>\n",
       "      <td>AdmiralAsshat</td>\n",
       "      <td>8/29/2016 2:22</td>\n",
       "    </tr>\n",
       "    <tr>\n",
       "      <th>20095</th>\n",
       "      <td>10339284</td>\n",
       "      <td>YC Application Translated and Broken Down</td>\n",
       "      <td>https://medium.com/@zreitano/the-yc-applicatio...</td>\n",
       "      <td>4</td>\n",
       "      <td>1</td>\n",
       "      <td>zreitano</td>\n",
       "      <td>10/6/2015 14:57</td>\n",
       "    </tr>\n",
       "    <tr>\n",
       "      <th>20096</th>\n",
       "      <td>10824382</td>\n",
       "      <td>Microkernels are slow and Elvis didn't do no d...</td>\n",
       "      <td>http://blog.darknedgy.net/technology/2016/01/0...</td>\n",
       "      <td>169</td>\n",
       "      <td>132</td>\n",
       "      <td>vezzy-fnord</td>\n",
       "      <td>1/2/2016 0:49</td>\n",
       "    </tr>\n",
       "    <tr>\n",
       "      <th>20097</th>\n",
       "      <td>10739875</td>\n",
       "      <td>How Product Hunt really works</td>\n",
       "      <td>https://medium.com/@benjiwheeler/how-product-h...</td>\n",
       "      <td>695</td>\n",
       "      <td>222</td>\n",
       "      <td>brw12</td>\n",
       "      <td>12/15/2015 19:32</td>\n",
       "    </tr>\n",
       "    <tr>\n",
       "      <th>20098</th>\n",
       "      <td>11680777</td>\n",
       "      <td>RoboBrowser: Your friendly neighborhood web sc...</td>\n",
       "      <td>https://github.com/jmcarp/robobrowser</td>\n",
       "      <td>182</td>\n",
       "      <td>58</td>\n",
       "      <td>pmoriarty</td>\n",
       "      <td>5/12/2016 1:43</td>\n",
       "    </tr>\n",
       "  </tbody>\n",
       "</table>\n",
       "<p>20099 rows × 7 columns</p>\n",
       "</div>"
      ],
      "text/plain": [
       "             id                                              title  \\\n",
       "0      12224879                          Interactive Dynamic Video   \n",
       "1      11964716  Florida DJs May Face Felony for April Fools' W...   \n",
       "2      11919867       Technology ventures: From Idea to Enterprise   \n",
       "3      10301696  Note by Note: The Making of Steinway L1037 (2007)   \n",
       "4      10482257  Title II kills investment? Comcast and other I...   \n",
       "...         ...                                                ...   \n",
       "20094  12379592  How Purism Avoids Intels Active Management Tec...   \n",
       "20095  10339284          YC Application Translated and Broken Down   \n",
       "20096  10824382  Microkernels are slow and Elvis didn't do no d...   \n",
       "20097  10739875                      How Product Hunt really works   \n",
       "20098  11680777  RoboBrowser: Your friendly neighborhood web sc...   \n",
       "\n",
       "                                                     url  num_points  \\\n",
       "0                http://www.interactivedynamicvideo.com/         386   \n",
       "1      http://www.thewire.com/entertainment/2013/04/f...           2   \n",
       "2      https://www.amazon.com/Technology-Ventures-Ent...           3   \n",
       "3      http://www.nytimes.com/2007/11/07/movies/07ste...           8   \n",
       "4      http://arstechnica.com/business/2015/10/comcas...          53   \n",
       "...                                                  ...         ...   \n",
       "20094  https://puri.sm/philosophy/how-purism-avoids-i...          10   \n",
       "20095  https://medium.com/@zreitano/the-yc-applicatio...           4   \n",
       "20096  http://blog.darknedgy.net/technology/2016/01/0...         169   \n",
       "20097  https://medium.com/@benjiwheeler/how-product-h...         695   \n",
       "20098              https://github.com/jmcarp/robobrowser         182   \n",
       "\n",
       "       num_comments         author        created_at  \n",
       "0                52       ne0phyte    8/4/2016 11:52  \n",
       "1                 1       vezycash   6/23/2016 22:20  \n",
       "2                 1        hswarna    6/17/2016 0:01  \n",
       "3                 2     walterbell    9/30/2015 4:12  \n",
       "4                22         Deinos   10/31/2015 9:48  \n",
       "...             ...            ...               ...  \n",
       "20094             6  AdmiralAsshat    8/29/2016 2:22  \n",
       "20095             1       zreitano   10/6/2015 14:57  \n",
       "20096           132    vezzy-fnord     1/2/2016 0:49  \n",
       "20097           222          brw12  12/15/2015 19:32  \n",
       "20098            58      pmoriarty    5/12/2016 1:43  \n",
       "\n",
       "[20099 rows x 7 columns]"
      ]
     },
     "execution_count": 473,
     "metadata": {},
     "output_type": "execute_result"
    }
   ],
   "source": [
    "hacker_data = pd.read_csv(\"/Users/simondequidt/Desktop/Simon_DEQUIDT_Profil_Pro/EDHEC/BofA_Trading/3-30DaysChallenge/D5/hacker_news.csv\")\n",
    "hacker_data"
   ]
  },
  {
   "cell_type": "code",
   "execution_count": 475,
   "metadata": {},
   "outputs": [
    {
     "data": {
      "text/html": [
       "<div>\n",
       "<style scoped>\n",
       "    .dataframe tbody tr th:only-of-type {\n",
       "        vertical-align: middle;\n",
       "    }\n",
       "\n",
       "    .dataframe tbody tr th {\n",
       "        vertical-align: top;\n",
       "    }\n",
       "\n",
       "    .dataframe thead th {\n",
       "        text-align: right;\n",
       "    }\n",
       "</style>\n",
       "<table border=\"1\" class=\"dataframe\">\n",
       "  <thead>\n",
       "    <tr style=\"text-align: right;\">\n",
       "      <th></th>\n",
       "      <th>id</th>\n",
       "      <th>title</th>\n",
       "      <th>url</th>\n",
       "      <th>num_points</th>\n",
       "      <th>num_comments</th>\n",
       "      <th>author</th>\n",
       "      <th>created_at</th>\n",
       "    </tr>\n",
       "  </thead>\n",
       "  <tbody>\n",
       "    <tr>\n",
       "      <th>0</th>\n",
       "      <td>12224879</td>\n",
       "      <td>Interactive Dynamic Video</td>\n",
       "      <td>http://www.interactivedynamicvideo.com/</td>\n",
       "      <td>386</td>\n",
       "      <td>52</td>\n",
       "      <td>ne0phyte</td>\n",
       "      <td>8/4/2016 11:52</td>\n",
       "    </tr>\n",
       "    <tr>\n",
       "      <th>1</th>\n",
       "      <td>11964716</td>\n",
       "      <td>Florida DJs May Face Felony for April Fools' W...</td>\n",
       "      <td>http://www.thewire.com/entertainment/2013/04/f...</td>\n",
       "      <td>2</td>\n",
       "      <td>1</td>\n",
       "      <td>vezycash</td>\n",
       "      <td>6/23/2016 22:20</td>\n",
       "    </tr>\n",
       "    <tr>\n",
       "      <th>2</th>\n",
       "      <td>11919867</td>\n",
       "      <td>Technology ventures: From Idea to Enterprise</td>\n",
       "      <td>https://www.amazon.com/Technology-Ventures-Ent...</td>\n",
       "      <td>3</td>\n",
       "      <td>1</td>\n",
       "      <td>hswarna</td>\n",
       "      <td>6/17/2016 0:01</td>\n",
       "    </tr>\n",
       "    <tr>\n",
       "      <th>3</th>\n",
       "      <td>10301696</td>\n",
       "      <td>Note by Note: The Making of Steinway L1037 (2007)</td>\n",
       "      <td>http://www.nytimes.com/2007/11/07/movies/07ste...</td>\n",
       "      <td>8</td>\n",
       "      <td>2</td>\n",
       "      <td>walterbell</td>\n",
       "      <td>9/30/2015 4:12</td>\n",
       "    </tr>\n",
       "    <tr>\n",
       "      <th>4</th>\n",
       "      <td>10482257</td>\n",
       "      <td>Title II kills investment? Comcast and other I...</td>\n",
       "      <td>http://arstechnica.com/business/2015/10/comcas...</td>\n",
       "      <td>53</td>\n",
       "      <td>22</td>\n",
       "      <td>Deinos</td>\n",
       "      <td>10/31/2015 9:48</td>\n",
       "    </tr>\n",
       "  </tbody>\n",
       "</table>\n",
       "</div>"
      ],
      "text/plain": [
       "         id                                              title  \\\n",
       "0  12224879                          Interactive Dynamic Video   \n",
       "1  11964716  Florida DJs May Face Felony for April Fools' W...   \n",
       "2  11919867       Technology ventures: From Idea to Enterprise   \n",
       "3  10301696  Note by Note: The Making of Steinway L1037 (2007)   \n",
       "4  10482257  Title II kills investment? Comcast and other I...   \n",
       "\n",
       "                                                 url  num_points  \\\n",
       "0            http://www.interactivedynamicvideo.com/         386   \n",
       "1  http://www.thewire.com/entertainment/2013/04/f...           2   \n",
       "2  https://www.amazon.com/Technology-Ventures-Ent...           3   \n",
       "3  http://www.nytimes.com/2007/11/07/movies/07ste...           8   \n",
       "4  http://arstechnica.com/business/2015/10/comcas...          53   \n",
       "\n",
       "   num_comments      author       created_at  \n",
       "0            52    ne0phyte   8/4/2016 11:52  \n",
       "1             1    vezycash  6/23/2016 22:20  \n",
       "2             1     hswarna   6/17/2016 0:01  \n",
       "3             2  walterbell   9/30/2015 4:12  \n",
       "4            22      Deinos  10/31/2015 9:48  "
      ]
     },
     "execution_count": 475,
     "metadata": {},
     "output_type": "execute_result"
    }
   ],
   "source": [
    "first_five_rows = hacker_data.head()\n",
    "first_five_rows"
   ]
  },
  {
   "cell_type": "code",
   "execution_count": 476,
   "metadata": {},
   "outputs": [
    {
     "data": {
      "text/html": [
       "<div>\n",
       "<style scoped>\n",
       "    .dataframe tbody tr th:only-of-type {\n",
       "        vertical-align: middle;\n",
       "    }\n",
       "\n",
       "    .dataframe tbody tr th {\n",
       "        vertical-align: top;\n",
       "    }\n",
       "\n",
       "    .dataframe thead th {\n",
       "        text-align: right;\n",
       "    }\n",
       "</style>\n",
       "<table border=\"1\" class=\"dataframe\">\n",
       "  <thead>\n",
       "    <tr style=\"text-align: right;\">\n",
       "      <th></th>\n",
       "      <th>id</th>\n",
       "      <th>title</th>\n",
       "      <th>url</th>\n",
       "      <th>num_points</th>\n",
       "      <th>num_comments</th>\n",
       "      <th>author</th>\n",
       "      <th>created_at</th>\n",
       "    </tr>\n",
       "  </thead>\n",
       "  <tbody>\n",
       "    <tr>\n",
       "      <th>20094</th>\n",
       "      <td>12379592</td>\n",
       "      <td>How Purism Avoids Intels Active Management Tec...</td>\n",
       "      <td>https://puri.sm/philosophy/how-purism-avoids-i...</td>\n",
       "      <td>10</td>\n",
       "      <td>6</td>\n",
       "      <td>AdmiralAsshat</td>\n",
       "      <td>8/29/2016 2:22</td>\n",
       "    </tr>\n",
       "    <tr>\n",
       "      <th>20095</th>\n",
       "      <td>10339284</td>\n",
       "      <td>YC Application Translated and Broken Down</td>\n",
       "      <td>https://medium.com/@zreitano/the-yc-applicatio...</td>\n",
       "      <td>4</td>\n",
       "      <td>1</td>\n",
       "      <td>zreitano</td>\n",
       "      <td>10/6/2015 14:57</td>\n",
       "    </tr>\n",
       "    <tr>\n",
       "      <th>20096</th>\n",
       "      <td>10824382</td>\n",
       "      <td>Microkernels are slow and Elvis didn't do no d...</td>\n",
       "      <td>http://blog.darknedgy.net/technology/2016/01/0...</td>\n",
       "      <td>169</td>\n",
       "      <td>132</td>\n",
       "      <td>vezzy-fnord</td>\n",
       "      <td>1/2/2016 0:49</td>\n",
       "    </tr>\n",
       "    <tr>\n",
       "      <th>20097</th>\n",
       "      <td>10739875</td>\n",
       "      <td>How Product Hunt really works</td>\n",
       "      <td>https://medium.com/@benjiwheeler/how-product-h...</td>\n",
       "      <td>695</td>\n",
       "      <td>222</td>\n",
       "      <td>brw12</td>\n",
       "      <td>12/15/2015 19:32</td>\n",
       "    </tr>\n",
       "    <tr>\n",
       "      <th>20098</th>\n",
       "      <td>11680777</td>\n",
       "      <td>RoboBrowser: Your friendly neighborhood web sc...</td>\n",
       "      <td>https://github.com/jmcarp/robobrowser</td>\n",
       "      <td>182</td>\n",
       "      <td>58</td>\n",
       "      <td>pmoriarty</td>\n",
       "      <td>5/12/2016 1:43</td>\n",
       "    </tr>\n",
       "  </tbody>\n",
       "</table>\n",
       "</div>"
      ],
      "text/plain": [
       "             id                                              title  \\\n",
       "20094  12379592  How Purism Avoids Intels Active Management Tec...   \n",
       "20095  10339284          YC Application Translated and Broken Down   \n",
       "20096  10824382  Microkernels are slow and Elvis didn't do no d...   \n",
       "20097  10739875                      How Product Hunt really works   \n",
       "20098  11680777  RoboBrowser: Your friendly neighborhood web sc...   \n",
       "\n",
       "                                                     url  num_points  \\\n",
       "20094  https://puri.sm/philosophy/how-purism-avoids-i...          10   \n",
       "20095  https://medium.com/@zreitano/the-yc-applicatio...           4   \n",
       "20096  http://blog.darknedgy.net/technology/2016/01/0...         169   \n",
       "20097  https://medium.com/@benjiwheeler/how-product-h...         695   \n",
       "20098              https://github.com/jmcarp/robobrowser         182   \n",
       "\n",
       "       num_comments         author        created_at  \n",
       "20094             6  AdmiralAsshat    8/29/2016 2:22  \n",
       "20095             1       zreitano   10/6/2015 14:57  \n",
       "20096           132    vezzy-fnord     1/2/2016 0:49  \n",
       "20097           222          brw12  12/15/2015 19:32  \n",
       "20098            58      pmoriarty    5/12/2016 1:43  "
      ]
     },
     "execution_count": 476,
     "metadata": {},
     "output_type": "execute_result"
    }
   ],
   "source": [
    "last_five_rows = hacker_data.tail()\n",
    "last_five_rows"
   ]
  },
  {
   "cell_type": "code",
   "execution_count": 479,
   "metadata": {},
   "outputs": [
    {
     "data": {
      "text/plain": [
       "0                                Interactive Dynamic Video\n",
       "1        Florida DJs May Face Felony for April Fools' W...\n",
       "2             Technology ventures: From Idea to Enterprise\n",
       "3        Note by Note: The Making of Steinway L1037 (2007)\n",
       "4        Title II kills investment? Comcast and other I...\n",
       "                               ...                        \n",
       "20094    How Purism Avoids Intels Active Management Tec...\n",
       "20095            YC Application Translated and Broken Down\n",
       "20096    Microkernels are slow and Elvis didn't do no d...\n",
       "20097                        How Product Hunt really works\n",
       "20098    RoboBrowser: Your friendly neighborhood web sc...\n",
       "Name: title, Length: 20099, dtype: object"
      ]
     },
     "execution_count": 479,
     "metadata": {},
     "output_type": "execute_result"
    }
   ],
   "source": [
    "title_col = hacker_data[\"title\"]\n",
    "title_col"
   ]
  },
  {
   "cell_type": "code",
   "execution_count": 481,
   "metadata": {},
   "outputs": [
    {
     "name": "stdout",
     "output_type": "stream",
     "text": [
      "number of row: 20099, number of columns: 7\n"
     ]
    }
   ],
   "source": [
    "print(f\"number of row: {len(hacker_data)}, number of columns: {len(hacker_data.columns)}\")"
   ]
  },
  {
   "cell_type": "code",
   "execution_count": 486,
   "metadata": {},
   "outputs": [
    {
     "data": {
      "text/html": [
       "<div>\n",
       "<style scoped>\n",
       "    .dataframe tbody tr th:only-of-type {\n",
       "        vertical-align: middle;\n",
       "    }\n",
       "\n",
       "    .dataframe tbody tr th {\n",
       "        vertical-align: top;\n",
       "    }\n",
       "\n",
       "    .dataframe thead th {\n",
       "        text-align: right;\n",
       "    }\n",
       "</style>\n",
       "<table border=\"1\" class=\"dataframe\">\n",
       "  <thead>\n",
       "    <tr style=\"text-align: right;\">\n",
       "      <th></th>\n",
       "      <th>id</th>\n",
       "      <th>title</th>\n",
       "      <th>url</th>\n",
       "      <th>num_points</th>\n",
       "      <th>num_comments</th>\n",
       "      <th>author</th>\n",
       "      <th>created_at</th>\n",
       "    </tr>\n",
       "  </thead>\n",
       "  <tbody>\n",
       "    <tr>\n",
       "      <th>102</th>\n",
       "      <td>10974870</td>\n",
       "      <td>From Python to Lua: Why We Switched</td>\n",
       "      <td>https://www.distelli.com/blog/using-lua-for-ou...</td>\n",
       "      <td>243</td>\n",
       "      <td>188</td>\n",
       "      <td>chase202</td>\n",
       "      <td>1/26/2016 18:17</td>\n",
       "    </tr>\n",
       "    <tr>\n",
       "      <th>103</th>\n",
       "      <td>11244541</td>\n",
       "      <td>Ubuntu 16.04 LTS to Ship Without Python 2</td>\n",
       "      <td>http://news.softpedia.com/news/ubuntu-16-04-lt...</td>\n",
       "      <td>2</td>\n",
       "      <td>1</td>\n",
       "      <td>_snydly</td>\n",
       "      <td>3/8/2016 10:39</td>\n",
       "    </tr>\n",
       "    <tr>\n",
       "      <th>144</th>\n",
       "      <td>10963528</td>\n",
       "      <td>Create a GUI Application Using Qt and Python i...</td>\n",
       "      <td>http://digitalpeer.com/s/c63e</td>\n",
       "      <td>21</td>\n",
       "      <td>1</td>\n",
       "      <td>zoodle</td>\n",
       "      <td>1/24/2016 19:01</td>\n",
       "    </tr>\n",
       "    <tr>\n",
       "      <th>196</th>\n",
       "      <td>10716331</td>\n",
       "      <td>How I Solved GCHQ's Xmas Card with Python and ...</td>\n",
       "      <td>http://matthewearl.github.io/2015/12/10/gchq-x...</td>\n",
       "      <td>6</td>\n",
       "      <td>1</td>\n",
       "      <td>kipi</td>\n",
       "      <td>12/11/2015 10:38</td>\n",
       "    </tr>\n",
       "    <tr>\n",
       "      <th>436</th>\n",
       "      <td>11895088</td>\n",
       "      <td>Unikernel Power Comes to Java, Node.js, Go, an...</td>\n",
       "      <td>http://www.infoworld.com/article/3082051/open-...</td>\n",
       "      <td>3</td>\n",
       "      <td>1</td>\n",
       "      <td>syslandscape</td>\n",
       "      <td>6/13/2016 16:23</td>\n",
       "    </tr>\n",
       "    <tr>\n",
       "      <th>...</th>\n",
       "      <td>...</td>\n",
       "      <td>...</td>\n",
       "      <td>...</td>\n",
       "      <td>...</td>\n",
       "      <td>...</td>\n",
       "      <td>...</td>\n",
       "      <td>...</td>\n",
       "    </tr>\n",
       "    <tr>\n",
       "      <th>19597</th>\n",
       "      <td>12061177</td>\n",
       "      <td>David Beazley  Python Concurrency from the Gro...</td>\n",
       "      <td>https://www.youtube.com/watch?v=MCs5OvhV9S4</td>\n",
       "      <td>2</td>\n",
       "      <td>1</td>\n",
       "      <td>bakery2k</td>\n",
       "      <td>7/9/2016 13:05</td>\n",
       "    </tr>\n",
       "    <tr>\n",
       "      <th>19852</th>\n",
       "      <td>10988468</td>\n",
       "      <td>Ask HN: How to automate Python apps deployment?</td>\n",
       "      <td>NaN</td>\n",
       "      <td>4</td>\n",
       "      <td>18</td>\n",
       "      <td>aalhour</td>\n",
       "      <td>1/28/2016 14:55</td>\n",
       "    </tr>\n",
       "    <tr>\n",
       "      <th>19862</th>\n",
       "      <td>11738470</td>\n",
       "      <td>Moving Away from Python 2</td>\n",
       "      <td>https://asmeurer.github.io/blog/posts/moving-a...</td>\n",
       "      <td>227</td>\n",
       "      <td>275</td>\n",
       "      <td>ngoldbaum</td>\n",
       "      <td>5/20/2016 15:14</td>\n",
       "    </tr>\n",
       "    <tr>\n",
       "      <th>19980</th>\n",
       "      <td>12524656</td>\n",
       "      <td>Python vs. Julia Observations</td>\n",
       "      <td>https://medium.com/@Jernfrost/python-vs-julia-...</td>\n",
       "      <td>2</td>\n",
       "      <td>1</td>\n",
       "      <td>blacksmythe</td>\n",
       "      <td>9/18/2016 9:54</td>\n",
       "    </tr>\n",
       "    <tr>\n",
       "      <th>19998</th>\n",
       "      <td>11735438</td>\n",
       "      <td>Show HN: Decorating: Animated pulsed for your ...</td>\n",
       "      <td>https://github.com/ryukinix/decorating</td>\n",
       "      <td>3</td>\n",
       "      <td>1</td>\n",
       "      <td>lerax</td>\n",
       "      <td>5/20/2016 3:48</td>\n",
       "    </tr>\n",
       "  </tbody>\n",
       "</table>\n",
       "<p>160 rows × 7 columns</p>\n",
       "</div>"
      ],
      "text/plain": [
       "             id                                              title  \\\n",
       "102    10974870                From Python to Lua: Why We Switched   \n",
       "103    11244541          Ubuntu 16.04 LTS to Ship Without Python 2   \n",
       "144    10963528  Create a GUI Application Using Qt and Python i...   \n",
       "196    10716331  How I Solved GCHQ's Xmas Card with Python and ...   \n",
       "436    11895088  Unikernel Power Comes to Java, Node.js, Go, an...   \n",
       "...         ...                                                ...   \n",
       "19597  12061177  David Beazley  Python Concurrency from the Gro...   \n",
       "19852  10988468    Ask HN: How to automate Python apps deployment?   \n",
       "19862  11738470                          Moving Away from Python 2   \n",
       "19980  12524656                      Python vs. Julia Observations   \n",
       "19998  11735438  Show HN: Decorating: Animated pulsed for your ...   \n",
       "\n",
       "                                                     url  num_points  \\\n",
       "102    https://www.distelli.com/blog/using-lua-for-ou...         243   \n",
       "103    http://news.softpedia.com/news/ubuntu-16-04-lt...           2   \n",
       "144                        http://digitalpeer.com/s/c63e          21   \n",
       "196    http://matthewearl.github.io/2015/12/10/gchq-x...           6   \n",
       "436    http://www.infoworld.com/article/3082051/open-...           3   \n",
       "...                                                  ...         ...   \n",
       "19597        https://www.youtube.com/watch?v=MCs5OvhV9S4           2   \n",
       "19852                                                NaN           4   \n",
       "19862  https://asmeurer.github.io/blog/posts/moving-a...         227   \n",
       "19980  https://medium.com/@Jernfrost/python-vs-julia-...           2   \n",
       "19998             https://github.com/ryukinix/decorating           3   \n",
       "\n",
       "       num_comments        author        created_at  \n",
       "102             188      chase202   1/26/2016 18:17  \n",
       "103               1       _snydly    3/8/2016 10:39  \n",
       "144               1        zoodle   1/24/2016 19:01  \n",
       "196               1          kipi  12/11/2015 10:38  \n",
       "436               1  syslandscape   6/13/2016 16:23  \n",
       "...             ...           ...               ...  \n",
       "19597             1      bakery2k    7/9/2016 13:05  \n",
       "19852            18       aalhour   1/28/2016 14:55  \n",
       "19862           275     ngoldbaum   5/20/2016 15:14  \n",
       "19980             1   blacksmythe    9/18/2016 9:54  \n",
       "19998             1         lerax    5/20/2016 3:48  \n",
       "\n",
       "[160 rows x 7 columns]"
      ]
     },
     "execution_count": 486,
     "metadata": {},
     "output_type": "execute_result"
    }
   ],
   "source": [
    "hacker_data[hacker_data[\"title\"].str.contains(\"python\", case = False)]"
   ]
  },
  {
   "cell_type": "code",
   "execution_count": 487,
   "metadata": {},
   "outputs": [
    {
     "data": {
      "text/html": [
       "<div>\n",
       "<style scoped>\n",
       "    .dataframe tbody tr th:only-of-type {\n",
       "        vertical-align: middle;\n",
       "    }\n",
       "\n",
       "    .dataframe tbody tr th {\n",
       "        vertical-align: top;\n",
       "    }\n",
       "\n",
       "    .dataframe thead th {\n",
       "        text-align: right;\n",
       "    }\n",
       "</style>\n",
       "<table border=\"1\" class=\"dataframe\">\n",
       "  <thead>\n",
       "    <tr style=\"text-align: right;\">\n",
       "      <th></th>\n",
       "      <th>id</th>\n",
       "      <th>title</th>\n",
       "      <th>url</th>\n",
       "      <th>num_points</th>\n",
       "      <th>num_comments</th>\n",
       "      <th>author</th>\n",
       "      <th>created_at</th>\n",
       "    </tr>\n",
       "  </thead>\n",
       "  <tbody>\n",
       "    <tr>\n",
       "      <th>267</th>\n",
       "      <td>12352636</td>\n",
       "      <td>Show HN: Hire JavaScript - Top JavaScript Talent</td>\n",
       "      <td>https://www.hirejs.com/</td>\n",
       "      <td>1</td>\n",
       "      <td>1</td>\n",
       "      <td>eibrahim</td>\n",
       "      <td>8/24/2016 15:16</td>\n",
       "    </tr>\n",
       "    <tr>\n",
       "      <th>580</th>\n",
       "      <td>10871330</td>\n",
       "      <td>Python integration for the Duktape Javascript ...</td>\n",
       "      <td>https://pypi.python.org/pypi/pyduktape</td>\n",
       "      <td>3</td>\n",
       "      <td>1</td>\n",
       "      <td>stefano</td>\n",
       "      <td>1/9/2016 14:26</td>\n",
       "    </tr>\n",
       "    <tr>\n",
       "      <th>811</th>\n",
       "      <td>10741251</td>\n",
       "      <td>Ask HN: Are there any projects or compilers wh...</td>\n",
       "      <td>NaN</td>\n",
       "      <td>1</td>\n",
       "      <td>2</td>\n",
       "      <td>ggonweb</td>\n",
       "      <td>12/15/2015 23:26</td>\n",
       "    </tr>\n",
       "    <tr>\n",
       "      <th>1046</th>\n",
       "      <td>11343334</td>\n",
       "      <td>If you write JavaScript tools or libraries, bu...</td>\n",
       "      <td>https://medium.com/@Rich_Harris/how-to-not-bre...</td>\n",
       "      <td>48</td>\n",
       "      <td>19</td>\n",
       "      <td>callumlocke</td>\n",
       "      <td>3/23/2016 10:54</td>\n",
       "    </tr>\n",
       "    <tr>\n",
       "      <th>1093</th>\n",
       "      <td>10422726</td>\n",
       "      <td>Rollup.js: A next-generation JavaScript module...</td>\n",
       "      <td>http://rollupjs.org</td>\n",
       "      <td>57</td>\n",
       "      <td>17</td>\n",
       "      <td>dmmalam</td>\n",
       "      <td>10/21/2015 0:02</td>\n",
       "    </tr>\n",
       "    <tr>\n",
       "      <th>...</th>\n",
       "      <td>...</td>\n",
       "      <td>...</td>\n",
       "      <td>...</td>\n",
       "      <td>...</td>\n",
       "      <td>...</td>\n",
       "      <td>...</td>\n",
       "      <td>...</td>\n",
       "    </tr>\n",
       "    <tr>\n",
       "      <th>19349</th>\n",
       "      <td>11448301</td>\n",
       "      <td>Fotorama, a responsive JavaScript photo gallery</td>\n",
       "      <td>http://fotorama.io/</td>\n",
       "      <td>1</td>\n",
       "      <td>1</td>\n",
       "      <td>alexkon</td>\n",
       "      <td>4/7/2016 15:59</td>\n",
       "    </tr>\n",
       "    <tr>\n",
       "      <th>19548</th>\n",
       "      <td>12105148</td>\n",
       "      <td>Another Kind of JavaScript Fatigue</td>\n",
       "      <td>http://chrismm.com/blog/the-other-kind-of-java...</td>\n",
       "      <td>9</td>\n",
       "      <td>2</td>\n",
       "      <td>JacksCracked</td>\n",
       "      <td>7/16/2016 3:44</td>\n",
       "    </tr>\n",
       "    <tr>\n",
       "      <th>19610</th>\n",
       "      <td>12203508</td>\n",
       "      <td>Lonely programmer detective uncovers the Mozil...</td>\n",
       "      <td>http://stackoverflow.com/a/38677222/984780</td>\n",
       "      <td>29</td>\n",
       "      <td>8</td>\n",
       "      <td>luisperezphd</td>\n",
       "      <td>8/1/2016 16:07</td>\n",
       "    </tr>\n",
       "    <tr>\n",
       "      <th>19885</th>\n",
       "      <td>12552131</td>\n",
       "      <td>Ask HN: Best Practices for CSS in a Modern Jav...</td>\n",
       "      <td>NaN</td>\n",
       "      <td>6</td>\n",
       "      <td>6</td>\n",
       "      <td>xwvvvvwx</td>\n",
       "      <td>9/21/2016 20:53</td>\n",
       "    </tr>\n",
       "    <tr>\n",
       "      <th>20069</th>\n",
       "      <td>12149183</td>\n",
       "      <td>Show HN: Parse recipe ingredients using JavaSc...</td>\n",
       "      <td>https://github.com/herkyl/ingredients-parser</td>\n",
       "      <td>6</td>\n",
       "      <td>2</td>\n",
       "      <td>zongitsrinzler</td>\n",
       "      <td>7/23/2016 11:35</td>\n",
       "    </tr>\n",
       "  </tbody>\n",
       "</table>\n",
       "<p>170 rows × 7 columns</p>\n",
       "</div>"
      ],
      "text/plain": [
       "             id                                              title  \\\n",
       "267    12352636   Show HN: Hire JavaScript - Top JavaScript Talent   \n",
       "580    10871330  Python integration for the Duktape Javascript ...   \n",
       "811    10741251  Ask HN: Are there any projects or compilers wh...   \n",
       "1046   11343334  If you write JavaScript tools or libraries, bu...   \n",
       "1093   10422726  Rollup.js: A next-generation JavaScript module...   \n",
       "...         ...                                                ...   \n",
       "19349  11448301    Fotorama, a responsive JavaScript photo gallery   \n",
       "19548  12105148                 Another Kind of JavaScript Fatigue   \n",
       "19610  12203508  Lonely programmer detective uncovers the Mozil...   \n",
       "19885  12552131  Ask HN: Best Practices for CSS in a Modern Jav...   \n",
       "20069  12149183  Show HN: Parse recipe ingredients using JavaSc...   \n",
       "\n",
       "                                                     url  num_points  \\\n",
       "267                              https://www.hirejs.com/           1   \n",
       "580               https://pypi.python.org/pypi/pyduktape           3   \n",
       "811                                                  NaN           1   \n",
       "1046   https://medium.com/@Rich_Harris/how-to-not-bre...          48   \n",
       "1093                                 http://rollupjs.org          57   \n",
       "...                                                  ...         ...   \n",
       "19349                                http://fotorama.io/           1   \n",
       "19548  http://chrismm.com/blog/the-other-kind-of-java...           9   \n",
       "19610         http://stackoverflow.com/a/38677222/984780          29   \n",
       "19885                                                NaN           6   \n",
       "20069       https://github.com/herkyl/ingredients-parser           6   \n",
       "\n",
       "       num_comments          author        created_at  \n",
       "267               1        eibrahim   8/24/2016 15:16  \n",
       "580               1         stefano    1/9/2016 14:26  \n",
       "811               2         ggonweb  12/15/2015 23:26  \n",
       "1046             19     callumlocke   3/23/2016 10:54  \n",
       "1093             17         dmmalam   10/21/2015 0:02  \n",
       "...             ...             ...               ...  \n",
       "19349             1         alexkon    4/7/2016 15:59  \n",
       "19548             2    JacksCracked    7/16/2016 3:44  \n",
       "19610             8    luisperezphd    8/1/2016 16:07  \n",
       "19885             6        xwvvvvwx   9/21/2016 20:53  \n",
       "20069             2  zongitsrinzler   7/23/2016 11:35  \n",
       "\n",
       "[170 rows x 7 columns]"
      ]
     },
     "execution_count": 487,
     "metadata": {},
     "output_type": "execute_result"
    }
   ],
   "source": [
    "hacker_data[hacker_data[\"title\"].str.contains(\"Javascript\", case = False)]"
   ]
  },
  {
   "cell_type": "markdown",
   "metadata": {},
   "source": [
    "## Day 26 - Python for web"
   ]
  },
  {
   "cell_type": "markdown",
   "metadata": {},
   "source": [
    "*No exercise*"
   ]
  },
  {
   "cell_type": "markdown",
   "metadata": {},
   "source": [
    "## Day 27 - MongoDB"
   ]
  },
  {
   "cell_type": "markdown",
   "metadata": {},
   "source": [
    "*No exercise* / *HFT project involving dealing with SQL basis is comming soon*"
   ]
  },
  {
   "cell_type": "markdown",
   "metadata": {},
   "source": [
    "## Day 28 - API"
   ]
  },
  {
   "cell_type": "markdown",
   "metadata": {},
   "source": [
    "*No exercise* /\n",
    "*I will upload a US macroeconomic market screener with API Fred soon*"
   ]
  },
  {
   "cell_type": "markdown",
   "metadata": {},
   "source": [
    "## Day 29 - Building API"
   ]
  },
  {
   "cell_type": "markdown",
   "metadata": {},
   "source": [
    "*No exercise*"
   ]
  }
 ],
 "metadata": {
  "kernelspec": {
   "display_name": "Python 3",
   "language": "python",
   "name": "python3"
  },
  "language_info": {
   "codemirror_mode": {
    "name": "ipython",
    "version": 3
   },
   "file_extension": ".py",
   "mimetype": "text/x-python",
   "name": "python",
   "nbconvert_exporter": "python",
   "pygments_lexer": "ipython3",
   "version": "3.8.3"
  }
 },
 "nbformat": 4,
 "nbformat_minor": 4
}
