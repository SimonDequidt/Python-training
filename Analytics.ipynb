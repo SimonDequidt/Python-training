{
 "cells": [
  {
   "cell_type": "markdown",
   "id": "e18602da",
   "metadata": {},
   "source": [
    "# Python Analytics for finance"
   ]
  },
  {
   "cell_type": "markdown",
   "id": "c8e00d4a",
   "metadata": {},
   "source": [
    "**Simon Dequidt - EGB short-end repo rates trading desk - Bank of America**"
   ]
  },
  {
   "cell_type": "markdown",
   "id": "0a75464b",
   "metadata": {},
   "source": [
    "# Table of Contents\n",
    "- [Python basis: Data types & structures](#Data-types-structures)\n",
    "- [Retrieve information from files & web](#Retrieve-information-from-files-web)\n",
    "  - [File handling](#File-handling)\n",
    "  - [Web scraping](#Web-scraping)\n",
    "- [Data formatting](#Data-formatting)\n",
    "  - [Pandas](#Pandas)\n",
    "  - [Numpy](#Numpy)\n",
    "  - [Scipy](#Scipy)\n",
    "- [Visualise your data / results](#Visualise-your-data--results)\n",
    "  - [Matplotlib](#Matplotlib)\n",
    "  - [Seaborn](#Seaborn)\n",
    "- [Machine Learning introduction](#Machine-learning-introduction)\n",
    "  - [Supervised Learning](#Supervised-learning)\n",
    "    - [Regression models](#Regression-models)\n",
    "      - [Linear: univariate, multivariate](#Linear-univariate-multivariate)\n",
    "    - [Classification models](#Classification-models)\n",
    "      - [Logistic regression](#Logistic-regression)\n",
    "      - [K-Nearest Neighbours](#K-nearest-neighbours)\n",
    "      - [Support Vector Machines (SVM)](#Support-vector-machines-svm)\n",
    "      - [Decision Trees & Random Forests](#Decision-trees--random-forests)\n",
    "  - [Unsupervised Learning](#Unsupervised-learning)\n",
    "    - [Clustering](#Clustering)\n",
    "      - [K-means](#K-means)\n",
    "      - [Hierarchical clustering](#Hierarchical-clustering)\n",
    "    - [Dimensionality reduction](#Dimensionality-reduction)\n",
    "      - [Principal Components Analysis (PCA)](#Principal-components-analysis-pca)\n",
    "      - [Autoencoders](#Autoencoders)\n",
    "  - [Hyperparameters optimisation algoritms](#Hyperparameters-optimisation-algoritms)\n",
    "- [Data Base Management - SQL with Python](#Data-base-management-sql-with-python)\n",
    "- [Improve the performances of your code - Introduction to Object-Oriented language](#Object-Oriented-Introduction)\n",
    "  "
   ]
  },
  {
   "cell_type": "code",
   "execution_count": 2,
   "id": "b3f586f7",
   "metadata": {},
   "outputs": [],
   "source": [
    "#NB : if the links (ToC) do not work, please install the following:\n",
    "#pip install nbconvert\n",
    "#!jupyter nbconvert --to html --template toc2 notebook.ipynb"
   ]
  },
  {
   "cell_type": "markdown",
   "id": "3ce77827",
   "metadata": {},
   "source": [
    "# Data-types-structures"
   ]
  },
  {
   "cell_type": "markdown",
   "id": "23cb7060",
   "metadata": {},
   "source": [
    "### Types"
   ]
  },
  {
   "cell_type": "code",
   "execution_count": 3,
   "id": "07c60766",
   "metadata": {},
   "outputs": [],
   "source": [
    "# int\n",
    "age = 25\n",
    "\n",
    "# float \n",
    "pi = 3.14\n",
    "\n",
    "# str\n",
    "name = \"Simon\"\n",
    "\n",
    "# NoneType\n",
    "result = None\n",
    "\n",
    "# boolean\n",
    "is_sunny = True"
   ]
  },
  {
   "cell_type": "markdown",
   "id": "ac01b66e",
   "metadata": {},
   "source": [
    "### Structures"
   ]
  },
  {
   "cell_type": "code",
   "execution_count": 4,
   "id": "9fae0820",
   "metadata": {},
   "outputs": [],
   "source": [
    "# list\n",
    "mixed = [1, \"hello\", 3.14, True]\n",
    "\n",
    "# tuple \n",
    "colors = ('red', 4, None, 3.14)\n",
    "\n",
    "# dict\n",
    "student = {'name': 'Simon',\n",
    "          'age' : 25,\n",
    "          'grades' : [18,20]}\n",
    "# set \n",
    "unique_numbers = {1, 2, 3, 4, 5}\n"
   ]
  },
  {
   "cell_type": "markdown",
   "id": "cf098f6c",
   "metadata": {},
   "source": [
    "# Retrieve-information-from-files-web"
   ]
  },
  {
   "cell_type": "markdown",
   "id": "637e5538",
   "metadata": {},
   "source": [
    "## File-handling"
   ]
  },
  {
   "cell_type": "code",
   "execution_count": 5,
   "id": "a8a02800",
   "metadata": {},
   "outputs": [
    {
     "ename": "FileNotFoundError",
     "evalue": "[Errno 2] No such file or directory: 'example.txt'",
     "output_type": "error",
     "traceback": [
      "\u001b[0;31m---------------------------------------------------------------------------\u001b[0m",
      "\u001b[0;31mFileNotFoundError\u001b[0m                         Traceback (most recent call last)",
      "\u001b[0;32m<ipython-input-5-e8c37f35eaa7>\u001b[0m in \u001b[0;36m<module>\u001b[0;34m\u001b[0m\n\u001b[1;32m      1\u001b[0m \u001b[0;31m# open file for 'r': reading/ 'w': writing, 'a': appending, 'b': binary files\u001b[0m\u001b[0;34m\u001b[0m\u001b[0;34m\u001b[0m\u001b[0;34m\u001b[0m\u001b[0m\n\u001b[1;32m      2\u001b[0m \u001b[0;31m#file = open('example.txt', 'r') #'r', 'w', 'a', 'b'\u001b[0m\u001b[0;34m\u001b[0m\u001b[0;34m\u001b[0m\u001b[0;34m\u001b[0m\u001b[0m\n\u001b[0;32m----> 3\u001b[0;31m \u001b[0;32mwith\u001b[0m \u001b[0mopen\u001b[0m\u001b[0;34m(\u001b[0m\u001b[0;34m'example.txt'\u001b[0m\u001b[0;34m,\u001b[0m \u001b[0;34m'r'\u001b[0m\u001b[0;34m)\u001b[0m \u001b[0;32mas\u001b[0m \u001b[0mfile\u001b[0m\u001b[0;34m:\u001b[0m\u001b[0;34m\u001b[0m\u001b[0;34m\u001b[0m\u001b[0m\n\u001b[0m\u001b[1;32m      4\u001b[0m     \u001b[0mcontent\u001b[0m \u001b[0;34m=\u001b[0m \u001b[0mfile\u001b[0m\u001b[0;34m.\u001b[0m\u001b[0mread\u001b[0m\u001b[0;34m(\u001b[0m\u001b[0;34m)\u001b[0m\u001b[0;34m\u001b[0m\u001b[0;34m\u001b[0m\u001b[0m\n\u001b[1;32m      5\u001b[0m     \u001b[0mprint\u001b[0m\u001b[0;34m(\u001b[0m\u001b[0mcontent\u001b[0m\u001b[0;34m)\u001b[0m\u001b[0;34m\u001b[0m\u001b[0;34m\u001b[0m\u001b[0m\n",
      "\u001b[0;31mFileNotFoundError\u001b[0m: [Errno 2] No such file or directory: 'example.txt'"
     ]
    }
   ],
   "source": [
    "# open file for 'r': reading/ 'w': writing, 'a': appending, 'b': binary files\n",
    "#file = open('example.txt', 'r') #'r', 'w', 'a', 'b'\n",
    "with open('example.txt', 'r') as file:\n",
    "    content = file.read()\n",
    "    print(content)\n",
    "\n",
    "with open('example.txt', 'w') as file:\n",
    "    file.write(\"Hello, World!\\n\")\n",
    "\n",
    "with open('example.txt', 'a') as file:\n",
    "    file.write(\"\\nAppending a new line.\")\n",
    "    \n",
    "# Check if file exists\n",
    "import os\n",
    "if os.path.exists('example.txt'):\n",
    "    print(\"File exists\")\n",
    "else:\n",
    "    print(\"File does not exist\")\n",
    "\n",
    "# Remove a file\n",
    "os.remove('example.txt')"
   ]
  },
  {
   "cell_type": "code",
   "execution_count": null,
   "id": "a3f4f3c5",
   "metadata": {},
   "outputs": [],
   "source": [
    "# csv\n",
    "## read\n",
    "df = pd.read_csv('example.csv', sep=',', header=0, names=['A', 'B', 'C'], \n",
    "                 index_col=0, usecols=['A', 'C'], na_values=['NA'], \n",
    "                 parse_dates=['date'])\n",
    "## write \n",
    "df.to_csv('output.csv', index=False)\n",
    "\n",
    "\n",
    "# excel file\n",
    "## read\n",
    "df = pd.read_excel('example.xlsx', sheet_name='Sheet1', header=0, \n",
    "                   names=['A', 'B', 'C'], index_col=0, usecols='A:C', \n",
    "                   na_values=['NA'], parse_dates=['date'])\n",
    "## write \n",
    "df.to_excel('output.xlsx', index=False)"
   ]
  },
  {
   "cell_type": "markdown",
   "id": "60366fd3",
   "metadata": {},
   "source": [
    "## Web-scraping"
   ]
  },
  {
   "cell_type": "code",
   "execution_count": 1,
   "id": "50d6f0d7",
   "metadata": {},
   "outputs": [
    {
     "name": "stderr",
     "output_type": "stream",
     "text": [
      "^IR3T: No data found, symbol may be delisted\n",
      "^IR6T: No data found, symbol may be delisted\n",
      "^IR1T: No data found, symbol may be delisted\n",
      "^IR2T: No data found, symbol may be delisted\n",
      "^IR5T: No data found, symbol may be delisted\n"
     ]
    },
    {
     "name": "stdout",
     "output_type": "stream",
     "text": [
      "Current US Treasury Yields:\n",
      "1mo: 5.230000019073486%\n",
      "3mo: None%\n",
      "6mo: None%\n",
      "1y: None%\n",
      "2y: None%\n",
      "5y: None%\n",
      "10y: 4.355000019073486%\n",
      "30y: 4.5229997634887695%\n"
     ]
    }
   ],
   "source": [
    "import yfinance as yf\n",
    "\n",
    "# Define the ticker symbols for US Treasury yields\n",
    "tickers = {\n",
    "    '1mo': '^IRX',   # 1 Month Treasury Bill\n",
    "    '3mo': '^IR3T',  # 3 Month Treasury Bill\n",
    "    '6mo': '^IR6T',  # 6 Month Treasury Bill\n",
    "    '1y': '^IR1T',   # 1 Year Treasury Bill\n",
    "    '2y': '^IR2T',   # 2 Year Treasury Note\n",
    "    '5y': '^IR5T',   # 5 Year Treasury Note\n",
    "    '10y': '^TNX',   # 10 Year Treasury Note\n",
    "    '30y': '^TYX'    # 30 Year Treasury Bond\n",
    "}\n",
    "\n",
    "# Fetch current yields\n",
    "yields = {}\n",
    "for period, ticker in tickers.items():\n",
    "    data = yf.Ticker(ticker).history(period='1d')\n",
    "    if not data.empty:\n",
    "        yield_value = data['Close'][0]\n",
    "        yields[period] = yield_value\n",
    "    else:\n",
    "        yields[period] = None\n",
    "\n",
    "# Print the fetched yields\n",
    "print(\"Current US Treasury Yields:\")\n",
    "for period, yield_value in yields.items():\n",
    "    print(f\"{period}: {yield_value}%\")\n"
   ]
  },
  {
   "cell_type": "markdown",
   "id": "b4d14722",
   "metadata": {},
   "source": [
    "## Data Analysis\n",
    "- Pandas (DataFrame)\n",
    "- Numpy (Array)\n",
    "- Scipy (Function, Array)\n"
   ]
  },
  {
   "cell_type": "markdown",
   "id": "c8dfc88f",
   "metadata": {},
   "source": [
    "### Pandas\n",
    "\n",
    "- DataFrame creation from file\n",
    "- Basic operations on the DataFrame shape\n",
    "- Basic operations on the DataFrame values\n",
    "- Basic dataframe description\n",
    "- Basic dataframe visualisation (built-in pandas)\n",
    "- DataFrame manipulation"
   ]
  },
  {
   "cell_type": "markdown",
   "id": "e9ef27bc",
   "metadata": {},
   "source": [
    "**libraries**"
   ]
  },
  {
   "cell_type": "code",
   "execution_count": 1,
   "id": "cd9efdef",
   "metadata": {},
   "outputs": [],
   "source": [
    "import pandas as pd"
   ]
  },
  {
   "cell_type": "markdown",
   "id": "529cb819",
   "metadata": {},
   "source": [
    "**import data from excel files**"
   ]
  },
  {
   "cell_type": "code",
   "execution_count": 2,
   "id": "49a69cea",
   "metadata": {},
   "outputs": [
    {
     "data": {
      "text/html": [
       "<div>\n",
       "<style scoped>\n",
       "    .dataframe tbody tr th:only-of-type {\n",
       "        vertical-align: middle;\n",
       "    }\n",
       "\n",
       "    .dataframe tbody tr th {\n",
       "        vertical-align: top;\n",
       "    }\n",
       "\n",
       "    .dataframe thead th {\n",
       "        text-align: right;\n",
       "    }\n",
       "</style>\n",
       "<table border=\"1\" class=\"dataframe\">\n",
       "  <thead>\n",
       "    <tr style=\"text-align: right;\">\n",
       "      <th></th>\n",
       "      <th>Time</th>\n",
       "      <th>Type</th>\n",
       "      <th>Oder ID</th>\n",
       "      <th>Size</th>\n",
       "      <th>Price</th>\n",
       "      <th>Direction</th>\n",
       "    </tr>\n",
       "  </thead>\n",
       "  <tbody>\n",
       "    <tr>\n",
       "      <th>0</th>\n",
       "      <td>34200.006789</td>\n",
       "      <td>5</td>\n",
       "      <td>0</td>\n",
       "      <td>13</td>\n",
       "      <td>2228300</td>\n",
       "      <td>1</td>\n",
       "    </tr>\n",
       "    <tr>\n",
       "      <th>1</th>\n",
       "      <td>34200.034290</td>\n",
       "      <td>6</td>\n",
       "      <td>-1</td>\n",
       "      <td>17011</td>\n",
       "      <td>2228700</td>\n",
       "      <td>-1</td>\n",
       "    </tr>\n",
       "    <tr>\n",
       "      <th>2</th>\n",
       "      <td>34200.034290</td>\n",
       "      <td>1</td>\n",
       "      <td>5519048</td>\n",
       "      <td>11</td>\n",
       "      <td>2227500</td>\n",
       "      <td>1</td>\n",
       "    </tr>\n",
       "    <tr>\n",
       "      <th>3</th>\n",
       "      <td>34200.034290</td>\n",
       "      <td>1</td>\n",
       "      <td>2142274</td>\n",
       "      <td>10</td>\n",
       "      <td>2230000</td>\n",
       "      <td>-1</td>\n",
       "    </tr>\n",
       "    <tr>\n",
       "      <th>4</th>\n",
       "      <td>34200.034290</td>\n",
       "      <td>1</td>\n",
       "      <td>2629509</td>\n",
       "      <td>200</td>\n",
       "      <td>2226000</td>\n",
       "      <td>1</td>\n",
       "    </tr>\n",
       "    <tr>\n",
       "      <th>...</th>\n",
       "      <td>...</td>\n",
       "      <td>...</td>\n",
       "      <td>...</td>\n",
       "      <td>...</td>\n",
       "      <td>...</td>\n",
       "      <td>...</td>\n",
       "    </tr>\n",
       "    <tr>\n",
       "      <th>216706</th>\n",
       "      <td>57599.977910</td>\n",
       "      <td>4</td>\n",
       "      <td>267961846</td>\n",
       "      <td>39</td>\n",
       "      <td>2193100</td>\n",
       "      <td>-1</td>\n",
       "    </tr>\n",
       "    <tr>\n",
       "      <th>216707</th>\n",
       "      <td>57599.977910</td>\n",
       "      <td>4</td>\n",
       "      <td>267963915</td>\n",
       "      <td>61</td>\n",
       "      <td>2193100</td>\n",
       "      <td>-1</td>\n",
       "    </tr>\n",
       "    <tr>\n",
       "      <th>216708</th>\n",
       "      <td>57599.977975</td>\n",
       "      <td>1</td>\n",
       "      <td>267983787</td>\n",
       "      <td>100</td>\n",
       "      <td>2191900</td>\n",
       "      <td>1</td>\n",
       "    </tr>\n",
       "    <tr>\n",
       "      <th>216709</th>\n",
       "      <td>57599.978001</td>\n",
       "      <td>3</td>\n",
       "      <td>267981940</td>\n",
       "      <td>100</td>\n",
       "      <td>2193100</td>\n",
       "      <td>-1</td>\n",
       "    </tr>\n",
       "    <tr>\n",
       "      <th>216710</th>\n",
       "      <td>57599.978001</td>\n",
       "      <td>1</td>\n",
       "      <td>267983788</td>\n",
       "      <td>100</td>\n",
       "      <td>2193200</td>\n",
       "      <td>-1</td>\n",
       "    </tr>\n",
       "  </tbody>\n",
       "</table>\n",
       "<p>216711 rows × 6 columns</p>\n",
       "</div>"
      ],
      "text/plain": [
       "                Time  Type    Oder ID   Size    Price  Direction\n",
       "0       34200.006789     5          0     13  2228300          1\n",
       "1       34200.034290     6         -1  17011  2228700         -1\n",
       "2       34200.034290     1    5519048     11  2227500          1\n",
       "3       34200.034290     1    2142274     10  2230000         -1\n",
       "4       34200.034290     1    2629509    200  2226000          1\n",
       "...              ...   ...        ...    ...      ...        ...\n",
       "216706  57599.977910     4  267961846     39  2193100         -1\n",
       "216707  57599.977910     4  267963915     61  2193100         -1\n",
       "216708  57599.977975     1  267983787    100  2191900          1\n",
       "216709  57599.978001     3  267981940    100  2193100         -1\n",
       "216710  57599.978001     1  267983788    100  2193200         -1\n",
       "\n",
       "[216711 rows x 6 columns]"
      ]
     },
     "execution_count": 2,
     "metadata": {},
     "output_type": "execute_result"
    }
   ],
   "source": [
    "columns_message = [\"Time\", \"Type\", \"Oder ID\", \"Size\", \"Price\", \"Direction\"]\n",
    "data_message = pd.read_csv(\"TSLA_2015-01-02_34200000_57600000_message_10.csv\", header = None, names = columns_message)\n",
    "data_message"
   ]
  },
  {
   "cell_type": "markdown",
   "id": "58f8b7e3",
   "metadata": {},
   "source": [
    "Type:\n",
    "    - 1: Submission of a new limit order\n",
    "    - 2: Cancellation (Partial deletion \n",
    "       of a limit order)\n",
    "    - 3: Deletion (Total deletion of a limit order)\n",
    "    - 4: Execution of a visible limit order\t\t\t   \t \n",
    "    - 5: Execution of a hidden limit order\n",
    "    - 6: Trading halt indicator \t\t\t\t   "
   ]
  },
  {
   "cell_type": "code",
   "execution_count": 3,
   "id": "aea8dadf",
   "metadata": {},
   "outputs": [
    {
     "data": {
      "text/html": [
       "<div>\n",
       "<style scoped>\n",
       "    .dataframe tbody tr th:only-of-type {\n",
       "        vertical-align: middle;\n",
       "    }\n",
       "\n",
       "    .dataframe tbody tr th {\n",
       "        vertical-align: top;\n",
       "    }\n",
       "\n",
       "    .dataframe thead th {\n",
       "        text-align: right;\n",
       "    }\n",
       "</style>\n",
       "<table border=\"1\" class=\"dataframe\">\n",
       "  <thead>\n",
       "    <tr style=\"text-align: right;\">\n",
       "      <th></th>\n",
       "      <th>Ask Price 1</th>\n",
       "      <th>Ask Volume 1</th>\n",
       "      <th>Bid Price 1</th>\n",
       "      <th>Bid Volume 1</th>\n",
       "      <th>Ask Price 2</th>\n",
       "      <th>Ask Volume 2</th>\n",
       "      <th>Bid Price 2</th>\n",
       "      <th>Bid Volume 2</th>\n",
       "      <th>Ask Price 3</th>\n",
       "      <th>Ask Volume 3</th>\n",
       "      <th>...</th>\n",
       "      <th>Bid Price 8</th>\n",
       "      <th>Bid Volume 8</th>\n",
       "      <th>Ask Price 9</th>\n",
       "      <th>Ask Volume 9</th>\n",
       "      <th>Bid Price 9</th>\n",
       "      <th>Bid Volume 9</th>\n",
       "      <th>Ask Price 10</th>\n",
       "      <th>Ask Volume 10</th>\n",
       "      <th>Bid Price 10</th>\n",
       "      <th>Bid Volume 10</th>\n",
       "    </tr>\n",
       "  </thead>\n",
       "  <tbody>\n",
       "    <tr>\n",
       "      <th>0</th>\n",
       "      <td>2229100</td>\n",
       "      <td>1507</td>\n",
       "      <td>2226400</td>\n",
       "      <td>300</td>\n",
       "      <td>2234000</td>\n",
       "      <td>50</td>\n",
       "      <td>2222200</td>\n",
       "      <td>200</td>\n",
       "      <td>2237200</td>\n",
       "      <td>300</td>\n",
       "      <td>...</td>\n",
       "      <td>2203200</td>\n",
       "      <td>100</td>\n",
       "      <td>2252500</td>\n",
       "      <td>20</td>\n",
       "      <td>2200000</td>\n",
       "      <td>97</td>\n",
       "      <td>2257500</td>\n",
       "      <td>40</td>\n",
       "      <td>2190000</td>\n",
       "      <td>50</td>\n",
       "    </tr>\n",
       "    <tr>\n",
       "      <th>1</th>\n",
       "      <td>2229100</td>\n",
       "      <td>1507</td>\n",
       "      <td>2226400</td>\n",
       "      <td>300</td>\n",
       "      <td>2234000</td>\n",
       "      <td>50</td>\n",
       "      <td>2222200</td>\n",
       "      <td>200</td>\n",
       "      <td>2237200</td>\n",
       "      <td>300</td>\n",
       "      <td>...</td>\n",
       "      <td>2203200</td>\n",
       "      <td>100</td>\n",
       "      <td>2252500</td>\n",
       "      <td>20</td>\n",
       "      <td>2200000</td>\n",
       "      <td>97</td>\n",
       "      <td>2257500</td>\n",
       "      <td>40</td>\n",
       "      <td>2190000</td>\n",
       "      <td>50</td>\n",
       "    </tr>\n",
       "    <tr>\n",
       "      <th>2</th>\n",
       "      <td>2229100</td>\n",
       "      <td>1507</td>\n",
       "      <td>2227500</td>\n",
       "      <td>11</td>\n",
       "      <td>2234000</td>\n",
       "      <td>50</td>\n",
       "      <td>2226400</td>\n",
       "      <td>300</td>\n",
       "      <td>2237200</td>\n",
       "      <td>300</td>\n",
       "      <td>...</td>\n",
       "      <td>2210000</td>\n",
       "      <td>100</td>\n",
       "      <td>2252500</td>\n",
       "      <td>20</td>\n",
       "      <td>2203200</td>\n",
       "      <td>100</td>\n",
       "      <td>2257500</td>\n",
       "      <td>40</td>\n",
       "      <td>2200000</td>\n",
       "      <td>97</td>\n",
       "    </tr>\n",
       "    <tr>\n",
       "      <th>3</th>\n",
       "      <td>2229100</td>\n",
       "      <td>1507</td>\n",
       "      <td>2227500</td>\n",
       "      <td>11</td>\n",
       "      <td>2230000</td>\n",
       "      <td>10</td>\n",
       "      <td>2226400</td>\n",
       "      <td>300</td>\n",
       "      <td>2234000</td>\n",
       "      <td>50</td>\n",
       "      <td>...</td>\n",
       "      <td>2210000</td>\n",
       "      <td>100</td>\n",
       "      <td>2250000</td>\n",
       "      <td>100</td>\n",
       "      <td>2203200</td>\n",
       "      <td>100</td>\n",
       "      <td>2252500</td>\n",
       "      <td>20</td>\n",
       "      <td>2200000</td>\n",
       "      <td>97</td>\n",
       "    </tr>\n",
       "    <tr>\n",
       "      <th>4</th>\n",
       "      <td>2229100</td>\n",
       "      <td>1507</td>\n",
       "      <td>2227500</td>\n",
       "      <td>11</td>\n",
       "      <td>2230000</td>\n",
       "      <td>10</td>\n",
       "      <td>2226400</td>\n",
       "      <td>300</td>\n",
       "      <td>2234000</td>\n",
       "      <td>50</td>\n",
       "      <td>...</td>\n",
       "      <td>2218300</td>\n",
       "      <td>20</td>\n",
       "      <td>2250000</td>\n",
       "      <td>100</td>\n",
       "      <td>2210000</td>\n",
       "      <td>100</td>\n",
       "      <td>2252500</td>\n",
       "      <td>20</td>\n",
       "      <td>2203200</td>\n",
       "      <td>100</td>\n",
       "    </tr>\n",
       "    <tr>\n",
       "      <th>...</th>\n",
       "      <td>...</td>\n",
       "      <td>...</td>\n",
       "      <td>...</td>\n",
       "      <td>...</td>\n",
       "      <td>...</td>\n",
       "      <td>...</td>\n",
       "      <td>...</td>\n",
       "      <td>...</td>\n",
       "      <td>...</td>\n",
       "      <td>...</td>\n",
       "      <td>...</td>\n",
       "      <td>...</td>\n",
       "      <td>...</td>\n",
       "      <td>...</td>\n",
       "      <td>...</td>\n",
       "      <td>...</td>\n",
       "      <td>...</td>\n",
       "      <td>...</td>\n",
       "      <td>...</td>\n",
       "      <td>...</td>\n",
       "      <td>...</td>\n",
       "    </tr>\n",
       "    <tr>\n",
       "      <th>216706</th>\n",
       "      <td>2193100</td>\n",
       "      <td>600</td>\n",
       "      <td>2191900</td>\n",
       "      <td>1000</td>\n",
       "      <td>2193400</td>\n",
       "      <td>200</td>\n",
       "      <td>2191700</td>\n",
       "      <td>2600</td>\n",
       "      <td>2194100</td>\n",
       "      <td>100</td>\n",
       "      <td>...</td>\n",
       "      <td>2190700</td>\n",
       "      <td>1619</td>\n",
       "      <td>2195800</td>\n",
       "      <td>600</td>\n",
       "      <td>2190600</td>\n",
       "      <td>100</td>\n",
       "      <td>2196000</td>\n",
       "      <td>2200</td>\n",
       "      <td>2190500</td>\n",
       "      <td>200</td>\n",
       "    </tr>\n",
       "    <tr>\n",
       "      <th>216707</th>\n",
       "      <td>2193100</td>\n",
       "      <td>539</td>\n",
       "      <td>2191900</td>\n",
       "      <td>1000</td>\n",
       "      <td>2193400</td>\n",
       "      <td>200</td>\n",
       "      <td>2191700</td>\n",
       "      <td>2600</td>\n",
       "      <td>2194100</td>\n",
       "      <td>100</td>\n",
       "      <td>...</td>\n",
       "      <td>2190700</td>\n",
       "      <td>1619</td>\n",
       "      <td>2195800</td>\n",
       "      <td>600</td>\n",
       "      <td>2190600</td>\n",
       "      <td>100</td>\n",
       "      <td>2196000</td>\n",
       "      <td>2200</td>\n",
       "      <td>2190500</td>\n",
       "      <td>200</td>\n",
       "    </tr>\n",
       "    <tr>\n",
       "      <th>216708</th>\n",
       "      <td>2193100</td>\n",
       "      <td>539</td>\n",
       "      <td>2191900</td>\n",
       "      <td>1100</td>\n",
       "      <td>2193400</td>\n",
       "      <td>200</td>\n",
       "      <td>2191700</td>\n",
       "      <td>2600</td>\n",
       "      <td>2194100</td>\n",
       "      <td>100</td>\n",
       "      <td>...</td>\n",
       "      <td>2190700</td>\n",
       "      <td>1619</td>\n",
       "      <td>2195800</td>\n",
       "      <td>600</td>\n",
       "      <td>2190600</td>\n",
       "      <td>100</td>\n",
       "      <td>2196000</td>\n",
       "      <td>2200</td>\n",
       "      <td>2190500</td>\n",
       "      <td>200</td>\n",
       "    </tr>\n",
       "    <tr>\n",
       "      <th>216709</th>\n",
       "      <td>2193100</td>\n",
       "      <td>439</td>\n",
       "      <td>2191900</td>\n",
       "      <td>1100</td>\n",
       "      <td>2193400</td>\n",
       "      <td>200</td>\n",
       "      <td>2191700</td>\n",
       "      <td>2600</td>\n",
       "      <td>2194100</td>\n",
       "      <td>100</td>\n",
       "      <td>...</td>\n",
       "      <td>2190700</td>\n",
       "      <td>1619</td>\n",
       "      <td>2195800</td>\n",
       "      <td>600</td>\n",
       "      <td>2190600</td>\n",
       "      <td>100</td>\n",
       "      <td>2196000</td>\n",
       "      <td>2200</td>\n",
       "      <td>2190500</td>\n",
       "      <td>200</td>\n",
       "    </tr>\n",
       "    <tr>\n",
       "      <th>216710</th>\n",
       "      <td>2193100</td>\n",
       "      <td>439</td>\n",
       "      <td>2191900</td>\n",
       "      <td>1100</td>\n",
       "      <td>2193200</td>\n",
       "      <td>100</td>\n",
       "      <td>2191700</td>\n",
       "      <td>2600</td>\n",
       "      <td>2193400</td>\n",
       "      <td>200</td>\n",
       "      <td>...</td>\n",
       "      <td>2190700</td>\n",
       "      <td>1619</td>\n",
       "      <td>2195700</td>\n",
       "      <td>3000</td>\n",
       "      <td>2190600</td>\n",
       "      <td>100</td>\n",
       "      <td>2195800</td>\n",
       "      <td>600</td>\n",
       "      <td>2190500</td>\n",
       "      <td>200</td>\n",
       "    </tr>\n",
       "  </tbody>\n",
       "</table>\n",
       "<p>216711 rows × 40 columns</p>\n",
       "</div>"
      ],
      "text/plain": [
       "        Ask Price 1  Ask Volume 1  Bid Price 1  Bid Volume 1  Ask Price 2  \\\n",
       "0           2229100          1507      2226400           300      2234000   \n",
       "1           2229100          1507      2226400           300      2234000   \n",
       "2           2229100          1507      2227500            11      2234000   \n",
       "3           2229100          1507      2227500            11      2230000   \n",
       "4           2229100          1507      2227500            11      2230000   \n",
       "...             ...           ...          ...           ...          ...   \n",
       "216706      2193100           600      2191900          1000      2193400   \n",
       "216707      2193100           539      2191900          1000      2193400   \n",
       "216708      2193100           539      2191900          1100      2193400   \n",
       "216709      2193100           439      2191900          1100      2193400   \n",
       "216710      2193100           439      2191900          1100      2193200   \n",
       "\n",
       "        Ask Volume 2  Bid Price 2  Bid Volume 2  Ask Price 3  Ask Volume 3  \\\n",
       "0                 50      2222200           200      2237200           300   \n",
       "1                 50      2222200           200      2237200           300   \n",
       "2                 50      2226400           300      2237200           300   \n",
       "3                 10      2226400           300      2234000            50   \n",
       "4                 10      2226400           300      2234000            50   \n",
       "...              ...          ...           ...          ...           ...   \n",
       "216706           200      2191700          2600      2194100           100   \n",
       "216707           200      2191700          2600      2194100           100   \n",
       "216708           200      2191700          2600      2194100           100   \n",
       "216709           200      2191700          2600      2194100           100   \n",
       "216710           100      2191700          2600      2193400           200   \n",
       "\n",
       "        ...  Bid Price 8  Bid Volume 8  Ask Price 9  Ask Volume 9  \\\n",
       "0       ...      2203200           100      2252500            20   \n",
       "1       ...      2203200           100      2252500            20   \n",
       "2       ...      2210000           100      2252500            20   \n",
       "3       ...      2210000           100      2250000           100   \n",
       "4       ...      2218300            20      2250000           100   \n",
       "...     ...          ...           ...          ...           ...   \n",
       "216706  ...      2190700          1619      2195800           600   \n",
       "216707  ...      2190700          1619      2195800           600   \n",
       "216708  ...      2190700          1619      2195800           600   \n",
       "216709  ...      2190700          1619      2195800           600   \n",
       "216710  ...      2190700          1619      2195700          3000   \n",
       "\n",
       "        Bid Price 9  Bid Volume 9  Ask Price 10  Ask Volume 10  Bid Price 10  \\\n",
       "0           2200000            97       2257500             40       2190000   \n",
       "1           2200000            97       2257500             40       2190000   \n",
       "2           2203200           100       2257500             40       2200000   \n",
       "3           2203200           100       2252500             20       2200000   \n",
       "4           2210000           100       2252500             20       2203200   \n",
       "...             ...           ...           ...            ...           ...   \n",
       "216706      2190600           100       2196000           2200       2190500   \n",
       "216707      2190600           100       2196000           2200       2190500   \n",
       "216708      2190600           100       2196000           2200       2190500   \n",
       "216709      2190600           100       2196000           2200       2190500   \n",
       "216710      2190600           100       2195800            600       2190500   \n",
       "\n",
       "        Bid Volume 10  \n",
       "0                  50  \n",
       "1                  50  \n",
       "2                  97  \n",
       "3                  97  \n",
       "4                 100  \n",
       "...               ...  \n",
       "216706            200  \n",
       "216707            200  \n",
       "216708            200  \n",
       "216709            200  \n",
       "216710            200  \n",
       "\n",
       "[216711 rows x 40 columns]"
      ]
     },
     "execution_count": 3,
     "metadata": {},
     "output_type": "execute_result"
    }
   ],
   "source": [
    "columns_orderbook = []\n",
    "levels = 10  \n",
    "data_orderbook = pd.read_csv(\"TSLA_2015-01-02_34200000_57600000_orderbook_10.csv\", header = None)\n",
    "\n",
    "for i in range(1, levels + 1):\n",
    "    columns_orderbook.extend([f\"Ask Price {i}\", f\"Ask Volume {i}\", f\"Bid Price {i}\", f\"Bid Volume {i}\"])\n",
    "data_orderbook.columns = columns_orderbook\n",
    "data_orderbook"
   ]
  },
  {
   "cell_type": "markdown",
   "id": "7eeae7d9",
   "metadata": {},
   "source": [
    "**basic operations on the DataFrame shape** : \n",
    "- df.set_index(\"colname\", inplace = True)\n",
    "- df.reset_index(inplace = True, drop=True)\n",
    "- df.drop(\"columntodrop\", axis = 1, inplace=True)\n",
    "- pd.merge(df1, df2, left_index=True, right_index=True)\n",
    "- df1.join(df2, how = 'outer')\n",
    "\n",
    "**basic operations on the DataFrame values** : \n",
    "- df.fillna(method = 'ffill'/'bfill', axis = \"columns\",limit =1)\n",
    "- df.interpolate(method = ...)\n",
    "- df.dropna(thresh = 1)\n",
    "- df[\"col\"].unique()\n",
    "- df[\"col\"].nunique()\n",
    "- df.value_counts()\n",
    "- df.size()\n",
    "- df.count()\n",
    "- df.replace(to_replace = [-99999, -88888], value = 0)/if the whole column : df.replace({'col1' : -99999,'col2' : -99999, 'col3' : '0'}, np.nan)     additional parameter : regex=True\n",
    "- df.sort_values(by='col')\n",
    "- df.isnull()\n",
    "\n",
    "*NB:*\n",
    "- interpolation methods:\n",
    "    - 'linear': Linear interpolation.\n",
    "    - 'polynomial': Polynomial interpolation.\n",
    "    - 'spline': Spline interpolation.\n",
    "    - 'nearest': Nearest value interpolation.\n",
    "    - 'time': Time interpolation (works on datetime-like indices)."
   ]
  },
  {
   "cell_type": "code",
   "execution_count": 4,
   "id": "8a628f8b",
   "metadata": {},
   "outputs": [
    {
     "data": {
      "text/html": [
       "<div>\n",
       "<style scoped>\n",
       "    .dataframe tbody tr th:only-of-type {\n",
       "        vertical-align: middle;\n",
       "    }\n",
       "\n",
       "    .dataframe tbody tr th {\n",
       "        vertical-align: top;\n",
       "    }\n",
       "\n",
       "    .dataframe thead th {\n",
       "        text-align: right;\n",
       "    }\n",
       "</style>\n",
       "<table border=\"1\" class=\"dataframe\">\n",
       "  <thead>\n",
       "    <tr style=\"text-align: right;\">\n",
       "      <th></th>\n",
       "      <th>Time</th>\n",
       "      <th>Type</th>\n",
       "      <th>Oder ID</th>\n",
       "      <th>Size</th>\n",
       "      <th>Price</th>\n",
       "      <th>Direction</th>\n",
       "      <th>Ask Price 1</th>\n",
       "      <th>Ask Volume 1</th>\n",
       "      <th>Bid Price 1</th>\n",
       "      <th>Bid Volume 1</th>\n",
       "      <th>...</th>\n",
       "      <th>Bid Price 8</th>\n",
       "      <th>Bid Volume 8</th>\n",
       "      <th>Ask Price 9</th>\n",
       "      <th>Ask Volume 9</th>\n",
       "      <th>Bid Price 9</th>\n",
       "      <th>Bid Volume 9</th>\n",
       "      <th>Ask Price 10</th>\n",
       "      <th>Ask Volume 10</th>\n",
       "      <th>Bid Price 10</th>\n",
       "      <th>Bid Volume 10</th>\n",
       "    </tr>\n",
       "  </thead>\n",
       "  <tbody>\n",
       "    <tr>\n",
       "      <th>0</th>\n",
       "      <td>34200.006789</td>\n",
       "      <td>5</td>\n",
       "      <td>0</td>\n",
       "      <td>13</td>\n",
       "      <td>2228300</td>\n",
       "      <td>1</td>\n",
       "      <td>2229100</td>\n",
       "      <td>1507</td>\n",
       "      <td>2226400</td>\n",
       "      <td>300</td>\n",
       "      <td>...</td>\n",
       "      <td>2203200</td>\n",
       "      <td>100</td>\n",
       "      <td>2252500</td>\n",
       "      <td>20</td>\n",
       "      <td>2200000</td>\n",
       "      <td>97</td>\n",
       "      <td>2257500</td>\n",
       "      <td>40</td>\n",
       "      <td>2190000</td>\n",
       "      <td>50</td>\n",
       "    </tr>\n",
       "    <tr>\n",
       "      <th>1</th>\n",
       "      <td>34200.034290</td>\n",
       "      <td>6</td>\n",
       "      <td>-1</td>\n",
       "      <td>17011</td>\n",
       "      <td>2228700</td>\n",
       "      <td>-1</td>\n",
       "      <td>2229100</td>\n",
       "      <td>1507</td>\n",
       "      <td>2226400</td>\n",
       "      <td>300</td>\n",
       "      <td>...</td>\n",
       "      <td>2203200</td>\n",
       "      <td>100</td>\n",
       "      <td>2252500</td>\n",
       "      <td>20</td>\n",
       "      <td>2200000</td>\n",
       "      <td>97</td>\n",
       "      <td>2257500</td>\n",
       "      <td>40</td>\n",
       "      <td>2190000</td>\n",
       "      <td>50</td>\n",
       "    </tr>\n",
       "    <tr>\n",
       "      <th>2</th>\n",
       "      <td>34200.034290</td>\n",
       "      <td>1</td>\n",
       "      <td>5519048</td>\n",
       "      <td>11</td>\n",
       "      <td>2227500</td>\n",
       "      <td>1</td>\n",
       "      <td>2229100</td>\n",
       "      <td>1507</td>\n",
       "      <td>2227500</td>\n",
       "      <td>11</td>\n",
       "      <td>...</td>\n",
       "      <td>2210000</td>\n",
       "      <td>100</td>\n",
       "      <td>2252500</td>\n",
       "      <td>20</td>\n",
       "      <td>2203200</td>\n",
       "      <td>100</td>\n",
       "      <td>2257500</td>\n",
       "      <td>40</td>\n",
       "      <td>2200000</td>\n",
       "      <td>97</td>\n",
       "    </tr>\n",
       "    <tr>\n",
       "      <th>3</th>\n",
       "      <td>34200.034290</td>\n",
       "      <td>1</td>\n",
       "      <td>2142274</td>\n",
       "      <td>10</td>\n",
       "      <td>2230000</td>\n",
       "      <td>-1</td>\n",
       "      <td>2229100</td>\n",
       "      <td>1507</td>\n",
       "      <td>2227500</td>\n",
       "      <td>11</td>\n",
       "      <td>...</td>\n",
       "      <td>2210000</td>\n",
       "      <td>100</td>\n",
       "      <td>2250000</td>\n",
       "      <td>100</td>\n",
       "      <td>2203200</td>\n",
       "      <td>100</td>\n",
       "      <td>2252500</td>\n",
       "      <td>20</td>\n",
       "      <td>2200000</td>\n",
       "      <td>97</td>\n",
       "    </tr>\n",
       "    <tr>\n",
       "      <th>4</th>\n",
       "      <td>34200.034290</td>\n",
       "      <td>1</td>\n",
       "      <td>2629509</td>\n",
       "      <td>200</td>\n",
       "      <td>2226000</td>\n",
       "      <td>1</td>\n",
       "      <td>2229100</td>\n",
       "      <td>1507</td>\n",
       "      <td>2227500</td>\n",
       "      <td>11</td>\n",
       "      <td>...</td>\n",
       "      <td>2218300</td>\n",
       "      <td>20</td>\n",
       "      <td>2250000</td>\n",
       "      <td>100</td>\n",
       "      <td>2210000</td>\n",
       "      <td>100</td>\n",
       "      <td>2252500</td>\n",
       "      <td>20</td>\n",
       "      <td>2203200</td>\n",
       "      <td>100</td>\n",
       "    </tr>\n",
       "    <tr>\n",
       "      <th>...</th>\n",
       "      <td>...</td>\n",
       "      <td>...</td>\n",
       "      <td>...</td>\n",
       "      <td>...</td>\n",
       "      <td>...</td>\n",
       "      <td>...</td>\n",
       "      <td>...</td>\n",
       "      <td>...</td>\n",
       "      <td>...</td>\n",
       "      <td>...</td>\n",
       "      <td>...</td>\n",
       "      <td>...</td>\n",
       "      <td>...</td>\n",
       "      <td>...</td>\n",
       "      <td>...</td>\n",
       "      <td>...</td>\n",
       "      <td>...</td>\n",
       "      <td>...</td>\n",
       "      <td>...</td>\n",
       "      <td>...</td>\n",
       "      <td>...</td>\n",
       "    </tr>\n",
       "    <tr>\n",
       "      <th>216706</th>\n",
       "      <td>57599.977910</td>\n",
       "      <td>4</td>\n",
       "      <td>267961846</td>\n",
       "      <td>39</td>\n",
       "      <td>2193100</td>\n",
       "      <td>-1</td>\n",
       "      <td>2193100</td>\n",
       "      <td>600</td>\n",
       "      <td>2191900</td>\n",
       "      <td>1000</td>\n",
       "      <td>...</td>\n",
       "      <td>2190700</td>\n",
       "      <td>1619</td>\n",
       "      <td>2195800</td>\n",
       "      <td>600</td>\n",
       "      <td>2190600</td>\n",
       "      <td>100</td>\n",
       "      <td>2196000</td>\n",
       "      <td>2200</td>\n",
       "      <td>2190500</td>\n",
       "      <td>200</td>\n",
       "    </tr>\n",
       "    <tr>\n",
       "      <th>216707</th>\n",
       "      <td>57599.977910</td>\n",
       "      <td>4</td>\n",
       "      <td>267963915</td>\n",
       "      <td>61</td>\n",
       "      <td>2193100</td>\n",
       "      <td>-1</td>\n",
       "      <td>2193100</td>\n",
       "      <td>539</td>\n",
       "      <td>2191900</td>\n",
       "      <td>1000</td>\n",
       "      <td>...</td>\n",
       "      <td>2190700</td>\n",
       "      <td>1619</td>\n",
       "      <td>2195800</td>\n",
       "      <td>600</td>\n",
       "      <td>2190600</td>\n",
       "      <td>100</td>\n",
       "      <td>2196000</td>\n",
       "      <td>2200</td>\n",
       "      <td>2190500</td>\n",
       "      <td>200</td>\n",
       "    </tr>\n",
       "    <tr>\n",
       "      <th>216708</th>\n",
       "      <td>57599.977975</td>\n",
       "      <td>1</td>\n",
       "      <td>267983787</td>\n",
       "      <td>100</td>\n",
       "      <td>2191900</td>\n",
       "      <td>1</td>\n",
       "      <td>2193100</td>\n",
       "      <td>539</td>\n",
       "      <td>2191900</td>\n",
       "      <td>1100</td>\n",
       "      <td>...</td>\n",
       "      <td>2190700</td>\n",
       "      <td>1619</td>\n",
       "      <td>2195800</td>\n",
       "      <td>600</td>\n",
       "      <td>2190600</td>\n",
       "      <td>100</td>\n",
       "      <td>2196000</td>\n",
       "      <td>2200</td>\n",
       "      <td>2190500</td>\n",
       "      <td>200</td>\n",
       "    </tr>\n",
       "    <tr>\n",
       "      <th>216709</th>\n",
       "      <td>57599.978001</td>\n",
       "      <td>3</td>\n",
       "      <td>267981940</td>\n",
       "      <td>100</td>\n",
       "      <td>2193100</td>\n",
       "      <td>-1</td>\n",
       "      <td>2193100</td>\n",
       "      <td>439</td>\n",
       "      <td>2191900</td>\n",
       "      <td>1100</td>\n",
       "      <td>...</td>\n",
       "      <td>2190700</td>\n",
       "      <td>1619</td>\n",
       "      <td>2195800</td>\n",
       "      <td>600</td>\n",
       "      <td>2190600</td>\n",
       "      <td>100</td>\n",
       "      <td>2196000</td>\n",
       "      <td>2200</td>\n",
       "      <td>2190500</td>\n",
       "      <td>200</td>\n",
       "    </tr>\n",
       "    <tr>\n",
       "      <th>216710</th>\n",
       "      <td>57599.978001</td>\n",
       "      <td>1</td>\n",
       "      <td>267983788</td>\n",
       "      <td>100</td>\n",
       "      <td>2193200</td>\n",
       "      <td>-1</td>\n",
       "      <td>2193100</td>\n",
       "      <td>439</td>\n",
       "      <td>2191900</td>\n",
       "      <td>1100</td>\n",
       "      <td>...</td>\n",
       "      <td>2190700</td>\n",
       "      <td>1619</td>\n",
       "      <td>2195700</td>\n",
       "      <td>3000</td>\n",
       "      <td>2190600</td>\n",
       "      <td>100</td>\n",
       "      <td>2195800</td>\n",
       "      <td>600</td>\n",
       "      <td>2190500</td>\n",
       "      <td>200</td>\n",
       "    </tr>\n",
       "  </tbody>\n",
       "</table>\n",
       "<p>216711 rows × 46 columns</p>\n",
       "</div>"
      ],
      "text/plain": [
       "                Time  Type    Oder ID   Size    Price  Direction  Ask Price 1  \\\n",
       "0       34200.006789     5          0     13  2228300          1      2229100   \n",
       "1       34200.034290     6         -1  17011  2228700         -1      2229100   \n",
       "2       34200.034290     1    5519048     11  2227500          1      2229100   \n",
       "3       34200.034290     1    2142274     10  2230000         -1      2229100   \n",
       "4       34200.034290     1    2629509    200  2226000          1      2229100   \n",
       "...              ...   ...        ...    ...      ...        ...          ...   \n",
       "216706  57599.977910     4  267961846     39  2193100         -1      2193100   \n",
       "216707  57599.977910     4  267963915     61  2193100         -1      2193100   \n",
       "216708  57599.977975     1  267983787    100  2191900          1      2193100   \n",
       "216709  57599.978001     3  267981940    100  2193100         -1      2193100   \n",
       "216710  57599.978001     1  267983788    100  2193200         -1      2193100   \n",
       "\n",
       "        Ask Volume 1  Bid Price 1  Bid Volume 1  ...  Bid Price 8  \\\n",
       "0               1507      2226400           300  ...      2203200   \n",
       "1               1507      2226400           300  ...      2203200   \n",
       "2               1507      2227500            11  ...      2210000   \n",
       "3               1507      2227500            11  ...      2210000   \n",
       "4               1507      2227500            11  ...      2218300   \n",
       "...              ...          ...           ...  ...          ...   \n",
       "216706           600      2191900          1000  ...      2190700   \n",
       "216707           539      2191900          1000  ...      2190700   \n",
       "216708           539      2191900          1100  ...      2190700   \n",
       "216709           439      2191900          1100  ...      2190700   \n",
       "216710           439      2191900          1100  ...      2190700   \n",
       "\n",
       "        Bid Volume 8  Ask Price 9  Ask Volume 9  Bid Price 9  Bid Volume 9  \\\n",
       "0                100      2252500            20      2200000            97   \n",
       "1                100      2252500            20      2200000            97   \n",
       "2                100      2252500            20      2203200           100   \n",
       "3                100      2250000           100      2203200           100   \n",
       "4                 20      2250000           100      2210000           100   \n",
       "...              ...          ...           ...          ...           ...   \n",
       "216706          1619      2195800           600      2190600           100   \n",
       "216707          1619      2195800           600      2190600           100   \n",
       "216708          1619      2195800           600      2190600           100   \n",
       "216709          1619      2195800           600      2190600           100   \n",
       "216710          1619      2195700          3000      2190600           100   \n",
       "\n",
       "        Ask Price 10  Ask Volume 10  Bid Price 10  Bid Volume 10  \n",
       "0            2257500             40       2190000             50  \n",
       "1            2257500             40       2190000             50  \n",
       "2            2257500             40       2200000             97  \n",
       "3            2252500             20       2200000             97  \n",
       "4            2252500             20       2203200            100  \n",
       "...              ...            ...           ...            ...  \n",
       "216706       2196000           2200       2190500            200  \n",
       "216707       2196000           2200       2190500            200  \n",
       "216708       2196000           2200       2190500            200  \n",
       "216709       2196000           2200       2190500            200  \n",
       "216710       2195800            600       2190500            200  \n",
       "\n",
       "[216711 rows x 46 columns]"
      ]
     },
     "execution_count": 4,
     "metadata": {},
     "output_type": "execute_result"
    }
   ],
   "source": [
    "data = pd.merge(data_message, data_orderbook, left_index=True, right_index=True)\n",
    "data"
   ]
  },
  {
   "cell_type": "markdown",
   "id": "f2eb3137",
   "metadata": {},
   "source": [
    "**basic dataframe description** : \n",
    "- df.head()\n",
    "- df.tail()\n",
    "- df.describe()\n",
    "- df.info()\n",
    "- df.min()\n",
    "- df.max()\n",
    "- df.mean()\n"
   ]
  },
  {
   "cell_type": "markdown",
   "id": "5d9fdad0",
   "metadata": {},
   "source": [
    "**basic dataframe visualisation (built-in pandas)** : \n",
    "- df.plot.area\n",
    "- df.plot.barh\n",
    "- df.plot.density\n",
    "- df.plot.hist\n",
    "- df.plot.line\n",
    "- df.plot.scatter\n",
    "- df.plot.bar\n",
    "- df.plot.box\n",
    "- df.plot.hexbin\n",
    "- df.plot.kde\n",
    "- df.plot.pie"
   ]
  },
  {
   "cell_type": "markdown",
   "id": "7862d2fe",
   "metadata": {},
   "source": [
    "**dataframe manipulation**\n",
    "- groupby\n",
    "- Pivot basics : \n",
    "    - pivot : df.pivot(index='col1',columns='col2', values = 'col3')\n",
    "    - pivot_table : df.pivot_table(values='D',index=['A', 'B'],columns=['C'], margins=True, aggfunc=np.sum)\n",
    "    - grouper : \n",
    "df['date'] = pd.to_datetime(df['date']) \\\n",
    "df.pivot_table(index=pd.Grouper(freq='M',key='date'),columns='col1')\n",
    "  \n",
    "- filter :  df[df[\"col\"].str.contains(\"charactertofind\", case = False)]\n",
    "\n",
    "- Melt :  pd.melt(df, id_vars=[\"Time\"], var_name='col1', value_name='col2')\n",
    "- Stack/unstack : df.stack(level=0) / df.unstack()\n",
    "- Crosstab : pd.crosstab(df.col1, df.col2)\n",
    "- DateTimeIndex\n",
    "- Date Range\n",
    "- Handling holidays\n",
    "- DateTime\n",
    "- Handling Time Zones"
   ]
  },
  {
   "cell_type": "markdown",
   "id": "7d5c25d0",
   "metadata": {},
   "source": [
    "**groupby**"
   ]
  },
  {
   "cell_type": "code",
   "execution_count": 5,
   "id": "d7e0961f",
   "metadata": {},
   "outputs": [
    {
     "data": {
      "text/plain": [
       "Direction  Type\n",
       "-1         1       4488714\n",
       "           2          5670\n",
       "           3       4081727\n",
       "           4        327250\n",
       "           6         17011\n",
       " 1         1       5663144\n",
       "           2          3410\n",
       "           3       5273476\n",
       "           4        344110\n",
       "           5        254549\n",
       "Name: Size, dtype: int64"
      ]
     },
     "execution_count": 5,
     "metadata": {},
     "output_type": "execute_result"
    }
   ],
   "source": [
    "data_direction = data.groupby([\"Direction\", \"Type\"])\n",
    "data_direction[\"Size\"].sum()"
   ]
  },
  {
   "cell_type": "code",
   "execution_count": 6,
   "id": "ce3bc425",
   "metadata": {},
   "outputs": [],
   "source": [
    "def grouper(df, idx, col):\n",
    "    if 1500 <= df[col].loc[idx] <= 2000:\n",
    "        return '1500-2000'\n",
    "    elif 1000 <= df[col].loc[idx] <= 1500:\n",
    "        return '1000-1500'\n",
    "    elif 500 <= df[col].loc[idx] <= 1000:\n",
    "        return '500-1000'\n",
    "    else:\n",
    "        return 'others'"
   ]
  },
  {
   "cell_type": "code",
   "execution_count": 7,
   "id": "458ded88",
   "metadata": {},
   "outputs": [
    {
     "name": "stdout",
     "output_type": "stream",
     "text": [
      "Group by Key: 1000-1500\n",
      "\n",
      "                Time  Type    Oder ID  Size    Price  Direction  Ask Price 1  \\\n",
      "864     34550.571240     1   12968507  1200  2211100          1      2218700   \n",
      "887     34560.404750     1   13127667  1100  2211800          1      2218700   \n",
      "888     34560.406205     3   12968507  1200  2211100          1      2218700   \n",
      "922     34569.970659     1   13278550  1100  2212000          1      2219400   \n",
      "923     34569.970683     3   13127667  1100  2211800          1      2219400   \n",
      "...              ...   ...        ...   ...      ...        ...          ...   \n",
      "215291  57549.404346     4  265613308  1000  2194200         -1      2194200   \n",
      "215886  57571.754285     1  266989750  1100  2190700          1      2193200   \n",
      "216117  57578.021238     3  266989750  1100  2190700          1      2193900   \n",
      "216633  57599.011791     1  267927013  1000  2191300          1      2195300   \n",
      "216634  57599.011819     1  267927017  1000  2196200         -1      2195300   \n",
      "\n",
      "        Ask Volume 1  Bid Price 1  Bid Volume 1  ...  Bid Price 8  \\\n",
      "864              100      2211100          1200  ...      2204800   \n",
      "887              100      2211800          1100  ...      2210100   \n",
      "888              100      2211800          1100  ...      2210100   \n",
      "922              100      2212000          1200  ...      2210500   \n",
      "923              100      2212000          1200  ...      2210400   \n",
      "...              ...          ...           ...  ...          ...   \n",
      "215291          1000      2194000           300  ...      2192600   \n",
      "215886           100      2192000           900  ...      2189600   \n",
      "216117           100      2192200           100  ...      2190500   \n",
      "216633          2000      2192200           100  ...      2191000   \n",
      "216634          2000      2192200           100  ...      2191000   \n",
      "\n",
      "        Bid Volume 8  Ask Price 9  Ask Volume 9  Bid Price 9  Bid Volume 9  \\\n",
      "864              200      2230400           100      2203400            50   \n",
      "887               20      2230400           100      2210000          1552   \n",
      "888               20      2230400           100      2210000          1552   \n",
      "922               44      2230400           100      2210400           100   \n",
      "923              100      2230400           100      2210100            20   \n",
      "...              ...          ...           ...          ...           ...   \n",
      "215291           100      2196200           100      2192400           100   \n",
      "215886           100      2195700           100      2189500           100   \n",
      "216117           100      2195900           200      2190000           500   \n",
      "216633          3610      2196800           800      2190700          1519   \n",
      "216634          3610      2196700           500      2190700          1519   \n",
      "\n",
      "        Ask Price 10  Ask Volume 10  Bid Price 10  Bid Volume 10  \n",
      "864          2230800             25       2202500              1  \n",
      "887          2230800             25       2205000           1115  \n",
      "888          2230800             25       2205000           1115  \n",
      "922          2230800             25       2210100             20  \n",
      "923          2230800             25       2210000           1552  \n",
      "...              ...            ...           ...            ...  \n",
      "215291       2196300            100       2192200            100  \n",
      "215886       2195900            100       2189300           2800  \n",
      "216117       2196100            100       2189800             25  \n",
      "216633       2197000            100       2190600            100  \n",
      "216634       2196800            800       2190600            100  \n",
      "\n",
      "[198 rows x 46 columns]\n",
      "Group by Key: 1500-2000\n",
      "\n",
      "                Time  Type    Oder ID  Size    Price  Direction  Ask Price 1  \\\n",
      "180     34232.895105     3    7276586  1507  2229100         -1      2230000   \n",
      "207     34242.933013     1    8688598  1507  2232400         -1      2232400   \n",
      "230     34262.867786     3    8688598  1507  2232400         -1      2233500   \n",
      "231     34263.056605     1    9021089  1507  2231400         -1      2231400   \n",
      "240     34273.959991     4    9021089  1507  2231400         -1      2233500   \n",
      "...              ...   ...        ...   ...      ...        ...          ...   \n",
      "216599  57598.063919     1  267886304  1800  2195700         -1      2195500   \n",
      "216606  57598.479026     1  267901079  1800  2195300         -1      2195300   \n",
      "216644  57599.031864     1  267930275  1800  2191700          1      2195300   \n",
      "216681  57599.548580     1  267967240  1800  2192000          1      2193100   \n",
      "216686  57599.656072     4  267967240  1800  2192000          1      2193100   \n",
      "\n",
      "        Ask Volume 1  Bid Price 1  Bid Volume 1  ...  Bid Price 8  \\\n",
      "180               26      2223700           100  ...      2220700   \n",
      "207             1507      2230600             5  ...      2221700   \n",
      "230               23      2228700           100  ...      2222000   \n",
      "231             1507      2228700           100  ...      2222000   \n",
      "240               23      2229000           600  ...      2221500   \n",
      "...              ...          ...           ...  ...          ...   \n",
      "216599            96      2193700           100  ...      2192000   \n",
      "216606          1800      2193700           100  ...      2191500   \n",
      "216644          2100      2192000           900  ...      2190600   \n",
      "216681           400      2192000          2800  ...      2190900   \n",
      "216686           400      2192000           800  ...      2190900   \n",
      "\n",
      "        Bid Volume 8  Ask Price 9  Ask Volume 9  Bid Price 9  Bid Volume 9  \\\n",
      "180              100      2242500            20      2220000          1481   \n",
      "207               15      2242500            20      2221500           100   \n",
      "230                6      2246400           100      2221700            15   \n",
      "231                6      2242500            20      2221700            15   \n",
      "240              100      2242500            20      2221400            20   \n",
      "...              ...          ...           ...          ...           ...   \n",
      "216599           900      2197000           200      2191900          1000   \n",
      "216606           100      2196700           500      2191200           100   \n",
      "216644           100      2196700           500      2190200           100   \n",
      "216681           200      2195800           600      2190700          1519   \n",
      "216686           200      2195800           600      2190700          1519   \n",
      "\n",
      "        Ask Price 10  Ask Volume 10  Bid Price 10  Bid Volume 10  \n",
      "180          2246400            100       2219800              3  \n",
      "207          2246400            100       2221400             20  \n",
      "230          2247500             20       2221500            100  \n",
      "231          2246400            100       2221500            100  \n",
      "240          2246400            100       2221000             14  \n",
      "...              ...            ...           ...            ...  \n",
      "216599       2197100           2700       2191500            100  \n",
      "216606       2196800            800       2191000           3610  \n",
      "216644       2196800            800       2190000            400  \n",
      "216681       2196000           2200       2190600            100  \n",
      "216686       2196000           2200       2190600            100  \n",
      "\n",
      "[69 rows x 46 columns]\n",
      "Group by Key: 500-1000\n",
      "\n",
      "                Time  Type    Oder ID  Size    Price  Direction  Ask Price 1  \\\n",
      "17      34200.034290     1    2584604   500  2225000          1      2229100   \n",
      "96      34209.105427     4    2584604   500  2225000          1      2226400   \n",
      "208     34242.960580     1    8690458   600  2227500          1      2232400   \n",
      "237     34273.586231     3    8690458   600  2227500          1      2230800   \n",
      "238     34273.959033     1    9193339   600  2229000          1      2230800   \n",
      "...              ...   ...        ...   ...      ...        ...          ...   \n",
      "216602  57598.428534     1  267899506   800  2195500         -1      2195500   \n",
      "216645  57599.031902     1  267930281   800  2191700          1      2195300   \n",
      "216682  57599.548603     1  267967242   800  2192000          1      2193100   \n",
      "216684  57599.656072     4  264490574   900  2192000          1      2193100   \n",
      "216687  57599.656072     4  267967242   733  2192000          1      2193100   \n",
      "\n",
      "        Ask Volume 1  Bid Price 1  Bid Volume 1  ...  Bid Price 8  \\\n",
      "17              1507      2227500            11  ...      2221400   \n",
      "96               200      2225000           226  ...      2222100   \n",
      "208             1507      2230600             5  ...      2222000   \n",
      "237              100      2228400           100  ...      2221400   \n",
      "238              100      2229000           600  ...      2221500   \n",
      "...              ...          ...           ...  ...          ...   \n",
      "216602           896      2193700           100  ...      2191900   \n",
      "216645          2100      2192000           900  ...      2190600   \n",
      "216682           400      2192000          3600  ...      2190900   \n",
      "216684           400      2192000          2700  ...      2190900   \n",
      "216687           400      2192000            67  ...      2190900   \n",
      "\n",
      "        Bid Volume 8  Ask Price 9  Ask Volume 9  Bid Price 9  Bid Volume 9  \\\n",
      "17                20      2242500            20      2221000            14   \n",
      "96                10      2237500           100      2222000             6   \n",
      "208                6      2242500            20      2221700            15   \n",
      "237               20      2240000           350      2221000            14   \n",
      "238              100      2240000           350      2221400            20   \n",
      "...              ...          ...           ...          ...           ...   \n",
      "216602          1000      2197000           200      2191500           100   \n",
      "216645           100      2196700           500      2190200           100   \n",
      "216682           200      2195800           600      2190700          1519   \n",
      "216684           200      2195800           600      2190700          1519   \n",
      "216687           200      2195800           600      2190700          1519   \n",
      "\n",
      "        Ask Price 10  Ask Volume 10  Bid Price 10  Bid Volume 10  \n",
      "17           2247500             20       2218300             20  \n",
      "96           2240000            250       2221700             15  \n",
      "208          2246400            100       2221500            100  \n",
      "237          2241000            100       2220700            100  \n",
      "238          2241000            100       2221000             14  \n",
      "...              ...            ...           ...            ...  \n",
      "216602       2197100           2700       2191200            100  \n",
      "216645       2196800            800       2190000            400  \n",
      "216682       2196000           2200       2190600            100  \n",
      "216684       2196000           2200       2190600            100  \n",
      "216687       2196000           2200       2190600            100  \n",
      "\n",
      "[901 rows x 46 columns]\n",
      "Group by Key: others\n",
      "\n",
      "                Time  Type    Oder ID   Size    Price  Direction  Ask Price 1  \\\n",
      "0       34200.006789     5          0     13  2228300          1      2229100   \n",
      "1       34200.034290     6         -1  17011  2228700         -1      2229100   \n",
      "2       34200.034290     1    5519048     11  2227500          1      2229100   \n",
      "3       34200.034290     1    2142274     10  2230000         -1      2229100   \n",
      "4       34200.034290     1    2629509    200  2226000          1      2229100   \n",
      "...              ...   ...        ...    ...      ...        ...          ...   \n",
      "216706  57599.977910     4  267961846     39  2193100         -1      2193100   \n",
      "216707  57599.977910     4  267963915     61  2193100         -1      2193100   \n",
      "216708  57599.977975     1  267983787    100  2191900          1      2193100   \n",
      "216709  57599.978001     3  267981940    100  2193100         -1      2193100   \n",
      "216710  57599.978001     1  267983788    100  2193200         -1      2193100   \n",
      "\n",
      "        Ask Volume 1  Bid Price 1  Bid Volume 1  ...  Bid Price 8  \\\n",
      "0               1507      2226400           300  ...      2203200   \n",
      "1               1507      2226400           300  ...      2203200   \n",
      "2               1507      2227500            11  ...      2210000   \n",
      "3               1507      2227500            11  ...      2210000   \n",
      "4               1507      2227500            11  ...      2218300   \n",
      "...              ...          ...           ...  ...          ...   \n",
      "216706           600      2191900          1000  ...      2190700   \n",
      "216707           539      2191900          1000  ...      2190700   \n",
      "216708           539      2191900          1100  ...      2190700   \n",
      "216709           439      2191900          1100  ...      2190700   \n",
      "216710           439      2191900          1100  ...      2190700   \n",
      "\n",
      "        Bid Volume 8  Ask Price 9  Ask Volume 9  Bid Price 9  Bid Volume 9  \\\n",
      "0                100      2252500            20      2200000            97   \n",
      "1                100      2252500            20      2200000            97   \n",
      "2                100      2252500            20      2203200           100   \n",
      "3                100      2250000           100      2203200           100   \n",
      "4                 20      2250000           100      2210000           100   \n",
      "...              ...          ...           ...          ...           ...   \n",
      "216706          1619      2195800           600      2190600           100   \n",
      "216707          1619      2195800           600      2190600           100   \n",
      "216708          1619      2195800           600      2190600           100   \n",
      "216709          1619      2195800           600      2190600           100   \n",
      "216710          1619      2195700          3000      2190600           100   \n",
      "\n",
      "        Ask Price 10  Ask Volume 10  Bid Price 10  Bid Volume 10  \n",
      "0            2257500             40       2190000             50  \n",
      "1            2257500             40       2190000             50  \n",
      "2            2257500             40       2200000             97  \n",
      "3            2252500             20       2200000             97  \n",
      "4            2252500             20       2203200            100  \n",
      "...              ...            ...           ...            ...  \n",
      "216706       2196000           2200       2190500            200  \n",
      "216707       2196000           2200       2190500            200  \n",
      "216708       2196000           2200       2190500            200  \n",
      "216709       2196000           2200       2190500            200  \n",
      "216710       2195800            600       2190500            200  \n",
      "\n",
      "[215543 rows x 46 columns]\n"
     ]
    }
   ],
   "source": [
    "data_volume = data.groupby(lambda x: grouper(data, x, 'Size'))\n",
    "for key, d in data_volume:\n",
    "    print(\"Group by Key: {}\\n\".format(key))\n",
    "    print(d)"
   ]
  },
  {
   "cell_type": "markdown",
   "id": "0f738290",
   "metadata": {},
   "source": [
    "**crosstab**"
   ]
  },
  {
   "cell_type": "code",
   "execution_count": 8,
   "id": "1bdffd9b",
   "metadata": {},
   "outputs": [
    {
     "data": {
      "text/html": [
       "<div>\n",
       "<style scoped>\n",
       "    .dataframe tbody tr th:only-of-type {\n",
       "        vertical-align: middle;\n",
       "    }\n",
       "\n",
       "    .dataframe tbody tr th {\n",
       "        vertical-align: top;\n",
       "    }\n",
       "\n",
       "    .dataframe thead th {\n",
       "        text-align: right;\n",
       "    }\n",
       "</style>\n",
       "<table border=\"1\" class=\"dataframe\">\n",
       "  <thead>\n",
       "    <tr style=\"text-align: right;\">\n",
       "      <th>Direction</th>\n",
       "      <th>-1</th>\n",
       "      <th>1</th>\n",
       "      <th>All</th>\n",
       "    </tr>\n",
       "    <tr>\n",
       "      <th>Type</th>\n",
       "      <th></th>\n",
       "      <th></th>\n",
       "      <th></th>\n",
       "    </tr>\n",
       "  </thead>\n",
       "  <tbody>\n",
       "    <tr>\n",
       "      <th>1</th>\n",
       "      <td>46243</td>\n",
       "      <td>59918</td>\n",
       "      <td>106161</td>\n",
       "    </tr>\n",
       "    <tr>\n",
       "      <th>2</th>\n",
       "      <td>21</td>\n",
       "      <td>26</td>\n",
       "      <td>47</td>\n",
       "    </tr>\n",
       "    <tr>\n",
       "      <th>3</th>\n",
       "      <td>42543</td>\n",
       "      <td>56472</td>\n",
       "      <td>99015</td>\n",
       "    </tr>\n",
       "    <tr>\n",
       "      <th>4</th>\n",
       "      <td>3865</td>\n",
       "      <td>3878</td>\n",
       "      <td>7743</td>\n",
       "    </tr>\n",
       "    <tr>\n",
       "      <th>5</th>\n",
       "      <td>0</td>\n",
       "      <td>3744</td>\n",
       "      <td>3744</td>\n",
       "    </tr>\n",
       "    <tr>\n",
       "      <th>6</th>\n",
       "      <td>1</td>\n",
       "      <td>0</td>\n",
       "      <td>1</td>\n",
       "    </tr>\n",
       "    <tr>\n",
       "      <th>All</th>\n",
       "      <td>92673</td>\n",
       "      <td>124038</td>\n",
       "      <td>216711</td>\n",
       "    </tr>\n",
       "  </tbody>\n",
       "</table>\n",
       "</div>"
      ],
      "text/plain": [
       "Direction     -1       1     All\n",
       "Type                            \n",
       "1          46243   59918  106161\n",
       "2             21      26      47\n",
       "3          42543   56472   99015\n",
       "4           3865    3878    7743\n",
       "5              0    3744    3744\n",
       "6              1       0       1\n",
       "All        92673  124038  216711"
      ]
     },
     "execution_count": 8,
     "metadata": {},
     "output_type": "execute_result"
    }
   ],
   "source": [
    "pd.crosstab(data.Type, data.Direction, margins = True)"
   ]
  },
  {
   "cell_type": "markdown",
   "id": "bbc29e02",
   "metadata": {},
   "source": [
    "- Multi Index Column and Rows: \n",
    "pd.crosstab(df.col1, [df.col2,df.col3], margins=True)\n",
    "- Normalize:\n",
    "pd.crosstab(df.col1, df.col2, normalize='index')\n",
    "- Aggfunc and Values:\n",
    "pd.crosstab(df.col1, df.col2, values=df.col3, aggfunc=np.average)"
   ]
  },
  {
   "cell_type": "markdown",
   "id": "6cf6e6a0",
   "metadata": {},
   "source": [
    "**Date range**\n",
    "- Finding missing dates from datetimeindex\n",
    "- Generating DatetimeIndex with periods argument"
   ]
  },
  {
   "cell_type": "code",
   "execution_count": 9,
   "id": "a839e65c",
   "metadata": {},
   "outputs": [
    {
     "data": {
      "text/plain": [
       "DatetimeIndex(['2016-06-01', '2016-06-02', '2016-06-03', '2016-06-04',\n",
       "               '2016-06-05', '2016-06-06', '2016-06-07', '2016-06-08',\n",
       "               '2016-06-09', '2016-06-10', '2016-06-11', '2016-06-12',\n",
       "               '2016-06-13', '2016-06-14', '2016-06-15', '2016-06-16',\n",
       "               '2016-06-17', '2016-06-18', '2016-06-19', '2016-06-20',\n",
       "               '2016-06-21', '2016-06-22', '2016-06-23', '2016-06-24',\n",
       "               '2016-06-25', '2016-06-26', '2016-06-27', '2016-06-28',\n",
       "               '2016-06-29', '2016-06-30'],\n",
       "              dtype='datetime64[ns]', freq='D')"
      ]
     },
     "execution_count": 9,
     "metadata": {},
     "output_type": "execute_result"
    }
   ],
   "source": [
    "#finding missing dates from datetimeindex\n",
    "daily_index = pd.date_range(start=\"6/1/2016\",end=\"6/30/2016\",freq='D')\n",
    "daily_index.difference(data.index)"
   ]
  },
  {
   "cell_type": "code",
   "execution_count": 10,
   "id": "7cdbf358",
   "metadata": {},
   "outputs": [],
   "source": [
    "date_rng = pd.date_range(start='2023-01-01', end='2023-01-10', freq='D')\n",
    "df = pd.DataFrame(date_rng, columns=['date'])\n",
    "df['data'] = range(1, len(df) + 1)\n",
    "df.set_index('date', inplace=True)\n",
    "\n",
    "#To change the frequency\n",
    "#df.asfreq('H',method='pad')\n",
    "#df.asfreq('D',method='pad')\n",
    "#df.asfreq('B',method='pad')\n",
    "#df.asfreq('W',method='pad')"
   ]
  },
  {
   "cell_type": "code",
   "execution_count": 11,
   "id": "300db9fe",
   "metadata": {},
   "outputs": [
    {
     "data": {
      "text/plain": [
       "2016-06-01 00:00:00    5\n",
       "2016-06-01 01:00:00    4\n",
       "2016-06-01 02:00:00    7\n",
       "2016-06-01 03:00:00    6\n",
       "2016-06-01 04:00:00    4\n",
       "2016-06-01 05:00:00    2\n",
       "2016-06-01 06:00:00    0\n",
       "2016-06-01 07:00:00    1\n",
       "2016-06-01 08:00:00    9\n",
       "2016-06-01 09:00:00    6\n",
       "2016-06-01 10:00:00    0\n",
       "2016-06-01 11:00:00    3\n",
       "2016-06-01 12:00:00    3\n",
       "2016-06-01 13:00:00    6\n",
       "2016-06-01 14:00:00    7\n",
       "2016-06-01 15:00:00    4\n",
       "2016-06-01 16:00:00    6\n",
       "2016-06-01 17:00:00    1\n",
       "2016-06-01 18:00:00    4\n",
       "2016-06-01 19:00:00    3\n",
       "Freq: H, dtype: int64"
      ]
     },
     "execution_count": 11,
     "metadata": {},
     "output_type": "execute_result"
    }
   ],
   "source": [
    "#generating DatetimeIndex with periods argument\n",
    "import numpy as np\n",
    "rng = pd.date_range(start=\"6/1/2016\",end=\"6/30/2016\",freq='H')\n",
    "ts = pd.Series(np.random.randint(0,10,len(rng)), index=rng)\n",
    "ts.head(20)"
   ]
  },
  {
   "cell_type": "markdown",
   "id": "a97508d8",
   "metadata": {},
   "source": [
    "**Handling holidays**"
   ]
  },
  {
   "cell_type": "markdown",
   "id": "6979f2f9",
   "metadata": {},
   "source": [
    "Using 'B' frequency is not going to help because 4th July was holiday and 'B' is not taking that into account. It only accounts for weekends.\n",
    "- AbstractHolidayCalendar : class which is used to define custom holiday calendars\n",
    "- CustomBusinessDay : to generate US holidays calendar frequency"
   ]
  },
  {
   "cell_type": "code",
   "execution_count": 12,
   "id": "8cfd9b07",
   "metadata": {},
   "outputs": [
    {
     "name": "stdout",
     "output_type": "stream",
     "text": [
      "Holidays in 2024: DatetimeIndex(['2024-01-01', '2024-07-04', '2024-12-25'], dtype='datetime64[ns]', freq=None)\n",
      "  Business Days  Is Holiday\n",
      "0    2024-01-01        True\n",
      "1    2024-01-02       False\n",
      "2    2024-01-03       False\n",
      "3    2024-01-04       False\n",
      "4    2024-01-05       False\n",
      "5    2024-01-08       False\n",
      "6    2024-01-09       False\n",
      "7    2024-01-10       False\n",
      "8    2024-01-11       False\n",
      "9    2024-01-12       False\n"
     ]
    }
   ],
   "source": [
    "#AbstractHolidayCalendar\n",
    "from pandas.tseries.holiday import AbstractHolidayCalendar, Holiday, nearest_workday\n",
    "\n",
    "# Define a custom holiday calendar\n",
    "class MyHolidayCalendar(AbstractHolidayCalendar):\n",
    "    rules = [\n",
    "        Holiday('New Year', month=1, day=1, observance=nearest_workday),\n",
    "        Holiday('Independence Day', month=7, day=4, observance=nearest_workday),\n",
    "        Holiday('Christmas', month=12, day=25, observance=nearest_workday)\n",
    "    ]\n",
    "\n",
    "# Instantiate the custom calendar\n",
    "my_cal = MyHolidayCalendar()\n",
    "# Generate a range of dates\n",
    "date_range = pd.date_range(start='2024-01-01', end='2024-12-31', freq='B')  # Business days in 2024\n",
    "# Adjust the dates for holidays using the custom calendar\n",
    "adjusted_dates = my_cal.holidays(start='2024-01-01', end='2024-12-31')\n",
    "\n",
    "\n",
    "print(f\"Holidays in 2024: {adjusted_dates}\")\n",
    "df = pd.DataFrame({'Business Days': date_range})\n",
    "df['Is Holiday'] = df['Business Days'].isin(adjusted_dates)\n",
    "print(df.head(10)) \n"
   ]
  },
  {
   "cell_type": "code",
   "execution_count": 13,
   "id": "8d9c7234",
   "metadata": {},
   "outputs": [
    {
     "data": {
      "text/plain": [
       "DatetimeIndex(['2017-07-02', '2017-07-03', '2017-07-04', '2017-07-05',\n",
       "               '2017-07-06', '2017-07-09', '2017-07-10', '2017-07-11',\n",
       "               '2017-07-12', '2017-07-13', '2017-07-16', '2017-07-17',\n",
       "               '2017-07-18', '2017-07-19', '2017-07-20', '2017-07-23',\n",
       "               '2017-07-24', '2017-07-25', '2017-07-26', '2017-07-27'],\n",
       "              dtype='datetime64[ns]', freq='C')"
      ]
     },
     "execution_count": 13,
     "metadata": {},
     "output_type": "execute_result"
    }
   ],
   "source": [
    "#CustomBusinessDay\n",
    "from pandas.tseries.offsets import CustomBusinessDay\n",
    "\n",
    "egypt_weekdays = \"Sun Mon Tue Wed Thu\"\n",
    "b = CustomBusinessDay(weekmask=egypt_weekdays)\n",
    "pd.date_range(start=\"7/1/2017\",periods=20,freq=b)"
   ]
  },
  {
   "cell_type": "markdown",
   "id": "81e441da",
   "metadata": {},
   "source": [
    "**Datetime**\n",
    "- Custom\n",
    "- Invalid dates"
   ]
  },
  {
   "cell_type": "code",
   "execution_count": 14,
   "id": "5f33dbdf",
   "metadata": {},
   "outputs": [
    {
     "name": "stderr",
     "output_type": "stream",
     "text": [
      "<ipython-input-14-93fb574637d8>:3: UserWarning: Could not infer format, so each element will be parsed individually, falling back to `dateutil`. To ensure parsing is consistent and as-expected, please specify a format.\n",
      "  pd.to_datetime(dt)\n"
     ]
    },
    {
     "data": {
      "text/plain": [
       "DatetimeIndex(['2017-01-05 14:30:00', '2017-01-05 14:30:00',\n",
       "               '2016-01-05 00:00:00', '2017-01-05 00:00:00',\n",
       "               '2017-01-05 00:00:00', '2017-01-05 00:00:00'],\n",
       "              dtype='datetime64[ns]', freq=None)"
      ]
     },
     "execution_count": 14,
     "metadata": {},
     "output_type": "execute_result"
    }
   ],
   "source": [
    "dates = ['2017-01-05', 'Jan 5, 2017', '01/05/2017', '2017.01.05', '2017/01/05','20170105']\n",
    "dt = ['2017-01-05 2:30:00 PM', 'Jan 5, 2017 14:30:00', '01/05/2016', '2017.01.05', '2017/01/05','20170105']\n",
    "pd.to_datetime(dt)"
   ]
  },
  {
   "cell_type": "code",
   "execution_count": 15,
   "id": "c42a056b",
   "metadata": {},
   "outputs": [
    {
     "data": {
      "text/plain": [
       "Timestamp('2017-01-05 00:00:00')"
      ]
     },
     "execution_count": 15,
     "metadata": {},
     "output_type": "execute_result"
    }
   ],
   "source": [
    "# Custom\n",
    "pd.to_datetime('2017#01#05', format='%Y#%m#%d')"
   ]
  },
  {
   "cell_type": "code",
   "execution_count": 16,
   "id": "b880a357",
   "metadata": {},
   "outputs": [
    {
     "data": {
      "text/plain": [
       "DatetimeIndex(['2017-01-05', 'NaT', 'NaT'], dtype='datetime64[ns]', freq=None)"
      ]
     },
     "execution_count": 16,
     "metadata": {},
     "output_type": "execute_result"
    }
   ],
   "source": [
    "# Handling invalid dates\n",
    "pd.to_datetime(['2017-01-05', 'Jan 6, 2017', 'abc'], errors='ignore')\n",
    "pd.to_datetime(['2017-01-05', 'Jan 6, 2017', 'abc'], errors='coerce')\n",
    "#.strftime('%Y-%m-%d')[0]"
   ]
  },
  {
   "cell_type": "markdown",
   "id": "5edfda1f",
   "metadata": {},
   "source": [
    "**Handling Time Zones**"
   ]
  },
  {
   "cell_type": "code",
   "execution_count": 17,
   "id": "3c7307b3",
   "metadata": {},
   "outputs": [],
   "source": [
    "from pytz import all_timezones"
   ]
  },
  {
   "cell_type": "code",
   "execution_count": 18,
   "id": "1c6c3a7d",
   "metadata": {},
   "outputs": [],
   "source": [
    "#df.tz_localize(tz='US/Eastern')\n",
    "#df = df.tz_convert('Europe/Berlin')\n",
    "#df.tz_localize(tz='Europe/Berlin')\n",
    "#df.index = df.index.tz_convert('Asia/Calcutta') "
   ]
  },
  {
   "cell_type": "markdown",
   "id": "f785ac46",
   "metadata": {},
   "source": [
    "### Numpy \n",
    "- Array\n",
    "- Basic Operations on array\n",
    "- Statistical functions\n",
    "- Handling Missing Data\n",
    "- Generating Random Numbers\n",
    "- Histogram and Bin Count"
   ]
  },
  {
   "cell_type": "markdown",
   "id": "d7ad2367",
   "metadata": {},
   "source": [
    "**library**"
   ]
  },
  {
   "cell_type": "code",
   "execution_count": 19,
   "id": "d3f1aa21",
   "metadata": {},
   "outputs": [],
   "source": [
    "import numpy as np"
   ]
  },
  {
   "cell_type": "markdown",
   "id": "9617c228",
   "metadata": {},
   "source": [
    "**Array**"
   ]
  },
  {
   "cell_type": "code",
   "execution_count": 20,
   "id": "f362e4c2",
   "metadata": {
    "scrolled": true
   },
   "outputs": [
    {
     "data": {
      "text/plain": [
       "array([-100.        ,  -97.97979798,  -95.95959596,  -93.93939394,\n",
       "        -91.91919192,  -89.8989899 ,  -87.87878788,  -85.85858586,\n",
       "        -83.83838384,  -81.81818182,  -79.7979798 ,  -77.77777778,\n",
       "        -75.75757576,  -73.73737374,  -71.71717172,  -69.6969697 ,\n",
       "        -67.67676768,  -65.65656566,  -63.63636364,  -61.61616162,\n",
       "        -59.5959596 ,  -57.57575758,  -55.55555556,  -53.53535354,\n",
       "        -51.51515152,  -49.49494949,  -47.47474747,  -45.45454545,\n",
       "        -43.43434343,  -41.41414141,  -39.39393939,  -37.37373737,\n",
       "        -35.35353535,  -33.33333333,  -31.31313131,  -29.29292929,\n",
       "        -27.27272727,  -25.25252525,  -23.23232323,  -21.21212121,\n",
       "        -19.19191919,  -17.17171717,  -15.15151515,  -13.13131313,\n",
       "        -11.11111111,   -9.09090909,   -7.07070707,   -5.05050505,\n",
       "         -3.03030303,   -1.01010101,    1.01010101,    3.03030303,\n",
       "          5.05050505,    7.07070707,    9.09090909,   11.11111111,\n",
       "         13.13131313,   15.15151515,   17.17171717,   19.19191919,\n",
       "         21.21212121,   23.23232323,   25.25252525,   27.27272727,\n",
       "         29.29292929,   31.31313131,   33.33333333,   35.35353535,\n",
       "         37.37373737,   39.39393939,   41.41414141,   43.43434343,\n",
       "         45.45454545,   47.47474747,   49.49494949,   51.51515152,\n",
       "         53.53535354,   55.55555556,   57.57575758,   59.5959596 ,\n",
       "         61.61616162,   63.63636364,   65.65656566,   67.67676768,\n",
       "         69.6969697 ,   71.71717172,   73.73737374,   75.75757576,\n",
       "         77.77777778,   79.7979798 ,   81.81818182,   83.83838384,\n",
       "         85.85858586,   87.87878788,   89.8989899 ,   91.91919192,\n",
       "         93.93939394,   95.95959596,   97.97979798,  100.        ])"
      ]
     },
     "execution_count": 20,
     "metadata": {},
     "output_type": "execute_result"
    }
   ],
   "source": [
    "# Create a 1D array\n",
    "arr1 = np.array([1, 2, 3, 4, 5])\n",
    "\n",
    "# Create a 2D array\n",
    "arr2 = np.array([[1, 2, 3], [4, 5, 6]])\n",
    "\n",
    "# Create an array of zeros\n",
    "zeros = np.zeros((3, 3))\n",
    "\n",
    "# Create an array of ones\n",
    "ones = np.ones((2, 4))\n",
    "\n",
    "# Create an array with a range of values\n",
    "range_arr = np.arange(0, 10, 2)\n",
    "\n",
    "# Create an array with values spaced evenly on a log scale\n",
    "logspace_arr = np.logspace(0, 3, 4)\n",
    "\n",
    "# Create an array of equal distance between points\n",
    "np.linspace(-100, 100, 100)"
   ]
  },
  {
   "cell_type": "markdown",
   "id": "cc25a87e",
   "metadata": {},
   "source": [
    "**Basic Operations**"
   ]
  },
  {
   "cell_type": "code",
   "execution_count": 29,
   "id": "38ddcd15",
   "metadata": {},
   "outputs": [],
   "source": [
    "# Basic Operations\n",
    "\n",
    "# Element-wise addition\n",
    "arr_sum = arr1 + 5\n",
    "\n",
    "# Element-wise multiplication\n",
    "arr_mul = arr1 * 2\n",
    "\n",
    "# Element-wise square root\n",
    "arr_sqrt = np.sqrt(arr1)\n",
    "\n",
    "# Dot product of two arrays\n",
    "dot_product = np.dot(arr1, np.array([2, 2, 2, 2, 2]))"
   ]
  },
  {
   "cell_type": "code",
   "execution_count": 30,
   "id": "e125b3cc",
   "metadata": {},
   "outputs": [],
   "source": [
    "# Linear Algebra\n",
    "\n",
    "# Matrix multiplication\n",
    "mat1 = np.array([[1, 2], [3, 4]])\n",
    "mat2 = np.array([[5, 6], [7, 8]])\n",
    "mat_mul = np.matmul(mat1, mat2)\n",
    "\n",
    "# Inverse of a matrix\n",
    "mat_inv = np.linalg.inv(mat1)\n",
    "\n",
    "# Eigenvalues and eigenvectors\n",
    "eigenvalues, eigenvectors = np.linalg.eig(mat1)"
   ]
  },
  {
   "cell_type": "code",
   "execution_count": 31,
   "id": "13b00cba",
   "metadata": {},
   "outputs": [],
   "source": [
    "# Operation on array\n",
    "\n",
    "# Reshape an array\n",
    "reshaped_arr = np.reshape(arr2, (3, 2))\n",
    "\n",
    "# Transpose an array\n",
    "transposed_arr = np.transpose(arr2)\n",
    "\n",
    "# Flatten an array\n",
    "flattened_arr = arr2.flatten()\n",
    "\n",
    "# Concatenate arrays\n",
    "concatenated_arr = np.concatenate((arr1, np.array([6, 7, 8])))\n"
   ]
  },
  {
   "cell_type": "markdown",
   "id": "00319eca",
   "metadata": {},
   "source": [
    "**Statistics**\n"
   ]
  },
  {
   "cell_type": "markdown",
   "id": "77211730",
   "metadata": {},
   "source": [
    "- np.mean(a, axis=None, dtype=None, out=None, keepdims=False)\n",
    "- np.median(a, axis=None, out=None, overwrite_input=False, keepdims=False)\n",
    "- np.std(a, axis=None, dtype=None, out=None, ddof=0, keepdims=False)\n",
    "- np.var(a, axis=None, dtype=None, out=None, ddof=0, keepdims=False)\n",
    "- np.percentile(a, q, axis=None, out=None, overwrite_input=False, -interpolation='linear', keepdims=False)\n",
    "- np.quantile(a, q, axis=None, out=None, overwrite_input=False, -interpolation='linear', keepdims=False)\n",
    "- np.corrcoef(x, y=None, rowvar=True, bias=<no value>, ddof=<no value>) - np.cov(m, y=None, rowvar=True, bias=False, ddof=None, fweights=None, aweights=None)\n",
    "- np.histogram(a, bins=10, range=None, normed=None, weights=None, density=None)\n",
    "- np.bincount(x, weights=None, minlength=0)"
   ]
  },
  {
   "cell_type": "markdown",
   "id": "f224d572",
   "metadata": {},
   "source": [
    "**Handling missing data**"
   ]
  },
  {
   "cell_type": "code",
   "execution_count": 32,
   "id": "69c08c81",
   "metadata": {},
   "outputs": [],
   "source": [
    "# Create an array with NaN values\n",
    "arr_with_nan = np.array([1, 2, np.nan, 4, 5])\n",
    "\n",
    "# Check for NaN values\n",
    "nan_mask = np.isnan(arr_with_nan)\n",
    "\n",
    "# Replace NaN values with a specific value\n",
    "arr_filled = np.nan_to_num(arr_with_nan, nan=0.0)"
   ]
  },
  {
   "cell_type": "markdown",
   "id": "9cb96c1b",
   "metadata": {},
   "source": [
    "**Generating Random Numbers**"
   ]
  },
  {
   "cell_type": "code",
   "execution_count": 33,
   "id": "1c86acd2",
   "metadata": {},
   "outputs": [],
   "source": [
    "# Generate an array of random integers\n",
    "random_ints = np.random.randint(0, 10, size=5)\n",
    "\n",
    "# Generate an array of random floats\n",
    "random_floats = np.random.random(size=5)\n",
    "\n",
    "# Generate a random sample from a normal distribution\n",
    "normal_sample = np.random.normal(loc=0.0, scale=1.0, size=5)"
   ]
  },
  {
   "cell_type": "markdown",
   "id": "0aa12ade",
   "metadata": {},
   "source": [
    "**Histogram and Bin Count**"
   ]
  },
  {
   "cell_type": "code",
   "execution_count": 34,
   "id": "55964d8f",
   "metadata": {},
   "outputs": [],
   "source": [
    "# Compute histogram\n",
    "data_ = np.array([1, 2, 2, 3, 4, 4, 4, 5])\n",
    "hist, bin_edges = np.histogram(data_, bins=4)\n",
    "\n",
    "# Bin count\n",
    "bin_count = np.bincount(data_)"
   ]
  },
  {
   "cell_type": "markdown",
   "id": "5b47dde5",
   "metadata": {},
   "source": [
    "### Scipy\n",
    "\n",
    "- Optimization (scipy.optimize)\n",
    "- Statistical Functions (scipy.stats)\n",
    "- Signal Processing (scipy.signal)\n",
    "- Linear Algebra (scipy.linalg)\n",
    "- Integration (scipy.integrate)"
   ]
  },
  {
   "cell_type": "code",
   "execution_count": 35,
   "id": "6704fcec",
   "metadata": {},
   "outputs": [],
   "source": [
    "from scipy import stats"
   ]
  },
  {
   "cell_type": "markdown",
   "id": "034d72ad",
   "metadata": {},
   "source": [
    "**Optimization (scipy.optimize)**"
   ]
  },
  {
   "cell_type": "code",
   "execution_count": 36,
   "id": "1bcccc65",
   "metadata": {},
   "outputs": [
    {
     "name": "stdout",
     "output_type": "stream",
     "text": [
      "  message: Optimization terminated successfully.\n",
      "  success: True\n",
      "   status: 0\n",
      "      fun: 2.5388963550532293e-16\n",
      "        x: [ 3.000e+00]\n",
      "      nit: 2\n",
      "      jac: [-1.697e-08]\n",
      " hess_inv: [[ 5.000e-01]]\n",
      "     nfev: 6\n",
      "     njev: 3\n"
     ]
    }
   ],
   "source": [
    "from scipy.optimize import minimize\n",
    "\n",
    "def func(x):\n",
    "    return (x - 3)**2\n",
    "\n",
    "# Perform the optimization\n",
    "x0 = 0 # Initial guess\n",
    "result = minimize(func, x0)\n",
    "print(result)"
   ]
  },
  {
   "cell_type": "markdown",
   "id": "74ead121",
   "metadata": {},
   "source": [
    "**Statistical Functions (scipy.stats)**"
   ]
  },
  {
   "cell_type": "code",
   "execution_count": 37,
   "id": "d03f9782",
   "metadata": {},
   "outputs": [
    {
     "name": "stdout",
     "output_type": "stream",
     "text": [
      "Mean: 8.0\n",
      "Median: 8.0\n",
      "Mode: 2\n"
     ]
    },
    {
     "name": "stderr",
     "output_type": "stream",
     "text": [
      "<ipython-input-37-82ca8a9aa46b>:6: FutureWarning: Unlike other reduction functions (e.g. `skew`, `kurtosis`), the default behavior of `mode` typically preserves the axis it acts along. In SciPy 1.11.0, this behavior will change: the default value of `keepdims` will become False, the `axis` over which the statistic is taken will be eliminated, and the value None will no longer be accepted. Set `keepdims` to True or False to avoid this warning.\n",
      "  mode = stats.mode(datas)\n"
     ]
    }
   ],
   "source": [
    "from scipy import stats\n",
    "\n",
    "datas = np.array([2, 4, 6, 8, 10, 12, 14])\n",
    "mean = np.mean(datas)\n",
    "median = np.median(datas)\n",
    "mode = stats.mode(datas)\n",
    "\n",
    "print(\"Mean:\", mean)\n",
    "print(\"Median:\", median)\n",
    "print(\"Mode:\", mode.mode[0])"
   ]
  },
  {
   "cell_type": "markdown",
   "id": "85dc24d8",
   "metadata": {},
   "source": [
    "**Signal Processing (scipy.signal)**"
   ]
  },
  {
   "cell_type": "code",
   "execution_count": 38,
   "id": "44d8473c",
   "metadata": {
    "scrolled": false
   },
   "outputs": [
    {
     "data": {
      "image/png": "[encoded data removed]",
      "text/plain": [
       "<Figure size 432x288 with 1 Axes>"
      ]
     },
     "metadata": {
      "needs_background": "light"
     },
     "output_type": "display_data"
    }
   ],
   "source": [
    "from scipy import signal\n",
    "import matplotlib\n",
    "import matplotlib.pyplot as plt\n",
    "\n",
    "#Generate a noisy signal\n",
    "np.random.seed(0)\n",
    "time = np.linspace(0, 1, 500)\n",
    "noisy_signal = np.sin(2 * np.pi * 5 * time) + np.random.normal(0, 0.5, time.shape)\n",
    "\n",
    "# Design a low-pass filter\n",
    "b, a = signal.butter(4, 0.1)\n",
    "\n",
    "# Apply the filter\n",
    "filtered_signal = signal.filtfilt(b, a, noisy_signal)\n",
    "\n",
    "# Plot the results\n",
    "plt.plot(time, noisy_signal, label='Noisy Signal')\n",
    "plt.plot(time, filtered_signal, label='Filtered Signal')\n",
    "plt.legend()\n",
    "plt.show()"
   ]
  },
  {
   "cell_type": "markdown",
   "id": "e1907097",
   "metadata": {},
   "source": [
    "**Linear Algebra (scipy.linalg)**"
   ]
  },
  {
   "cell_type": "code",
   "execution_count": 39,
   "id": "77727701",
   "metadata": {},
   "outputs": [
    {
     "name": "stdout",
     "output_type": "stream",
     "text": [
      "Solution to the system: [0.8 1.3]\n"
     ]
    }
   ],
   "source": [
    "from scipy import linalg\n",
    "# Coefficient matrix\n",
    "A = np.array([[3, 2], [1, 4]])\n",
    "\n",
    "# Right-hand side vector\n",
    "b = np.array([5, 6])\n",
    "\n",
    "# Solve the system\n",
    "x = linalg.solve(A, b)\n",
    "\n",
    "print(\"Solution to the system:\", x)"
   ]
  },
  {
   "cell_type": "markdown",
   "id": "02a2216c",
   "metadata": {},
   "source": [
    "**Integration (scipy.integrate)**"
   ]
  },
  {
   "cell_type": "code",
   "execution_count": 40,
   "id": "0bc067ee",
   "metadata": {},
   "outputs": [
    {
     "name": "stdout",
     "output_type": "stream",
     "text": [
      "Integral result: 0.333\n",
      "Estimated error: 3.700743415417189e-15\n"
     ]
    }
   ],
   "source": [
    "from scipy import integrate\n",
    "# Define a function to integrate\n",
    "def f(x):\n",
    "    return x**2\n",
    "\n",
    "# Integrate the function from 0 to 1\n",
    "result, error = integrate.quad(f, 0, 1)\n",
    "\n",
    "print(\"Integral result:\", round(result,3))\n",
    "print(\"Estimated error:\", error)"
   ]
  },
  {
   "cell_type": "markdown",
   "id": "e49eb571",
   "metadata": {},
   "source": [
    "## Visualise-your-data--results\n",
    "- Matplotlib\n",
    "- Seaborn"
   ]
  },
  {
   "cell_type": "markdown",
   "id": "d5096454",
   "metadata": {},
   "source": [
    "### Matplotlib"
   ]
  },
  {
   "cell_type": "code",
   "execution_count": 41,
   "id": "36a5ba5c",
   "metadata": {},
   "outputs": [],
   "source": [
    "import matplotlib\n",
    "import matplotlib.pyplot as plt\n",
    "matplotlib.rcParams[\"figure.figsize\"] = 10,8"
   ]
  },
  {
   "cell_type": "code",
   "execution_count": 42,
   "id": "d4c5a4d4",
   "metadata": {},
   "outputs": [
    {
     "data": {
      "image/png": "[encoded data removed]",
      "text/plain": [
       "<Figure size 720x576 with 1 Axes>"
      ]
     },
     "metadata": {
      "needs_background": "light"
     },
     "output_type": "display_data"
    }
   ],
   "source": [
    "# single figure plot - 2D\n",
    "\n",
    "x = np.array([1, 3, 6, 9, 16])\n",
    "y = np.array([7, 3, 7, 1, 5])\n",
    "y2 = np.array([9, 5, 5, 2, 6])\n",
    "y3 = np.array([4., 6., 2., 6., 8.])\n",
    "y4 = np.array([1, 8, 1, 3, 2])\n",
    "\n",
    "plt.title(\"Plot $ f(x)$\")\n",
    "plt.plot(x, y,  '.-', label = \"y1\",color = 'black', linewidth=1)\n",
    "plt.plot(x, y2,  '.-',color = 'gold', linewidth=1, label = \"y2\")\n",
    "plt.plot(x, y3,  '.-',color = 'royalblue', linewidth=1, label  = \"y3\")\n",
    "plt.plot(x, y4,  '.-',color = 'limegreen', linewidth=1, label = \"y4\")\n",
    "\n",
    "plt.fill_between(x, y, color=\"limegreen\",  alpha=.5)\n",
    "\n",
    "plt.grid(linestyle=':')\n",
    "plt.xlabel(\"$x$\")\n",
    "plt.ylabel(\"$f(x)$\")\n",
    "plt.legend()\n",
    "\n",
    "#filename = \"exercise3_plot.png\"\n",
    "#plt.savefig(filename)\n",
    "plt.show()\n"
   ]
  },
  {
   "cell_type": "code",
   "execution_count": 43,
   "id": "39e30fbd",
   "metadata": {},
   "outputs": [
    {
     "data": {
      "image/png": "[encoded data removed]",
      "text/plain": [
       "<Figure size 720x576 with 4 Axes>"
      ]
     },
     "metadata": {
      "needs_background": "light"
     },
     "output_type": "display_data"
    }
   ],
   "source": [
    "# Multiple figure plots - 2D\n",
    "\n",
    "fig, ax = plt.subplots(2, 2, sharex=\"col\", sharey=\"row\", figsize=(10, 8))\n",
    "\n",
    "ax[0, 0].plot(x, y, 'k-.', label=\"$y$\")\n",
    "ax[0, 0].set_title('Plot')\n",
    "ax[0, 0].legend()\n",
    "ax[0, 0].grid()\n",
    "\n",
    "ax[0, 1].bar(x, y2, color='b', label=\"$y2$\")\n",
    "ax[0, 1].set_title('Bar')\n",
    "ax[0, 1].legend()\n",
    "ax[0, 1].grid()\n",
    "\n",
    "ax[1, 0].scatter(x, y3, color='b', label=\"$y3$\")\n",
    "ax[1, 0].set_title(\"Scatter\")\n",
    "ax[1, 0].legend()\n",
    "ax[1, 0].grid()\n",
    "\n",
    "ax[1, 1].step(x, y4, 'm-.', label=\"$y4$\", lw=2)\n",
    "ax[1, 1].set_title(\"Step\")\n",
    "ax[1, 1].legend()\n",
    "ax[1, 1].grid()\n",
    "\n",
    "plt.show()"
   ]
  },
  {
   "cell_type": "code",
   "execution_count": 44,
   "id": "6fd19b23",
   "metadata": {},
   "outputs": [
    {
     "data": {
      "image/png": "[encoded data removed]",
      "text/plain": [
       "<Figure size 720x576 with 2 Axes>"
      ]
     },
     "metadata": {
      "needs_background": "light"
     },
     "output_type": "display_data"
    }
   ],
   "source": [
    "# multiple figures in a single plot - 2D\n",
    "x = np.arange(0,100)\n",
    "y = x*2\n",
    "z = x**2\n",
    "\n",
    "fig = plt.figure()\n",
    "ax = fig.add_axes([0,0,1,1])\n",
    "ax.plot(x,y)\n",
    "ax.grid()\n",
    "ax.set_xlabel('X')\n",
    "ax.set_ylabel('Y')\n",
    "ax.set_title('Plot $y = f(x)$')\n",
    "\n",
    "ax2 = fig.add_axes([0.2,0.5,0.2,0.2])\n",
    "ax2.plot(x,y**2)\n",
    "ax2.set_xlabel(\"X\")\n",
    "ax2.set_ylabel(\"Y**2\")\n",
    "ax2.set_title('Plot $y = f(x)$')\n",
    "\n",
    "\n",
    "# Adjust label for non-numeric axis \n",
    "ax.set_xticks([0, 10, 20, 30, 40, 50])\n",
    "ax.set_xticklabels([r'$\\alpha$', r'$\\beta$', r'$\\gamma$', r'$\\delta$', r'$\\epsilon$', r'$\\theta$'], fontsize=18)\n",
    "\n",
    "yticks = [0, 50, 100, 150, 200, 250]\n",
    "ax.set_yticks(yticks)\n",
    "ax.set_yticklabels([\"$%.1f$\" % y for y in yticks], fontsize=18); # use LaTeX formatted labels\n",
    "\n",
    "\n",
    "plt.show()"
   ]
  },
  {
   "cell_type": "code",
   "execution_count": 45,
   "id": "78061d67",
   "metadata": {},
   "outputs": [
    {
     "data": {
      "image/png": "[encoded data removed]",
      "text/plain": [
       "<Figure size 720x576 with 1 Axes>"
      ]
     },
     "metadata": {
      "needs_background": "light"
     },
     "output_type": "display_data"
    }
   ],
   "source": [
    "# single figure - 3D\n",
    "from mpl_toolkits.mplot3d import Axes3D\n",
    "\n",
    "# Create a grid of points in the x-y plane\n",
    "x = np.linspace(-5,5, 100)\n",
    "y = np.linspace(-5,5, 100)\n",
    "x, y = np.meshgrid(x,y)\n",
    "# Compute z values based on a function of x and y\n",
    "z = np.sin(np.sqrt(x**2 + y**2))\n",
    "\n",
    "# Create the figure\n",
    "fig = plt.figure()\n",
    "ax = fig.add_subplot(111, projection = '3d')\n",
    "\n",
    "# Plot the surface\n",
    "ax.plot_surface(x, y, z, cmap ='viridis')\n",
    "ax.set_title('3D Surface Plot')\n",
    "ax.set_xlabel('X axis')\n",
    "ax.set_ylabel('Y axis')\n",
    "ax.set_zlabel('Z axis')\n",
    "\n",
    "# Display the plot\n",
    "plt.show()\n"
   ]
  },
  {
   "cell_type": "markdown",
   "id": "fb52e760",
   "metadata": {
    "scrolled": true
   },
   "source": [
    "# Optional - Interactive graph\n",
    "\n",
    "#pip install ipympl ipywidgets\n",
    "from mpl_toolkits.mplot3d import Axes3D\n",
    "import ipywidgets as widgets\n",
    "from ipywidgets import interact\n",
    "%matplotlib widget"
   ]
  },
  {
   "cell_type": "markdown",
   "id": "90f159ab",
   "metadata": {},
   "source": [
    "def generate_data(frequency):\n",
    "    x = np.linspace(-5, 5, 100)\n",
    "    y = np.linspace(-5, 5, 100)\n",
    "    x, y = np.meshgrid(x, y)\n",
    "    z = np.sin(frequency * np.sqrt(x**2 + y**2))\n",
    "    return x, y, z\n",
    "\n",
    "def plot_surface(frequency):\n",
    "    x, y, z = generate_data(frequency)\n",
    "    fig = plt.figure()\n",
    "    ax = fig.add_subplot(111, projection='3d')\n",
    "    ax.plot_surface(x, y, z, cmap='viridis')\n",
    "    ax.set_title('Interactive 3D Surface Plot')\n",
    "    ax.set_xlabel('X axis')\n",
    "    ax.set_ylabel('Y axis')\n",
    "    ax.set_zlabel('Z axis')\n",
    "    plt.show()\n",
    "    \n",
    "interact(plot_surface, frequency=widgets.FloatSlider(value=1, min=0.1, max=5, step=0.1, description='Frequency:'))"
   ]
  },
  {
   "cell_type": "markdown",
   "id": "d991d422",
   "metadata": {},
   "source": [
    "## Seaborn\n",
    "- Distributions\n",
    "\n",
    "- Categorical\n",
    "\n",
    "- Grid"
   ]
  },
  {
   "cell_type": "code",
   "execution_count": 46,
   "id": "cce7dd4c",
   "metadata": {},
   "outputs": [],
   "source": [
    "import seaborn as sns"
   ]
  },
  {
   "cell_type": "markdown",
   "id": "e5c2d6f7",
   "metadata": {},
   "source": [
    "Distributions\n",
    "- univariate plot :\n",
    "     - distplot.\n",
    "     - rugplot: a dash mark for every point on a univariate distribution. They are the building block of a KDE plot.\n",
    "     - kdeplot: replace every single observation with a Gaussian (Normal) distribution centered around that value.\n",
    "- bivariate plot : \n",
    "     - jointplot:  kind parameters to compare with : “scatter”, “reg”, “resid”, “kde”, “hex”.\n",
    "     - pairplot: bivariate plot for all quantitative variable of the DF, add categorical variable as color hue argument .\n",
    "     - heatmap\n",
    "     - clustermap\n"
   ]
  },
  {
   "cell_type": "markdown",
   "id": "ab2a34d2",
   "metadata": {},
   "source": [
    "*Univariate plot*"
   ]
  },
  {
   "cell_type": "code",
   "execution_count": 47,
   "id": "766e32f7",
   "metadata": {
    "scrolled": false
   },
   "outputs": [
    {
     "name": "stderr",
     "output_type": "stream",
     "text": [
      "<ipython-input-47-6a3a4da52681>:2: UserWarning: \n",
      "\n",
      "`distplot` is a deprecated function and will be removed in seaborn v0.14.0.\n",
      "\n",
      "Please adapt your code to use either `displot` (a figure-level function with\n",
      "similar flexibility) or `histplot` (an axes-level function for histograms).\n",
      "\n",
      "For a guide to updating your code to use the new functions, please see\n",
      "https://gist.github.com/mwaskom/de44147ed2974457ad6372750bbe5751\n",
      "\n",
      "  sns.distplot(data['Price'], kde = True, bins = 20);\n"
     ]
    },
    {
     "data": {
      "image/png": "[encoded data removed]",
      "text/plain": [
       "<Figure size 720x576 with 1 Axes>"
      ]
     },
     "metadata": {
      "needs_background": "light"
     },
     "output_type": "display_data"
    }
   ],
   "source": [
    "#distplot\n",
    "sns.distplot(data['Price'], kde = True, bins = 20);"
   ]
  },
  {
   "cell_type": "code",
   "execution_count": 48,
   "id": "187be630",
   "metadata": {},
   "outputs": [
    {
     "data": {
      "image/png": "[encoded data removed]",
      "text/plain": [
       "<Figure size 720x576 with 1 Axes>"
      ]
     },
     "metadata": {
      "needs_background": "light"
     },
     "output_type": "display_data"
    }
   ],
   "source": [
    "#rugplot\n",
    "sns.rugplot(data['Price']);"
   ]
  },
  {
   "cell_type": "code",
   "execution_count": 49,
   "id": "62fc1019",
   "metadata": {},
   "outputs": [
    {
     "ename": "KeyboardInterrupt",
     "evalue": "",
     "output_type": "error",
     "traceback": [
      "\u001b[0;31m---------------------------------------------------------------------------\u001b[0m",
      "\u001b[0;31mKeyboardInterrupt\u001b[0m                         Traceback (most recent call last)",
      "\u001b[0;32m<ipython-input-49-afc1f68adc5c>\u001b[0m in \u001b[0;36m<module>\u001b[0;34m\u001b[0m\n\u001b[1;32m     25\u001b[0m \u001b[0;34m\u001b[0m\u001b[0m\n\u001b[1;32m     26\u001b[0m     \u001b[0;31m#Scale for plotting\u001b[0m\u001b[0;34m\u001b[0m\u001b[0;34m\u001b[0m\u001b[0;34m\u001b[0m\u001b[0m\n\u001b[0;32m---> 27\u001b[0;31m     \u001b[0mkernel\u001b[0m \u001b[0;34m=\u001b[0m \u001b[0mkernel\u001b[0m \u001b[0;34m/\u001b[0m \u001b[0mkernel\u001b[0m\u001b[0;34m.\u001b[0m\u001b[0mmax\u001b[0m\u001b[0;34m(\u001b[0m\u001b[0;34m)\u001b[0m\u001b[0;34m\u001b[0m\u001b[0;34m\u001b[0m\u001b[0m\n\u001b[0m\u001b[1;32m     28\u001b[0m     \u001b[0mkernel\u001b[0m \u001b[0;34m=\u001b[0m \u001b[0mkernel\u001b[0m \u001b[0;34m*\u001b[0m \u001b[0;36m.4\u001b[0m\u001b[0;34m\u001b[0m\u001b[0;34m\u001b[0m\u001b[0m\n\u001b[1;32m     29\u001b[0m     \u001b[0mplt\u001b[0m\u001b[0;34m.\u001b[0m\u001b[0mplot\u001b[0m\u001b[0;34m(\u001b[0m\u001b[0mx_axis\u001b[0m\u001b[0;34m,\u001b[0m\u001b[0mkernel\u001b[0m\u001b[0;34m,\u001b[0m\u001b[0mcolor\u001b[0m \u001b[0;34m=\u001b[0m \u001b[0;34m'grey'\u001b[0m\u001b[0;34m,\u001b[0m\u001b[0malpha\u001b[0m\u001b[0;34m=\u001b[0m\u001b[0;36m0.5\u001b[0m\u001b[0;34m)\u001b[0m\u001b[0;34m\u001b[0m\u001b[0;34m\u001b[0m\u001b[0m\n",
      "\u001b[0;31mKeyboardInterrupt\u001b[0m: "
     ]
    },
    {
     "data": {
      "image/png": "[encoded data removed]",
      "text/plain": [
       "<Figure size 720x576 with 1 Axes>"
      ]
     },
     "metadata": {
      "needs_background": "light"
     },
     "output_type": "display_data"
    }
   ],
   "source": [
    "#kdeplot\n",
    "\n",
    "# Set up the x-axis for the plot\n",
    "x_min = data['Price'].min() - 1\n",
    "x_max = data['Price'].max() + 1\n",
    "\n",
    "# 100 equally spaced points from x_min to x_max\n",
    "x_axis = np.linspace(x_min,x_max,100)\n",
    "\n",
    "# Set up the bandwidth, for info on this:\n",
    "url = 'http://en.wikipedia.org/wiki/Kernel_density_estimation#Practical_estimation_of_the_bandwidth'\n",
    "\n",
    "bandwidth = ((4*data['Price'].std()**5)/(3*len(data['Price'])))**.2\n",
    "\n",
    "\n",
    "# Create an empty kernel list\n",
    "kernel_list = []\n",
    "\n",
    "# Plot each basis function\n",
    "for data_point in data['Price']:\n",
    "    \n",
    "    # Create a kernel for each point and append to list\n",
    "    kernel = stats.norm(data_point,bandwidth).pdf(x_axis)\n",
    "    kernel_list.append(kernel)\n",
    "    \n",
    "    #Scale for plotting\n",
    "    kernel = kernel / kernel.max()\n",
    "    kernel = kernel * .4\n",
    "    plt.plot(x_axis,kernel,color = 'grey',alpha=0.5)\n",
    "\n",
    "plt.ylim(0,1)"
   ]
  },
  {
   "cell_type": "code",
   "execution_count": null,
   "id": "10258974",
   "metadata": {},
   "outputs": [],
   "source": [
    "sum_of_kde = np.sum(kernel_list,axis=0)\n",
    "\n",
    "# Plot figure\n",
    "fig = plt.plot(x_axis,sum_of_kde,color='indianred')\n",
    "\n",
    "# Add the initial rugplot\n",
    "sns.rugplot(data['Price'],c = 'indianred')\n",
    "\n",
    "# Get rid of y-tick marks\n",
    "plt.yticks([])\n",
    "\n",
    "# Set title\n",
    "plt.suptitle(\"Sum of the Basis Functions\");"
   ]
  },
  {
   "cell_type": "markdown",
   "id": "13afe244",
   "metadata": {},
   "source": [
    "*Bivariate plot*"
   ]
  },
  {
   "cell_type": "code",
   "execution_count": null,
   "id": "76a86fb2",
   "metadata": {},
   "outputs": [],
   "source": [
    "#jointplot\n",
    "sns.jointplot(x='Price',y='Size',data=data,kind='reg');"
   ]
  },
  {
   "cell_type": "code",
   "execution_count": null,
   "id": "7afac1ad",
   "metadata": {},
   "outputs": [],
   "source": [
    "#pairplot\n",
    "sns.pairplot(data, hue = 'Direction', palette = 'coolwarm');"
   ]
  },
  {
   "cell_type": "code",
   "execution_count": null,
   "id": "54f4755c",
   "metadata": {},
   "outputs": [],
   "source": [
    "#heatmap\n",
    "sns.heatmap(data.select_dtypes(include=['number']).corr(),  cmap='magma',linecolor='white',linewidths=1);\n",
    "\n",
    "# to see where are the missing values\n",
    "#sns.heatmap(df.isnull(),yticklabels=False,cbar=False,cmap='viridis')\n"
   ]
  },
  {
   "cell_type": "code",
   "execution_count": null,
   "id": "8b07ea10",
   "metadata": {},
   "outputs": [],
   "source": [
    "#sns.clustermap(data.pivot_table(values ='Price',index = 'Type', columns = 'year'), cmap = 'coolwarm',standard_scale=1);"
   ]
  },
  {
   "cell_type": "markdown",
   "id": "e39970dc",
   "metadata": {},
   "source": [
    "Categorical \n",
    "- catplot\n",
    "- boxplot ->The box shows the quartiles of the dataset while the whiskers extend to show the rest of the distribution, except for points that are determined to be “outliers” using a method that is a function of the inter-quartile range.\n",
    "- violinplot\n",
    "- stripplot : all observations along with some representation of the underlying distribution.\n",
    "- swarmplot -> The swarmplot is similar to stripplot(), but the points are adjusted (only along the categorical axis) so that they don’t overlap.\n",
    "- barplot -> aggregate the categorical data based off some function\n",
    "- countplot"
   ]
  },
  {
   "cell_type": "code",
   "execution_count": null,
   "id": "11de142a",
   "metadata": {},
   "outputs": [],
   "source": [
    "sns.catplot(x=\"Type\", y=\"Price\", hue=\"Direction\", kind=\"bar\", data=data)"
   ]
  },
  {
   "cell_type": "code",
   "execution_count": null,
   "id": "4b8a6cc2",
   "metadata": {},
   "outputs": [],
   "source": [
    "# default estimator : mean\n",
    "#sns.barplot(x='Direction',y='Price',data=data);\n",
    "sns.barplot(x='Direction',y='Price',data=data, estimator = np.std);"
   ]
  },
  {
   "cell_type": "code",
   "execution_count": null,
   "id": "bf613884",
   "metadata": {},
   "outputs": [],
   "source": [
    "sns.countplot(x = 'Direction', data = data);"
   ]
  },
  {
   "cell_type": "code",
   "execution_count": null,
   "id": "f12287f6",
   "metadata": {},
   "outputs": [],
   "source": [
    "sns.boxplot(x=\"Type\", y=\"Price\", hue = 'Direction', data=data, palette = 'coolwarm');"
   ]
  },
  {
   "cell_type": "code",
   "execution_count": null,
   "id": "9f8f4fbf",
   "metadata": {},
   "outputs": [],
   "source": [
    "sns.boxplot(data=data, palette = 'rainbow', orient = 'h');"
   ]
  },
  {
   "cell_type": "code",
   "execution_count": null,
   "id": "dec6762f",
   "metadata": {},
   "outputs": [],
   "source": [
    "sns.violinplot(x = 'Type', y = 'Price',hue = 'Direction', data = data, split=True, palette = 'coolwarm')"
   ]
  },
  {
   "cell_type": "code",
   "execution_count": null,
   "id": "a49e0f70",
   "metadata": {
    "scrolled": true
   },
   "outputs": [],
   "source": [
    "sns.stripplot(x = 'Type', y = 'Price',hue = 'Direction', data = data, jitter = False, palette='rainbow');"
   ]
  },
  {
   "cell_type": "code",
   "execution_count": null,
   "id": "2a6a7801",
   "metadata": {},
   "outputs": [],
   "source": [
    "sns.swarmplot(x = 'Type', y = 'Price',hue = 'Direction', data = data, palette = 'Set1')\n"
   ]
  },
  {
   "cell_type": "code",
   "execution_count": null,
   "id": "f99e89a4",
   "metadata": {},
   "outputs": [],
   "source": [
    "sns.violinplot(x = 'Type', y = 'Price', data = data,palette='rainbow')\n",
    "sns.swarmplot(x = 'Type', y = 'Price', data = data,color='black',size=3);"
   ]
  },
  {
   "cell_type": "markdown",
   "id": "34218cdb",
   "metadata": {},
   "source": [
    "Grid"
   ]
  },
  {
   "cell_type": "code",
   "execution_count": null,
   "id": "39445260",
   "metadata": {},
   "outputs": [],
   "source": [
    "g = sns.PairGrid(data)\n",
    "g.map_diag(plt.hist)\n",
    "g.map_upper(scatter)\n",
    "g.map_lower(sns.kdeplot)"
   ]
  },
  {
   "cell_type": "code",
   "execution_count": null,
   "id": "3e60b489",
   "metadata": {},
   "outputs": [],
   "source": [
    "v = sns.FacetGrid(data, col=\"Type\", row=\"Direction\")# hue = 'sex')\n",
    "v = v.map(plt.scatter, \"Price\", 'Time').add_legend();"
   ]
  },
  {
   "cell_type": "markdown",
   "id": "6f549c15",
   "metadata": {},
   "source": [
    "# Machine-learning-introduction"
   ]
  },
  {
   "cell_type": "markdown",
   "id": "15248007",
   "metadata": {},
   "source": [
    "## Supervised-learning"
   ]
  },
  {
   "cell_type": "markdown",
   "id": "e6e95745",
   "metadata": {},
   "source": [
    "### Regression-models"
   ]
  },
  {
   "cell_type": "markdown",
   "id": "520964d7",
   "metadata": {},
   "source": [
    "#### Linear-univariate-multivariate\n",
    "\n",
    "Hypothesis for Linear Regression :\n",
    "1. Linearity between dependant variables and independant\n",
    "2. Non-collinearity of the independant variables\n",
    "3. Independance: the residuals are not correlated\n",
    "4. Homoscedasticity: the residuals have constant variance at every level of the independent variable(s)\n",
    "5. Normality of Residuals: The residuals of the model are normally distributed\n",
    "\n",
    "Tests to ensure the validity of the hypothesis :\n",
    "1. Plot (scatter) dependant against independant variables\n",
    "2. VIF for each independant variables (>10:high correlation)/Correlation matrix\n",
    "    - from statsmodels.stats.outliers_influence import variance_inflation_factor\n",
    "3. Durbin-Watson : autocorrelation in the residuals\n",
    "4. Breusch-Pagan's test/White's test/Residuals  plot against fitted values\n",
    "    - from statsmodels.stats.diagnostic import het_breuschpagan, linear_rainbow\n",
    "5. Histogram and Q-Q plot/ Shapiro-Wilk/ Anderson-Darling\n",
    "    - from scipy.stats import shapiro, anderson\n"
   ]
  },
  {
   "cell_type": "code",
   "execution_count": null,
   "id": "12c6df47",
   "metadata": {},
   "outputs": [],
   "source": [
    "from sklearn.model_selection import train_test_split\n",
    "\n",
    "# Assuming 'data' is a pandas DataFrame\n",
    "x = data[['Size', \"Time\", \n",
    "          \"Ask Price 1\", \"Ask Volume 1\",\"Bid Price 1\",\"Bid Volume 1\", \n",
    "          \"Ask Price 2\", \"Ask Volume 2\",\"Bid Price 2\",\"Bid Volume 2\",\n",
    "          \"Ask Price 3\", \"Ask Volume 3\",\"Bid Price 3\",\"Bid Volume 3\",\n",
    "          \"Ask Price 4\", \"Ask Volume 4\",\"Bid Price 4\",\"Bid Volume 4\",\n",
    "          \"Ask Price 5\", \"Ask Volume 5\",\"Bid Price 5\",\"Bid Volume 5\",\n",
    "          \"Ask Price 6\", \"Ask Volume 6\",\"Bid Price 6\",\"Bid Volume 6\",\n",
    "          \"Ask Price 7\", \"Ask Volume 7\",\"Bid Price 7\",\"Bid Volume 7\",\n",
    "          \"Ask Price 8\", \"Ask Volume 8\",\"Bid Price 8\",\"Bid Volume 8\",\n",
    "          \"Ask Price 9\", \"Ask Volume 9\",\"Bid Price 9\",\"Bid Volume 9\",\n",
    "          \"Ask Price 10\", \"Ask Volume 10\",\"Bid Price 10\",\"Bid Volume 10\"]]\n",
    "y = data['Price']\n",
    "\n",
    "X_train, X_test, Y_train, Y_test = train_test_split(x, y, test_size=0.4, random_state=101)\n"
   ]
  },
  {
   "cell_type": "code",
   "execution_count": null,
   "id": "8c37e960",
   "metadata": {
    "scrolled": true
   },
   "outputs": [],
   "source": [
    "from sklearn.linear_model import LinearRegression\n",
    "\n",
    "#Create and fit the model\n",
    "model = LinearRegression()\n",
    "model.fit(X_train, Y_train)"
   ]
  },
  {
   "cell_type": "code",
   "execution_count": null,
   "id": "de094ef7",
   "metadata": {
    "scrolled": true
   },
   "outputs": [],
   "source": [
    "#Model evaluation\n",
    "print(model.intercept_)\n",
    "coefficients = pd.DataFrame(model.coef_, x.columns, columns = ['Coefficients'])\n",
    "coefficients"
   ]
  },
  {
   "cell_type": "code",
   "execution_count": null,
   "id": "10b31596",
   "metadata": {
    "scrolled": true
   },
   "outputs": [],
   "source": [
    "#Prediction\n",
    "prediction = model.predict(X_test)\n",
    "plt.scatter(Y_test,prediction);\n",
    "#sns.distplot((Y_test-prediction),bins=50);"
   ]
  },
  {
   "cell_type": "code",
   "execution_count": null,
   "id": "717061e0",
   "metadata": {},
   "outputs": [],
   "source": [
    "from sklearn import metrics\n",
    "print('MAE:', metrics.mean_absolute_error(Y_test, prediction))\n",
    "print('MSE:', metrics.mean_squared_error(Y_test, prediction))\n",
    "print('RMSE:', np.sqrt(metrics.mean_squared_error(Y_test, prediction)))"
   ]
  },
  {
   "cell_type": "markdown",
   "id": "b4dbaa3b",
   "metadata": {},
   "source": [
    "### Classification models"
   ]
  },
  {
   "cell_type": "markdown",
   "id": "d4fc06e2",
   "metadata": {},
   "source": [
    "#### Logistic regression\n"
   ]
  },
  {
   "cell_type": "code",
   "execution_count": null,
   "id": "4ebd5280",
   "metadata": {
    "scrolled": true
   },
   "outputs": [],
   "source": [
    "# A supervised classifier for binary outcomes.\n",
    "# It models the probability that the dependent variable belongs to a particular category \n",
    "#(for instance, 1/0, True/False, A/B, High /Low, etc)\n",
    "\n",
    "#Converting Categorical Features\n",
    "# We'll need to convert categorical features to dummy variables using pandas! \n",
    "# Otherwise our machine learning algorithm won't be able to \n",
    "# directly take in those features as inputs.\n",
    "\n",
    "# Define the classify_price function to use the median of the column\n",
    "def classify_price(price):\n",
    "    median_price = data['Price'].median()\n",
    "    if price < median_price:\n",
    "        return 0\n",
    "    else:\n",
    "        return 1\n",
    "\n",
    "# Apply the classify_price function to the 'Price' column\n",
    "data['Price_Class'] = data['Price'].apply(classify_price)\n",
    "\n",
    "# Convert categorical features to dummy variables\n",
    "type_ = pd.get_dummies(data['Type'], prefix='Type')#, drop_first = True)\n",
    "direction_ = pd.get_dummies(data['Direction'], prefix='Direction')#, drop_first = True)\n",
    "\n",
    "# Columns to drop\n",
    "columns_to_drop = ['Type', 'Direction', 'Price']\n",
    "\n",
    "# Drop the specified columns and add the new dummy variable columns\n",
    "df_logistic_reg = data.drop(columns=columns_to_drop)\n",
    "df_logistic_reg = pd.concat([df_logistic_reg, type_, direction_], axis=1)\n",
    "\n",
    "# Display the first few rows of the new DataFrame\n",
    "print(df_logistic_reg.head())\n"
   ]
  },
  {
   "cell_type": "code",
   "execution_count": null,
   "id": "aa5c15d4",
   "metadata": {},
   "outputs": [],
   "source": [
    "from sklearn.linear_model import LogisticRegression\n",
    "from sklearn.metrics import classification_report\n",
    "\n",
    "X_train, X_test, Y_train, Y_test = train_test_split(df_logistic_reg.drop('Price_Class', axis = 1),\n",
    "                                                   df_logistic_reg['Price_Class'], test_size = 0.3,\n",
    "                                                   random_state = 101)\n",
    "# Fit\n",
    "log_model = LogisticRegression()\n",
    "log_model.fit(X_train,Y_train)\n",
    "\n",
    "#Prediction\n",
    "predictions = log_model.predict(X_test)\n",
    "\n",
    "# Evaluation\n",
    "print(classification_report(Y_test,predictions))\n",
    "\n",
    "# accuracy = (TP+TN)/(FP+FN+TP+TN)\n",
    "# recall = TP/(FN+TP)\n",
    "# precision = TP/(TP+FP)\n",
    "# f1 = 2 * (precision*recall)/(precision+recall)"
   ]
  },
  {
   "cell_type": "markdown",
   "id": "324fcc8c",
   "metadata": {},
   "source": [
    "#### K-nearest-neighbours\n",
    "\n",
    "1. Encoding Categorical Variables\n",
    "ex : One-Hot Encoding: This creates a new binary column for each category. It avoids the issue of introducing ordinal relationships.\n",
    "\n",
    "2. Standardize the numerical variables\n",
    "the KNN classifier predicts the class of a given test observation \n",
    "by identifying the observations that are nearest to it, the scale of the variables matters. Any variables that are on a large scale will have a much larger effect on the distance between the observations, and hence on the KNN classifier, than variables that are on a small scale."
   ]
  },
  {
   "cell_type": "code",
   "execution_count": null,
   "id": "78b46e73",
   "metadata": {},
   "outputs": [],
   "source": [
    "# We'll try to use KNN to create a model that directly predicts \n",
    "# the DIRECTION (sell/buy) for a new data point based off of the features.\n",
    "\n",
    "# 1 - categorical features\n",
    "from sklearn.preprocessing import OneHotEncoder\n",
    "\n",
    "one_hot_encoder = OneHotEncoder(sparse=False)\n",
    "encoded_categorical_features = one_hot_encoder.fit_transform(data[['Type']])\n",
    "df_knn_ohe = pd.DataFrame(encoded_categorical_features, columns= [str(i) for i in range (1,7)])\n",
    "df_knn_ohe.head()"
   ]
  },
  {
   "cell_type": "code",
   "execution_count": null,
   "id": "60df62ee",
   "metadata": {},
   "outputs": [],
   "source": [
    "from sklearn.preprocessing import StandardScaler\n",
    "\n",
    "# 2 - numerical features\n",
    "\n",
    "scaler = StandardScaler()\n",
    "scaler.fit(data.drop(['Direction','Type',\"Price_Class\", \"Time\", 'Oder ID'],axis=1))\n",
    "scaled_features = scaler.transform(data.drop(['Direction','Type',\"Price_Class\", \"Time\", 'Oder ID'],axis=1))\n",
    "\n",
    "df_knn = pd.DataFrame(scaled_features,columns=data.columns.drop(['Direction','Type',\"Price_Class\", \"Time\", 'Oder ID']).tolist())\n",
    "df_knn = pd.concat([df_knn_ohe, df_knn], axis = 1)\n",
    "df_knn.head()"
   ]
  },
  {
   "cell_type": "code",
   "execution_count": null,
   "id": "52e6d101",
   "metadata": {},
   "outputs": [],
   "source": [
    "scaled_features = np.concatenate([encoded_categorical_features, scaled_features], axis = 1)\n",
    "X_train, X_test, y_train, y_test = train_test_split(scaled_features,data['Direction'],test_size=0.30)\n",
    "\n",
    "#fit\n",
    "from sklearn.neighbors import KNeighborsClassifier\n",
    "knn = KNeighborsClassifier(n_neighbors=1)\n",
    "knn.fit(X_train,y_train)\n",
    "pred = knn.predict(X_test)\n",
    "\n",
    "# prediction & evaluation\n",
    "from sklearn.metrics import classification_report,confusion_matrix\n",
    "print(confusion_matrix(y_test,pred))\n",
    "print(classification_report(y_test,pred))\n"
   ]
  },
  {
   "cell_type": "markdown",
   "id": "52997ea7",
   "metadata": {
    "scrolled": true
   },
   "source": [
    "# choosing k value\n",
    "error_rate = []\n",
    "\n",
    "for i in range(1,40):\n",
    "    knn = KNeighborsClassifier(n_neighbors=i)\n",
    "    knn.fit(X_train,y_train)\n",
    "    pred_i = knn.predict(X_test)\n",
    "    error_rate.append(np.mean(pred_i != y_test))\n",
    "\n",
    "    \n",
    "plt.figure(figsize=(10,6))\n",
    "plt.plot(range(1,10),error_rate,color='blue', linestyle='dashed', marker='o',\n",
    "         markerfacecolor='red', markersize=10)\n",
    "plt.title('Error Rate vs. K Value')\n",
    "plt.xlabel('K')\n",
    "plt.ylabel('Error Rate')"
   ]
  },
  {
   "cell_type": "markdown",
   "id": "29fff1e2",
   "metadata": {},
   "source": [
    "#### Support-vector-machines-svm\n",
    "allow to linearly separate in a higher dimensional space, points that are in principle not linearly separable in the original space.\n",
    "- It is also very computer efficient\n",
    "- Unfortunately it is a binary classifier\n",
    "- It si more flexible than Logistic Regressions it handles non linear boundaries (‘linear’, ‘poly’, ‘rbf’, and other more complex)"
   ]
  },
  {
   "cell_type": "code",
   "execution_count": null,
   "id": "97d7068a",
   "metadata": {},
   "outputs": [],
   "source": [
    "from sklearn.svm import SVC\n",
    "model = SVC()\n",
    "model.fit(X_train,y_train)\n",
    "\n",
    "#\n",
    "predictions = model.predict(X_test)\n",
    "\n",
    "print(confusion_matrix(y_test,predictions))\n",
    "print(classification_report(y_test,predictions))\n"
   ]
  },
  {
   "cell_type": "markdown",
   "id": "6a0b762f",
   "metadata": {},
   "source": [
    "#### Hyperparameters optimisation - Gridsearch"
   ]
  },
  {
   "cell_type": "markdown",
   "id": "35a54aaf",
   "metadata": {},
   "source": [
    "param_grid = {'C': [0.1,1, 10, 100, 1000], 'gamma': [1,0.1,0.01,0.001,0.0001], 'kernel': ['rbf']} \n",
    "from sklearn.model_selection import GridSearchCV\n",
    "grid = GridSearchCV(SVC(),param_grid,refit=True,verbose=3)\n",
    "grid.fit(X_train,y_train)\n",
    "\n",
    "grid.best_params_\n",
    "grid.best_estimator_\n",
    "grid_predictions = grid.predict(X_test)\n",
    "print(confusion_matrix(y_test,grid_predictions))\n",
    "print(classification_report(y_test,grid_predictions))\n"
   ]
  },
  {
   "cell_type": "markdown",
   "id": "396d493d",
   "metadata": {},
   "source": [
    "#### Decision-trees--random-forests"
   ]
  },
  {
   "cell_type": "code",
   "execution_count": null,
   "id": "b4afe97c",
   "metadata": {},
   "outputs": [],
   "source": [
    "#Decision Trees\n",
    "from sklearn.tree import DecisionTreeClassifier\n",
    "dtree = DecisionTreeClassifier()\n",
    "dtree.fit(X_train,y_train)\n",
    "\n",
    "predictions = dtree.predict(X_test)\n",
    "print(classification_report(y_test,predictions))\n",
    "print(confusion_matrix(y_test,predictions))\n"
   ]
  },
  {
   "cell_type": "markdown",
   "id": "416523b1",
   "metadata": {},
   "source": [
    "# visualization\n",
    "from IPython.display import Image  \n",
    "from sklearn.externals.six import StringIO  \n",
    "from sklearn.tree import export_graphviz\n",
    "import pydot \n",
    "\n",
    "features = list(df_knn.drop([str(i) for i in range (1,7)]).columns)\n",
    "features\n",
    "\n",
    "dot_data = StringIO()  \n",
    "export_graphviz(dtree, out_file=dot_data,feature_names=features,filled=True,rounded=True)\n",
    "\n",
    "graph = pydot.graph_from_dot_data(dot_data.getvalue())  \n",
    "Image(graph[0].create_png()) "
   ]
  },
  {
   "cell_type": "code",
   "execution_count": null,
   "id": "6e00559d",
   "metadata": {},
   "outputs": [],
   "source": [
    "# Random Forests\n",
    "from sklearn.ensemble import RandomForestClassifier\n",
    "rfc = RandomForestClassifier(n_estimators=100)\n",
    "rfc.fit(X_train, y_train)\n",
    "\n",
    "rfc_pred = rfc.predict(X_test)\n",
    "print(confusion_matrix(y_test,rfc_pred))\n",
    "print(classification_report(y_test,rfc_pred))"
   ]
  },
  {
   "cell_type": "markdown",
   "id": "aef17160",
   "metadata": {},
   "source": [
    "## Unsupervised-learning\n"
   ]
  },
  {
   "cell_type": "markdown",
   "id": "93823e44",
   "metadata": {},
   "source": [
    "### Clustering"
   ]
  },
  {
   "cell_type": "markdown",
   "id": "e92b4843",
   "metadata": {},
   "source": [
    "#### K-means"
   ]
  },
  {
   "cell_type": "code",
   "execution_count": null,
   "id": "a9aa3a5d",
   "metadata": {},
   "outputs": [],
   "source": [
    "from sklearn.cluster import KMeans\n",
    "\n",
    "kmeans = KMeans(n_clusters = 2)\n",
    "kmeans.fit(np.array(data['Price']).reshape(-1,1))\n",
    "kmeans.cluster_centers_\n",
    "kmeans.labels_"
   ]
  },
  {
   "cell_type": "markdown",
   "id": "8c5466fe",
   "metadata": {},
   "source": [
    "#### Hierarchical clustering"
   ]
  },
  {
   "cell_type": "code",
   "execution_count": 20,
   "id": "85480ebe",
   "metadata": {},
   "outputs": [],
   "source": [
    "from scipy.cluster.hierarchy import dendrogram, linkage\n",
    "from sklearn.preprocessing import StandardScaler\n",
    "\n",
    "price_data = data[['Price']].values\n",
    "\n",
    "# Standardize the data (optional but recommended for clustering)\n",
    "scaler = StandardScaler()\n",
    "price_data_scaled = scaler.fit_transform(price_data).reshape(-1,1)\n"
   ]
  },
  {
   "cell_type": "code",
   "execution_count": 21,
   "id": "c468f05a",
   "metadata": {},
   "outputs": [],
   "source": [
    "# Perform hierarchical clustering\n",
    "Z = linkage(price_data_scaled[:1000], method='ward') # try with more data, but risk to shut the kernel down "
   ]
  },
  {
   "cell_type": "code",
   "execution_count": 24,
   "id": "41600460",
   "metadata": {},
   "outputs": [
    {
     "data": {
      "image/png": "[encoded data removed]",
      "text/plain": [
       "<Figure size 720x504 with 1 Axes>"
      ]
     },
     "metadata": {
      "needs_background": "light"
     },
     "output_type": "display_data"
    }
   ],
   "source": [
    "# Plot the dendrogram\n",
    "plt.figure(figsize=(10, 7))\n",
    "plt.title(\"Dendrogram for Price Data\")\n",
    "dendrogram(Z)\n",
    "plt.xlabel('Sample index')\n",
    "plt.ylabel('Distance')\n",
    "plt.show()"
   ]
  },
  {
   "cell_type": "code",
   "execution_count": 25,
   "id": "618dbff4",
   "metadata": {},
   "outputs": [
    {
     "name": "stdout",
     "output_type": "stream",
     "text": [
      "[ 7  7  7  8 10  8 11  8 11  8 11  9 11  5 11  5 11 11 11 11 11 11 11 11\n",
      " 11 11 11 11 11 11 11 11  6  7  7  7  7  6  7 10  6 10 13 10 10 10 10 10\n",
      " 10 10 10 10 10 10  7  7 11  7  7  7  7  7  7  7  7  7  7  7  7  7  6  6\n",
      " 11  7  7  7 11 11 11 11  7  7  9 11 11 11 11 11  6  7 10  7 10 11 11 11\n",
      " 11 11 11 11 10  7 10 11 11 11 10 10 11 10 11 11 11 11 10 11 11 13 11 11\n",
      " 11 11 11 10 13 13 10  9 13 12 13 13 11 13 11 13 13 13 13 10 13 11 13 13\n",
      " 13 13 13 13 11 11 13 13 13 13 12 13  9 13 13 10 10 13 10 10  9 10 13 13\n",
      " 10 10  6  6  6 10  6 12  5  6  5 11  7 11  8  8  8  8  6 10 11  8 10  5\n",
      " 13  5  8 13 11 11 13 11 11  7 13  7  7 13  8  9  7  8  9  9 11  7  5  9\n",
      "  9  7  7 10 10  7  6  5  5 10  7  7  7  7  9  8  7  7  6 10  8  7  7  8\n",
      "  8  8  8  8  9  8  7  8  7  7  7  7  7  7  7  7 13 13 13 13  7  6  5  8\n",
      "  7 13 13 13  9  7 13  6  7  7  7 13 13  7 10  9 13  7 10 13 13 10  7 10\n",
      " 10 11 11 11 13 13 13 13 13 13 13 13 13 13 13 13 13 13 13 13 13 13 13 10\n",
      "  9  7  9 10 10 13  6 13 10 10 10 10 10 10 10 10  6 10 10 10 10 10  9  7\n",
      " 13 13  9 13 13  9 13  6 13 13 13 13  7  7 12 13  8 10 10 10  8 10  9  9\n",
      "  7  7 13 13  8 10 10 10 10 10 10 11 13 13 11  8  8  8  8  8 12 11 11 11\n",
      " 11 11  7 11  7 11  7 11 11  7 11 11  7  7  7  7  7  7  7  7  7  7  7  7\n",
      " 11 13  7  8  8  8  8 11  8  8 11 11 11 11 11 11 13 13  8  7  8  6 13 11\n",
      " 11 11 11 11  8  7 13 13  7  7 11 11  7  7 11 11 11 11 11 11  7 11 11 11\n",
      " 11  7  7 11 11  7  8  7  7  7  7  7 10  9 10 13  7 11 11 11 11  8 11 11\n",
      " 11 11  7 11 11 11 11  7 10  7 13  7 10 11 11 11 11 11 11 11 13 13 13  9\n",
      " 12 13 13 13 13 13 11 13 13 11 11 10 13 11 11 11 11 13 13 13 13 13  7 10\n",
      "  9 10 10  8 11 13 13 13 13 11 13 13 11 11 13 13 11 13 13 13 13 13 13 13\n",
      " 11 11 13 13 11  8  9 13 11 13 11 13 12 13 13  1 10 12 13 11 11 13 13  9\n",
      " 13 13 13 13 13 13  8 13 13 13 13 13 13 13 13 13 13 13 13 13 13  1 10 11\n",
      " 13  2 13 13 12 13 13 12 11 11 13 13 13 13 13 13 13 13 13 13 13 13 13 11\n",
      " 12 12 13 11 13 13 13 12 13 13 13 13 13 13 11 12  2 12 12 11 12 12 12 12\n",
      " 11 12 12  7 13 12 12 12 12 12 12 11 13 13  2 12 12 12 12 12 12 12 12 12\n",
      " 12 12 12 12 12 12 12 12 12 13 12 12 12 12  1  1 13  1  1 13 13 12  1  1\n",
      "  1 12  1  1  1  1 12 12 10  7 13 12  1  1 12  1 12 12 12 12 10  4 10  2\n",
      "  2  2  2  2  2 12 12  2 12 12 12 12 12 12 12 12 12  2 12 12 12 12  4  4\n",
      " 13  2  2  2  2  2  2  2 12  2  2  2  2  2  2  2 12  1  2 12 12 13  1  2\n",
      "  2  2  2  2  2  2  2  2  2  2  2  2  2  2  2 10  2  2 13  4  4  2  4  4\n",
      "  4  2  4  4  3  2  4  2  4  4  4  4  4  2  2  4  4  4  7 12 13  4  4  4\n",
      "  4  4  4  4  2  4  2  4  4  4  4  4  4  4  4  4  4  4  4  2  2  4  4  4\n",
      "  4  4  4  4  4  4  4  4  4  4  4 12  7 12 12  4  8 12  4  4  4  4  3  3\n",
      "  4  4  4 12 12  4  4  4  4  4 12 12  4  4  4  4  4  4  4  4  4  4  4  4\n",
      "  4 12 12  2 12  3  4  4  4  4  2  2  2  2  2  4 12 12  8  4 12 12  4  4\n",
      "  3 12 12  4  4 12 12 12 12 12  4  4  4  4 12 12  4  4  4  4  4  4 12 12\n",
      "  4 12 12 10 10  4  4  4  4  4  4  4  4  4 12 12  4  4 12 12  1 12  1  4\n",
      "  1  1  4  4  4  1  4  1  4  1  1  1 12  1  4 13  1  2  2  4  2  2  2  2\n",
      "  2  2  2  2  2  2  2  2  2  2  2  2 10  7  2  2]\n"
     ]
    }
   ],
   "source": [
    "from scipy.cluster.hierarchy import fcluster\n",
    "\n",
    "# Form clusters by cutting the dendrogram at a certain height\n",
    "max_d = 0.7  # max_d is the maximum distance between clusters\n",
    "clusters = fcluster(Z, max_d, criterion='distance')\n",
    "\n",
    "# Print cluster assignments\n",
    "print(clusters)"
   ]
  },
  {
   "cell_type": "markdown",
   "id": "3ddae0cb",
   "metadata": {},
   "source": [
    "see Deep Learning project at https://github.com/SimonDequidt/"
   ]
  },
  {
   "cell_type": "markdown",
   "id": "32b3d48f",
   "metadata": {},
   "source": [
    "## Dimensionality reduction"
   ]
  },
  {
   "cell_type": "markdown",
   "id": "e8d5ed20",
   "metadata": {},
   "source": [
    "#### Principal-components-analysis-pca"
   ]
  },
  {
   "cell_type": "code",
   "execution_count": null,
   "id": "c10f1359",
   "metadata": {},
   "outputs": [],
   "source": [
    "from sklearn.decomposition import PCA\n",
    "pca = PCA(n_components=2)\n",
    "pca.fit(df_knn)\n",
    "\n",
    "# transform data to its first 2 components\n",
    "x_pca = pca.transform(df_knn)\n",
    "#df_knn.shape\n",
    "x_pca.shape"
   ]
  },
  {
   "cell_type": "code",
   "execution_count": null,
   "id": "0dabceb3",
   "metadata": {},
   "outputs": [],
   "source": [
    "plt.figure(figsize=(8,6))\n",
    "plt.scatter(x_pca[:,0],x_pca[:,1],c=data['Direction'],cmap='plasma')\n",
    "plt.xlabel('First principal component')\n",
    "plt.ylabel('Second Principal Component')"
   ]
  },
  {
   "cell_type": "code",
   "execution_count": null,
   "id": "d4a7b026",
   "metadata": {},
   "outputs": [],
   "source": [
    "pca.components_ #In this numpy matrix array, each row represents a principal component, and each column relates back to the original features\n",
    "df_comp = pd.DataFrame(pca.components_,columns=df_knn.columns)\n",
    "plt.figure(figsize=(12,6))\n",
    "sns.heatmap(df_comp,cmap='plasma',)\n",
    "#This heatmap and the color bar basically represent the correlation between the various feature and the principal component itself."
   ]
  },
  {
   "cell_type": "markdown",
   "id": "fc75f8f7",
   "metadata": {},
   "source": [
    "#### Autoencoders"
   ]
  },
  {
   "cell_type": "markdown",
   "id": "d497d7c5",
   "metadata": {},
   "source": [
    "see K-Nearest Neighbours - step 1 categorical variable"
   ]
  },
  {
   "cell_type": "markdown",
   "id": "b14fa157",
   "metadata": {},
   "source": [
    "## Hyperparameters-optimisation-algoritms"
   ]
  },
  {
   "cell_type": "markdown",
   "id": "7a862f77",
   "metadata": {},
   "source": [
    "### 1. Grid Search\n",
    "**Description**: Exhaustively searches through a manually specified subset of the hyperparameter space.\n",
    "\n",
    "**Pros**:\n",
    "- Simple and easy to understand.\n",
    "- Guarantees finding the optimal combination within the specified grid.\n",
    "\n",
    "**Cons**:\n",
    "- Computationally expensive, especially with a large number of hyperparameters or large ranges.\n",
    "- Does not scale well with the dimensionality of the hyperparameter space.\n",
    "\n",
    "### 2. Random Search\n",
    "**Description**: Randomly samples hyperparameters from a specified distribution.\n",
    "\n",
    "**Pros**:\n",
    "- More efficient than grid search, particularly when some hyperparameters do not significantly influence performance.\n",
    "- Can explore a larger hyperparameter space given the same computational budget.\n",
    "\n",
    "**Cons**:\n",
    "- No guarantee of finding the optimal hyperparameter combination.\n",
    "- Performance can vary significantly between runs.\n",
    "\n",
    "### 3. Bayesian Optimization\n",
    "**Description**: Uses probabilistic models (e.g., Gaussian Processes) to model the objective function and select the most promising hyperparameters to evaluate next.\n",
    "\n",
    "**Pros**:\n",
    "- Efficiently balances exploration and exploitation.\n",
    "- Can find good hyperparameters with fewer evaluations compared to grid and random search.\n",
    "\n",
    "**Cons**:\n",
    "- Computational overhead from maintaining and updating the probabilistic model.\n",
    "- Performance can degrade with high-dimensional hyperparameter spaces.\n",
    "\n",
    "### 4. Tree-structured Parzen Estimator (TPE)\n",
    "**Description**: A specific type of Bayesian optimization that uses a tree-structured Parzen estimator to model the objective function.\n",
    "\n",
    "**Pros**:\n",
    "- Performs well with high-dimensional spaces.\n",
    "- Can handle both categorical and continuous hyperparameters effectively.\n",
    "\n",
    "**Cons**:\n",
    "- Still more complex than grid or random search.\n",
    "- Performance depends on the quality of the probabilistic model.\n",
    "\n",
    "### 5. Genetic Algorithms\n",
    "**Description**: Uses evolutionary techniques inspired by natural selection, iteratively improving a population of solutions.\n",
    "\n",
    "**Pros**:\n",
    "- Good for large and complex search spaces.\n",
    "- Can escape local minima through mutation and crossover.\n",
    "\n",
    "**Cons**:\n",
    "- Computationally expensive.\n",
    "- Requires careful tuning of the evolutionary parameters (e.g., mutation rate, crossover rate).\n",
    "\n",
    "### 6. Hyperband\n",
    "**Description**: Combines random search with early stopping to allocate more resources to promising configurations.\n",
    "\n",
    "**Pros**:\n",
    "- Efficiently uses computational resources by stopping poorly performing configurations early.\n",
    "- Suitable for large-scale problems and deep learning.\n",
    "\n",
    "**Cons**:\n",
    "- Requires a mechanism to judge intermediate performance.\n",
    "- May require tuning of the early stopping criteria.\n",
    "\n",
    "### 7. Population-based Training (PBT)\n",
    "**Description**: Optimizes hyperparameters and model parameters simultaneously by evolving a population of models.\n",
    "\n",
    "**Pros**:\n",
    "- Adapts hyperparameters dynamically during training.\n",
    "- Particularly effective for deep learning and reinforcement learning.\n",
    "\n",
    "**Cons**:\n",
    "- Requires a large computational budget.\n",
    "- Complex implementation and requires managing a population of models.\n",
    "\n",
    "### 8. Sequential Model-based Algorithm Configuration (SMAC)\n",
    "**Description**: Another form of Bayesian optimization, but uses random forests to model the objective function.\n",
    "\n",
    "**Pros**:\n",
    "- Efficient for complex and expensive objective functions.\n",
    "- Works well with both continuous and categorical variables.\n",
    "\n",
    "**Cons**:\n",
    "- High computational overhead.\n",
    "- Can be sensitive to the choice of hyperparameters for the optimization process itself.\n",
    "\n",
    "### 9. Reinforcement Learning-based HPO\n",
    "**Description**: Uses reinforcement learning techniques to navigate the hyperparameter space.\n",
    "\n",
    "**Pros**:\n",
    "- Can leverage past experiences to improve future hyperparameter searches.\n",
    "- Suitable for dynamic and complex hyperparameter spaces.\n",
    "\n",
    "**Cons**:\n",
    "- Complex and computationally intensive.\n",
    "- Requires careful design of the reward function and exploration strategy.\n",
    "\n",
    "Each algorithm has its strengths and weaknesses, and the choice of algorithm often depends on the specific problem, computational resources, and the nature of the hyperparameter space."
   ]
  },
  {
   "cell_type": "markdown",
   "id": "2abfd8ec",
   "metadata": {},
   "source": [
    "## Data-base-management-sql-with-python"
   ]
  },
  {
   "cell_type": "code",
   "execution_count": null,
   "id": "e6e3ded8",
   "metadata": {},
   "outputs": [],
   "source": [
    "import sqlite3 as sq3\n",
    "import csv\n",
    "import datetime as dt"
   ]
  },
  {
   "cell_type": "markdown",
   "id": "e7b8a732",
   "metadata": {},
   "source": [
    "Name: TICKER_Year-Month-Day_StartTime_EndTime_message_LEVEL.csv\n",
    "    StartTime and EndTime give the theoretical beginning \n",
    "    and end time of the output file in milliseconds after         \n",
    "    mid night. LEVEL refers to the number of levels of the \n",
    "    requested limit order book.\n",
    "\n",
    "\n",
    "Columns:\n",
    "\n",
    "    1.) Time:         \n",
    "            Seconds after midnight with decimal \n",
    "            precision of at least milliseconds \n",
    "            and up to nanoseconds depending on \n",
    "            the requested period\n",
    "    2.) Type:\n",
    "            1: Submission of a new limit order\n",
    "            2: Cancellation (Partial deletion \n",
    "               of a limit order)\n",
    "            3: Deletion (Total deletion of a limit order)\n",
    "            4: Execution of a visible limit order                    \n",
    "            5: Execution of a hidden limit order\n",
    "            7: Trading halt indicator                    \n",
    "               (Detailed information below)\n",
    "    3.) Order ID:     \n",
    "            Unique order reference number \n",
    "            (Assigned in order flow)\n",
    "    4.) Size:         \n",
    "            Number of shares\n",
    "    5.) Price:         \n",
    "            Dollar price times 10000 \n",
    "            (i.e., A stock price of USD91.14 is given \n",
    "            by 911400)\n",
    "    6.) Direction:\n",
    "            -1: Sell limit order\n",
    "            1: Buy limit order\n",
    "\n",
    "            Note: \n",
    "            Execution of a sell (buy) limit\n",
    "            order corresponds to a buyer (seller) \n",
    "            initiated trade, i.e. Buy (Sell) trade."
   ]
  },
  {
   "cell_type": "code",
   "execution_count": null,
   "id": "baf6794c",
   "metadata": {},
   "outputs": [],
   "source": [
    "# Define the CREATE TABLE query\n",
    "query = '''\n",
    "CREATE TABLE intc_hf_events (\n",
    "    Time TEXT,\n",
    "    Type TEXT,\n",
    "    \"Order ID\" INTEGER,\n",
    "    Size INTEGER,\n",
    "    Price REAL,\n",
    "    Direction TEXT\n",
    ")\n",
    "'''\n",
    "\n",
    "# Create a new SQLite database\n",
    "data_connection = sq3.connect('intc_hf_events.db')\n",
    "cursor = data_connection.cursor()\n",
    "\n",
    "# Create a table\n",
    "cursor.execute(query)\n",
    "\n",
    "# Commit the changes and close the connection\n",
    "data_connection.commit()\n",
    "#data_connection.close()"
   ]
  },
  {
   "cell_type": "code",
   "execution_count": null,
   "id": "2889ef22",
   "metadata": {},
   "outputs": [],
   "source": [
    "filename_message = \"TSLA_2015-01-02_34200000_57600000_message_10.csv\"\n",
    "\n",
    "with open(filename_message, 'r') as csv_file:\n",
    "    csv_reader = csv.reader(csv_file)\n",
    "    \n",
    "    # Skip header if present\n",
    "    next(csv_reader, None)\n",
    "    \n",
    "    # Insert data into the table\n",
    "    for row in csv_reader:\n",
    "        cursor.execute('''\n",
    "            INSERT INTO intc_hf_events (Time, Type, \"Order ID\", Size, Price, Direction)\n",
    "            VALUES (?, ?, ?, ?, ?, ?)\n",
    "        ''', (row[0], row[1], row[2], row[3], row[4], row[5]))\n",
    "\n",
    "# Commit the changes and close the connection\n",
    "data_connection.commit()\n",
    "#data_connection.close()"
   ]
  },
  {
   "cell_type": "code",
   "execution_count": null,
   "id": "5c9da1eb",
   "metadata": {},
   "outputs": [],
   "source": [
    "data_db = data_connection.execute('SELECT * FROM intc_hf_events').fetchall() \n",
    "data_db"
   ]
  },
  {
   "cell_type": "code",
   "execution_count": null,
   "id": "ac9b92c6",
   "metadata": {},
   "outputs": [],
   "source": [
    "df_db = pd.DataFrame(data_db, columns = [\"Time\", \"Type\", \"Order ID\", \"Size\", \"Price\", \"Direction\"])\n",
    "# df is symetrical and contains 2 times the data of a single day\n",
    "df_analysis = df_db[:404985]\n",
    "df_analysis"
   ]
  },
  {
   "cell_type": "markdown",
   "id": "a4892b59",
   "metadata": {},
   "source": [
    "## Object-Oriented-Introduction"
   ]
  },
  {
   "cell_type": "markdown",
   "id": "699e27cc",
   "metadata": {},
   "source": [
    "1. Class: A blueprint for creating objects.\n",
    "2. Object: An instance of a class.\n",
    "3. Attributes: Characteristics or properties of an object (variables).\n",
    "4. Methods: Functions defined within a class that describe the behaviors of an object.\n",
    "5. Inheritance: A way to form new classes using classes that have already been defined.\n",
    "6. Encapsulation: Restricting access to certain components of an object to protect the object’s integrity.\n",
    "7. Polymorphism: The ability to use a common interface for multiple forms (data types)."
   ]
  },
  {
   "cell_type": "code",
   "execution_count": null,
   "id": "c2109df0",
   "metadata": {},
   "outputs": [],
   "source": [
    "# 1.Class\n",
    "class statiscal_measures (object):\n",
    "    #4. (special) Method - constructor\n",
    "    def __init__(self, dataframe):\n",
    "        self.dataframe = dataframe\n",
    "        \n",
    "    # 3. Attributes : dataframe, window_size\n",
    "    def describe(self):\n",
    "        return self.dataframe.describe()\n",
    "    \n",
    "    def mean(self):\n",
    "        return self.dataframe.mean()\n",
    "    \n",
    "    def moving_average(self, window_size):\n",
    "        return self.dataframe.rolling(window=window_size).mean()\n",
    "    \n",
    "    def cumulative_sum(self):\n",
    "        return self.dataframe.cumsum()\n",
    "\n"
   ]
  },
  {
   "cell_type": "code",
   "execution_count": null,
   "id": "6bd2c0d2",
   "metadata": {},
   "outputs": [],
   "source": [
    "# 2.Object instance\n",
    "stat_data = statiscal_measures(df_analysis)\n",
    "stat_data"
   ]
  },
  {
   "cell_type": "code",
   "execution_count": null,
   "id": "4ea72f31",
   "metadata": {},
   "outputs": [],
   "source": [
    "class plot_fig (object):\n",
    "    \n",
    "    def __init__ (self, dataserie1, dataserie2):\n",
    "        self.dataserie1 = dataserie1\n",
    "        self.dataserie2 = dataserie2\n",
    "        \n",
    "    def plot_(self,dataserie1,dataserie2):\n",
    "        # Create the first plot with the \"Price\" column\n",
    "        fig, ax1 = plt.subplots(figsize=(10, 6))\n",
    "        ax1.plot(dataserie1.index, dataserie1, color='blue', label='Price')\n",
    "        ax1.set_xlabel('Index')\n",
    "        ax1.set_ylabel('Price', color='blue')\n",
    "        ax1.tick_params('y', colors='blue')\n",
    "\n",
    "        # Create the second plot with the \"Size\" column\n",
    "        ax2 = ax1.twinx()\n",
    "        ax2.plot(dataserie2.index, dataserie2, color='green', label='Volume', alpha=0.5)\n",
    "        ax2.set_ylabel('Volume (minus if selling)', color='green')\n",
    "        ax2.tick_params('y', colors='green')\n",
    "\n",
    "        # Add legends\n",
    "        ax1.legend(loc='upper left')\n",
    "        ax2.legend(loc='upper right')\n",
    "\n",
    "        plt.title('Price and Volume over Index')\n",
    "        plt.show()\n"
   ]
  },
  {
   "cell_type": "code",
   "execution_count": null,
   "id": "f1cc6d6c",
   "metadata": {},
   "outputs": [],
   "source": [
    "plot1 = plot_fig(df_analysis[\"Price\"], group_5[\"Size\"])\n",
    "plot1.plot_(df_analysis[\"Price\"], group_5[\"Size\"])"
   ]
  },
  {
   "cell_type": "code",
   "execution_count": null,
   "id": "9f975139",
   "metadata": {},
   "outputs": [],
   "source": [
    "type_order = df_analysis.groupby(\"Type\")\n",
    "#direction_order = df_analysis.groupby(\"Direction\")\n",
    "#type_direction_order = df_analysis.groupby([\"Type\", \"Direction\"])"
   ]
  },
  {
   "cell_type": "code",
   "execution_count": null,
   "id": "6af799b9",
   "metadata": {},
   "outputs": [],
   "source": [
    "for i in range(1, 6):\n",
    "    plt.plot(type_order.get_group(str(i))[\"Size\"].index,type_order.get_group(str(i))[\"Size\"])"
   ]
  },
  {
   "cell_type": "code",
   "execution_count": null,
   "id": "3808d420",
   "metadata": {},
   "outputs": [],
   "source": [
    "group_5 = type_order.get_group(str(5))\n",
    "stat_group_5 = statiscal_measures(group_5[\"Size\"])\n",
    "stat_group_5.cumulative_sum().plot()\n",
    "\n",
    "plt.show()"
   ]
  },
  {
   "cell_type": "code",
   "execution_count": null,
   "id": "ba098954",
   "metadata": {},
   "outputs": [],
   "source": [
    "for i in range(1, 6):\n",
    "    statiscal_measures(type_order.get_group(str(i))[\"Size\"]).cumulative_sum().plot(label = f\"Order {i}\")\n",
    "plt.legend()\n",
    "plt.show()"
   ]
  }
 ],
 "metadata": {
  "celltoolbar": "Raw Cell Format",
  "kernelspec": {
   "display_name": "Python 3",
   "language": "python",
   "name": "python3"
  },
  "language_info": {
   "codemirror_mode": {
    "name": "ipython",
    "version": 3
   },
   "file_extension": ".py",
   "mimetype": "text/x-python",
   "name": "python",
   "nbconvert_exporter": "python",
   "pygments_lexer": "ipython3",
   "version": "3.8.3"
  }
 },
 "nbformat": 4,
 "nbformat_minor": 5
}
